{
 "cells": [
  {
   "cell_type": "code",
   "execution_count": 1,
   "id": "f82ff1b7",
   "metadata": {
    "cellId": "g09276vaso83hmt0w831sn"
   },
   "outputs": [],
   "source": [
    "#!g1.1\n",
    "import json\n",
    "import os\n",
    "import torch\n",
    "from tqdm import tqdm\n",
    "import scipy.io.wavfile as wav\n",
    "\n",
    "from torch import nn\n",
    "import torch.nn.functional as F\n",
    "from torch import optim\n",
    "from torch.utils.data import Dataset, DataLoader, Sampler\n",
    "from torch.utils.tensorboard import SummaryWriter\n",
    "\n",
    "import numpy as np\n",
    "from pytorch_lightning.callbacks import EarlyStopping, ModelCheckpoint\n",
    "import math\n",
    "\n",
    "import torchaudio\n",
    "from boltons.fileutils import iter_find_files\n",
    "from collections import OrderedDict"
   ]
  },
  {
   "cell_type": "code",
   "execution_count": 2,
   "id": "a39c54b9",
   "metadata": {
    "cellId": "uvl72wmlsin2pm85am363"
   },
   "outputs": [],
   "source": [
    "#!g1.1\n",
    "# %pip install pytorch_lightning --upgrade"
   ]
  },
  {
   "cell_type": "code",
   "execution_count": 3,
   "id": "05b5cfb6",
   "metadata": {
    "cellId": "orkvm83jfktjymx3w6hs"
   },
   "outputs": [],
   "source": [
    "#!g1.1\n",
    "from models import ConvFeatureEncoder, SegmentsRepr, SegmentsEncoder, NegativeSampler, SegmentPredictor, FinModel, FinModel1\n",
    "from utils import ConstrativeLoss, sample_negatives\n",
    "# from trainer import Trainer\n",
    "from pytorch_lightning import Trainer\n",
    "from pytorch_lightning.loggers import TensorBoardLogger"
   ]
  },
  {
   "cell_type": "code",
   "execution_count": 4,
   "id": "a8ebef14",
   "metadata": {
    "cellId": "gz19l6aiug6sr9hmk0laq"
   },
   "outputs": [],
   "source": [
    "#!g1.1\n",
    "# import wandb"
   ]
  },
  {
   "cell_type": "code",
   "execution_count": 5,
   "id": "55ce60a9",
   "metadata": {
    "cellId": "dd60n8qgnt17m37fafvrd"
   },
   "outputs": [],
   "source": [
    "#!g1.1\n",
    "def spectral_size(wav_len):\n",
    "    layers = [(10,5,0), (8,4,0), (4,2,0), (4,2,0), (4,2,0)]\n",
    "    for kernel, stride, padding in layers:\n",
    "        wav_len = math.floor((wav_len + 2*padding - 1*(kernel-1) - 1)/stride + 1)\n",
    "    return wav_len"
   ]
  },
  {
   "cell_type": "code",
   "execution_count": 6,
   "id": "3be67c0f",
   "metadata": {
    "cellId": "1sts9w8roocjh3jc8zrtbb6"
   },
   "outputs": [],
   "source": [
    "#!g1.1\n",
    "# Данный класс основан на https://github.com/felixkreuk/UnsupSeg/blob/master/dataloader.py\n",
    "\n",
    "class WavPhnDataset(Dataset):\n",
    "    def __init__(self, path):\n",
    "        self.path = path\n",
    "        self.data = list(iter_find_files(self.path, \"*.wav\"))\n",
    "        super(WavPhnDataset, self).__init__()\n",
    "\n",
    "    @staticmethod\n",
    "    def get_datasets(path):\n",
    "        raise NotImplementedError\n",
    "\n",
    "    def process_file(self, wav_path):\n",
    "        phn_path = wav_path.replace(\".wav\", \".txt\")\n",
    "        filetext_id = phn_path.split('/')[-1]\n",
    "\n",
    "        # load audio\n",
    "        audio, sr = torchaudio.load(wav_path)\n",
    "        audio = audio[0]\n",
    "        audio_len = len(audio)\n",
    "\n",
    "        # load labels -- segmentation and phonemes\n",
    "        with open(phn_path, \"r\") as f:\n",
    "            lines = [i.strip() for i in f.readlines()]\n",
    "            times = torch.FloatTensor([eval(i.split()[0]) for i in lines])[:-1]\n",
    "            phonemes = torch.FloatTensor([eval(i.split()[0])*16000 for i in lines])[:-1]\n",
    "\n",
    "        return audio, times, phonemes, wav_path, filetext_id, phn_path\n",
    "\n",
    "    def spectral_size(self, wav_len):\n",
    "        layers = [(10,5,0), (8,4,0), (4,2,0), (4,2,0), (4,2,0)]\n",
    "        for kernel, stride, padding in layers:\n",
    "            wav_len = math.floor((wav_len + 2*padding - 1*(kernel-1) - 1)/stride + 1)\n",
    "        return wav_len\n",
    "    \n",
    "    def __getitem__(self, idx):\n",
    "        signal, seg, phonemes, fname, filetext_id, segment_file = self.process_file(self.data[idx])\n",
    "        \n",
    "        return {'audio_file':fname, \n",
    "                'segment_file':segment_file, \n",
    "                'id':filetext_id, \n",
    "                'sample': signal, \n",
    "                'length': len(signal), \n",
    "                'spectral_size': self.spectral_size(len(signal)),\n",
    "                'boundaries': seg}\n",
    "        \n",
    "    def __len__(self):\n",
    "        return len(self.data)"
   ]
  },
  {
   "cell_type": "code",
   "execution_count": 7,
   "id": "95c48207",
   "metadata": {
    "cellId": "sf3ifqz2ewwh086zqvz9h"
   },
   "outputs": [],
   "source": [
    "#!g1.1\n",
    "# Данный класс основан на https://github.com/felixkreuk/UnsupSeg/blob/master/dataloader.py\n",
    "\n",
    "class TrainTestDataset(WavPhnDataset):\n",
    "    def __init__(self, path):\n",
    "        super(TrainTestDataset, self).__init__(path)\n",
    "\n",
    "    @staticmethod\n",
    "    def get_datasets(path, val_ratio=0.1):\n",
    "        train_dataset = TrainTestDataset(os.path.join(path, 'TRAIN'))\n",
    "        test_dataset  = TrainTestDataset(os.path.join(path, 'TEST'))\n",
    "\n",
    "        train_len   = len(train_dataset)\n",
    "        train_split = int(train_len * (1 - val_ratio))\n",
    "        val_split   = train_len - train_split\n",
    "        train_dataset, val_dataset = torch.utils.data.random_split(train_dataset, [train_split, val_split])\n",
    "\n",
    "        train_dataset.path = os.path.join(path, 'train')\n",
    "        val_dataset.path = os.path.join(path, 'train')\n",
    "\n",
    "        return train_dataset, val_dataset, test_dataset"
   ]
  },
  {
   "cell_type": "code",
   "execution_count": 8,
   "id": "afe6fbf3",
   "metadata": {
    "cellId": "s0982jnadwcuboc9726kt"
   },
   "outputs": [],
   "source": [
    "#!g1.1\n",
    "def collate_fn(samples):\n",
    "    \n",
    "    max_length = max([sample['length'] for sample in samples])\n",
    "    boundaries = [sample['boundaries'] for sample in samples]\n",
    "    spectral_sizes = [sample['spectral_size'] for sample in samples]\n",
    "    samples1 = []\n",
    "    lengths = []\n",
    "    samplings = []\n",
    "    attentions = []\n",
    "    ids = []\n",
    "    audio_files = []\n",
    "    segment_files = []\n",
    "    for sample in samples:\n",
    "        to_add_l = max_length-sample['length']\n",
    "        sample1 = list(sample['sample'])+[0]*to_add_l\n",
    "        samples1.append(torch.Tensor(sample1).unsqueeze(0))\n",
    "        lengths.append(sample['length'])\n",
    "        ids.append(sample['id'])\n",
    "        audio_files.append(sample['audio_file'])\n",
    "        segment_files.append(sample['segment_file'])\n",
    "        att_norm = torch.ones(size = (1, sample['length']))\n",
    "        att_add = torch.zeros(size = (1, to_add_l))\n",
    "        att = torch.cat([att_norm, att_add], dim = -1)\n",
    "        attentions.append(att)\n",
    "        \n",
    "    batch = torch.cat(samples1)\n",
    "    lengths = torch.Tensor(lengths)\n",
    "    attention_mask = torch.cat(attentions, dim = 0)\n",
    "    spectral_size = torch.Tensor(spectral_sizes)\n",
    "    \n",
    "    return dict(batch=batch, lengths=lengths, attention_mask=attention_mask, \n",
    "                boundaries=boundaries, ids=ids, \n",
    "                audio_files=audio_files, \n",
    "                segment_files=segment_files, \n",
    "                spectral_size=spectral_size)"
   ]
  },
  {
   "cell_type": "markdown",
   "id": "1f48add0",
   "metadata": {
    "cellId": "l2qzrpxtx1b692ra8i1tsw"
   },
   "source": [
    "# Загрузка Данных"
   ]
  },
  {
   "cell_type": "code",
   "execution_count": 9,
   "id": "ec5472e3",
   "metadata": {
    "cellId": "e0g2n79lv3pzgdxhgh6z0h"
   },
   "outputs": [],
   "source": [
    "#!g1.1\n",
    "train_dataset = WavPhnDataset('Buckeye_fin/Train')\n",
    "val_dataset = WavPhnDataset('Buckeye_fin/Valid')\n",
    "test_dataset = WavPhnDataset('Buckeye_fin/Test')"
   ]
  },
  {
   "cell_type": "code",
   "execution_count": 10,
   "id": "d0059b8d",
   "metadata": {
    "cellId": "x3bbr54udlbbl7mkk2wg"
   },
   "outputs": [],
   "source": [
    "#!g1.1\n",
    "train_loader = DataLoader(train_dataset, shuffle=True, batch_size=8, collate_fn = collate_fn)\n",
    "val_loader = DataLoader(val_dataset, shuffle=False, batch_size=8, collate_fn = collate_fn)\n",
    "test_loader = DataLoader(test_dataset, shuffle=False, batch_size=8, collate_fn = collate_fn)"
   ]
  },
  {
   "cell_type": "code",
   "execution_count": 11,
   "id": "010db7e6",
   "metadata": {
    "cellId": "5u59w3bje15bpw1bkpjrmi"
   },
   "outputs": [],
   "source": [
    "#!g1.1\n",
    "path_results = 'save_results_path_compare_buckeye'"
   ]
  },
  {
   "cell_type": "code",
   "execution_count": 12,
   "id": "7a0fb3f4",
   "metadata": {
    "cellId": "ifwhoyak8bm2a5g59q2882"
   },
   "outputs": [],
   "source": [
    "#!g1.1\n"
   ]
  },
  {
   "cell_type": "markdown",
   "id": "40d259a1",
   "metadata": {
    "cellId": "xd4cw7j86gp2yxpt55xdzg"
   },
   "source": [
    "# Segment Model"
   ]
  },
  {
   "cell_type": "code",
   "execution_count": 24,
   "id": "cad79a1b",
   "metadata": {
    "cellId": "wv9ey7tg0gdosijsccisd"
   },
   "outputs": [],
   "source": [
    "#!g1.1\n",
    "model_path = 'golos_model_segment_r_val_acc_200_edges_train_buckeye_model_segment-v2.ckpt'"
   ]
  },
  {
   "cell_type": "code",
   "execution_count": 25,
   "id": "0b230029",
   "metadata": {
    "cellId": "3xo0einqd098aw9qfu4dgf"
   },
   "outputs": [],
   "source": [
    "#!g1.1\n",
    "accumulate_grad_batches = 1\n",
    "cfg = {'optimizer': \"adam\",\n",
    "'momentum': 0.9,\n",
    "'learning_rate': 0.0001*accumulate_grad_batches,\n",
    "'lr_anneal_gamma': 1.0,\n",
    "'lr_anneal_step': 1000,\n",
    "# 'epochs': 500,\n",
    "'grad_clip': 0.5,\n",
    "'batch_size': 8,\n",
    "\n",
    "'conv_args': {},\n",
    "'mask_args': {\"segment\": \"first\", \"add_one\": False},\n",
    "'segm_enc_args': {},\n",
    "'segm_predictor_args': {},\n",
    "'loss_args': {\"n_negatives\": 1, \"loss_args\": {\"reduction\": \"mean\"}},\n",
    "'num_epoch': 2}"
   ]
  },
  {
   "cell_type": "code",
   "execution_count": 26,
   "id": "797366a2",
   "metadata": {
    "cellId": "aldzh2q4pil2dafj0a68h"
   },
   "outputs": [],
   "source": [
    "#!g1.1\n",
    "class Conf:\n",
    "    def __init__(self, my_dict):\n",
    "        for key, value in my_dict.items():\n",
    "            setattr(self, key, value)\n",
    "            \n",
    "config = Conf(cfg)"
   ]
  },
  {
   "cell_type": "code",
   "execution_count": 27,
   "id": "c83f5339",
   "metadata": {
    "cellId": "ovym33d2aem1er095sc55h"
   },
   "outputs": [
    {
     "name": "stderr",
     "output_type": "stream",
     "text": [
      "  0%|          | 0/692 [00:00<?, ?it/s]/usr/local/lib/python3.8/dist-packages/torch/_tensor.py:575: UserWarning: floor_divide is deprecated, and will be removed in a future version of pytorch. It currently rounds toward 0 (like the 'trunc' function NOT 'floor'). This results in incorrect rounding for negative values.\n",
      "To keep the current behavior, use torch.div(a, b, rounding_mode='trunc'), or for actual floor division, use torch.div(a, b, rounding_mode='floor'). (Triggered internally at  ../aten/src/ATen/native/BinaryOps.cpp:467.)\n",
      "  return torch.floor_divide(self, other)\n",
      "100%|██████████| 692/692 [07:41<00:00,  1.50it/s]\n"
     ]
    }
   ],
   "source": [
    "#!g1.1\n",
    "model = FinModel(config)\n",
    "checkpoint = torch.load(model_path)\n",
    "#     checkpoint = torch.load(model_path, map_location='cpu')\n",
    "\n",
    "state_dicts = OrderedDict()\n",
    "for key, value in checkpoint['state_dict'].items():\n",
    "    state_dicts[key.replace('wav2vec_segm.', '')] = value\n",
    "model.load_state_dict(state_dicts)\n",
    "\n",
    "model.eval()\n",
    "model=model.to('cuda')\n",
    "\n",
    "for batch in tqdm(test_loader):\n",
    "    x = batch['batch']\n",
    "    lengths = batch['lengths']\n",
    "    attention_mask = batch['attention_mask']\n",
    "    secs = batch['boundaries']\n",
    "    ids = batch['ids']\n",
    "    spectral_sizes = batch['spectral_size']\n",
    "    name_path = 'model_segment'\n",
    "    os.makedirs(os.path.join(path_results, name_path), exist_ok=True) \n",
    "\n",
    "\n",
    "    rr = model.compute_all(x.to('cuda'), secs, num_epoch=0, attention_mask=attention_mask.to('cuda'), return_secs=True)\n",
    "#         rr = model.compute_all(x, secs, num_epoch=0, attention_mask=attention_mask, return_secs=True)\n",
    "    secs_preds = rr[1]['secs_pred']\n",
    "    for idd, secs in zip(ids, secs_preds):\n",
    "        with open(os.path.join(os.path.join(path_results, name_path), idd), 'w', encoding=\"cp1251\") as file:\n",
    "            file.write(str(secs))"
   ]
  },
  {
   "cell_type": "code",
   "execution_count": 28,
   "id": "77cc7782",
   "metadata": {
    "cellId": "iusuzvlxgucelyddt405qt"
   },
   "outputs": [],
   "source": [
    "#!g1.1\n"
   ]
  },
  {
   "cell_type": "markdown",
   "id": "fffcb40c",
   "metadata": {
    "cellId": "9vymfx41j1hl6c9eh63nmc"
   },
   "source": [
    "# Peak Detection Model"
   ]
  },
  {
   "cell_type": "code",
   "execution_count": 29,
   "id": "eec860dd",
   "metadata": {
    "cellId": "ppr15g9556admqq4qhus"
   },
   "outputs": [],
   "source": [
    "#!g1.1\n",
    "model_path = 'golos_model_segment_r_val_acc_200_edges_train_buckeye_peak_detection-v1.ckpt'"
   ]
  },
  {
   "cell_type": "code",
   "execution_count": 30,
   "id": "33eb208e",
   "metadata": {
    "cellId": "fnsu45pn5ynasnyj9rmf8"
   },
   "outputs": [],
   "source": [
    "#!g1.1\n",
    "accumulate_grad_batches = 1\n",
    "cfg = {'optimizer': \"adam\",\n",
    "'momentum': 0.9,\n",
    "'learning_rate': 0.0001*accumulate_grad_batches,\n",
    "'lr_anneal_gamma': 1.0,\n",
    "'lr_anneal_step': 1000,\n",
    "# 'epochs': 500,\n",
    "'grad_clip': 0.5,\n",
    "'batch_size': 8,\n",
    "\n",
    "'conv_args': {},\n",
    "'mask_args': {\"segment\": \"first\", \"add_one\": False},\n",
    "'segm_enc_args': {},\n",
    "'segm_predictor_args': {},\n",
    "'loss_args': {\"n_negatives\": 1, \"loss_args\": {\"reduction\": \"mean\"}},\n",
    "'num_epoch': 2,\n",
    "'use_projection': False\n",
    "      }"
   ]
  },
  {
   "cell_type": "code",
   "execution_count": 31,
   "id": "c6de66a8",
   "metadata": {
    "cellId": "yco41l0mpilxwl1zo3lvn"
   },
   "outputs": [],
   "source": [
    "#!g1.1\n",
    "class Conf:\n",
    "    def __init__(self, my_dict):\n",
    "        for key, value in my_dict.items():\n",
    "            setattr(self, key, value)\n",
    "            \n",
    "config = Conf(cfg)"
   ]
  },
  {
   "cell_type": "code",
   "execution_count": 32,
   "id": "22faf8c5",
   "metadata": {
    "cellId": "5r1y3v4wg5te6thuar14e"
   },
   "outputs": [
    {
     "name": "stderr",
     "output_type": "stream",
     "text": [
      "100%|██████████| 692/692 [07:12<00:00,  1.60it/s]\n"
     ]
    }
   ],
   "source": [
    "#!g1.1\n",
    "model = FinModel1(config) \n",
    "checkpoint = torch.load(model_path)\n",
    "#     checkpoint = torch.load(model_path, map_location='cpu')\n",
    "\n",
    "state_dicts = OrderedDict()\n",
    "for key, value in checkpoint['state_dict'].items():\n",
    "    state_dicts[key.replace('wav2vec_segm.', '')] = value\n",
    "model.load_state_dict(state_dicts)\n",
    "\n",
    "model.eval()\n",
    "model=model.to('cuda')\n",
    "\n",
    "for batch in tqdm(test_loader):\n",
    "    x = batch['batch']\n",
    "    lengths = batch['lengths']\n",
    "    attention_mask = batch['attention_mask']\n",
    "    secs = batch['boundaries']\n",
    "    ids = batch['ids']\n",
    "    spectral_sizes = batch['spectral_size']\n",
    "    name_path = 'peak_detection'\n",
    "    os.makedirs(os.path.join(path_results, name_path), exist_ok=True) \n",
    "\n",
    "\n",
    "    rr = model.compute_all(x.to('cuda'), secs, num_epoch=0, attention_mask=attention_mask.to('cuda'), \n",
    "                           spectral_size = spectral_sizes,\n",
    "                           return_secs=True)\n",
    "#         rr = model.compute_all(x, secs, num_epoch=0, attention_mask=attention_mask, \n",
    "#                            spectral_size = spectral_sizes,\n",
    "#                             return_secs=True)\n",
    "    secs_preds = rr[1]['secs_pred']\n",
    "    for idd, secs in zip(ids, secs_preds):\n",
    "        with open(os.path.join(os.path.join(path_results, name_path), idd), 'w', encoding=\"cp1251\") as file:\n",
    "            file.write(str(list(secs)))"
   ]
  },
  {
   "cell_type": "code",
   "execution_count": 33,
   "id": "477f5960",
   "metadata": {
    "cellId": "1h1teeyn0edifrphuxl6txa"
   },
   "outputs": [],
   "source": [
    "#!g1.1\n"
   ]
  },
  {
   "cell_type": "markdown",
   "id": "8d444b81",
   "metadata": {
    "cellId": "zlk1jjncevdv982fudjkrr"
   },
   "source": [
    "# Wav2Vec2 Model"
   ]
  },
  {
   "cell_type": "code",
   "execution_count": 14,
   "id": "3df02011",
   "metadata": {
    "cellId": "emdh5ixho7pmlrxj1by1zi"
   },
   "outputs": [],
   "source": [
    "#!g1.1\n",
    "from modeling_segmentation import Wav2Vec2ModelForSegmentation"
   ]
  },
  {
   "cell_type": "code",
   "execution_count": 18,
   "id": "7c577aa2",
   "metadata": {
    "cellId": "eglzymolfnhrhg40r8wce"
   },
   "outputs": [],
   "source": [
    "#!g1.1\n",
    "model_path = 'buckeye_r_val_negs1-v2.ckpt'"
   ]
  },
  {
   "cell_type": "code",
   "execution_count": 19,
   "id": "9d478a72",
   "metadata": {
    "cellId": "qivlxc93jvsxbg0t20tot"
   },
   "outputs": [],
   "source": [
    "#!g1.1\n"
   ]
  },
  {
   "cell_type": "code",
   "execution_count": 20,
   "id": "fd44c328",
   "metadata": {
    "cellId": "lyyk8wja2wdfojzivnjzr"
   },
   "outputs": [
    {
     "name": "stderr",
     "output_type": "stream",
     "text": [
      "Some weights of the model checkpoint at facebook/wav2vec2-base-960h were not used when initializing Wav2Vec2ModelForSegmentation: ['lm_head.bias', 'lm_head.weight']\n",
      "- This IS expected if you are initializing Wav2Vec2ModelForSegmentation from the checkpoint of a model trained on another task or with another architecture (e.g. initializing a BertForSequenceClassification model from a BertForPreTraining model).\n",
      "- This IS NOT expected if you are initializing Wav2Vec2ModelForSegmentation from the checkpoint of a model that you expect to be exactly identical (initializing a BertForSequenceClassification model from a BertForSequenceClassification model).\n",
      "Some weights of Wav2Vec2ModelForSegmentation were not initialized from the model checkpoint at facebook/wav2vec2-base-960h and are newly initialized: ['wav2vec2.masked_spec_embed']\n",
      "You should probably TRAIN this model on a down-stream task to be able to use it for predictions and inference.\n",
      "  0%|          | 0/692 [00:00<?, ?it/s]/usr/local/lib/python3.8/dist-packages/torch/_tensor.py:575: UserWarning: floor_divide is deprecated, and will be removed in a future version of pytorch. It currently rounds toward 0 (like the 'trunc' function NOT 'floor'). This results in incorrect rounding for negative values.\n",
      "To keep the current behavior, use torch.div(a, b, rounding_mode='trunc'), or for actual floor division, use torch.div(a, b, rounding_mode='floor'). (Triggered internally at  ../aten/src/ATen/native/BinaryOps.cpp:467.)\n",
      "  return torch.floor_divide(self, other)\n",
      "100%|██████████| 692/692 [08:45<00:00,  1.32it/s]\n"
     ]
    }
   ],
   "source": [
    "#!g1.1\n",
    "\n",
    "model = Wav2Vec2ModelForSegmentation.from_pretrained(\"facebook/wav2vec2-base-960h\") \n",
    "checkpoint = torch.load(model_path)\n",
    "#     checkpoint = torch.load(model_path, map_location='cpu')\n",
    "\n",
    "state_dicts = OrderedDict()\n",
    "for key, value in checkpoint['state_dict'].items():\n",
    "    state_dicts[key.replace('wav2vec_segm.', '')] = value\n",
    "model.load_state_dict(state_dicts)\n",
    "\n",
    "model.eval()\n",
    "model=model.to('cuda')\n",
    "\n",
    "for batch in tqdm(test_loader):\n",
    "    x = batch['batch']\n",
    "    lengths = batch['lengths']\n",
    "    attention_mask = batch['attention_mask']\n",
    "    secs = batch['boundaries']\n",
    "    ids = batch['ids']\n",
    "    spectral_sizes = batch['spectral_size']\n",
    "    name_path = 'wav2vec_model'\n",
    "    os.makedirs(os.path.join(path_results, name_path), exist_ok=True) \n",
    "\n",
    "\n",
    "    rr = model.compute_all(x.to('cuda'), secs, num_epoch=0, attention_mask=attention_mask.to('cuda'), \n",
    "                           return_secs=True)\n",
    "#         rr = model.compute_all(x, secs, num_epoch=0, attention_mask=attention_mask, \n",
    "#                             return_secs=True)\n",
    "    secs_preds = rr[1]['secs_pred']\n",
    "    for idd, secs in zip(ids, secs_preds):\n",
    "        with open(os.path.join(os.path.join(path_results, name_path), idd), 'w', encoding=\"cp1251\") as file:\n",
    "            file.write(str(secs))"
   ]
  },
  {
   "cell_type": "code",
   "execution_count": 21,
   "id": "d3abbd9d",
   "metadata": {
    "cellId": "ekhltku03k9kirs69z76lg"
   },
   "outputs": [],
   "source": [
    "#!g1.1\n"
   ]
  },
  {
   "cell_type": "markdown",
   "id": "966340a9",
   "metadata": {
    "cellId": "f4xi18mu4cz8msfyeinr8"
   },
   "source": [
    "# Агрегация данных"
   ]
  },
  {
   "cell_type": "code",
   "execution_count": 22,
   "id": "213bdf36",
   "metadata": {
    "cellId": "mebr93yvceqkw5udf7obi"
   },
   "outputs": [],
   "source": [
    "#!g1.1\n",
    "import pandas as pd"
   ]
  },
  {
   "cell_type": "code",
   "execution_count": 34,
   "id": "2ae1e2dd",
   "metadata": {
    "cellId": "th5elqnthpo9pgej9czjqe"
   },
   "outputs": [],
   "source": [
    "#!g1.1\n",
    "# Данная функция основана на https://github.com/felixkreuk/UnsupSeg/blob/master/utils.py\n",
    "\n",
    "class RMetrics1(nn.Module):\n",
    "    def __init__(self, eps = 1e-5, tolerance = 2, sampling_rate = 16000):\n",
    "        super(RMetrics1, self).__init__()\n",
    "        self.tolerance = tolerance\n",
    "        self.eps = eps\n",
    "        self.sampling_rate = sampling_rate\n",
    "    \n",
    "    def calculate_stride(self, isz, conv_layers):\n",
    "        pad = 0\n",
    "        insize = isz\n",
    "        totstride = 1\n",
    "        sec_per_frame = 1/self.sampling_rate\n",
    "\n",
    "        for layer in conv_layers:\n",
    "            kernel, stride = layer\n",
    "            outsize = (insize + 2*pad - 1*(kernel-1)-1) / stride + 1\n",
    "            insize = outsize\n",
    "            totstride = totstride * stride\n",
    "\n",
    "        RFsize = isz - (outsize - 1) * totstride\n",
    "\n",
    "        ms_per_frame = sec_per_frame*RFsize*1000\n",
    "        ms_stride = sec_per_frame*totstride*1000\n",
    "        return outsize, totstride, RFsize, ms_per_frame, ms_stride\n",
    "        \n",
    "    def get_frames(self, secs, stride):\n",
    "        frames = [[int(i*self.sampling_rate/stride) for i in sec] for sec in secs]\n",
    "        return frames\n",
    "        \n",
    "    def make_true_boundaries(self, secs, boundaries, stride):\n",
    "        frames = self.get_frames(secs, stride)\n",
    "        true_boundaries = torch.zeros(size = boundaries.shape)\n",
    "        for num_frame, frame in enumerate(frames):\n",
    "            for i in frame:\n",
    "                true_boundaries[num_frame, i] = 1\n",
    "        return true_boundaries.long().detach().numpy()\n",
    "    \n",
    "    def get_sec_bounds(self, b, stride, attention_mask = None):\n",
    "        if type(b)==torch.Tensor:\n",
    "            b1 = b.long().detach().cpu().numpy()\n",
    "        else:\n",
    "            b1 = b\n",
    "        \n",
    "        if attention_mask is not None:\n",
    "            b1 = b1*attention_mask.long().detach().cpu().numpy()\n",
    "            \n",
    "        frames_pred = []\n",
    "        secs_pred = []\n",
    "        for i in range(b1.shape[0]):\n",
    "            frames = np.where(b1[i, :] == 1)[0]\n",
    "            secs = [i*stride/self.sampling_rate for i in frames]\n",
    "            frames_pred.append(frames)\n",
    "            secs_pred.append(secs)\n",
    "        return frames_pred, secs_pred\n",
    "    \n",
    "    def get_precision_recall_frames(self, true_boundaries, b, attention_mask = None):\n",
    "        if type(b)==torch.Tensor:\n",
    "            b1 = b.long().detach().numpy()\n",
    "        else:\n",
    "            b1 = b\n",
    "            \n",
    "        if attention_mask is not None:\n",
    "            b1 = b1*attention_mask.long().detach().cpu().numpy()\n",
    "            \n",
    "        recall = recall_score(true_boundaries.flatten(), b1.flatten())\n",
    "        pre = precision_score(true_boundaries.flatten(), b1.flatten())\n",
    "        f_score = f1_score(true_boundaries.flatten(), b1.flatten())\n",
    "        return recall, pre, f_score\n",
    "    \n",
    "    def get_stats(self, frames_true, frames_pred):\n",
    "        \n",
    "        # Утащено отсюда: https://github.com/felixkreuk/UnsupSeg/blob/68c2c7b9bd49f3fb8f51c5c2f4d5aa85f251eaa8/utils.py#L69\n",
    "        precision_counter = 0 \n",
    "        recall_counter = 0\n",
    "        pred_counter = 0 \n",
    "        gt_counter = 0\n",
    "\n",
    "        for (y, yhat) in zip(frames_true, frames_pred):\n",
    "            for yhat_i in yhat:\n",
    "                min_dist = np.abs(np.array(y) - yhat_i).min()\n",
    "                precision_counter += (min_dist <= self.tolerance)\n",
    "            for y_i in y:\n",
    "                if len(yhat) > 0:\n",
    "                    min_dist = np.abs(np.array(yhat) - y_i).min()\n",
    "                    recall_counter += (min_dist <= self.tolerance)\n",
    "                else:\n",
    "                    recall_counter += 0\n",
    "            pred_counter += len(yhat)\n",
    "            gt_counter += len(y)\n",
    "\n",
    "        return precision_counter, recall_counter, pred_counter, gt_counter\n",
    "    \n",
    "    def calc_metr(self, precision_counter, recall_counter, pred_counter, gt_counter):\n",
    "\n",
    "        # Утащено отсюда: https://github.com/felixkreuk/UnsupSeg/blob/68c2c7b9bd49f3fb8f51c5c2f4d5aa85f251eaa8/utils.py#L69\n",
    "        EPS = 1e-7\n",
    "\n",
    "        precision = precision_counter / (pred_counter + self.eps)\n",
    "        recall = recall_counter / (gt_counter + self.eps)\n",
    "        f1 = 2 * (precision * recall) / (precision + recall + self.eps)\n",
    "\n",
    "        os = recall / (precision + EPS) - 1\n",
    "        r1 = np.sqrt((1 - recall) ** 2 + os ** 2)\n",
    "        r2 = (-os + recall - 1) / (np.sqrt(2))\n",
    "        rval = 1 - (np.abs(r1) + np.abs(r2)) / 2\n",
    "\n",
    "        return precision, recall, f1, rval\n",
    "    \n",
    "    def get_metrics(self, true_secs, b, seq_len, config, attention_mask = None, \n",
    "                    return_secs=False):\n",
    "        \n",
    "        outsize, totstride, RFsize, ms_per_frame, ms_stride = self.calculate_stride(seq_len, config)\n",
    "#         print(seq_len, outsize, totstride, RFsize, ms_per_frame, ms_stride)\n",
    "        frames_true = self.get_frames(true_secs, totstride)\n",
    "        frames_pred, secs_pred = self.get_sec_bounds(b, totstride, attention_mask = attention_mask)\n",
    "        precision_counter, recall_counter, pred_counter, gt_counter = self.get_stats(frames_true, frames_pred)\n",
    "        precision, recall, f1, rval = self.calc_metr(precision_counter, recall_counter, pred_counter, gt_counter)\n",
    "        if return_secs:\n",
    "            return precision, recall, f1, rval, secs_pred\n",
    "        else:\n",
    "            return precision, recall, f1, rval\n",
    "        \n",
    "    def get_metrics_secs(self, true_secs, secs_pred, totstride = 160):\n",
    "        \n",
    "        frames_true = self.get_frames(true_secs, totstride)\n",
    "        frames_pred = self.get_frames(secs_pred, totstride)\n",
    "        precision_counter, recall_counter, pred_counter, gt_counter = self.get_stats(frames_true, frames_pred)\n",
    "        precision, recall, f1, rval = self.calc_metr(precision_counter, recall_counter, pred_counter, gt_counter)\n",
    "        return precision, recall, f1, rval\n",
    "    \n",
    "    def get_metrics_secs1(self, true_secs, secs_pred, totstride = 160):\n",
    "        \n",
    "#         frames_true = self.get_frames(true_secs, totstride)\n",
    "#         frames_pred = self.get_frames(secs_pred, totstride)\n",
    "        precision_counter, recall_counter, pred_counter, gt_counter = self.get_stats(true_secs, secs_pred)\n",
    "        precision, recall, f1, rval = self.calc_metr(precision_counter, recall_counter, pred_counter, gt_counter)\n",
    "        return precision, recall, f1, rval\n",
    "    \n",
    "    "
   ]
  },
  {
   "cell_type": "code",
   "execution_count": 35,
   "id": "3a308b49",
   "metadata": {
    "cellId": "wtfkbwahnksofpkju9hze"
   },
   "outputs": [],
   "source": [
    "#!g1.1\n",
    "def read_true_file(segment_file):\n",
    "    with open(segment_file, 'r', encoding=\"cp1251\") as file:\n",
    "        tt = file.read()\n",
    "\n",
    "    boundaries = set()\n",
    "    mm = [i for i in tt.split('\\n') if len(i)>0]\n",
    "    \n",
    "    for i in mm:\n",
    "        boundaries.add(eval(i.split()[0]))\n",
    "    boundaries = sorted(list(boundaries))\n",
    "    return boundaries"
   ]
  },
  {
   "cell_type": "code",
   "execution_count": 36,
   "id": "c49b3b4d",
   "metadata": {
    "cellId": "xryrry7iibatmhwpmq6e0c"
   },
   "outputs": [],
   "source": [
    "#!g1.1\n",
    "def read_pred_file(segment_file):\n",
    "    with open(segment_file, 'r', encoding=\"cp1251\") as file:\n",
    "        tt = file.read()\n",
    "    boundaries = eval(tt)\n",
    "    return boundaries"
   ]
  },
  {
   "cell_type": "code",
   "execution_count": 37,
   "id": "662edbe8",
   "metadata": {
    "cellId": "0a1bbp1cnctqz6d70x9ex8"
   },
   "outputs": [],
   "source": [
    "#!g1.1\n",
    "path_results = 'save_results_path_compare_buckeye'\n",
    "\n",
    "folders = ['model_segment', 'peak_detection', 'wav2vec_model']"
   ]
  },
  {
   "cell_type": "code",
   "execution_count": 64,
   "id": "0d87375b",
   "metadata": {
    "cellId": "n5odnxatoeou1o09k14kr"
   },
   "outputs": [
    {
     "name": "stderr",
     "output_type": "stream",
     "text": [
      "100%|██████████| 5536/5536 [00:03<00:00, 1576.05it/s]\n",
      "100%|██████████| 5536/5536 [00:03<00:00, 1416.49it/s]\n",
      "100%|██████████| 5536/5536 [00:03<00:00, 1395.00it/s]\n"
     ]
    }
   ],
   "source": [
    "#!g1.1\n",
    "result_dataframes = []\n",
    "metr = RMetrics1(tolerance=2)\n",
    "totstride = 160\n",
    "true_folder = 'Buckeye_fin/Test'\n",
    "\n",
    "for folder in folders:\n",
    "    true_files = [i.replace('.wav', '.txt') for i in list(iter_find_files(true_folder, \"*.wav\"))]\n",
    "    idss = os.listdir(os.path.join(path_results, folder))\n",
    "\n",
    "    secs_preds = []\n",
    "    secs_trues = []\n",
    "\n",
    "    for num in tqdm(range(len(true_files))):\n",
    "\n",
    "        bound_true = read_true_file(true_files[num])\n",
    "        bound_pred = read_pred_file(os.path.join(os.path.join(path_results, folder), idss[num]))\n",
    "\n",
    "        secs_trues.append(bound_true)\n",
    "        secs_preds.append(bound_pred)\n",
    "   \n",
    "    precision, recall, f1, rval = metr.get_metrics_secs(secs_trues, secs_preds, totstride = totstride)\n",
    "    \n",
    "    datafr = pd.DataFrame([folder, \n",
    "                           precision, recall, \n",
    "                           f1, rval]).T.rename(columns = {0:'type', \n",
    "                                                          1:'precision',\n",
    "                                                          2:'recall', \n",
    "                                                          3:'f1', \n",
    "                                                          4:'rval'})\n",
    "    \n",
    "    result_dataframes.append(datafr)"
   ]
  },
  {
   "cell_type": "code",
   "execution_count": 65,
   "id": "d3156298",
   "metadata": {
    "cellId": "ofix0y0jgol8v2nbs8p4"
   },
   "outputs": [],
   "source": [
    "#!g1.1\n",
    "result_df = pd.concat(result_dataframes, ignore_index = True)"
   ]
  },
  {
   "cell_type": "code",
   "execution_count": 66,
   "id": "02d1af3f",
   "metadata": {
    "cellId": "pk2m5upkyk5ma3srsbl1q"
   },
   "outputs": [
    {
     "data": {
      "text/html": [
       "<div>\n",
       "<style scoped>\n",
       "    .dataframe tbody tr th:only-of-type {\n",
       "        vertical-align: middle;\n",
       "    }\n",
       "\n",
       "    .dataframe tbody tr th {\n",
       "        vertical-align: top;\n",
       "    }\n",
       "\n",
       "    .dataframe thead th {\n",
       "        text-align: right;\n",
       "    }\n",
       "</style>\n",
       "<table border=\"1\" class=\"dataframe\">\n",
       "  <thead>\n",
       "    <tr style=\"text-align: right;\">\n",
       "      <th></th>\n",
       "      <th>type</th>\n",
       "      <th>precision</th>\n",
       "      <th>recall</th>\n",
       "      <th>f1</th>\n",
       "      <th>rval</th>\n",
       "    </tr>\n",
       "  </thead>\n",
       "  <tbody>\n",
       "    <tr>\n",
       "      <th>0</th>\n",
       "      <td>model_segment</td>\n",
       "      <td>0.586108</td>\n",
       "      <td>0.588653</td>\n",
       "      <td>0.587373</td>\n",
       "      <td>0.647347</td>\n",
       "    </tr>\n",
       "    <tr>\n",
       "      <th>1</th>\n",
       "      <td>peak_detection</td>\n",
       "      <td>0.577641</td>\n",
       "      <td>0.553406</td>\n",
       "      <td>0.565259</td>\n",
       "      <td>0.632658</td>\n",
       "    </tr>\n",
       "    <tr>\n",
       "      <th>2</th>\n",
       "      <td>wav2vec_model</td>\n",
       "      <td>0.590504</td>\n",
       "      <td>0.460075</td>\n",
       "      <td>0.517188</td>\n",
       "      <td>0.595521</td>\n",
       "    </tr>\n",
       "  </tbody>\n",
       "</table>\n",
       "</div>"
      ],
      "text/plain": [
       "             type precision    recall        f1      rval\n",
       "0   model_segment  0.586108  0.588653  0.587373  0.647347\n",
       "1  peak_detection  0.577641  0.553406  0.565259  0.632658\n",
       "2   wav2vec_model  0.590504  0.460075  0.517188  0.595521"
      ]
     },
     "execution_count": 66,
     "metadata": {},
     "output_type": "execute_result"
    }
   ],
   "source": [
    "#!g1.1\n",
    "result_df"
   ]
  },
  {
   "cell_type": "code",
   "execution_count": 67,
   "id": "220773fb",
   "metadata": {
    "cellId": "7ruor5kru5lml3zpsuk5f"
   },
   "outputs": [],
   "source": [
    "#!g1.1\n",
    "result_df.to_csv('results_compare_buckeye.csv')"
   ]
  },
  {
   "cell_type": "code",
   "execution_count": 63,
   "id": "dd5c9278",
   "metadata": {
    "cellId": "c8a4aoohus5299svgtxam"
   },
   "outputs": [],
   "source": [
    "#!g1.1\n"
   ]
  }
 ],
 "metadata": {
  "kernelspec": {
   "display_name": "Yandex DataSphere Kernel",
   "language": "python",
   "name": "python3"
  },
  "language_info": {
   "codemirror_mode": {
    "name": "ipython",
    "version": 3
   },
   "file_extension": ".py",
   "mimetype": "text/x-python",
   "name": "python",
   "nbconvert_exporter": "python",
   "pygments_lexer": "ipython3",
   "version": "3.7.7"
  },
  "notebookId": "adc24fb6-442d-4caa-9565-60e7cfb8e2da",
  "notebookPath": "Predict_compare_buckeye.ipynb",
  "toc": {
   "base_numbering": 1,
   "nav_menu": {},
   "number_sections": true,
   "sideBar": true,
   "skip_h1_title": false,
   "title_cell": "Table of Contents",
   "title_sidebar": "Contents",
   "toc_cell": false,
   "toc_position": {},
   "toc_section_display": true,
   "toc_window_display": false
  }
 },
 "nbformat": 4,
 "nbformat_minor": 5
}
