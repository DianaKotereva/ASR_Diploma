{
 "cells": [
  {
   "cell_type": "code",
   "execution_count": 1,
   "id": "b3c27a42",
   "metadata": {
    "cellId": "c8vr87hb4aeczysyvkai0v"
   },
   "outputs": [],
   "source": [
    "#!g1.1\n",
    "import json\n",
    "import os\n",
    "import torch\n",
    "from tqdm import tqdm\n",
    "import scipy.io.wavfile as wav\n",
    "\n",
    "from torch import nn\n",
    "import torch.nn.functional as F\n",
    "from torch import optim\n",
    "from torch.utils.data import Dataset, DataLoader, Sampler\n",
    "from torch.utils.tensorboard import SummaryWriter\n",
    "\n",
    "import numpy as np\n",
    "from pytorch_lightning.callbacks import EarlyStopping, ModelCheckpoint"
   ]
  },
  {
   "cell_type": "code",
   "execution_count": 2,
   "id": "462b6f28",
   "metadata": {
    "cellId": "7g4f67f9lrctajdsjw09sk"
   },
   "outputs": [],
   "source": [
    "#!g1.1\n",
    "# %pip install pytorch_lightning --upgrade"
   ]
  },
  {
   "cell_type": "code",
   "execution_count": 3,
   "id": "8eb7c2af",
   "metadata": {
    "cellId": "nl75clmx1mcf02a8yrdnk"
   },
   "outputs": [],
   "source": [
    "#!g1.1\n",
    "from models import ConvFeatureEncoder, SegmentsRepr, SegmentsEncoder, NegativeSampler, SegmentPredictor, FinModel, FinModel1\n",
    "from utils import ConstrativeLoss, sample_negatives\n",
    "# from trainer import Trainer\n",
    "from pytorch_lightning import Trainer\n",
    "from pytorch_lightning.loggers import TensorBoardLogger"
   ]
  },
  {
   "cell_type": "code",
   "execution_count": 4,
   "id": "c73e087a",
   "metadata": {
    "cellId": "vftou1vtw33b4e91oavgf"
   },
   "outputs": [],
   "source": [
    "#!g1.1\n",
    "# import wandb"
   ]
  },
  {
   "cell_type": "code",
   "execution_count": 5,
   "id": "2d3166d7",
   "metadata": {
    "cellId": "hwexpssgdet1tc2logg513"
   },
   "outputs": [],
   "source": [
    "#!g1.1\n",
    "import torch\n",
    "import torch.nn as nn\n",
    "import torch.nn.functional as F\n",
    "from torch.utils.data import DataLoader, Dataset\n",
    "torch.multiprocessing.set_sharing_strategy('file_system')\n",
    "from tqdm import tqdm\n",
    "import numpy as np\n",
    "import os\n",
    "from os.path import join, basename\n",
    "from boltons.fileutils import iter_find_files\n",
    "import soundfile as sf\n",
    "import librosa\n",
    "import pickle\n",
    "from multiprocessing import Pool\n",
    "import random\n",
    "import torchaudio\n",
    "import math\n",
    "from torchaudio.datasets import LIBRISPEECH"
   ]
  },
  {
   "cell_type": "code",
   "execution_count": 6,
   "id": "acd2f37a",
   "metadata": {
    "cellId": "k2dwuq45oxb38r71lughh"
   },
   "outputs": [],
   "source": [
    "#!g1.1\n",
    "def spectral_size(wav_len):\n",
    "    layers = [(10,5,0), (8,4,0), (4,2,0), (4,2,0), (4,2,0)]\n",
    "    for kernel, stride, padding in layers:\n",
    "        wav_len = math.floor((wav_len + 2*padding - 1*(kernel-1) - 1)/stride + 1)\n",
    "    return wav_len"
   ]
  },
  {
   "cell_type": "code",
   "execution_count": 7,
   "id": "3c534098",
   "metadata": {
    "cellId": "howizp4gp08si3tsfud0ka"
   },
   "outputs": [],
   "source": [
    "#!g1.1\n",
    "# Данный класс основан на https://github.com/felixkreuk/UnsupSeg/blob/master/dataloader.py\n",
    "\n",
    "class WavPhnDataset(Dataset):\n",
    "    def __init__(self, path):\n",
    "        self.path = path\n",
    "        self.data = list(iter_find_files(self.path, \"*.wav\"))\n",
    "        super(WavPhnDataset, self).__init__()\n",
    "\n",
    "    @staticmethod\n",
    "    def get_datasets(path):\n",
    "        raise NotImplementedError\n",
    "\n",
    "    def process_file(self, wav_path):\n",
    "        phn_path = wav_path.replace(\"WAV.wav\", \"PHN\")\n",
    "\n",
    "        # load audio\n",
    "        audio, sr = torchaudio.load(wav_path)\n",
    "        audio = audio[0]\n",
    "        audio_len = len(audio)\n",
    "        \n",
    "        filetext_id = phn_path.replace('.PHN', '.txt').replace('./', ''). replace('/', '_')\n",
    "        \n",
    "        # load labels -- segmentation and phonemes\n",
    "        with open(phn_path, \"r\") as f:\n",
    "            lines = f.readlines()\n",
    "            lines = list(map(lambda line: line.split(\" \"), lines))\n",
    "\n",
    "            # get segment times\n",
    "            times = torch.FloatTensor(list(map(lambda line: int(line[1])/16000, lines)))[:-1]\n",
    "            \n",
    "            # get phonemes in each segment (for K times there should be K+1 phonemes)\n",
    "            phonemes = list(map(lambda line: line[2].strip(), lines))\n",
    "\n",
    "        return audio, times.tolist(), phonemes, wav_path, phn_path, filetext_id\n",
    "\n",
    "    def spectral_size(self, wav_len):\n",
    "        layers = [(10,5,0), (8,4,0), (4,2,0), (4,2,0), (4,2,0)]\n",
    "        for kernel, stride, padding in layers:\n",
    "            wav_len = math.floor((wav_len + 2*padding - 1*(kernel-1) - 1)/stride + 1)\n",
    "        return wav_len\n",
    "    \n",
    "    def __getitem__(self, idx):\n",
    "        signal, seg, phonemes, fname, segment_file, filetext_id = self.process_file(self.data[idx])\n",
    "        \n",
    "        return {'audio_file':fname, \n",
    "                'segment_file':segment_file, \n",
    "                'id':filetext_id, \n",
    "                'sample': signal, \n",
    "                'length': len(signal), \n",
    "                'spectral_size': self.spectral_size(len(signal)),\n",
    "                'boundaries': seg}\n",
    "        \n",
    "#         return {'sample': signal, 'length': len(signal), 'boundaries': seg}\n",
    "#         return audio, seg, phonemes, fname\n",
    "\n",
    "    def __len__(self):\n",
    "        return len(self.data)"
   ]
  },
  {
   "cell_type": "code",
   "execution_count": 8,
   "id": "2c834d0b",
   "metadata": {
    "cellId": "a1tj50fepqjughnyoz0xvh"
   },
   "outputs": [],
   "source": [
    "#!g1.1\n"
   ]
  },
  {
   "cell_type": "code",
   "execution_count": 9,
   "id": "c81f5364",
   "metadata": {
    "cellId": "qkuwx14ftjfm0ai9wwrp5"
   },
   "outputs": [],
   "source": [
    "#!g1.1\n",
    "# Данный класс основан на https://github.com/felixkreuk/UnsupSeg/blob/master/dataloader.py\n",
    "\n",
    "class TrainTestDataset(WavPhnDataset):\n",
    "    def __init__(self, path):\n",
    "        super(TrainTestDataset, self).__init__(path)\n",
    "\n",
    "    @staticmethod\n",
    "    def get_datasets(path, val_ratio=0.1):\n",
    "        train_dataset = TrainTestDataset(os.path.join(path, 'TRAIN'))\n",
    "        test_dataset  = TrainTestDataset(os.path.join(path, 'TEST'))\n",
    "\n",
    "        train_len   = len(train_dataset)\n",
    "        train_split = int(train_len * (1 - val_ratio))\n",
    "        val_split   = train_len - train_split\n",
    "        train_dataset, val_dataset = torch.utils.data.random_split(train_dataset, [train_split, val_split])\n",
    "\n",
    "        train_dataset.path = os.path.join(path, 'train')\n",
    "        val_dataset.path = os.path.join(path, 'train')\n",
    "\n",
    "        return train_dataset, val_dataset, test_dataset"
   ]
  },
  {
   "cell_type": "code",
   "execution_count": 10,
   "id": "dda74a0c",
   "metadata": {
    "cellId": "gng3u7pfb6wbvxdxarlac"
   },
   "outputs": [],
   "source": [
    "#!g1.1\n",
    "timit_path = './timit/data'"
   ]
  },
  {
   "cell_type": "code",
   "execution_count": 11,
   "id": "8d2017c4",
   "metadata": {
    "cellId": "niaeemycx5linxf6usnllh"
   },
   "outputs": [],
   "source": [
    "#!g1.1\n",
    "train_dataset, val_dataset, test_dataset = TrainTestDataset.get_datasets(path=timit_path)"
   ]
  },
  {
   "cell_type": "code",
   "execution_count": 12,
   "id": "5524aef0",
   "metadata": {
    "cellId": "6nymo4hq9rpw9zfhhu3z1t"
   },
   "outputs": [],
   "source": [
    "#!g1.1\n",
    "def collate_fn(samples):\n",
    "    \n",
    "    max_length = max([sample['length'] for sample in samples])\n",
    "    boundaries = [sample['boundaries'] for sample in samples]\n",
    "    spectral_sizes = [sample['spectral_size'] for sample in samples]\n",
    "    samples1 = []\n",
    "    lengths = []\n",
    "    samplings = []\n",
    "    attentions = []\n",
    "    for sample in samples:\n",
    "        to_add_l = max_length-sample['length']\n",
    "        sample1 = list(sample['sample'])+[0]*to_add_l\n",
    "        samples1.append(torch.Tensor(sample1).unsqueeze(0))\n",
    "        lengths.append(sample['length'])\n",
    "        att_norm = torch.ones(size = (1, sample['length']))\n",
    "        att_add = torch.zeros(size = (1, to_add_l))\n",
    "        att = torch.cat([att_norm, att_add], dim = -1)\n",
    "        attentions.append(att)\n",
    "        \n",
    "    batch = torch.cat(samples1)\n",
    "    lengths = torch.Tensor(lengths)\n",
    "    attention_mask = torch.cat(attentions, dim = 0)\n",
    "    spectral_size = torch.Tensor(spectral_sizes)\n",
    "    \n",
    "    return dict(batch=batch, lengths=lengths, attention_mask=attention_mask, boundaries=boundaries, spectral_size=spectral_size)"
   ]
  },
  {
   "cell_type": "code",
   "execution_count": 13,
   "id": "53ef24f0",
   "metadata": {
    "cellId": "n5mrpanm27k04e1h1a0tj"
   },
   "outputs": [],
   "source": [
    "#!g1.1\n"
   ]
  },
  {
   "cell_type": "code",
   "execution_count": 14,
   "id": "fc40eaf5",
   "metadata": {
    "cellId": "te4wuvdw1tj7sxp7eo4xe"
   },
   "outputs": [],
   "source": [
    "#!g1.1\n",
    "train_loader = DataLoader(train_dataset, shuffle=True, batch_size=8, collate_fn = collate_fn)\n",
    "val_loader = DataLoader(val_dataset, shuffle=False, batch_size=8, collate_fn = collate_fn)"
   ]
  },
  {
   "cell_type": "code",
   "execution_count": 46,
   "id": "b3b7f041",
   "metadata": {
    "cellId": "p30ggue6y6kivazbar6o2c"
   },
   "outputs": [],
   "source": [
    "#!g1.1\n"
   ]
  },
  {
   "cell_type": "code",
   "execution_count": 47,
   "id": "06146f12",
   "metadata": {
    "cellId": "v1p33a0ggp7o85z2wm2y"
   },
   "outputs": [],
   "source": [
    "#!g1.1\n",
    "accumulate_grad_batches = 1\n",
    "timit_path = './timit/data'"
   ]
  },
  {
   "cell_type": "code",
   "execution_count": 48,
   "id": "747b9421",
   "metadata": {
    "cellId": "zhj0tejpe7qabc3p19x6kd"
   },
   "outputs": [],
   "source": [
    "#!g1.1\n",
    "cfg = {'optimizer': \"adam\",\n",
    "'momentum': 0.9,\n",
    "'learning_rate': 0.0001*accumulate_grad_batches,\n",
    "'lr_anneal_gamma': 1.0,\n",
    "'lr_anneal_step': 1000,\n",
    "'epochs': 200,\n",
    "'grad_clip': 2,\n",
    "'batch_size': 8,\n",
    "\n",
    "'conv_args': {},\n",
    "'mask_args': {},\n",
    "'segm_enc_args': {},\n",
    "'segm_predictor_args': {},\n",
    "'loss_args': {\"n_negatives\": 1, \"loss_args\": {\"reduction\": \"mean\"}},\n",
    "'num_epoch': 2}"
   ]
  },
  {
   "cell_type": "code",
   "execution_count": 49,
   "id": "39c275bf",
   "metadata": {
    "cellId": "g3euarqtw2n1ti2znbl757"
   },
   "outputs": [],
   "source": [
    "#!g1.1\n",
    "class Conf:\n",
    "    def __init__(self, my_dict):\n",
    "        for key, value in my_dict.items():\n",
    "            setattr(self, key, value)\n",
    "            \n",
    "config = Conf(cfg)"
   ]
  },
  {
   "cell_type": "code",
   "execution_count": 50,
   "id": "323c8a66",
   "metadata": {
    "cellId": "ybqvmtyeufpqwzh8zfyvw"
   },
   "outputs": [],
   "source": [
    "#!g1.1\n",
    "import warnings\n",
    "warnings.filterwarnings(\"ignore\")"
   ]
  },
  {
   "cell_type": "code",
   "execution_count": 52,
   "id": "9e4fbac6",
   "metadata": {
    "cellId": "m5gnd6ld8ss91lt8lsihqc"
   },
   "outputs": [
    {
     "name": "stderr",
     "output_type": "stream",
     "text": [
      "GPU available: True, used: True\n",
      "TPU available: False, using: 0 TPU cores\n",
      "IPU available: False, using: 0 IPUs\n"
     ]
    },
    {
     "name": "stdout",
     "output_type": "stream",
     "text": [
      "4158\n",
      "462\n"
     ]
    }
   ],
   "source": [
    "#!g1.1\n",
    "\n",
    "AVAIL_GPUS = min(1, torch.cuda.device_count())\n",
    "\n",
    "train_dataset, val_dataset, test_dataset = TrainTestDataset.get_datasets(path=timit_path)\n",
    "\n",
    "train_loader = DataLoader(train_dataset, shuffle=True, batch_size=8, collate_fn = collate_fn)\n",
    "val_loader = DataLoader(val_dataset, shuffle=False, batch_size=8, collate_fn = collate_fn)\n",
    "\n",
    "print(len(train_dataset))\n",
    "print(len(val_dataset))\n",
    "\n",
    "model = FinModel(config)\n",
    "\n",
    "logger = TensorBoardLogger(\"tb_logs_timit_model_acc_5_ep_200_model_with_segments\", name=\"my_model\")\n",
    "\n",
    "checkpoint_callback = ModelCheckpoint(\n",
    "    monitor=\"val_r_metr\",\n",
    "    dirpath=\"./\",\n",
    "    filename=\"timit_model_acc_5_ep_200_model_with_segments\",\n",
    "    save_top_k=3,\n",
    "    mode=\"max\",\n",
    ")\n",
    "trainer = Trainer(max_epochs=25,\n",
    "                  gpus=AVAIL_GPUS,\n",
    "                  progress_bar_refresh_rate=1,\n",
    "                  logger=logger,\n",
    "#                   accumulate_grad_batches=accumulate_grad_batches,\n",
    "                  gradient_clip_val=2, \n",
    "                  callbacks=[checkpoint_callback])\n",
    "\n"
   ]
  },
  {
   "cell_type": "code",
   "execution_count": 58,
   "id": "fff9240a",
   "metadata": {
    "cellId": "eb3dgyo5js82scvi0ow2"
   },
   "outputs": [
    {
     "name": "stdout",
     "output_type": "stream",
     "text": [
      "Launching TensorBoard...\n"
     ]
    },
    {
     "data": {
      "text/html": [
       "\n",
       "        <iframe id=\"tensorboard-frame-1dbb11dba0ddc112\" width=\"100%\" height=\"800\" frameborder=\"0\">\n",
       "        </iframe>\n",
       "        <script>\n",
       "        function getCookie(name) {\n",
       "          let matches = document.cookie.match(new RegExp(\n",
       "            \"(?:^|; )\" + name.replace(/([\\.$?*|{}\\(\\)\\[\\]\\\\/\\+^])/g, '\\$1') + \"=([^;]*)\"\n",
       "          ));\n",
       "          return matches ? decodeURIComponent(matches[1]) : undefined;\n",
       "        }\n",
       "        \n",
       "        (function() {\n",
       "            const frame = document.getElementById(\"tensorboard-frame-1dbb11dba0ddc112\");\n",
       "            const apiUrl = new URL(document.location.href.split('?')[0] + '/../api/tensorboard')\n",
       "            const xsrfToken = getCookie('_xsrf');\n",
       "            \n",
       "            fetch(apiUrl, {\n",
       "                method: 'POST',\n",
       "                mode: 'cors',\n",
       "                cache: 'no-cache',\n",
       "                credentials: 'same-origin',\n",
       "                headers: {\n",
       "                  'Content-Type': 'application/json',\n",
       "                  'X-XSRFToken': xsrfToken\n",
       "                },\n",
       "                redirect: 'follow',\n",
       "                referrerPolicy: 'origin', // no-referrer, *no-referrer-when-downgrade, origin, origin-when-cross-origin, same-origin, strict-origin, strict-origin-when-cross-origin, unsafe-url\n",
       "                body: JSON.stringify({\n",
       "                    'logdir': './tb_logs_timit_model_acc_5_ep_200_model_with_segments'\n",
       "                })\n",
       "              }).then(response => {\n",
       "                response.json().then(json => {\n",
       "                    if (json.name != undefined) {\n",
       "                        const tbId = json.name;\n",
       "                        console.debug('tbId = ' + tbId);\n",
       "                        const url = new URL(document.location.href.split('?')[0] + '/../tensorboard/' + tbId);\n",
       "                        frame.src = url;\n",
       "                    }\n",
       "                });\n",
       "              });\n",
       "        })();\n",
       "        </script>\n",
       "        "
      ],
      "text/plain": [
       "<IPython.core.display.HTML object>"
      ]
     },
     "metadata": {},
     "output_type": "display_data"
    }
   ],
   "source": [
    "#!g1.1\n",
    "%tensorboard --logdir ./tb_logs_timit_model_acc_5_ep_200_model_with_segments"
   ]
  },
  {
   "cell_type": "code",
   "execution_count": 54,
   "id": "cd928a76",
   "metadata": {
    "cellId": "r1z6t9kgfg9huyg9xqo8f",
    "collapsed": true,
    "jupyter": {
     "outputs_hidden": true
    }
   },
   "outputs": [
    {
     "data": {
      "application/vnd.jupyter.widget-view+json": {
       "model_id": "1e9ee6d476134998bad7ee5718557c25",
       "version_major": 2,
       "version_minor": 0
      },
      "text/plain": [
       "HBox(children=(HTML(value='Validation sanity check'), FloatProgress(value=1.0, bar_style='info', layout=Layout…"
      ]
     },
     "metadata": {},
     "output_type": "display_data"
    },
    {
     "data": {
      "application/vnd.jupyter.widget-view+json": {
       "model_id": "426ded9671f94b9d95da8c1a3d8f80c0",
       "version_major": 2,
       "version_minor": 0
      },
      "text/plain": [
       "HBox(children=(HTML(value='Training'), FloatProgress(value=1.0, bar_style='info', layout=Layout(flex='2'), max…"
      ]
     },
     "metadata": {},
     "output_type": "display_data"
    },
    {
     "name": "stderr",
     "output_type": "stream",
     "text": [
      "LOCAL_RANK: 0 - CUDA_VISIBLE_DEVICES: [0]\n",
      "\n",
      "  | Name              | Type               | Params\n",
      "---------------------------------------------------------\n",
      "0 | conv_encoder      | ConvFeatureEncoder | 1.3 M \n",
      "1 | frame_predictor   | NegativeSampler    | 0     \n",
      "2 | segment_mean      | SegmentsRepr       | 0     \n",
      "3 | attention_calc    | AttentionCalc      | 0     \n",
      "4 | segment_encoder   | SegmentsEncoder    | 131 K \n",
      "5 | segment_recurrent | SegmentPredictor   | 78.5 K\n",
      "6 | segment_predictor | NegativeSampler    | 0     \n",
      "7 | metr              | RMetrics           | 0     \n",
      "---------------------------------------------------------\n",
      "1.5 M     Trainable params\n",
      "0         Non-trainable params\n",
      "1.5 M     Total params\n",
      "6.102     Total estimated model params size (MB)\n",
      "LOCAL_RANK: 0 - CUDA_VISIBLE_DEVICES: [0]\n",
      "\n",
      "  | Name              | Type               | Params\n",
      "---------------------------------------------------------\n",
      "0 | conv_encoder      | ConvFeatureEncoder | 1.3 M \n",
      "1 | frame_predictor   | NegativeSampler    | 0     \n",
      "2 | segment_mean      | SegmentsRepr       | 0     \n",
      "3 | attention_calc    | AttentionCalc      | 0     \n",
      "4 | segment_encoder   | SegmentsEncoder    | 131 K \n",
      "5 | segment_recurrent | SegmentPredictor   | 78.5 K\n",
      "6 | segment_predictor | NegativeSampler    | 0     \n",
      "7 | metr              | RMetrics           | 0     \n",
      "---------------------------------------------------------\n",
      "1.5 M     Trainable params\n",
      "0         Non-trainable params\n",
      "1.5 M     Total params\n",
      "6.102     Total estimated model params size (MB)\n"
     ]
    },
    {
     "name": "stdout",
     "output_type": "stream",
     "text": [
      "optimizer: Adam (\n",
      "Parameter Group 0\n",
      "    amsgrad: False\n",
      "    betas: (0.9, 0.999)\n",
      "    eps: 1e-08\n",
      "    lr: 0.0001\n",
      "    weight_decay: 0.0005\n",
      ")\n",
      "\n",
      "optimizer: Adam (\n",
      "Parameter Group 0\n",
      "    amsgrad: False\n",
      "    betas: (0.9, 0.999)\n",
      "    eps: 1e-08\n",
      "    lr: 0.0001\n",
      "    weight_decay: 0.0005\n",
      ")\n"
     ]
    },
    {
     "data": {
      "application/vnd.jupyter.widget-view+json": {
       "model_id": "d9a6b72f92df4ee2aba2df6830b033d2",
       "version_major": 2,
       "version_minor": 0
      },
      "text/plain": [
       "HBox(children=(HTML(value='Validation sanity check'), FloatProgress(value=1.0, bar_style='info', layout=Layout…"
      ]
     },
     "metadata": {},
     "output_type": "display_data"
    },
    {
     "data": {
      "application/vnd.jupyter.widget-view+json": {
       "model_id": "86a016a825c64a7397ab8447fd677fe5",
       "version_major": 2,
       "version_minor": 0
      },
      "text/plain": [
       "HBox(children=(HTML(value='Training'), FloatProgress(value=1.0, bar_style='info', layout=Layout(flex='2'), max…"
      ]
     },
     "metadata": {},
     "output_type": "display_data"
    },
    {
     "data": {
      "application/vnd.jupyter.widget-view+json": {
       "model_id": "031ae454810e4e34ab6e68d02a9a3fb4",
       "version_major": 2,
       "version_minor": 0
      },
      "text/plain": [
       "HBox(children=(HTML(value='Validating'), FloatProgress(value=1.0, bar_style='info', layout=Layout(flex='2'), m…"
      ]
     },
     "metadata": {},
     "output_type": "display_data"
    },
    {
     "data": {
      "application/vnd.jupyter.widget-view+json": {
       "model_id": "afc7f1e6e0b748d1bb8c7c62fbc8c566",
       "version_major": 2,
       "version_minor": 0
      },
      "text/plain": [
       "HBox(children=(HTML(value='Validating'), FloatProgress(value=1.0, bar_style='info', layout=Layout(flex='2'), m…"
      ]
     },
     "metadata": {},
     "output_type": "display_data"
    },
    {
     "data": {
      "application/vnd.jupyter.widget-view+json": {
       "model_id": "105033ae667c4400b2f8bc86df5d963e",
       "version_major": 2,
       "version_minor": 0
      },
      "text/plain": [
       "HBox(children=(HTML(value='Validating'), FloatProgress(value=1.0, bar_style='info', layout=Layout(flex='2'), m…"
      ]
     },
     "metadata": {},
     "output_type": "display_data"
    },
    {
     "data": {
      "application/vnd.jupyter.widget-view+json": {
       "model_id": "2cf9cbeee6a84c2590d7e49cffaf8da6",
       "version_major": 2,
       "version_minor": 0
      },
      "text/plain": [
       "HBox(children=(HTML(value='Validating'), FloatProgress(value=1.0, bar_style='info', layout=Layout(flex='2'), m…"
      ]
     },
     "metadata": {},
     "output_type": "display_data"
    },
    {
     "data": {
      "application/vnd.jupyter.widget-view+json": {
       "model_id": "6ba3ac882edc4a97a5d5c7795f160609",
       "version_major": 2,
       "version_minor": 0
      },
      "text/plain": [
       "HBox(children=(HTML(value='Validating'), FloatProgress(value=1.0, bar_style='info', layout=Layout(flex='2'), m…"
      ]
     },
     "metadata": {},
     "output_type": "display_data"
    },
    {
     "data": {
      "application/vnd.jupyter.widget-view+json": {
       "model_id": "a655e5619b8141fb96789955f4ab6350",
       "version_major": 2,
       "version_minor": 0
      },
      "text/plain": [
       "HBox(children=(HTML(value='Validating'), FloatProgress(value=1.0, bar_style='info', layout=Layout(flex='2'), m…"
      ]
     },
     "metadata": {},
     "output_type": "display_data"
    },
    {
     "data": {
      "application/vnd.jupyter.widget-view+json": {
       "model_id": "bec5ca96320f40f9a83203a6d3cbcadb",
       "version_major": 2,
       "version_minor": 0
      },
      "text/plain": [
       "HBox(children=(HTML(value='Validating'), FloatProgress(value=1.0, bar_style='info', layout=Layout(flex='2'), m…"
      ]
     },
     "metadata": {},
     "output_type": "display_data"
    },
    {
     "data": {
      "application/vnd.jupyter.widget-view+json": {
       "model_id": "636d18e422b04494b9b5d0262e48b295",
       "version_major": 2,
       "version_minor": 0
      },
      "text/plain": [
       "HBox(children=(HTML(value='Validating'), FloatProgress(value=1.0, bar_style='info', layout=Layout(flex='2'), m…"
      ]
     },
     "metadata": {},
     "output_type": "display_data"
    },
    {
     "data": {
      "application/vnd.jupyter.widget-view+json": {
       "model_id": "d0c70382fadb4e6197abcc447d53f255",
       "version_major": 2,
       "version_minor": 0
      },
      "text/plain": [
       "HBox(children=(HTML(value='Validating'), FloatProgress(value=1.0, bar_style='info', layout=Layout(flex='2'), m…"
      ]
     },
     "metadata": {},
     "output_type": "display_data"
    },
    {
     "data": {
      "application/vnd.jupyter.widget-view+json": {
       "model_id": "5789db15b85c46a9b9ee957757dcee53",
       "version_major": 2,
       "version_minor": 0
      },
      "text/plain": [
       "HBox(children=(HTML(value='Validating'), FloatProgress(value=1.0, bar_style='info', layout=Layout(flex='2'), m…"
      ]
     },
     "metadata": {},
     "output_type": "display_data"
    },
    {
     "data": {
      "application/vnd.jupyter.widget-view+json": {
       "model_id": "a4a8067084954715882b7e6c96b41bdc",
       "version_major": 2,
       "version_minor": 0
      },
      "text/plain": [
       "HBox(children=(HTML(value='Validating'), FloatProgress(value=1.0, bar_style='info', layout=Layout(flex='2'), m…"
      ]
     },
     "metadata": {},
     "output_type": "display_data"
    },
    {
     "data": {
      "application/vnd.jupyter.widget-view+json": {
       "model_id": "38994f126ab6414c997125f1541c79a8",
       "version_major": 2,
       "version_minor": 0
      },
      "text/plain": [
       "HBox(children=(HTML(value='Validating'), FloatProgress(value=1.0, bar_style='info', layout=Layout(flex='2'), m…"
      ]
     },
     "metadata": {},
     "output_type": "display_data"
    },
    {
     "data": {
      "application/vnd.jupyter.widget-view+json": {
       "model_id": "94e967207e5547ed8263528c14ec11c9",
       "version_major": 2,
       "version_minor": 0
      },
      "text/plain": [
       "HBox(children=(HTML(value='Validating'), FloatProgress(value=1.0, bar_style='info', layout=Layout(flex='2'), m…"
      ]
     },
     "metadata": {},
     "output_type": "display_data"
    },
    {
     "data": {
      "application/vnd.jupyter.widget-view+json": {
       "model_id": "89f374d4078f48c78ae20920fec63639",
       "version_major": 2,
       "version_minor": 0
      },
      "text/plain": [
       "HBox(children=(HTML(value='Validating'), FloatProgress(value=1.0, bar_style='info', layout=Layout(flex='2'), m…"
      ]
     },
     "metadata": {},
     "output_type": "display_data"
    },
    {
     "data": {
      "application/vnd.jupyter.widget-view+json": {
       "model_id": "e153b9960a4644e597b150a65b83b96a",
       "version_major": 2,
       "version_minor": 0
      },
      "text/plain": [
       "HBox(children=(HTML(value='Validating'), FloatProgress(value=1.0, bar_style='info', layout=Layout(flex='2'), m…"
      ]
     },
     "metadata": {},
     "output_type": "display_data"
    },
    {
     "data": {
      "application/vnd.jupyter.widget-view+json": {
       "model_id": "f869b0b3e94348399528f473d29930b2",
       "version_major": 2,
       "version_minor": 0
      },
      "text/plain": [
       "HBox(children=(HTML(value='Validating'), FloatProgress(value=1.0, bar_style='info', layout=Layout(flex='2'), m…"
      ]
     },
     "metadata": {},
     "output_type": "display_data"
    },
    {
     "data": {
      "application/vnd.jupyter.widget-view+json": {
       "model_id": "481b4e7bdfa9468da62e1eea8fe48d7e",
       "version_major": 2,
       "version_minor": 0
      },
      "text/plain": [
       "HBox(children=(HTML(value='Validating'), FloatProgress(value=1.0, bar_style='info', layout=Layout(flex='2'), m…"
      ]
     },
     "metadata": {},
     "output_type": "display_data"
    },
    {
     "data": {
      "application/vnd.jupyter.widget-view+json": {
       "model_id": "0be81e59b6ed48fc80d4a023ea0523e6",
       "version_major": 2,
       "version_minor": 0
      },
      "text/plain": [
       "HBox(children=(HTML(value='Validating'), FloatProgress(value=1.0, bar_style='info', layout=Layout(flex='2'), m…"
      ]
     },
     "metadata": {},
     "output_type": "display_data"
    },
    {
     "data": {
      "application/vnd.jupyter.widget-view+json": {
       "model_id": "216a347990dd47aca01636d30116d202",
       "version_major": 2,
       "version_minor": 0
      },
      "text/plain": [
       "HBox(children=(HTML(value='Validating'), FloatProgress(value=1.0, bar_style='info', layout=Layout(flex='2'), m…"
      ]
     },
     "metadata": {},
     "output_type": "display_data"
    },
    {
     "data": {
      "application/vnd.jupyter.widget-view+json": {
       "model_id": "8a97fce031ae471f9f1de5d2e3682009",
       "version_major": 2,
       "version_minor": 0
      },
      "text/plain": [
       "HBox(children=(HTML(value='Validating'), FloatProgress(value=1.0, bar_style='info', layout=Layout(flex='2'), m…"
      ]
     },
     "metadata": {},
     "output_type": "display_data"
    },
    {
     "data": {
      "application/vnd.jupyter.widget-view+json": {
       "model_id": "5a04b286f9c5473d82e874cb687ad2e3",
       "version_major": 2,
       "version_minor": 0
      },
      "text/plain": [
       "HBox(children=(HTML(value='Validating'), FloatProgress(value=1.0, bar_style='info', layout=Layout(flex='2'), m…"
      ]
     },
     "metadata": {},
     "output_type": "display_data"
    }
   ],
   "source": [
    "#!g1.1\n",
    "trainer.fit(model, train_loader, val_loader)"
   ]
  },
  {
   "cell_type": "code",
   "execution_count": null,
   "id": "80f502a2",
   "metadata": {
    "cellId": "z0jtzcll2zb4jei9x4eev"
   },
   "outputs": [],
   "source": [
    "#!g1.1\n"
   ]
  },
  {
   "cell_type": "code",
   "execution_count": null,
   "id": "7d0454a2",
   "metadata": {
    "cellId": "y0vzh2br046bd0gnxm5pb"
   },
   "outputs": [],
   "source": [
    "#!g1.1\n"
   ]
  },
  {
   "cell_type": "code",
   "execution_count": 55,
   "id": "c2fc0a3f",
   "metadata": {
    "cellId": "394eo8ng5y3anx7d8xtka"
   },
   "outputs": [
    {
     "name": "stderr",
     "output_type": "stream",
     "text": [
      "GPU available: True, used: True\n",
      "TPU available: False, using: 0 TPU cores\n",
      "IPU available: False, using: 0 IPUs\n"
     ]
    },
    {
     "name": "stdout",
     "output_type": "stream",
     "text": [
      "4158\n",
      "462\n"
     ]
    }
   ],
   "source": [
    "#!g1.1\n",
    "\n",
    "AVAIL_GPUS = min(1, torch.cuda.device_count())\n",
    "\n",
    "train_dataset, val_dataset, test_dataset = TrainTestDataset.get_datasets(path=timit_path)\n",
    "\n",
    "train_loader = DataLoader(train_dataset, shuffle=True, batch_size=8, collate_fn = collate_fn)\n",
    "val_loader = DataLoader(val_dataset, shuffle=False, batch_size=8, collate_fn = collate_fn)\n",
    "\n",
    "print(len(train_dataset))\n",
    "print(len(val_dataset))\n",
    "\n",
    "model = FinModel1(config)\n",
    "\n",
    "logger = TensorBoardLogger(\"tb_logs_timit_model_acc_5_ep_200_peak_detection\", name=\"my_model\")\n",
    "\n",
    "checkpoint_callback = ModelCheckpoint(\n",
    "    monitor=\"val_r_metr\",\n",
    "    dirpath=\"./\",\n",
    "    filename=\"timit_model_acc_5_ep_200_peak_detection\",\n",
    "    save_top_k=3,\n",
    "    mode=\"max\",\n",
    ")\n",
    "trainer = Trainer(max_epochs=25,\n",
    "                  gpus=AVAIL_GPUS,\n",
    "                  progress_bar_refresh_rate=1,\n",
    "                  logger=logger,\n",
    "#                   accumulate_grad_batches=accumulate_grad_batches,\n",
    "                  gradient_clip_val=2, \n",
    "                  callbacks=[checkpoint_callback])\n",
    "\n"
   ]
  },
  {
   "cell_type": "code",
   "execution_count": 59,
   "id": "f3e9ddaf",
   "metadata": {
    "cellId": "k3leerg8qvikexhob6rmn"
   },
   "outputs": [
    {
     "name": "stdout",
     "output_type": "stream",
     "text": [
      "Launching TensorBoard...\n"
     ]
    },
    {
     "data": {
      "text/html": [
       "\n",
       "        <iframe id=\"tensorboard-frame-1549b5a8de814ad\" width=\"100%\" height=\"800\" frameborder=\"0\">\n",
       "        </iframe>\n",
       "        <script>\n",
       "        function getCookie(name) {\n",
       "          let matches = document.cookie.match(new RegExp(\n",
       "            \"(?:^|; )\" + name.replace(/([\\.$?*|{}\\(\\)\\[\\]\\\\/\\+^])/g, '\\$1') + \"=([^;]*)\"\n",
       "          ));\n",
       "          return matches ? decodeURIComponent(matches[1]) : undefined;\n",
       "        }\n",
       "        \n",
       "        (function() {\n",
       "            const frame = document.getElementById(\"tensorboard-frame-1549b5a8de814ad\");\n",
       "            const apiUrl = new URL(document.location.href.split('?')[0] + '/../api/tensorboard')\n",
       "            const xsrfToken = getCookie('_xsrf');\n",
       "            \n",
       "            fetch(apiUrl, {\n",
       "                method: 'POST',\n",
       "                mode: 'cors',\n",
       "                cache: 'no-cache',\n",
       "                credentials: 'same-origin',\n",
       "                headers: {\n",
       "                  'Content-Type': 'application/json',\n",
       "                  'X-XSRFToken': xsrfToken\n",
       "                },\n",
       "                redirect: 'follow',\n",
       "                referrerPolicy: 'origin', // no-referrer, *no-referrer-when-downgrade, origin, origin-when-cross-origin, same-origin, strict-origin, strict-origin-when-cross-origin, unsafe-url\n",
       "                body: JSON.stringify({\n",
       "                    'logdir': './tb_logs_timit_model_acc_5_ep_200_peak_detection'\n",
       "                })\n",
       "              }).then(response => {\n",
       "                response.json().then(json => {\n",
       "                    if (json.name != undefined) {\n",
       "                        const tbId = json.name;\n",
       "                        console.debug('tbId = ' + tbId);\n",
       "                        const url = new URL(document.location.href.split('?')[0] + '/../tensorboard/' + tbId);\n",
       "                        frame.src = url;\n",
       "                    }\n",
       "                });\n",
       "              });\n",
       "        })();\n",
       "        </script>\n",
       "        "
      ],
      "text/plain": [
       "<IPython.core.display.HTML object>"
      ]
     },
     "metadata": {},
     "output_type": "display_data"
    }
   ],
   "source": [
    "#!g1.1\n",
    "%tensorboard --logdir ./tb_logs_timit_model_acc_5_ep_200_peak_detection"
   ]
  },
  {
   "cell_type": "code",
   "execution_count": 57,
   "id": "e7bf1ca5",
   "metadata": {
    "cellId": "6v80lxiskp4y8d0uc4ooz"
   },
   "outputs": [
    {
     "data": {
      "application/vnd.jupyter.widget-view+json": {
       "model_id": "c4144f72467c46319b2c3dd2b2ab034f",
       "version_major": 2,
       "version_minor": 0
      },
      "text/plain": [
       "HBox(children=(HTML(value='Validation sanity check'), FloatProgress(value=1.0, bar_style='info', layout=Layout…"
      ]
     },
     "metadata": {},
     "output_type": "display_data"
    },
    {
     "data": {
      "application/vnd.jupyter.widget-view+json": {
       "model_id": "e73fc39fc5ca4f02b1e8c67d31162c83",
       "version_major": 2,
       "version_minor": 0
      },
      "text/plain": [
       "HBox(children=(HTML(value='Training'), FloatProgress(value=1.0, bar_style='info', layout=Layout(flex='2'), max…"
      ]
     },
     "metadata": {},
     "output_type": "display_data"
    },
    {
     "data": {
      "application/vnd.jupyter.widget-view+json": {
       "model_id": "e45f5e10e8874cba83019ba6b357f73c",
       "version_major": 2,
       "version_minor": 0
      },
      "text/plain": [
       "HBox(children=(HTML(value='Validating'), FloatProgress(value=1.0, bar_style='info', layout=Layout(flex='2'), m…"
      ]
     },
     "metadata": {},
     "output_type": "display_data"
    },
    {
     "data": {
      "application/vnd.jupyter.widget-view+json": {
       "model_id": "e9080816842a439cab1ae07beffe5d08",
       "version_major": 2,
       "version_minor": 0
      },
      "text/plain": [
       "HBox(children=(HTML(value='Validating'), FloatProgress(value=1.0, bar_style='info', layout=Layout(flex='2'), m…"
      ]
     },
     "metadata": {},
     "output_type": "display_data"
    },
    {
     "data": {
      "application/vnd.jupyter.widget-view+json": {
       "model_id": "6604603fafe14a84be1cca85d30f81ae",
       "version_major": 2,
       "version_minor": 0
      },
      "text/plain": [
       "HBox(children=(HTML(value='Validating'), FloatProgress(value=1.0, bar_style='info', layout=Layout(flex='2'), m…"
      ]
     },
     "metadata": {},
     "output_type": "display_data"
    },
    {
     "data": {
      "application/vnd.jupyter.widget-view+json": {
       "model_id": "dbecd324ff9d44c086ed32f5733d0678",
       "version_major": 2,
       "version_minor": 0
      },
      "text/plain": [
       "HBox(children=(HTML(value='Validating'), FloatProgress(value=1.0, bar_style='info', layout=Layout(flex='2'), m…"
      ]
     },
     "metadata": {},
     "output_type": "display_data"
    },
    {
     "data": {
      "application/vnd.jupyter.widget-view+json": {
       "model_id": "485bc8c6a8934b308f54a227ea6956d8",
       "version_major": 2,
       "version_minor": 0
      },
      "text/plain": [
       "HBox(children=(HTML(value='Validating'), FloatProgress(value=1.0, bar_style='info', layout=Layout(flex='2'), m…"
      ]
     },
     "metadata": {},
     "output_type": "display_data"
    },
    {
     "data": {
      "application/vnd.jupyter.widget-view+json": {
       "model_id": "02d067f774a44a3b801ba743d335739f",
       "version_major": 2,
       "version_minor": 0
      },
      "text/plain": [
       "HBox(children=(HTML(value='Validating'), FloatProgress(value=1.0, bar_style='info', layout=Layout(flex='2'), m…"
      ]
     },
     "metadata": {},
     "output_type": "display_data"
    },
    {
     "data": {
      "application/vnd.jupyter.widget-view+json": {
       "model_id": "3997846d619f4a7e980d43b74bd672c2",
       "version_major": 2,
       "version_minor": 0
      },
      "text/plain": [
       "HBox(children=(HTML(value='Validating'), FloatProgress(value=1.0, bar_style='info', layout=Layout(flex='2'), m…"
      ]
     },
     "metadata": {},
     "output_type": "display_data"
    },
    {
     "data": {
      "application/vnd.jupyter.widget-view+json": {
       "model_id": "8ef71dd6b9af4c349c5d3c0e4b9e7c85",
       "version_major": 2,
       "version_minor": 0
      },
      "text/plain": [
       "HBox(children=(HTML(value='Validating'), FloatProgress(value=1.0, bar_style='info', layout=Layout(flex='2'), m…"
      ]
     },
     "metadata": {},
     "output_type": "display_data"
    },
    {
     "data": {
      "application/vnd.jupyter.widget-view+json": {
       "model_id": "632486d8f6854adaa99e15931a1e0631",
       "version_major": 2,
       "version_minor": 0
      },
      "text/plain": [
       "HBox(children=(HTML(value='Validating'), FloatProgress(value=1.0, bar_style='info', layout=Layout(flex='2'), m…"
      ]
     },
     "metadata": {},
     "output_type": "display_data"
    },
    {
     "data": {
      "application/vnd.jupyter.widget-view+json": {
       "model_id": "7786b64c02c14754b3c12093308d09f1",
       "version_major": 2,
       "version_minor": 0
      },
      "text/plain": [
       "HBox(children=(HTML(value='Validating'), FloatProgress(value=1.0, bar_style='info', layout=Layout(flex='2'), m…"
      ]
     },
     "metadata": {},
     "output_type": "display_data"
    },
    {
     "data": {
      "application/vnd.jupyter.widget-view+json": {
       "model_id": "01c74df34ddb41c9a10b6180e44588f1",
       "version_major": 2,
       "version_minor": 0
      },
      "text/plain": [
       "HBox(children=(HTML(value='Validation sanity check'), FloatProgress(value=1.0, bar_style='info', layout=Layout…"
      ]
     },
     "metadata": {},
     "output_type": "display_data"
    },
    {
     "data": {
      "application/vnd.jupyter.widget-view+json": {
       "model_id": "3f21eea9e52648bea11fe698b855b28c",
       "version_major": 2,
       "version_minor": 0
      },
      "text/plain": [
       "HBox(children=(HTML(value='Training'), FloatProgress(value=1.0, bar_style='info', layout=Layout(flex='2'), max…"
      ]
     },
     "metadata": {},
     "output_type": "display_data"
    },
    {
     "data": {
      "application/vnd.jupyter.widget-view+json": {
       "model_id": "14735bcf5fb7470fbc9c256c33d59139",
       "version_major": 2,
       "version_minor": 0
      },
      "text/plain": [
       "HBox(children=(HTML(value='Validating'), FloatProgress(value=1.0, bar_style='info', layout=Layout(flex='2'), m…"
      ]
     },
     "metadata": {},
     "output_type": "display_data"
    },
    {
     "data": {
      "application/vnd.jupyter.widget-view+json": {
       "model_id": "51e9081949da442b95d645bb9ab15ea7",
       "version_major": 2,
       "version_minor": 0
      },
      "text/plain": [
       "HBox(children=(HTML(value='Validating'), FloatProgress(value=1.0, bar_style='info', layout=Layout(flex='2'), m…"
      ]
     },
     "metadata": {},
     "output_type": "display_data"
    },
    {
     "name": "stderr",
     "output_type": "stream",
     "text": [
      "LOCAL_RANK: 0 - CUDA_VISIBLE_DEVICES: [0]\n",
      "\n",
      "  | Name            | Type               | Params\n",
      "-------------------------------------------------------\n",
      "0 | conv_encoder    | ConvFeatureEncoder | 1.3 M \n",
      "1 | projection      | Linear             | 16.4 K\n",
      "2 | frame_predictor | NegativeSampler    | 0     \n",
      "3 | segment_mean    | SegmentsRepr       | 0     \n",
      "4 | attention_calc  | AttentionCalc      | 0     \n",
      "5 | metr            | RMetrics           | 0     \n",
      "6 | unsup_loss      | UnsupLoss          | 0     \n",
      "7 | bounds          | GetBound           | 0     \n",
      "-------------------------------------------------------\n",
      "1.3 M     Trainable params\n",
      "0         Non-trainable params\n",
      "1.3 M     Total params\n",
      "5.327     Total estimated model params size (MB)\n",
      "LOCAL_RANK: 0 - CUDA_VISIBLE_DEVICES: [0]\n",
      "\n",
      "  | Name              | Type               | Params\n",
      "---------------------------------------------------------\n",
      "0 | conv_encoder      | ConvFeatureEncoder | 1.3 M \n",
      "1 | frame_predictor   | NegativeSampler    | 0     \n",
      "2 | segment_mean      | SegmentsRepr       | 0     \n",
      "3 | attention_calc    | AttentionCalc      | 0     \n",
      "4 | segment_encoder   | SegmentsEncoder    | 131 K \n",
      "5 | segment_recurrent | SegmentPredictor   | 78.5 K\n",
      "6 | segment_predictor | NegativeSampler    | 0     \n",
      "7 | metr              | RMetrics           | 0     \n",
      "---------------------------------------------------------\n",
      "1.5 M     Trainable params\n",
      "0         Non-trainable params\n",
      "1.5 M     Total params\n",
      "6.102     Total estimated model params size (MB)\n",
      "LOCAL_RANK: 0 - CUDA_VISIBLE_DEVICES: [0]\n",
      "\n",
      "  | Name            | Type               | Params\n",
      "-------------------------------------------------------\n",
      "0 | conv_encoder    | ConvFeatureEncoder | 1.3 M \n",
      "1 | projection      | Linear             | 16.4 K\n",
      "2 | frame_predictor | NegativeSampler    | 0     \n",
      "3 | segment_mean    | SegmentsRepr       | 0     \n",
      "4 | attention_calc  | AttentionCalc      | 0     \n",
      "5 | metr            | RMetrics           | 0     \n",
      "6 | unsup_loss      | UnsupLoss          | 0     \n",
      "7 | bounds          | GetBound           | 0     \n",
      "-------------------------------------------------------\n",
      "1.3 M     Trainable params\n",
      "0         Non-trainable params\n",
      "1.3 M     Total params\n",
      "5.327     Total estimated model params size (MB)\n"
     ]
    },
    {
     "data": {
      "application/vnd.jupyter.widget-view+json": {
       "model_id": "0fa520f58ad74a2fa42b5fa81eb68f3e",
       "version_major": 2,
       "version_minor": 0
      },
      "text/plain": [
       "HBox(children=(HTML(value='Validation sanity check'), FloatProgress(value=1.0, bar_style='info', layout=Layout…"
      ]
     },
     "metadata": {},
     "output_type": "display_data"
    },
    {
     "data": {
      "application/vnd.jupyter.widget-view+json": {
       "model_id": "7b7a828949d345569387da64e7754d3a",
       "version_major": 2,
       "version_minor": 0
      },
      "text/plain": [
       "HBox(children=(HTML(value='Training'), FloatProgress(value=1.0, bar_style='info', layout=Layout(flex='2'), max…"
      ]
     },
     "metadata": {},
     "output_type": "display_data"
    },
    {
     "data": {
      "application/vnd.jupyter.widget-view+json": {
       "model_id": "95aed48b9cf641c3a8ecf829630ff514",
       "version_major": 2,
       "version_minor": 0
      },
      "text/plain": [
       "HBox(children=(HTML(value='Validating'), FloatProgress(value=1.0, bar_style='info', layout=Layout(flex='2'), m…"
      ]
     },
     "metadata": {},
     "output_type": "display_data"
    },
    {
     "data": {
      "application/vnd.jupyter.widget-view+json": {
       "model_id": "dfbd3934e1ac45c1a5c095497f435cd5",
       "version_major": 2,
       "version_minor": 0
      },
      "text/plain": [
       "HBox(children=(HTML(value='Validating'), FloatProgress(value=1.0, bar_style='info', layout=Layout(flex='2'), m…"
      ]
     },
     "metadata": {},
     "output_type": "display_data"
    },
    {
     "data": {
      "application/vnd.jupyter.widget-view+json": {
       "model_id": "b1c9a08d3f14410486a545f3a4b7a36a",
       "version_major": 2,
       "version_minor": 0
      },
      "text/plain": [
       "HBox(children=(HTML(value='Validating'), FloatProgress(value=1.0, bar_style='info', layout=Layout(flex='2'), m…"
      ]
     },
     "metadata": {},
     "output_type": "display_data"
    },
    {
     "data": {
      "application/vnd.jupyter.widget-view+json": {
       "model_id": "a4463ef816eb40fa85c9997a03a900f1",
       "version_major": 2,
       "version_minor": 0
      },
      "text/plain": [
       "HBox(children=(HTML(value='Validating'), FloatProgress(value=1.0, bar_style='info', layout=Layout(flex='2'), m…"
      ]
     },
     "metadata": {},
     "output_type": "display_data"
    },
    {
     "data": {
      "application/vnd.jupyter.widget-view+json": {
       "model_id": "95eef4b406a34759a9068b09253ede4b",
       "version_major": 2,
       "version_minor": 0
      },
      "text/plain": [
       "HBox(children=(HTML(value='Validating'), FloatProgress(value=1.0, bar_style='info', layout=Layout(flex='2'), m…"
      ]
     },
     "metadata": {},
     "output_type": "display_data"
    },
    {
     "data": {
      "application/vnd.jupyter.widget-view+json": {
       "model_id": "54f9dddf4bdc4a00947a8510a309b628",
       "version_major": 2,
       "version_minor": 0
      },
      "text/plain": [
       "HBox(children=(HTML(value='Validating'), FloatProgress(value=1.0, bar_style='info', layout=Layout(flex='2'), m…"
      ]
     },
     "metadata": {},
     "output_type": "display_data"
    },
    {
     "data": {
      "application/vnd.jupyter.widget-view+json": {
       "model_id": "c59e4591cd1747c2910cfa514d89abd4",
       "version_major": 2,
       "version_minor": 0
      },
      "text/plain": [
       "HBox(children=(HTML(value='Validating'), FloatProgress(value=1.0, bar_style='info', layout=Layout(flex='2'), m…"
      ]
     },
     "metadata": {},
     "output_type": "display_data"
    },
    {
     "data": {
      "application/vnd.jupyter.widget-view+json": {
       "model_id": "49ce580b9ca247f187d261b676379662",
       "version_major": 2,
       "version_minor": 0
      },
      "text/plain": [
       "HBox(children=(HTML(value='Validating'), FloatProgress(value=1.0, bar_style='info', layout=Layout(flex='2'), m…"
      ]
     },
     "metadata": {},
     "output_type": "display_data"
    },
    {
     "data": {
      "application/vnd.jupyter.widget-view+json": {
       "model_id": "ef57ce192bde44b3ab0b65aae18a0208",
       "version_major": 2,
       "version_minor": 0
      },
      "text/plain": [
       "HBox(children=(HTML(value='Validating'), FloatProgress(value=1.0, bar_style='info', layout=Layout(flex='2'), m…"
      ]
     },
     "metadata": {},
     "output_type": "display_data"
    },
    {
     "data": {
      "application/vnd.jupyter.widget-view+json": {
       "model_id": "4cb621bf9ad54d8c8d5bea91d7ca3696",
       "version_major": 2,
       "version_minor": 0
      },
      "text/plain": [
       "HBox(children=(HTML(value='Validating'), FloatProgress(value=1.0, bar_style='info', layout=Layout(flex='2'), m…"
      ]
     },
     "metadata": {},
     "output_type": "display_data"
    },
    {
     "data": {
      "application/vnd.jupyter.widget-view+json": {
       "model_id": "3afffbe7488f430183598e97dd6ca6fb",
       "version_major": 2,
       "version_minor": 0
      },
      "text/plain": [
       "HBox(children=(HTML(value='Validating'), FloatProgress(value=1.0, bar_style='info', layout=Layout(flex='2'), m…"
      ]
     },
     "metadata": {},
     "output_type": "display_data"
    },
    {
     "data": {
      "application/vnd.jupyter.widget-view+json": {
       "model_id": "e4634e04809f4125b5e8f8158d5782b3",
       "version_major": 2,
       "version_minor": 0
      },
      "text/plain": [
       "HBox(children=(HTML(value='Validating'), FloatProgress(value=1.0, bar_style='info', layout=Layout(flex='2'), m…"
      ]
     },
     "metadata": {},
     "output_type": "display_data"
    },
    {
     "data": {
      "application/vnd.jupyter.widget-view+json": {
       "model_id": "bc0eaef346f14292b3d740efb92e233c",
       "version_major": 2,
       "version_minor": 0
      },
      "text/plain": [
       "HBox(children=(HTML(value='Validating'), FloatProgress(value=1.0, bar_style='info', layout=Layout(flex='2'), m…"
      ]
     },
     "metadata": {},
     "output_type": "display_data"
    },
    {
     "data": {
      "application/vnd.jupyter.widget-view+json": {
       "model_id": "98d8f58730ea481290aea79cbf8e08c6",
       "version_major": 2,
       "version_minor": 0
      },
      "text/plain": [
       "HBox(children=(HTML(value='Validating'), FloatProgress(value=1.0, bar_style='info', layout=Layout(flex='2'), m…"
      ]
     },
     "metadata": {},
     "output_type": "display_data"
    },
    {
     "data": {
      "application/vnd.jupyter.widget-view+json": {
       "model_id": "6eb60d26a30d4838884aed9ccae6d32c",
       "version_major": 2,
       "version_minor": 0
      },
      "text/plain": [
       "HBox(children=(HTML(value='Validating'), FloatProgress(value=1.0, bar_style='info', layout=Layout(flex='2'), m…"
      ]
     },
     "metadata": {},
     "output_type": "display_data"
    },
    {
     "data": {
      "application/vnd.jupyter.widget-view+json": {
       "model_id": "e4458e016eea4c2c883666df2b64b8be",
       "version_major": 2,
       "version_minor": 0
      },
      "text/plain": [
       "HBox(children=(HTML(value='Validating'), FloatProgress(value=1.0, bar_style='info', layout=Layout(flex='2'), m…"
      ]
     },
     "metadata": {},
     "output_type": "display_data"
    },
    {
     "data": {
      "application/vnd.jupyter.widget-view+json": {
       "model_id": "0e5bbb5cf73848d9a14efb3ee806589c",
       "version_major": 2,
       "version_minor": 0
      },
      "text/plain": [
       "HBox(children=(HTML(value='Validating'), FloatProgress(value=1.0, bar_style='info', layout=Layout(flex='2'), m…"
      ]
     },
     "metadata": {},
     "output_type": "display_data"
    },
    {
     "data": {
      "application/vnd.jupyter.widget-view+json": {
       "model_id": "1bead5501459465b83a2e39c9c8f80b9",
       "version_major": 2,
       "version_minor": 0
      },
      "text/plain": [
       "HBox(children=(HTML(value='Validating'), FloatProgress(value=1.0, bar_style='info', layout=Layout(flex='2'), m…"
      ]
     },
     "metadata": {},
     "output_type": "display_data"
    },
    {
     "data": {
      "application/vnd.jupyter.widget-view+json": {
       "model_id": "8fec3ca76ebd4eafb8bc851909eae18c",
       "version_major": 2,
       "version_minor": 0
      },
      "text/plain": [
       "HBox(children=(HTML(value='Validating'), FloatProgress(value=1.0, bar_style='info', layout=Layout(flex='2'), m…"
      ]
     },
     "metadata": {},
     "output_type": "display_data"
    },
    {
     "data": {
      "application/vnd.jupyter.widget-view+json": {
       "model_id": "3b84014aa001489a825bc51a8b979e51",
       "version_major": 2,
       "version_minor": 0
      },
      "text/plain": [
       "HBox(children=(HTML(value='Validating'), FloatProgress(value=1.0, bar_style='info', layout=Layout(flex='2'), m…"
      ]
     },
     "metadata": {},
     "output_type": "display_data"
    },
    {
     "data": {
      "application/vnd.jupyter.widget-view+json": {
       "model_id": "ae21cb42a7dd4a8db9aea06bb24e2569",
       "version_major": 2,
       "version_minor": 0
      },
      "text/plain": [
       "HBox(children=(HTML(value='Validating'), FloatProgress(value=1.0, bar_style='info', layout=Layout(flex='2'), m…"
      ]
     },
     "metadata": {},
     "output_type": "display_data"
    },
    {
     "data": {
      "application/vnd.jupyter.widget-view+json": {
       "model_id": "f1257f32dbc8486aac864aea99428758",
       "version_major": 2,
       "version_minor": 0
      },
      "text/plain": [
       "HBox(children=(HTML(value='Validating'), FloatProgress(value=1.0, bar_style='info', layout=Layout(flex='2'), m…"
      ]
     },
     "metadata": {},
     "output_type": "display_data"
    },
    {
     "data": {
      "application/vnd.jupyter.widget-view+json": {
       "model_id": "bd8ee7074a2d432687a8712f7d986e8b",
       "version_major": 2,
       "version_minor": 0
      },
      "text/plain": [
       "HBox(children=(HTML(value='Validating'), FloatProgress(value=1.0, bar_style='info', layout=Layout(flex='2'), m…"
      ]
     },
     "metadata": {},
     "output_type": "display_data"
    },
    {
     "data": {
      "application/vnd.jupyter.widget-view+json": {
       "model_id": "064c9fea33d94075b6b87a255974c1af",
       "version_major": 2,
       "version_minor": 0
      },
      "text/plain": [
       "HBox(children=(HTML(value='Validating'), FloatProgress(value=1.0, bar_style='info', layout=Layout(flex='2'), m…"
      ]
     },
     "metadata": {},
     "output_type": "display_data"
    },
    {
     "data": {
      "application/vnd.jupyter.widget-view+json": {
       "model_id": "26530e7039ba4b309738d5f2e0f74981",
       "version_major": 2,
       "version_minor": 0
      },
      "text/plain": [
       "HBox(children=(HTML(value='Validating'), FloatProgress(value=1.0, bar_style='info', layout=Layout(flex='2'), m…"
      ]
     },
     "metadata": {},
     "output_type": "display_data"
    },
    {
     "name": "stdout",
     "output_type": "stream",
     "text": [
      "optimizer: Adam (\n",
      "Parameter Group 0\n",
      "    amsgrad: False\n",
      "    betas: (0.9, 0.999)\n",
      "    eps: 1e-08\n",
      "    lr: 0.0001\n",
      "    weight_decay: 0.0005\n",
      ")\n",
      "optimizer: Adam (\n",
      "Parameter Group 0\n",
      "    amsgrad: False\n",
      "    betas: (0.9, 0.999)\n",
      "    eps: 1e-08\n",
      "    lr: 0.0001\n",
      "    weight_decay: 0.0005\n",
      ")\n",
      "optimizer: Adam (\n",
      "Parameter Group 0\n",
      "    amsgrad: False\n",
      "    betas: (0.9, 0.999)\n",
      "    eps: 1e-08\n",
      "    lr: 0.0001\n",
      "    weight_decay: 0.0005\n",
      ")\n",
      "\n",
      "\n"
     ]
    }
   ],
   "source": [
    "#!g1.1\n",
    "trainer.fit(model, train_loader, val_loader)"
   ]
  },
  {
   "cell_type": "code",
   "execution_count": null,
   "id": "eb398710",
   "metadata": {
    "cellId": "yge1t29mvdpxstie4tpurf"
   },
   "outputs": [],
   "source": [
    "#!g1.1\n"
   ]
  },
  {
   "cell_type": "code",
   "execution_count": null,
   "id": "e3c1a88a",
   "metadata": {
    "cellId": "naylmw00yzm4nxuxd4og18"
   },
   "outputs": [],
   "source": [
    "#!g1.1\n"
   ]
  },
  {
   "cell_type": "code",
   "execution_count": 3,
   "id": "6bd181ee",
   "metadata": {
    "cellId": "e98xixdlkuijbwxpzsm6b8"
   },
   "outputs": [],
   "source": [
    "#!g1.1\n",
    "import json\n",
    "import os\n",
    "import torch\n",
    "from tqdm import tqdm\n",
    "import scipy.io.wavfile as wav\n",
    "\n",
    "from torch import nn\n",
    "import torch.nn.functional as F\n",
    "from torch import optim\n",
    "from torch.utils.data import Dataset, DataLoader, Sampler\n",
    "from torch.utils.tensorboard import SummaryWriter\n",
    "\n",
    "import numpy as np\n",
    "import torchaudio"
   ]
  },
  {
   "cell_type": "code",
   "execution_count": 4,
   "id": "8d9d3b25",
   "metadata": {
    "cellId": "7gj1hhtnmx5iwgz3yhncqm"
   },
   "outputs": [],
   "source": [
    "#!g1.1\n",
    "import transformers\n",
    "import json\n",
    "from torch.utils.data import Dataset, DataLoader, Sampler\n",
    "import os"
   ]
  },
  {
   "cell_type": "code",
   "execution_count": 5,
   "id": "81aa0f5c",
   "metadata": {
    "cellId": "epavv92votsrvbxfh290q"
   },
   "outputs": [],
   "source": [
    "#!g1.1\n",
    "from models import ConvFeatureEncoder, SegmentsRepr, SegmentsEncoder, NegativeSampler, SegmentPredictor, FinModel\n",
    "from utils import ConstrativeLoss, sample_negatives"
   ]
  },
  {
   "cell_type": "code",
   "execution_count": 6,
   "id": "6a4ce8be",
   "metadata": {
    "cellId": "ivdiakp1inm1y6y2arrz4d"
   },
   "outputs": [],
   "source": [
    "#!g1.1\n",
    "from model_transformers import SegmentTransformer\n",
    "from pytorch_lightning import Trainer\n",
    "from pytorch_lightning.loggers import TensorBoardLogger\n",
    "from pytorch_lightning.callbacks import EarlyStopping, ModelCheckpoint"
   ]
  },
  {
   "cell_type": "code",
   "execution_count": 7,
   "id": "7feca134",
   "metadata": {
    "cellId": "rgj3tizmh2ke7ehf4c78q"
   },
   "outputs": [],
   "source": [
    "#!g1.1\n",
    "import torch\n",
    "import torch.nn as nn\n",
    "import torch.nn.functional as F\n",
    "from torch.utils.data import DataLoader, Dataset\n",
    "torch.multiprocessing.set_sharing_strategy('file_system')\n",
    "from tqdm import tqdm\n",
    "import numpy as np\n",
    "import os\n",
    "from os.path import join, basename\n",
    "from boltons.fileutils import iter_find_files\n",
    "import soundfile as sf\n",
    "import librosa\n",
    "import pickle\n",
    "from multiprocessing import Pool\n",
    "import random\n",
    "import torchaudio\n",
    "import math\n",
    "from torchaudio.datasets import LIBRISPEECH"
   ]
  },
  {
   "cell_type": "code",
   "execution_count": 8,
   "id": "27d14e21",
   "metadata": {
    "cellId": "7k8h0jgbjqpx4vbii3di5"
   },
   "outputs": [
    {
     "data": {
      "text/plain": [
       "'4.14.0'"
      ]
     },
     "execution_count": 8,
     "metadata": {},
     "output_type": "execute_result"
    }
   ],
   "source": [
    "#!g1.1\n",
    "transformers.__version__"
   ]
  },
  {
   "cell_type": "code",
   "execution_count": 9,
   "id": "e20b08ed",
   "metadata": {
    "cellId": "4q9j2wgry0s07rwq2pkytn"
   },
   "outputs": [
    {
     "data": {
      "text/plain": [
       "<torch._C.Generator at 0x7f5c62930b50>"
      ]
     },
     "execution_count": 9,
     "metadata": {},
     "output_type": "execute_result"
    }
   ],
   "source": [
    "#!g1.1\n",
    "torch.manual_seed(0)"
   ]
  },
  {
   "cell_type": "code",
   "execution_count": 10,
   "id": "ba73b333",
   "metadata": {
    "cellId": "z1clpy6saiphm4if90o3za"
   },
   "outputs": [],
   "source": [
    "#!g1.1\n"
   ]
  },
  {
   "cell_type": "code",
   "execution_count": 11,
   "id": "1ddc38c8",
   "metadata": {
    "cellId": "7t40ndkm26cfnv4g2as0ds"
   },
   "outputs": [],
   "source": [
    "#!g1.1\n",
    "# Данный класс основан на https://github.com/felixkreuk/UnsupSeg/blob/master/dataloader.py\n",
    "\n",
    "class WavPhnDataset(Dataset):\n",
    "    def __init__(self, path):\n",
    "        self.path = path\n",
    "        self.data = list(iter_find_files(self.path, \"*.wav\"))\n",
    "        super(WavPhnDataset, self).__init__()\n",
    "\n",
    "    @staticmethod\n",
    "    def get_datasets(path):\n",
    "        raise NotImplementedError\n",
    "\n",
    "    def process_file(self, wav_path):\n",
    "        phn_path = wav_path.replace(\"WAV.wav\", \"PHN\")\n",
    "\n",
    "        # load audio\n",
    "        audio, sr = torchaudio.load(wav_path)\n",
    "        audio = audio[0]\n",
    "        audio_len = len(audio)\n",
    "        \n",
    "        filetext_id = phn_path.replace('.PHN', '.txt').replace('./', ''). replace('/', '_')\n",
    "        \n",
    "        # load labels -- segmentation and phonemes\n",
    "        with open(phn_path, \"r\") as f:\n",
    "            lines = f.readlines()\n",
    "            lines = list(map(lambda line: line.split(\" \"), lines))\n",
    "\n",
    "            # get segment times\n",
    "            times = torch.FloatTensor(list(map(lambda line: int(line[1])/16000, lines)))[:-1]\n",
    "            \n",
    "            # get phonemes in each segment\n",
    "            phonemes = list(map(lambda line: line[2].strip(), lines))\n",
    "\n",
    "        return audio, times.tolist(), phonemes, wav_path, phn_path, filetext_id\n",
    "\n",
    "    def __getitem__(self, idx):\n",
    "        signal, seg, phonemes, fname, segment_file, filetext_id = self.process_file(self.data[idx])\n",
    "        \n",
    "        return {'audio_file':fname, \n",
    "                'segment_file':segment_file, \n",
    "                'id':filetext_id, \n",
    "                'sample': signal, \n",
    "                'length': len(signal), 'boundaries': seg}\n",
    "\n",
    "    def __len__(self):\n",
    "        return len(self.data)"
   ]
  },
  {
   "cell_type": "code",
   "execution_count": 12,
   "id": "b65361c4",
   "metadata": {
    "cellId": "26gfclvxgojhq7tbrrmddfo"
   },
   "outputs": [],
   "source": [
    "#!g1.1\n",
    "# Данный класс основан на https://github.com/felixkreuk/UnsupSeg/blob/master/dataloader.py\n",
    "\n",
    "class TrainTestDataset(WavPhnDataset):\n",
    "    def __init__(self, path):\n",
    "        super(TrainTestDataset, self).__init__(path)\n",
    "\n",
    "    @staticmethod\n",
    "    def get_datasets(path, val_ratio=0.1):\n",
    "        train_dataset = TrainTestDataset(os.path.join(path, 'TRAIN'))\n",
    "        test_dataset  = TrainTestDataset(os.path.join(path, 'TEST'))\n",
    "\n",
    "        train_len   = len(train_dataset)\n",
    "        train_split = int(train_len * (1 - val_ratio))\n",
    "        val_split   = train_len - train_split\n",
    "        train_dataset, val_dataset = torch.utils.data.random_split(train_dataset, [train_split, val_split])\n",
    "\n",
    "        train_dataset.path = os.path.join(path, 'train')\n",
    "        val_dataset.path = os.path.join(path, 'train')\n",
    "\n",
    "        return train_dataset, val_dataset, test_dataset"
   ]
  },
  {
   "cell_type": "code",
   "execution_count": 13,
   "id": "3aef6c55",
   "metadata": {
    "cellId": "3mqctvgcrowtizswciog3p"
   },
   "outputs": [],
   "source": [
    "#!g1.1\n",
    "def collate_fn(samples):\n",
    "    \n",
    "    max_length = max([sample['length'] for sample in samples])\n",
    "    boundaries = [sample['boundaries'] for sample in samples]\n",
    "    samples1 = []\n",
    "    lengths = []\n",
    "    samplings = []\n",
    "    attentions = []\n",
    "    for sample in samples:\n",
    "        to_add_l = max_length-sample['length']\n",
    "        sample1 = list(sample['sample'])+[0]*to_add_l\n",
    "        samples1.append(torch.Tensor(sample1).unsqueeze(0))\n",
    "        lengths.append(sample['length'])\n",
    "        att_norm = torch.ones(size = (1, sample['length']))\n",
    "        att_add = torch.zeros(size = (1, to_add_l))\n",
    "        att = torch.cat([att_norm, att_add], dim = -1)\n",
    "        attentions.append(att)\n",
    "        \n",
    "    batch = torch.cat(samples1)\n",
    "    lengths = torch.Tensor(lengths)\n",
    "    attention_mask = torch.cat(attentions, dim = 0)\n",
    "    \n",
    "    return dict(batch=batch, lengths=lengths, attention_mask=attention_mask, boundaries=boundaries)"
   ]
  },
  {
   "cell_type": "code",
   "execution_count": 14,
   "id": "8d6473e0",
   "metadata": {
    "cellId": "dnl1am9o8hw0te3wk9bzyq"
   },
   "outputs": [],
   "source": [
    "#!g1.1\n",
    "timit_path = './timit/data'"
   ]
  },
  {
   "cell_type": "code",
   "execution_count": 15,
   "id": "9e0db427",
   "metadata": {
    "cellId": "k38y6bw7udej8nl9yt9nws"
   },
   "outputs": [],
   "source": [
    "#!g1.1\n",
    "train_dataset, val_dataset, test_dataset = TrainTestDataset.get_datasets(path=timit_path)"
   ]
  },
  {
   "cell_type": "code",
   "execution_count": 16,
   "id": "0923d8b6",
   "metadata": {
    "cellId": "y6d6gaenl1kiofqpx0fz4g"
   },
   "outputs": [],
   "source": [
    "#!g1.1\n",
    "train_loader = DataLoader(train_dataset, shuffle=True, batch_size=8, collate_fn = collate_fn)\n",
    "val_loader = DataLoader(val_dataset, shuffle=False, batch_size=8, collate_fn = collate_fn)"
   ]
  },
  {
   "cell_type": "code",
   "execution_count": 17,
   "id": "7abbcd57",
   "metadata": {
    "cellId": "5e6ehynhaeh94p0u8erqsn"
   },
   "outputs": [],
   "source": [
    "#!g1.1\n"
   ]
  },
  {
   "cell_type": "code",
   "execution_count": 18,
   "id": "68aa55a1",
   "metadata": {
    "cellId": "0cfhnccn9p9y0exp9vyu2"
   },
   "outputs": [],
   "source": [
    "#!g1.1\n",
    "accumulate_grad_batches = 1"
   ]
  },
  {
   "cell_type": "code",
   "execution_count": 19,
   "id": "e7c675b4",
   "metadata": {
    "cellId": "nlkji9ow8znwyjz620aw"
   },
   "outputs": [],
   "source": [
    "#!g1.1\n",
    "cfg = {'model_path':\"facebook/wav2vec2-base-960h\",\n",
    "       'mask': False,\n",
    "       'optimizer': \"adam\",\n",
    "       'momentum': 0.9,\n",
    "'learning_rate': 0.0001*accumulate_grad_batches,\n",
    "'lr_anneal_gamma': 1.0,\n",
    "'lr_anneal_step': 1000,\n",
    "'epochs': 20,\n",
    "'grad_clip': 2,\n",
    "'batch_size': 8,\n",
    "\n",
    "'conv_args': {},\n",
    "'mask_args': {},\n",
    "'segm_enc_args': {},\n",
    "'segm_predictor_args': {},\n",
    "'loss_args': {\"n_negatives\": 1, \"loss_args\": {\"reduction\": \"mean\"}},\n",
    "'num_epoch': 2}"
   ]
  },
  {
   "cell_type": "code",
   "execution_count": 20,
   "id": "197b87a0",
   "metadata": {
    "cellId": "9pwbgn1tms9suga0fdn92f"
   },
   "outputs": [],
   "source": [
    "#!g1.1\n",
    "class Conf:\n",
    "    def __init__(self, my_dict):\n",
    "        for key, value in my_dict.items():\n",
    "            setattr(self, key, value)\n",
    "            \n",
    "config = Conf(cfg)"
   ]
  },
  {
   "cell_type": "code",
   "execution_count": 21,
   "id": "4db4dc43",
   "metadata": {
    "cellId": "waw6bj93f2h20fp41dty04"
   },
   "outputs": [],
   "source": [
    "#!g1.1\n",
    "import warnings\n",
    "warnings.filterwarnings(\"ignore\")\n",
    "from collections import OrderedDict"
   ]
  },
  {
   "cell_type": "code",
   "execution_count": 22,
   "id": "3684cf82",
   "metadata": {
    "cellId": "9r9ador965mxqubhxkc9m"
   },
   "outputs": [
    {
     "data": {
      "application/vnd.jupyter.widget-view+json": {
       "model_id": "47571f2580c04c3fae9cb648586227c5",
       "version_major": 2,
       "version_minor": 0
      },
      "text/plain": [
       "HBox(children=(HTML(value='Downloading'), FloatProgress(value=0.0, max=1596.0), HTML(value='')))"
      ]
     },
     "metadata": {},
     "output_type": "display_data"
    },
    {
     "data": {
      "application/vnd.jupyter.widget-view+json": {
       "model_id": "71469214a176483cb7c80e3d81651f41",
       "version_major": 2,
       "version_minor": 0
      },
      "text/plain": [
       "HBox(children=(HTML(value='Downloading'), FloatProgress(value=0.0, max=377667514.0), HTML(value='')))"
      ]
     },
     "metadata": {},
     "output_type": "display_data"
    },
    {
     "name": "stdout",
     "output_type": "stream",
     "text": [
      "\n",
      "\n"
     ]
    },
    {
     "name": "stderr",
     "output_type": "stream",
     "text": [
      "Some weights of the model checkpoint at facebook/wav2vec2-base-960h were not used when initializing Wav2Vec2ModelForSegmentation: ['lm_head.weight', 'lm_head.bias']\n",
      "- This IS expected if you are initializing Wav2Vec2ModelForSegmentation from the checkpoint of a model trained on another task or with another architecture (e.g. initializing a BertForSequenceClassification model from a BertForPreTraining model).\n",
      "- This IS NOT expected if you are initializing Wav2Vec2ModelForSegmentation from the checkpoint of a model that you expect to be exactly identical (initializing a BertForSequenceClassification model from a BertForSequenceClassification model).\n",
      "Some weights of Wav2Vec2ModelForSegmentation were not initialized from the model checkpoint at facebook/wav2vec2-base-960h and are newly initialized: ['wav2vec2.project_back.bias', 'wav2vec2.masked_spec_embed', 'wav2vec2.project_back.weight']\n",
      "You should probably TRAIN this model on a down-stream task to be able to use it for predictions and inference.\n",
      "GPU available: True, used: True\n",
      "TPU available: False, using: 0 TPU cores\n",
      "IPU available: False, using: 0 IPUs\n"
     ]
    }
   ],
   "source": [
    "#!g1.1\n",
    "AVAIL_GPUS = min(1, torch.cuda.device_count())\n",
    "\n",
    "train_dataset, val_dataset, test_dataset = TrainTestDataset.get_datasets(path=timit_path)\n",
    "\n",
    "train_loader = DataLoader(train_dataset, shuffle=True, batch_size=8, collate_fn = collate_fn)\n",
    "val_loader = DataLoader(val_dataset, shuffle=False, batch_size=8, collate_fn = collate_fn)\n",
    "\n",
    "model = SegmentTransformer(config)\n",
    "\n",
    "logger = TensorBoardLogger(\"timit_r_val_negs1_new_repr\", name=\"my_model\")\n",
    "\n",
    "checkpoint_callback = ModelCheckpoint(\n",
    "    monitor=\"val_r_metr\",\n",
    "    dirpath=\"./\",\n",
    "    filename=\"timit_r_val_negs1_new_repr\",\n",
    "    save_top_k=3,\n",
    "    mode=\"max\",\n",
    ")\n",
    "trainer = Trainer(max_epochs=25,\n",
    "                  gpus=AVAIL_GPUS,\n",
    "                  progress_bar_refresh_rate=1,\n",
    "                  logger=logger,\n",
    "#                   accumulate_grad_batches=accumulate_grad_batches,\n",
    "                  gradient_clip_val=2, \n",
    "                  callbacks=[checkpoint_callback])\n"
   ]
  },
  {
   "cell_type": "code",
   "execution_count": 25,
   "id": "d0551016",
   "metadata": {
    "cellId": "yhqlykhuysnfs1b74u7eck"
   },
   "outputs": [
    {
     "name": "stdout",
     "output_type": "stream",
     "text": [
      "Launching TensorBoard...\n"
     ]
    },
    {
     "data": {
      "text/html": [
       "\n",
       "        <iframe id=\"tensorboard-frame-fe2ebe04b01d1983\" width=\"100%\" height=\"800\" frameborder=\"0\">\n",
       "        </iframe>\n",
       "        <script>\n",
       "        function getCookie(name) {\n",
       "          let matches = document.cookie.match(new RegExp(\n",
       "            \"(?:^|; )\" + name.replace(/([\\.$?*|{}\\(\\)\\[\\]\\\\/\\+^])/g, '\\$1') + \"=([^;]*)\"\n",
       "          ));\n",
       "          return matches ? decodeURIComponent(matches[1]) : undefined;\n",
       "        }\n",
       "        \n",
       "        (function() {\n",
       "            const frame = document.getElementById(\"tensorboard-frame-fe2ebe04b01d1983\");\n",
       "            const apiUrl = new URL(document.location.href.split('?')[0] + '/../api/tensorboard')\n",
       "            const xsrfToken = getCookie('_xsrf');\n",
       "            \n",
       "            fetch(apiUrl, {\n",
       "                method: 'POST',\n",
       "                mode: 'cors',\n",
       "                cache: 'no-cache',\n",
       "                credentials: 'same-origin',\n",
       "                headers: {\n",
       "                  'Content-Type': 'application/json',\n",
       "                  'X-XSRFToken': xsrfToken\n",
       "                },\n",
       "                redirect: 'follow',\n",
       "                referrerPolicy: 'origin', // no-referrer, *no-referrer-when-downgrade, origin, origin-when-cross-origin, same-origin, strict-origin, strict-origin-when-cross-origin, unsafe-url\n",
       "                body: JSON.stringify({\n",
       "                    'logdir': './timit_r_val_negs1_new_repr'\n",
       "                })\n",
       "              }).then(response => {\n",
       "                response.json().then(json => {\n",
       "                    if (json.name != undefined) {\n",
       "                        const tbId = json.name;\n",
       "                        console.debug('tbId = ' + tbId);\n",
       "                        const url = new URL(document.location.href.split('?')[0] + '/../tensorboard/' + tbId);\n",
       "                        frame.src = url;\n",
       "                    }\n",
       "                });\n",
       "              });\n",
       "        })();\n",
       "        </script>\n",
       "        "
      ],
      "text/plain": [
       "<IPython.core.display.HTML object>"
      ]
     },
     "metadata": {},
     "output_type": "display_data"
    }
   ],
   "source": [
    "#!g1.1\n",
    "%tensorboard --logdir ./timit_r_val_negs1_new_repr"
   ]
  },
  {
   "cell_type": "code",
   "execution_count": 24,
   "id": "9e3607a1",
   "metadata": {
    "cellId": "pidqgmnfh7f1f7jsn8t58",
    "execution_id": "052e64d3-f4ef-4848-b7bb-f7d68929c8de"
   },
   "outputs": [
    {
     "name": "stderr",
     "output_type": "stream",
     "text": [
      "LOCAL_RANK: 0 - CUDA_VISIBLE_DEVICES: [0]\n",
      "\n",
      "  | Name         | Type                         | Params\n",
      "--------------------------------------------------------------\n",
      "0 | wav2vec_segm | Wav2Vec2ModelForSegmentation | 94.5 M\n",
      "--------------------------------------------------------------\n",
      "94.5 M    Trainable params\n",
      "0         Non-trainable params\n",
      "94.5 M    Total params\n",
      "378.013   Total estimated model params size (MB)\n"
     ]
    },
    {
     "data": {
      "application/vnd.jupyter.widget-view+json": {
       "model_id": "05df83b85cd449368aa0c916016ec1f2",
       "version_major": 2,
       "version_minor": 0
      },
      "text/plain": [
       "HBox(children=(HTML(value='Validation sanity check'), FloatProgress(value=1.0, bar_style='info', layout=Layout…"
      ]
     },
     "metadata": {},
     "output_type": "display_data"
    },
    {
     "data": {
      "application/vnd.jupyter.widget-view+json": {
       "model_id": "049f79aca0c2450c970afa1bef003e41",
       "version_major": 2,
       "version_minor": 0
      },
      "text/plain": [
       "HBox(children=(HTML(value='Training'), FloatProgress(value=1.0, bar_style='info', layout=Layout(flex='2'), max…"
      ]
     },
     "metadata": {},
     "output_type": "display_data"
    },
    {
     "data": {
      "application/vnd.jupyter.widget-view+json": {
       "model_id": "38cce447967647dc80c9435474c6997d",
       "version_major": 2,
       "version_minor": 0
      },
      "text/plain": [
       "HBox(children=(HTML(value='Validating'), FloatProgress(value=1.0, bar_style='info', layout=Layout(flex='2'), m…"
      ]
     },
     "metadata": {},
     "output_type": "display_data"
    },
    {
     "data": {
      "application/vnd.jupyter.widget-view+json": {
       "model_id": "9d993a34e2244404b9a01fe80bd1d2a0",
       "version_major": 2,
       "version_minor": 0
      },
      "text/plain": [
       "HBox(children=(HTML(value='Validating'), FloatProgress(value=1.0, bar_style='info', layout=Layout(flex='2'), m…"
      ]
     },
     "metadata": {},
     "output_type": "display_data"
    },
    {
     "data": {
      "application/vnd.jupyter.widget-view+json": {
       "model_id": "084400a9173944fa80f0710cf4c1b01d",
       "version_major": 2,
       "version_minor": 0
      },
      "text/plain": [
       "HBox(children=(HTML(value='Validating'), FloatProgress(value=1.0, bar_style='info', layout=Layout(flex='2'), m…"
      ]
     },
     "metadata": {},
     "output_type": "display_data"
    },
    {
     "data": {
      "application/vnd.jupyter.widget-view+json": {
       "model_id": "e9ef1007b691417fb92509830ac61e30",
       "version_major": 2,
       "version_minor": 0
      },
      "text/plain": [
       "HBox(children=(HTML(value='Validating'), FloatProgress(value=1.0, bar_style='info', layout=Layout(flex='2'), m…"
      ]
     },
     "metadata": {},
     "output_type": "display_data"
    },
    {
     "data": {
      "application/vnd.jupyter.widget-view+json": {
       "model_id": "6aac3b8981f24ac0b511f13fd120bc59",
       "version_major": 2,
       "version_minor": 0
      },
      "text/plain": [
       "HBox(children=(HTML(value='Validating'), FloatProgress(value=1.0, bar_style='info', layout=Layout(flex='2'), m…"
      ]
     },
     "metadata": {},
     "output_type": "display_data"
    },
    {
     "data": {
      "application/vnd.jupyter.widget-view+json": {
       "model_id": "ba1e6db865994376814dce349468c0d7",
       "version_major": 2,
       "version_minor": 0
      },
      "text/plain": [
       "HBox(children=(HTML(value='Validating'), FloatProgress(value=1.0, bar_style='info', layout=Layout(flex='2'), m…"
      ]
     },
     "metadata": {},
     "output_type": "display_data"
    },
    {
     "data": {
      "application/vnd.jupyter.widget-view+json": {
       "model_id": "fc990c9e8c6f49b3bf3808496ebce786",
       "version_major": 2,
       "version_minor": 0
      },
      "text/plain": [
       "HBox(children=(HTML(value='Validating'), FloatProgress(value=1.0, bar_style='info', layout=Layout(flex='2'), m…"
      ]
     },
     "metadata": {},
     "output_type": "display_data"
    },
    {
     "data": {
      "application/vnd.jupyter.widget-view+json": {
       "model_id": "56f288b1180247c98de704555f8044b8",
       "version_major": 2,
       "version_minor": 0
      },
      "text/plain": [
       "HBox(children=(HTML(value='Validating'), FloatProgress(value=1.0, bar_style='info', layout=Layout(flex='2'), m…"
      ]
     },
     "metadata": {},
     "output_type": "display_data"
    },
    {
     "data": {
      "application/vnd.jupyter.widget-view+json": {
       "model_id": "11afc3c3eaaa411c81917e63491d6e53",
       "version_major": 2,
       "version_minor": 0
      },
      "text/plain": [
       "HBox(children=(HTML(value='Validating'), FloatProgress(value=1.0, bar_style='info', layout=Layout(flex='2'), m…"
      ]
     },
     "metadata": {},
     "output_type": "display_data"
    },
    {
     "data": {
      "application/vnd.jupyter.widget-view+json": {
       "model_id": "b20ab8e699c34039ab9983fabe2ad599",
       "version_major": 2,
       "version_minor": 0
      },
      "text/plain": [
       "HBox(children=(HTML(value='Validating'), FloatProgress(value=1.0, bar_style='info', layout=Layout(flex='2'), m…"
      ]
     },
     "metadata": {},
     "output_type": "display_data"
    },
    {
     "data": {
      "application/vnd.jupyter.widget-view+json": {
       "model_id": "ad156bd6805044ef929d4734607b8c43",
       "version_major": 2,
       "version_minor": 0
      },
      "text/plain": [
       "HBox(children=(HTML(value='Validating'), FloatProgress(value=1.0, bar_style='info', layout=Layout(flex='2'), m…"
      ]
     },
     "metadata": {},
     "output_type": "display_data"
    },
    {
     "data": {
      "application/vnd.jupyter.widget-view+json": {
       "model_id": "cea129d297614f1e8142c8203aee7ba4",
       "version_major": 2,
       "version_minor": 0
      },
      "text/plain": [
       "HBox(children=(HTML(value='Validating'), FloatProgress(value=1.0, bar_style='info', layout=Layout(flex='2'), m…"
      ]
     },
     "metadata": {},
     "output_type": "display_data"
    },
    {
     "data": {
      "application/vnd.jupyter.widget-view+json": {
       "model_id": "1f4c0d69e9564028ad6d4aa7e73cc44f",
       "version_major": 2,
       "version_minor": 0
      },
      "text/plain": [
       "HBox(children=(HTML(value='Validating'), FloatProgress(value=1.0, bar_style='info', layout=Layout(flex='2'), m…"
      ]
     },
     "metadata": {},
     "output_type": "display_data"
    },
    {
     "data": {
      "application/vnd.jupyter.widget-view+json": {
       "model_id": "02b23cab80ab461aab0bf2bbf9614a3e",
       "version_major": 2,
       "version_minor": 0
      },
      "text/plain": [
       "HBox(children=(HTML(value='Validating'), FloatProgress(value=1.0, bar_style='info', layout=Layout(flex='2'), m…"
      ]
     },
     "metadata": {},
     "output_type": "display_data"
    },
    {
     "data": {
      "application/vnd.jupyter.widget-view+json": {
       "model_id": "e42d41e52c3f4537873b8af70838a554",
       "version_major": 2,
       "version_minor": 0
      },
      "text/plain": [
       "HBox(children=(HTML(value='Validating'), FloatProgress(value=1.0, bar_style='info', layout=Layout(flex='2'), m…"
      ]
     },
     "metadata": {},
     "output_type": "display_data"
    },
    {
     "data": {
      "application/vnd.jupyter.widget-view+json": {
       "model_id": "aaca37944f74441d946ec5562f2217a6",
       "version_major": 2,
       "version_minor": 0
      },
      "text/plain": [
       "HBox(children=(HTML(value='Validating'), FloatProgress(value=1.0, bar_style='info', layout=Layout(flex='2'), m…"
      ]
     },
     "metadata": {},
     "output_type": "display_data"
    },
    {
     "data": {
      "application/vnd.jupyter.widget-view+json": {
       "model_id": "7fe5c29112fa4671b9dafb7409d125bb",
       "version_major": 2,
       "version_minor": 0
      },
      "text/plain": [
       "HBox(children=(HTML(value='Validating'), FloatProgress(value=1.0, bar_style='info', layout=Layout(flex='2'), m…"
      ]
     },
     "metadata": {},
     "output_type": "display_data"
    },
    {
     "data": {
      "application/vnd.jupyter.widget-view+json": {
       "model_id": "9314fe6f8d5343cf9a1f437a464da01b",
       "version_major": 2,
       "version_minor": 0
      },
      "text/plain": [
       "HBox(children=(HTML(value='Validating'), FloatProgress(value=1.0, bar_style='info', layout=Layout(flex='2'), m…"
      ]
     },
     "metadata": {},
     "output_type": "display_data"
    },
    {
     "data": {
      "application/vnd.jupyter.widget-view+json": {
       "model_id": "3b163a44933a470dba426ba5a9f71ed5",
       "version_major": 2,
       "version_minor": 0
      },
      "text/plain": [
       "HBox(children=(HTML(value='Validating'), FloatProgress(value=1.0, bar_style='info', layout=Layout(flex='2'), m…"
      ]
     },
     "metadata": {},
     "output_type": "display_data"
    },
    {
     "data": {
      "application/vnd.jupyter.widget-view+json": {
       "model_id": "4364f230deac42728c1388444e0ee6ea",
       "version_major": 2,
       "version_minor": 0
      },
      "text/plain": [
       "HBox(children=(HTML(value='Validating'), FloatProgress(value=1.0, bar_style='info', layout=Layout(flex='2'), m…"
      ]
     },
     "metadata": {},
     "output_type": "display_data"
    },
    {
     "data": {
      "application/vnd.jupyter.widget-view+json": {
       "model_id": "57241632f08f45299bb74bc8be097578",
       "version_major": 2,
       "version_minor": 0
      },
      "text/plain": [
       "HBox(children=(HTML(value='Validating'), FloatProgress(value=1.0, bar_style='info', layout=Layout(flex='2'), m…"
      ]
     },
     "metadata": {},
     "output_type": "display_data"
    },
    {
     "data": {
      "application/vnd.jupyter.widget-view+json": {
       "model_id": "9155e557c15d4b55b08be8dd4e065e95",
       "version_major": 2,
       "version_minor": 0
      },
      "text/plain": [
       "HBox(children=(HTML(value='Validating'), FloatProgress(value=1.0, bar_style='info', layout=Layout(flex='2'), m…"
      ]
     },
     "metadata": {},
     "output_type": "display_data"
    },
    {
     "data": {
      "application/vnd.jupyter.widget-view+json": {
       "model_id": "739371b7632144a1b97f678dbabf581a",
       "version_major": 2,
       "version_minor": 0
      },
      "text/plain": [
       "HBox(children=(HTML(value='Validating'), FloatProgress(value=1.0, bar_style='info', layout=Layout(flex='2'), m…"
      ]
     },
     "metadata": {},
     "output_type": "display_data"
    },
    {
     "data": {
      "application/vnd.jupyter.widget-view+json": {
       "model_id": "8e48a2a1748e4a3b8351549fbb5b9a58",
       "version_major": 2,
       "version_minor": 0
      },
      "text/plain": [
       "HBox(children=(HTML(value='Validating'), FloatProgress(value=1.0, bar_style='info', layout=Layout(flex='2'), m…"
      ]
     },
     "metadata": {},
     "output_type": "display_data"
    },
    {
     "data": {
      "application/vnd.jupyter.widget-view+json": {
       "model_id": "4eb02102db674de68a664d1ae1151b89",
       "version_major": 2,
       "version_minor": 0
      },
      "text/plain": [
       "HBox(children=(HTML(value='Validating'), FloatProgress(value=1.0, bar_style='info', layout=Layout(flex='2'), m…"
      ]
     },
     "metadata": {},
     "output_type": "display_data"
    },
    {
     "name": "stdout",
     "output_type": "stream",
     "text": [
      "optimizer: Adam (\n",
      "Parameter Group 0\n",
      "    amsgrad: False\n",
      "    betas: (0.9, 0.999)\n",
      "    eps: 1e-08\n",
      "    lr: 0.0001\n",
      "    weight_decay: 0.0005\n",
      ")\n",
      "\n"
     ]
    }
   ],
   "source": [
    "#!g1.1\n",
    "trainer.fit(model, train_loader, val_loader)"
   ]
  },
  {
   "cell_type": "code",
   "execution_count": null,
   "id": "8ed9761e",
   "metadata": {
    "cellId": "rdvbp3i5uamu9zjy8hnp"
   },
   "outputs": [],
   "source": [
    "#!g1.1\n"
   ]
  },
  {
   "cell_type": "code",
   "execution_count": null,
   "id": "10102ebf",
   "metadata": {
    "cellId": "yh3btoz4kpc339giuvj0t9"
   },
   "outputs": [],
   "source": [
    "#!g1.1\n"
   ]
  }
 ],
 "metadata": {
  "kernelspec": {
   "display_name": "Yandex DataSphere Kernel",
   "language": "python",
   "name": "python3"
  },
  "language_info": {
   "codemirror_mode": {
    "name": "ipython",
    "version": 3
   },
   "file_extension": ".py",
   "mimetype": "text/x-python",
   "name": "python",
   "nbconvert_exporter": "python",
   "pygments_lexer": "ipython3",
   "version": "3.7.7"
  },
  "notebookId": "fb381c80-64a7-4f8e-995b-1877e38128bf",
  "notebookPath": "ConvEncoder_timit.ipynb"
 },
 "nbformat": 4,
 "nbformat_minor": 5
}
