{
 "cells": [
  {
   "cell_type": "markdown",
   "id": "683d1d09",
   "metadata": {},
   "source": [
    "# Распаковка"
   ]
  },
  {
   "cell_type": "code",
   "execution_count": 2,
   "id": "7ab962d7",
   "metadata": {
    "ExecuteTime": {
     "end_time": "2022-05-12T19:32:06.836715Z",
     "start_time": "2022-05-12T19:32:06.822738Z"
    }
   },
   "outputs": [],
   "source": [
    "import zipfile\n",
    "from tqdm import tqdm\n",
    "import os\n",
    "path_to_zip_file = 'D:/Diana/Diploma/Buckeye_zip'\n",
    "directory_to_extract_to = 'D:/Diana/Diploma/Buckeye_temp'\n",
    "directory_to_extract_to_f = 'D:/Diana/Diploma/Buckeye'"
   ]
  },
  {
   "cell_type": "code",
   "execution_count": 3,
   "id": "8a9f5d07",
   "metadata": {
    "ExecuteTime": {
     "end_time": "2022-05-12T19:32:08.842134Z",
     "start_time": "2022-05-12T19:32:08.761955Z"
    }
   },
   "outputs": [],
   "source": [
    "zip_files = [os.path.join(path_to_zip_file, i) for i in os.listdir(path_to_zip_file)]"
   ]
  },
  {
   "cell_type": "code",
   "execution_count": 7,
   "id": "79f8cbe0",
   "metadata": {
    "ExecuteTime": {
     "end_time": "2022-05-12T19:33:50.391972Z",
     "start_time": "2022-05-12T19:33:50.374964Z"
    }
   },
   "outputs": [
    {
     "data": {
      "text/plain": [
       "'D:/Diana/Diploma/Buckeye_zip\\\\s01.zip'"
      ]
     },
     "execution_count": 7,
     "metadata": {},
     "output_type": "execute_result"
    },
    {
     "data": {
      "text/plain": [
       "'D:/Diana/Diploma/Buckeye_zip\\\\s01.zip'"
      ]
     },
     "execution_count": 7,
     "metadata": {},
     "output_type": "execute_result"
    }
   ],
   "source": [
    "zip_files[0]"
   ]
  },
  {
   "cell_type": "code",
   "execution_count": 9,
   "id": "6c5c7ed1",
   "metadata": {
    "ExecuteTime": {
     "end_time": "2022-05-12T19:44:48.982468Z",
     "start_time": "2022-05-12T19:40:59.739996Z"
    }
   },
   "outputs": [
    {
     "name": "stderr",
     "output_type": "stream",
     "text": [
      "100%|██████████████████████████████████████████████████████████████████████████████████| 40/40 [03:49<00:00,  5.73s/it]\n",
      "\n"
     ]
    }
   ],
   "source": [
    "for r in tqdm(zip_files):\n",
    "    with zipfile.ZipFile(r, 'r') as zip_ref:\n",
    "        zip_ref.extractall(directory_to_extract_to)"
   ]
  },
  {
   "cell_type": "code",
   "execution_count": 10,
   "id": "7ebfb015",
   "metadata": {
    "ExecuteTime": {
     "end_time": "2022-05-12T19:44:53.915573Z",
     "start_time": "2022-05-12T19:44:53.895629Z"
    }
   },
   "outputs": [],
   "source": [
    "pp = [os.path.join(directory_to_extract_to, i) for i in os.listdir(directory_to_extract_to)]"
   ]
  },
  {
   "cell_type": "code",
   "execution_count": 11,
   "id": "58e47363",
   "metadata": {
    "ExecuteTime": {
     "end_time": "2022-05-12T19:44:54.022581Z",
     "start_time": "2022-05-12T19:44:54.004575Z"
    }
   },
   "outputs": [
    {
     "data": {
      "text/plain": [
       "['s0101a.zip', 's0101b.zip', 's0102a.zip', 's0102b.zip', 's0103a.zip']"
      ]
     },
     "execution_count": 11,
     "metadata": {},
     "output_type": "execute_result"
    },
    {
     "data": {
      "text/plain": [
       "['s0101a.zip', 's0101b.zip', 's0102a.zip', 's0102b.zip', 's0103a.zip']"
      ]
     },
     "execution_count": 11,
     "metadata": {},
     "output_type": "execute_result"
    }
   ],
   "source": [
    "os.listdir(pp[0])"
   ]
  },
  {
   "cell_type": "code",
   "execution_count": null,
   "id": "306216d2",
   "metadata": {
    "ExecuteTime": {
     "end_time": "2022-05-03T11:22:49.244084Z",
     "start_time": "2022-05-03T11:20:01.317766Z"
    }
   },
   "outputs": [],
   "source": [
    "files_to_zip = []\n",
    "for i in tqdm(pp):\n",
    "    for r in os.listdir(i):\n",
    "        r_rep = r.replace('.zip', '')\n",
    "        rr = os.path.join(i, r)\n",
    "        directory_to_extract_to_fin = os.path.join(directory_to_extract_to_f, r_rep)\n",
    "        os.makedirs(directory_to_extract_to_fin, exist_ok = True)\n",
    "        \n",
    "        with zipfile.ZipFile(rr, 'r') as zip_ref:\n",
    "            zip_ref.extractall(directory_to_extract_to_fin)\n",
    "            "
   ]
  },
  {
   "cell_type": "code",
   "execution_count": null,
   "id": "d817f1fb",
   "metadata": {
    "ExecuteTime": {
     "end_time": "2022-05-03T11:06:12.729919Z",
     "start_time": "2022-05-03T11:06:12.717921Z"
    }
   },
   "outputs": [],
   "source": [
    "r = os.listdir(pp[0])[0]\n",
    "r_rep = r.replace('.zip', '')\n",
    "rr = os.path.join(pp[0], r)"
   ]
  },
  {
   "cell_type": "code",
   "execution_count": null,
   "id": "79d824d1",
   "metadata": {
    "ExecuteTime": {
     "end_time": "2022-05-03T11:06:16.241103Z",
     "start_time": "2022-05-03T11:06:16.233648Z"
    }
   },
   "outputs": [],
   "source": [
    "rr, r, r_rep"
   ]
  },
  {
   "cell_type": "code",
   "execution_count": null,
   "id": "96dc5c4d",
   "metadata": {},
   "outputs": [],
   "source": []
  },
  {
   "cell_type": "code",
   "execution_count": null,
   "id": "3f49f523",
   "metadata": {},
   "outputs": [],
   "source": []
  },
  {
   "cell_type": "markdown",
   "id": "767477a0",
   "metadata": {},
   "source": [
    "# Нарезка аудио файлов"
   ]
  },
  {
   "cell_type": "code",
   "execution_count": null,
   "id": "ca5c4a68",
   "metadata": {
    "ExecuteTime": {
     "end_time": "2022-05-06T08:11:57.184111Z",
     "start_time": "2022-05-06T08:11:55.380407Z"
    },
    "code_folding": [
     0
    ]
   },
   "outputs": [],
   "source": [
    "def make_lists_files(times, frames, phonemes, sr=16000, patterns = ['IVER', 'VOCNOISE', 'SIL']):\n",
    "    nums = []\n",
    "    for num in range(len(times)):\n",
    "        if max(list(map(lambda x: x in phonemes[num], patterns))):\n",
    "            nums.append(num)\n",
    "    min_num = min(nums)\n",
    "\n",
    "    audio_files = []\n",
    "    times_new = []\n",
    "    frames_new = []\n",
    "    phonemes_new = []\n",
    "    frames_new_cut = []\n",
    "\n",
    "    start_frame = 0\n",
    "    start_time = 0\n",
    "\n",
    "    ff = []\n",
    "    tt = []\n",
    "    phph = []\n",
    "    ff_cut = []\n",
    "\n",
    "    for num in range(len(times)):\n",
    "        if num >= min_num:\n",
    "            if max(list(map(lambda x: x in phonemes[num], patterns))):\n",
    "                if len(tt) > 0:\n",
    "                    times_new.append(tt)\n",
    "                if len(ff) > 0:\n",
    "                    frames_new.append(ff)\n",
    "                if len(phph) > 0:\n",
    "                    phonemes_new.append(phph)\n",
    "                if len(ff_cut) > 0:\n",
    "                    frames_new_cut.append(ff_cut)\n",
    "\n",
    "                ff = []\n",
    "                tt = []\n",
    "                phph = []\n",
    "\n",
    "                start_frame = int(frames[num])\n",
    "                start_time = times[num]\n",
    "\n",
    "            else:\n",
    "                ff.append(int(frames[num]))\n",
    "                ff_cut.append(int(frames[num]) - int(start_frame))\n",
    "                tt.append(times[num] - start_time)\n",
    "                phph.append(phonemes[num])\n",
    "\n",
    "    frames_to_cut = [[min(i), max(i)] for i in frames_new]\n",
    "\n",
    "    return times_new, frames_new, phonemes_new, frames_to_cut,  # frames_new_cut"
   ]
  },
  {
   "cell_type": "code",
   "execution_count": null,
   "id": "2bfc40bc",
   "metadata": {
    "ExecuteTime": {
     "end_time": "2022-05-06T08:11:57.355615Z",
     "start_time": "2022-05-06T08:11:57.258182Z"
    },
    "code_folding": [
     0
    ]
   },
   "outputs": [],
   "source": [
    "def save_audio(wav_path, audio, frames_to_cut, sr = 16000, to_repl = '_fin'):\n",
    "    for num in range(len(frames_to_cut)):\n",
    "        min_frame = frames_to_cut[num][0]\n",
    "        max_frame = frames_to_cut[num][1]\n",
    "        aud_frame = audio[min_frame:max_frame]\n",
    "\n",
    "        audio_filepath = wav_path.replace('Buckeye', 'Buckeye'+to_repl).replace('.wav', '_'+str(num)+'.wav')\n",
    "        wavfile.write(audio_filepath, sr, aud_frame)"
   ]
  },
  {
   "cell_type": "code",
   "execution_count": null,
   "id": "b443c868",
   "metadata": {
    "ExecuteTime": {
     "end_time": "2022-05-06T08:11:57.401448Z",
     "start_time": "2022-05-06T08:11:57.372617Z"
    },
    "code_folding": [
     0
    ]
   },
   "outputs": [],
   "source": [
    "def save_text(wav_path, frames_to_cut, times_new, phonemes_new, postfix = '', to_repl = '_fin'):\n",
    "    lines = []\n",
    "    for num in range(len(frames_to_cut)):\n",
    "        tt = times_new[num]\n",
    "        phph = phonemes_new[num]\n",
    "        ll = []\n",
    "        for num1 in range(len(tt)):\n",
    "            ll.append(str(tt[num1]) + ' ' + phph[num1])\n",
    "        lines.append(ll)\n",
    "\n",
    "        text_filepath = wav_path.replace('Buckeye', 'Buckeye'+to_repl).replace('.wav', '_'+str(num)+postfix+'.txt')\n",
    "        with open(text_filepath, 'w') as f:\n",
    "            f.write('\\n'.join(ll))"
   ]
  },
  {
   "cell_type": "code",
   "execution_count": null,
   "id": "8b9da40d",
   "metadata": {
    "ExecuteTime": {
     "end_time": "2022-05-06T08:11:57.462716Z",
     "start_time": "2022-05-06T08:11:57.414435Z"
    }
   },
   "outputs": [],
   "source": [
    "fin_path = 'D:/Diana/Diploma/Buckeye_fin'"
   ]
  },
  {
   "cell_type": "code",
   "execution_count": null,
   "id": "c5e2f949",
   "metadata": {},
   "outputs": [],
   "source": []
  },
  {
   "cell_type": "code",
   "execution_count": null,
   "id": "d322d498",
   "metadata": {},
   "outputs": [],
   "source": []
  },
  {
   "cell_type": "code",
   "execution_count": null,
   "id": "b52d1e99",
   "metadata": {
    "ExecuteTime": {
     "end_time": "2022-05-06T08:11:58.484943Z",
     "start_time": "2022-05-06T08:11:57.485247Z"
    }
   },
   "outputs": [],
   "source": [
    "ll = list(iter_find_files(buckeye_path, \"*.wav\"))"
   ]
  },
  {
   "cell_type": "code",
   "execution_count": null,
   "id": "504a8e64",
   "metadata": {
    "ExecuteTime": {
     "end_time": "2022-05-06T08:11:58.500796Z",
     "start_time": "2022-05-06T08:11:58.486796Z"
    }
   },
   "outputs": [],
   "source": [
    "wav_path = ll[1]"
   ]
  },
  {
   "cell_type": "code",
   "execution_count": null,
   "id": "5c672bed",
   "metadata": {
    "ExecuteTime": {
     "end_time": "2022-05-06T08:11:58.684370Z",
     "start_time": "2022-05-06T08:11:58.502797Z"
    }
   },
   "outputs": [],
   "source": [
    "not_done"
   ]
  },
  {
   "cell_type": "code",
   "execution_count": null,
   "id": "b21c4384",
   "metadata": {
    "ExecuteTime": {
     "end_time": "2022-05-06T08:18:25.220575Z",
     "start_time": "2022-05-06T08:11:58.699223Z"
    }
   },
   "outputs": [],
   "source": [
    "not_done = []\n",
    "patterns = ['IVER', 'VOCNOISE', 'SIL']\n",
    "\n",
    "for wav_path in tqdm(ll):\n",
    "#     print(wav_path)\n",
    "    \n",
    "    phn_path = wav_path.replace(\".wav\", \".phones\")\n",
    "    words_path = wav_path.replace(\".wav\", \".words\")\n",
    "\n",
    "    new_path = wav_path.split('\\\\')[0].replace('Buckeye', 'Buckeye_fin')\n",
    "    os.makedirs(new_path, exist_ok=True)\n",
    "\n",
    "    with open(phn_path, \"r\") as f:\n",
    "        lines = [i.strip() for i in f.readlines()]\n",
    "    lines = lines[lines.index('#')+1:]\n",
    "    lines = [i for i in lines if len(i) > 0]\n",
    "\n",
    "    with open(words_path, \"r\") as f:\n",
    "        words_lines = [i.strip() for i in f.readlines()]\n",
    "    words_lines = words_lines[words_lines.index('#')+1:]\n",
    "    words_lines = [i for i in words_lines if len(i) > 0 and i[0] != ';']\n",
    "\n",
    "    sr, audio = wavfile.read(wav_path)\n",
    "    times = [eval(i.split()[0]) for i in lines]\n",
    "    frames = [eval(i.split()[0])*sr for i in lines]\n",
    "    phonemes = [i.split()[-1] for i in lines]\n",
    "\n",
    "    words_times = [eval(i.split()[0]) for i in words_lines]\n",
    "    words_frames = [eval(i.split()[0])*sr for i in words_lines]\n",
    "    words_phonemes = [i.split()[2].replace(';', '') for i in words_lines]\n",
    "\n",
    "    nums = []\n",
    "    for num in range(len(times)):\n",
    "        if max(list(map(lambda x: x in phonemes[num], patterns))):\n",
    "            nums.append(num)\n",
    "    if len(nums)> 0:\n",
    "\n",
    "        times_new, frames_new, phonemes_new, frames_to_cut = make_lists_files(\n",
    "            times, frames, phonemes, patterns=patterns)\n",
    "        times_new_words, frames_new_words, phonemes_new_words, frames_to_cut_words = make_lists_files(words_times,\n",
    "                                                                                                      words_frames,\n",
    "                                                                                                      words_phonemes)\n",
    "\n",
    "        save_audio(wav_path, audio, frames_to_cut, sr=sr, to_repl = '_fin1')\n",
    "        save_text(wav_path, frames_to_cut, times_new, phonemes_new, to_repl = '_fin1')\n",
    "        save_text(wav_path, frames_to_cut_words, times_new_words,\n",
    "                  phonemes_new_words, postfix='_words', to_repl = '_fin1')\n",
    "    else:\n",
    "        not_done.append(wav_path)"
   ]
  },
  {
   "cell_type": "code",
   "execution_count": null,
   "id": "2035147d",
   "metadata": {},
   "outputs": [],
   "source": []
  },
  {
   "cell_type": "code",
   "execution_count": null,
   "id": "f1b0330c",
   "metadata": {},
   "outputs": [],
   "source": []
  },
  {
   "cell_type": "code",
   "execution_count": null,
   "id": "986f6a35",
   "metadata": {
    "ExecuteTime": {
     "end_time": "2022-05-05T09:14:47.617813Z",
     "start_time": "2022-05-05T09:11:27.740150Z"
    },
    "code_folding": []
   },
   "outputs": [],
   "source": [
    "not_done = []\n",
    "patterns = ['IVER']\n",
    "\n",
    "for wav_path in tqdm(ll):\n",
    "#     print(wav_path)\n",
    "    \n",
    "    phn_path = wav_path.replace(\".wav\", \".phones\")\n",
    "    words_path = wav_path.replace(\".wav\", \".words\")\n",
    "\n",
    "    new_path = wav_path.split('\\\\')[0].replace('Buckeye', 'Buckeye_iver')\n",
    "    os.makedirs(new_path, exist_ok=True)\n",
    "\n",
    "    with open(phn_path, \"r\") as f:\n",
    "        lines = [i.strip() for i in f.readlines()]\n",
    "    lines = lines[lines.index('#')+1:]\n",
    "    lines = [i for i in lines if len(i) > 0]\n",
    "\n",
    "    with open(words_path, \"r\") as f:\n",
    "        words_lines = [i.strip() for i in f.readlines()]\n",
    "    words_lines = words_lines[words_lines.index('#')+1:]\n",
    "    words_lines = [i for i in words_lines if len(i) > 0 and i[0] != ';']\n",
    "\n",
    "    sr, audio = wavfile.read(wav_path)\n",
    "    times = [eval(i.split()[0]) for i in lines]\n",
    "    frames = [eval(i.split()[0])*sr for i in lines]\n",
    "    phonemes = [i.split()[-1] for i in lines]\n",
    "\n",
    "    words_times = [eval(i.split()[0]) for i in words_lines]\n",
    "    words_frames = [eval(i.split()[0])*sr for i in words_lines]\n",
    "    words_phonemes = [i.split()[2].replace(';', '') for i in words_lines]\n",
    "\n",
    "    nums = []\n",
    "    for num in range(len(times)):\n",
    "        if max(list(map(lambda x: x in phonemes[num], patterns))):\n",
    "            nums.append(num)\n",
    "    if len(nums)> 0:\n",
    "\n",
    "        times_new, frames_new, phonemes_new, frames_to_cut = make_lists_files(\n",
    "            times, frames, phonemes, patterns=patterns)\n",
    "        times_new_words, frames_new_words, phonemes_new_words, frames_to_cut_words = make_lists_files(words_times,\n",
    "                                                                                                      words_frames,\n",
    "                                                                                                      words_phonemes)\n",
    "\n",
    "        save_audio(wav_path, audio, frames_to_cut, sr=sr, to_repl = '_iver')\n",
    "        save_text(wav_path, frames_to_cut, times_new, phonemes_new, to_repl = '_iver')\n",
    "        save_text(wav_path, frames_to_cut_words, times_new_words,\n",
    "                  phonemes_new_words, postfix='_words', to_repl = '_iver')\n",
    "    else:\n",
    "        not_done.append(wav_path)"
   ]
  },
  {
   "cell_type": "code",
   "execution_count": null,
   "id": "a3bae14d",
   "metadata": {},
   "outputs": [],
   "source": []
  },
  {
   "cell_type": "markdown",
   "id": "ce49fcfd",
   "metadata": {},
   "source": [
    "# Удаление пустых файлов"
   ]
  },
  {
   "cell_type": "code",
   "execution_count": null,
   "id": "4bacd84a",
   "metadata": {
    "ExecuteTime": {
     "end_time": "2022-05-12T19:23:54.406813Z",
     "start_time": "2022-05-12T19:22:23.301524Z"
    }
   },
   "outputs": [],
   "source": [
    "from boltons.fileutils import iter_find_files\n",
    "import torchaudio\n",
    "from tqdm import tqdm\n",
    "import os"
   ]
  },
  {
   "cell_type": "code",
   "execution_count": null,
   "id": "a82af348",
   "metadata": {
    "ExecuteTime": {
     "end_time": "2022-05-12T19:25:04.585042Z",
     "start_time": "2022-05-12T19:24:36.581931Z"
    }
   },
   "outputs": [],
   "source": [
    "path = 'D:/Diana/Diploma/Buckeye_fin'\n",
    "data = list(iter_find_files(path, \"*.wav\"))"
   ]
  },
  {
   "cell_type": "code",
   "execution_count": null,
   "id": "e01909bf",
   "metadata": {
    "ExecuteTime": {
     "end_time": "2022-05-12T19:25:04.616045Z",
     "start_time": "2022-05-12T19:25:04.591683Z"
    }
   },
   "outputs": [],
   "source": [
    "len(data)"
   ]
  },
  {
   "cell_type": "code",
   "execution_count": null,
   "id": "07cd1a06",
   "metadata": {
    "ExecuteTime": {
     "start_time": "2022-05-12T19:25:17.843Z"
    }
   },
   "outputs": [],
   "source": [
    "zero = []\n",
    "for wav_path in tqdm(data):\n",
    "    audio, sr = torchaudio.load(wav_path)\n",
    "    audio = audio[0]\n",
    "    audio_len = len(audio)\n",
    "    if audio_len == 0:\n",
    "        zero.append(wav_path)"
   ]
  },
  {
   "cell_type": "code",
   "execution_count": null,
   "id": "4318a21f",
   "metadata": {
    "ExecuteTime": {
     "start_time": "2022-05-12T19:25:26.344Z"
    }
   },
   "outputs": [],
   "source": [
    "for wav_path in tqdm(zero):\n",
    "    phn_path = wav_path.replace(\".wav\", \".txt\")\n",
    "    phn_path1 = wav_path.replace(\".wav\", \"_words.txt\")\n",
    "    \n",
    "    if os.path.isfile(wav_path):\n",
    "        os.remove(wav_path)\n",
    "    if os.path.isfile(phn_path):\n",
    "        os.remove(phn_path)\n",
    "    if os.path.isfile(phn_path1):\n",
    "        os.remove(phn_path1)"
   ]
  },
  {
   "cell_type": "code",
   "execution_count": null,
   "id": "0553f74b",
   "metadata": {},
   "outputs": [],
   "source": []
  },
  {
   "cell_type": "code",
   "execution_count": null,
   "id": "a65c0172",
   "metadata": {},
   "outputs": [],
   "source": []
  },
  {
   "cell_type": "code",
   "execution_count": null,
   "id": "7bb5f98b",
   "metadata": {},
   "outputs": [],
   "source": []
  }
 ],
 "metadata": {
  "kernelspec": {
   "display_name": "Python 3 (ipykernel)",
   "language": "python",
   "name": "python3"
  },
  "language_info": {
   "codemirror_mode": {
    "name": "ipython",
    "version": 3
   },
   "file_extension": ".py",
   "mimetype": "text/x-python",
   "name": "python",
   "nbconvert_exporter": "python",
   "pygments_lexer": "ipython3",
   "version": "3.8.12"
  },
  "toc": {
   "base_numbering": 1,
   "nav_menu": {},
   "number_sections": true,
   "sideBar": true,
   "skip_h1_title": false,
   "title_cell": "Table of Contents",
   "title_sidebar": "Contents",
   "toc_cell": false,
   "toc_position": {},
   "toc_section_display": true,
   "toc_window_display": true
  }
 },
 "nbformat": 4,
 "nbformat_minor": 5
}
