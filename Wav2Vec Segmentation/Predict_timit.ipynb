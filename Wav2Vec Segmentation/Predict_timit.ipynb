{
 "cells": [
  {
   "cell_type": "markdown",
   "id": "fa5b050f",
   "metadata": {
    "cellId": "otzskxcuthaq89csquqzg"
   },
   "source": [
    "# Импорт"
   ]
  },
  {
   "cell_type": "code",
   "execution_count": 1,
   "id": "b961e8d5",
   "metadata": {
    "cellId": "cnf87s891veud9gt2lxxl"
   },
   "outputs": [],
   "source": [
    "import json\n",
    "import os\n",
    "import torch\n",
    "from tqdm import tqdm\n",
    "import scipy.io.wavfile as wav\n",
    "\n",
    "from torch import nn\n",
    "import torch.nn.functional as F\n",
    "from torch import optim\n",
    "from torch.utils.data import Dataset, DataLoader, Sampler\n",
    "from torch.utils.tensorboard import SummaryWriter\n",
    "from boltons.fileutils import iter_find_files\n",
    "import numpy as np"
   ]
  },
  {
   "cell_type": "code",
   "execution_count": 2,
   "id": "8bd48e88",
   "metadata": {
    "cellId": "oc77e6o7t1qsutuvez776"
   },
   "outputs": [],
   "source": [
    "import transformers\n",
    "import json\n",
    "from torch.utils.data import Dataset, DataLoader, Sampler\n",
    "import os"
   ]
  },
  {
   "cell_type": "code",
   "execution_count": 3,
   "id": "aaa4aa8d",
   "metadata": {
    "cellId": "75nk4sdqcfvl8a494j8ev"
   },
   "outputs": [],
   "source": [
    "from models import ConvFeatureEncoder, SegmentsRepr, SegmentsEncoder, NegativeSampler, SegmentPredictor, FinModel\n",
    "from utils import ConstrativeLoss, sample_negatives\n",
    "from collections import OrderedDict\n",
    "import shutil"
   ]
  },
  {
   "cell_type": "code",
   "execution_count": 4,
   "id": "e6b14081",
   "metadata": {
    "cellId": "dlkze2hpusrdlri7x2hivr"
   },
   "outputs": [],
   "source": [
    "from model_transformers import SegmentTransformer\n",
    "from pytorch_lightning import Trainer\n",
    "from pytorch_lightning.loggers import TensorBoardLogger\n",
    "from pytorch_lightning.callbacks import EarlyStopping, ModelCheckpoint"
   ]
  },
  {
   "cell_type": "code",
   "execution_count": 5,
   "id": "c61567f9",
   "metadata": {
    "cellId": "q7fnng3k248gyi1hyuur0a"
   },
   "outputs": [],
   "source": [
    "import torch\n",
    "import torch.nn as nn\n",
    "import torch.nn.functional as F\n",
    "from torch.utils.data import DataLoader, Dataset\n",
    "torch.multiprocessing.set_sharing_strategy('file_system')\n",
    "from tqdm import tqdm\n",
    "import numpy as np\n",
    "import os\n",
    "from os.path import join, basename\n",
    "from boltons.fileutils import iter_find_files\n",
    "import soundfile as sf\n",
    "import librosa\n",
    "import pickle\n",
    "from multiprocessing import Pool\n",
    "import random\n",
    "import torchaudio\n",
    "import math\n",
    "from torchaudio.datasets import LIBRISPEECH"
   ]
  },
  {
   "cell_type": "code",
   "execution_count": 6,
   "id": "041cb413",
   "metadata": {
    "cellId": "qm4jggc596i67cfikgob1f"
   },
   "outputs": [
    {
     "data": {
      "text/plain": [
       "<torch._C.Generator at 0x7f405f839a50>"
      ]
     },
     "execution_count": 6,
     "metadata": {},
     "output_type": "execute_result"
    }
   ],
   "source": [
    "torch.manual_seed(0)"
   ]
  },
  {
   "cell_type": "code",
   "execution_count": 7,
   "id": "fc58ad72",
   "metadata": {
    "cellId": "lkg6h7gwm2bgzpcn9nzv8s"
   },
   "outputs": [
    {
     "data": {
      "text/plain": [
       "'4.14.0'"
      ]
     },
     "execution_count": 7,
     "metadata": {},
     "output_type": "execute_result"
    }
   ],
   "source": [
    "transformers.__version__"
   ]
  },
  {
   "cell_type": "code",
   "execution_count": 8,
   "id": "713405a2",
   "metadata": {
    "cellId": "9el4ulm2v6ha7aps1npazq"
   },
   "outputs": [],
   "source": [
    "# %pip list"
   ]
  },
  {
   "cell_type": "code",
   "execution_count": 9,
   "id": "6793f127",
   "metadata": {
    "cellId": "84ogghrx0aqh9dfvzc91tw"
   },
   "outputs": [],
   "source": [
    "# Данный класс основан на https://github.com/felixkreuk/UnsupSeg/blob/master/dataloader.py\n",
    "\n",
    "class WavPhnDataset(Dataset):\n",
    "    def __init__(self, path):\n",
    "        self.path = path\n",
    "        self.data = list(iter_find_files(self.path, \"*.wav\"))\n",
    "        super(WavPhnDataset, self).__init__()\n",
    "\n",
    "    @staticmethod\n",
    "    def get_datasets(path):\n",
    "        raise NotImplementedError\n",
    "\n",
    "    def process_file(self, wav_path):\n",
    "        phn_path = wav_path.replace(\"WAV.wav\", \"PHN\")\n",
    "\n",
    "        # load audio\n",
    "        audio, sr = torchaudio.load(wav_path)\n",
    "        audio = audio[0]\n",
    "        audio_len = len(audio)\n",
    "        \n",
    "        filetext_id = phn_path.replace('.PHN', '.txt').replace('./', ''). replace('/', '_')\n",
    "        \n",
    "        # load labels -- segmentation and phonemes\n",
    "        with open(phn_path, \"r\") as f:\n",
    "            lines = f.readlines()\n",
    "            lines = list(map(lambda line: line.split(\" \"), lines))\n",
    "\n",
    "            # get segment times\n",
    "            times = torch.FloatTensor(list(map(lambda line: int(line[1])/16000, lines)))[:-1]\n",
    "            \n",
    "            # get phonemes in each segment (for K times there should be K+1 phonemes)\n",
    "            phonemes = list(map(lambda line: line[2].strip(), lines))\n",
    "\n",
    "        return audio, times.tolist(), phonemes, wav_path, phn_path, filetext_id\n",
    "\n",
    "    def __getitem__(self, idx):\n",
    "        signal, seg, phonemes, fname, segment_file, filetext_id = self.process_file(self.data[idx])\n",
    "        \n",
    "        return {'audio_file':fname, \n",
    "                'segment_file':segment_file, \n",
    "                'id':filetext_id, \n",
    "                'sample': signal, \n",
    "                'length': len(signal), 'boundaries': seg}\n",
    "        \n",
    "#         return {'sample': signal, 'length': len(signal), 'boundaries': seg}\n",
    "#         return audio, seg, phonemes, fname\n",
    "\n",
    "    def __len__(self):\n",
    "        return len(self.data)"
   ]
  },
  {
   "cell_type": "code",
   "execution_count": 10,
   "id": "c23ea173",
   "metadata": {
    "cellId": "tlo5en10wou7kg2xj29m"
   },
   "outputs": [],
   "source": [
    "# Данный класс основан на https://github.com/felixkreuk/UnsupSeg/blob/master/dataloader.py\n",
    "\n",
    "class TrainTestDataset(WavPhnDataset):\n",
    "    def __init__(self, path):\n",
    "        super(TrainTestDataset, self).__init__(path)\n",
    "\n",
    "    @staticmethod\n",
    "    def get_datasets(path, val_ratio=0.1):\n",
    "        train_dataset = TrainTestDataset(os.path.join(path, 'TRAIN'))\n",
    "        test_dataset  = TrainTestDataset(os.path.join(path, 'TEST'))\n",
    "\n",
    "        train_len   = len(train_dataset)\n",
    "        train_split = int(train_len * (1 - val_ratio))\n",
    "        val_split   = train_len - train_split\n",
    "        train_dataset, val_dataset = torch.utils.data.random_split(train_dataset, [train_split, val_split])\n",
    "\n",
    "        train_dataset.path = os.path.join(path, 'train')\n",
    "        val_dataset.path = os.path.join(path, 'train')\n",
    "\n",
    "        return train_dataset, val_dataset, test_dataset"
   ]
  },
  {
   "cell_type": "code",
   "execution_count": 11,
   "id": "7a05af67",
   "metadata": {
    "cellId": "qvr0zh4yguera6re8fl1f"
   },
   "outputs": [],
   "source": [
    "def collate_fn(samples):\n",
    "    \n",
    "    max_length = max([sample['length'] for sample in samples])\n",
    "    boundaries = [sample['boundaries'] for sample in samples]\n",
    "    samples1 = []\n",
    "    lengths = []\n",
    "    samplings = []\n",
    "    attentions = []\n",
    "    ids = []\n",
    "    audio_files = []\n",
    "    segment_files = []\n",
    "    for sample in samples:\n",
    "        to_add_l = max_length-sample['length']\n",
    "        sample1 = list(sample['sample'])+[0]*to_add_l\n",
    "        samples1.append(torch.Tensor(sample1).unsqueeze(0))\n",
    "        lengths.append(sample['length'])\n",
    "        ids.append(sample['id'])\n",
    "        audio_files.append(sample['audio_file'])\n",
    "        segment_files.append(sample['segment_file'])\n",
    "        att_norm = torch.ones(size = (1, sample['length']))\n",
    "        att_add = torch.zeros(size = (1, to_add_l))\n",
    "        att = torch.cat([att_norm, att_add], dim = -1)\n",
    "        attentions.append(att)\n",
    "        \n",
    "    batch = torch.cat(samples1)\n",
    "    lengths = torch.Tensor(lengths)\n",
    "    attention_mask = torch.cat(attentions, dim = 0)\n",
    "    \n",
    "    return dict(batch=batch, lengths=lengths, attention_mask=attention_mask, \n",
    "                boundaries=boundaries, ids=ids, \n",
    "                audio_files=audio_files, \n",
    "                segment_files=segment_files)"
   ]
  },
  {
   "cell_type": "code",
   "execution_count": null,
   "id": "999dd202",
   "metadata": {
    "cellId": "tcaoeia4ykgzffwjldywd"
   },
   "outputs": [],
   "source": []
  },
  {
   "cell_type": "markdown",
   "id": "52d494ed",
   "metadata": {
    "cellId": "jxhdqg4x4vd5r62f807f"
   },
   "source": [
    "# Загрузка данных"
   ]
  },
  {
   "cell_type": "code",
   "execution_count": 12,
   "id": "ea978c40",
   "metadata": {
    "cellId": "x37ghqi6i6fgkyzponjye"
   },
   "outputs": [],
   "source": [
    "timit_path = './timit/data'"
   ]
  },
  {
   "cell_type": "code",
   "execution_count": 13,
   "id": "9a12fc63",
   "metadata": {
    "cellId": "n5459u4c7o7dnc4dvw9w6q"
   },
   "outputs": [],
   "source": [
    "train_dataset, val_dataset, test_dataset = TrainTestDataset.get_datasets(path=timit_path)"
   ]
  },
  {
   "cell_type": "code",
   "execution_count": 14,
   "id": "01b9bf50",
   "metadata": {
    "cellId": "pckte08idi79u7de4gz33"
   },
   "outputs": [],
   "source": [
    "train_loader = DataLoader(train_dataset, shuffle=True, batch_size=8, collate_fn = collate_fn)\n",
    "val_loader = DataLoader(val_dataset, shuffle=False, batch_size=8, collate_fn = collate_fn)\n",
    "test_loader = DataLoader(test_dataset, shuffle=False, batch_size=8, collate_fn = collate_fn)"
   ]
  },
  {
   "cell_type": "code",
   "execution_count": 15,
   "id": "84854c17",
   "metadata": {
    "cellId": "68f7eeo0o1ym3uvq8q9jxe"
   },
   "outputs": [],
   "source": [
    "path_to_save = 'save_results_path_timit'\n",
    "path_results = os.path.join(path_to_save, 'Results')"
   ]
  },
  {
   "cell_type": "code",
   "execution_count": 16,
   "id": "a7baff34",
   "metadata": {
    "cellId": "k6bl8ogekrvces717m5tt"
   },
   "outputs": [],
   "source": [
    "os.makedirs(path_to_save, exist_ok=True) \n",
    "os.makedirs(path_results, exist_ok=True) "
   ]
  },
  {
   "cell_type": "code",
   "execution_count": 17,
   "id": "3d5e68b5",
   "metadata": {
    "cellId": "geneu8n429sdabta8o7zug"
   },
   "outputs": [],
   "source": [
    "import warnings\n",
    "warnings.filterwarnings(\"ignore\")"
   ]
  },
  {
   "cell_type": "code",
   "execution_count": 18,
   "id": "f3287a33",
   "metadata": {
    "cellId": "gjw0snizckwpaq9dxpqlpi"
   },
   "outputs": [],
   "source": []
  },
  {
   "cell_type": "code",
   "execution_count": 24,
   "id": "1d8be1ca",
   "metadata": {
    "cellId": "ilh62n15hglj2cfelks4k"
   },
   "outputs": [],
   "source": []
  },
  {
   "cell_type": "code",
   "execution_count": 25,
   "id": "075f3ef4",
   "metadata": {
    "cellId": "5f7wyndbo4nxgj1pw3tiod"
   },
   "outputs": [],
   "source": [
    "from transformers_f.src.transformers.activations import ACT2FN\n",
    "from transformers_f.src.transformers.models.wav2vec2.modeling_wav2vec2 import Wav2Vec2FeatureExtractor, Wav2Vec2Model\n",
    "\n",
    "from modeling_segmentation import (Wav2Vec2ModelForSegmentation, SegmentsRepr)"
   ]
  },
  {
   "cell_type": "code",
   "execution_count": 26,
   "id": "8dcdfb1c",
   "metadata": {
    "cellId": "sdpxmprodbi5f7rbttx8dd"
   },
   "outputs": [],
   "source": [
    "segment_paths = ['timit_r_val.ckpt']\n",
    "thres = [0.05]"
   ]
  },
  {
   "cell_type": "code",
   "execution_count": 27,
   "id": "578ff8c4",
   "metadata": {
    "cellId": "dc6jpndd8mfco3se4w9in5"
   },
   "outputs": [
    {
     "data": {
      "application/vnd.jupyter.widget-view+json": {
       "model_id": "44b9707cc3dc4773ba1df738256f2ffb",
       "version_major": 2,
       "version_minor": 0
      },
      "text/plain": [
       "HBox(children=(HTML(value='Downloading'), FloatProgress(value=0.0, max=1596.0), HTML(value='')))"
      ]
     },
     "metadata": {},
     "output_type": "display_data"
    },
    {
     "data": {
      "application/vnd.jupyter.widget-view+json": {
       "model_id": "8dd4278afcf741bc85cc32016f4d0629",
       "version_major": 2,
       "version_minor": 0
      },
      "text/plain": [
       "HBox(children=(HTML(value='Downloading'), FloatProgress(value=0.0, max=377667514.0), HTML(value='')))"
      ]
     },
     "metadata": {},
     "output_type": "display_data"
    },
    {
     "name": "stdout",
     "output_type": "stream",
     "text": [
      "\n",
      "\n"
     ]
    },
    {
     "name": "stderr",
     "output_type": "stream",
     "text": [
      "Some weights of the model checkpoint at facebook/wav2vec2-base-960h were not used when initializing Wav2Vec2ModelForSegmentation: ['lm_head.bias', 'lm_head.weight']\n",
      "- This IS expected if you are initializing Wav2Vec2ModelForSegmentation from the checkpoint of a model trained on another task or with another architecture (e.g. initializing a BertForSequenceClassification model from a BertForPreTraining model).\n",
      "- This IS NOT expected if you are initializing Wav2Vec2ModelForSegmentation from the checkpoint of a model that you expect to be exactly identical (initializing a BertForSequenceClassification model from a BertForSequenceClassification model).\n",
      "Some weights of Wav2Vec2ModelForSegmentation were not initialized from the model checkpoint at facebook/wav2vec2-base-960h and are newly initialized: ['wav2vec2.masked_spec_embed']\n",
      "You should probably TRAIN this model on a down-stream task to be able to use it for predictions and inference.\n",
      "100%|██████████| 520/520 [11:30<00:00,  1.33s/it]\n",
      "100%|██████████| 58/58 [01:15<00:00,  1.29s/it]\n",
      "100%|██████████| 210/210 [04:34<00:00,  1.31s/it]\n"
     ]
    }
   ],
   "source": [
    "for model_path, thre in zip(segment_paths, thres):\n",
    "    \n",
    "    wav2vec_segm = Wav2Vec2ModelForSegmentation.from_pretrained(\"facebook/wav2vec2-base-960h\")\n",
    "    wav2vec_segm.segment_mean = SegmentsRepr(thres = thre)\n",
    "    \n",
    "    checkpoint = torch.load(model_path)\n",
    "#     checkpoint = torch.load(model_path, map_location='cpu')\n",
    "    \n",
    "    state_dicts = OrderedDict()\n",
    "    for key, value in checkpoint['state_dict'].items():\n",
    "        state_dicts[key.replace('wav2vec_segm.', '')] = value\n",
    "    wav2vec_segm.load_state_dict(state_dicts)\n",
    "    \n",
    "    wav2vec_segm.eval()\n",
    "    wav2vec_segm=wav2vec_segm.to('cuda')\n",
    "    \n",
    "    for batch in tqdm(train_loader):\n",
    "        x = batch['batch']\n",
    "        lengths = batch['lengths']\n",
    "        attention_mask = batch['attention_mask']\n",
    "        secs = batch['boundaries']\n",
    "        ids = batch['ids']\n",
    "        name_path = 'train'\n",
    "        os.makedirs(os.path.join(path_results, name_path), exist_ok=True) \n",
    "        \n",
    "\n",
    "        rr = wav2vec_segm.compute_all(x.to('cuda'), secs, num_epoch=0, attention_mask=attention_mask.to('cuda'), return_secs=True)\n",
    "#         rr = wav2vec_segm.compute_all(x, secs, num_epoch=0, attention_mask=attention_mask, return_secs=True)\n",
    "        secs_preds = rr[1]['secs_pred']\n",
    "        for idd, secs in zip(ids, secs_preds):\n",
    "            with open(os.path.join(os.path.join(path_results, name_path), idd), 'w', encoding=\"cp1251\") as file:\n",
    "                file.write(str(secs))\n",
    "\n",
    "    for batch in tqdm(val_loader):\n",
    "        x = batch['batch']\n",
    "        lengths = batch['lengths']\n",
    "        attention_mask = batch['attention_mask']\n",
    "        secs = batch['boundaries']\n",
    "        ids = batch['ids']\n",
    "        name_path = 'valid'\n",
    "        os.makedirs(os.path.join(path_results, name_path), exist_ok=True) \n",
    "\n",
    "        rr = wav2vec_segm.compute_all(x.to('cuda'), secs, num_epoch=0, attention_mask=attention_mask.to('cuda'), return_secs=True)\n",
    "#         rr = wav2vec_segm.compute_all(x, secs, num_epoch=0, attention_mask=attention_mask, return_secs=True)\n",
    "        secs_preds = rr[1]['secs_pred']\n",
    "        for idd, secs in zip(ids, secs_preds):\n",
    "            with open(os.path.join(os.path.join(path_results, name_path), idd), 'w', encoding=\"cp1251\") as file:\n",
    "                file.write(str(secs))\n",
    "                \n",
    "    for batch in tqdm(test_loader):\n",
    "        x = batch['batch']\n",
    "        lengths = batch['lengths']\n",
    "        attention_mask = batch['attention_mask']\n",
    "        secs = batch['boundaries']\n",
    "        ids = batch['ids']\n",
    "        name_path = 'test'\n",
    "        os.makedirs(os.path.join(path_results, name_path), exist_ok=True) \n",
    "\n",
    "\n",
    "        rr = wav2vec_segm.compute_all(x.to('cuda'), secs, num_epoch=0, attention_mask=attention_mask.to('cuda'), return_secs=True)\n",
    "#         rr = wav2vec_segm.compute_all(x, secs, num_epoch=0, attention_mask=attention_mask, return_secs=True)\n",
    "        secs_preds = rr[1]['secs_pred']\n",
    "        for idd, secs in zip(ids, secs_preds):\n",
    "            with open(os.path.join(os.path.join(path_results, name_path), idd), 'w', encoding=\"cp1251\") as file:\n",
    "                file.write(str(secs))"
   ]
  },
  {
   "cell_type": "code",
   "execution_count": null,
   "id": "7dd96b4e",
   "metadata": {
    "cellId": "1uoazf7nvu72dagphnr19w"
   },
   "outputs": [],
   "source": []
  },
  {
   "cell_type": "code",
   "execution_count": null,
   "id": "f39acce2",
   "metadata": {
    "cellId": "3evfmrp0ek3s5ufkuaw4im"
   },
   "outputs": [],
   "source": []
  },
  {
   "cell_type": "markdown",
   "id": "517b78a9",
   "metadata": {
    "cellId": "f0og2j50fg75fap832mfc"
   },
   "source": [
    "# Get results"
   ]
  },
  {
   "cell_type": "code",
   "execution_count": 58,
   "id": "2cb12233",
   "metadata": {
    "cellId": "2dq9gbrssy8jnpbs7yci8"
   },
   "outputs": [],
   "source": [
    "import pandas as pd"
   ]
  },
  {
   "cell_type": "code",
   "execution_count": 59,
   "id": "38345e4c",
   "metadata": {
    "cellId": "xe4clgo659ce435x5jj2vq"
   },
   "outputs": [],
   "source": [
    "# Данная функция основана на https://github.com/felixkreuk/UnsupSeg/blob/master/utils.py\n",
    "\n",
    "class RMetrics1(nn.Module):\n",
    "    def __init__(self, eps = 1e-5, tolerance = 2, sampling_rate = 16000):\n",
    "        super(RMetrics1, self).__init__()\n",
    "        self.tolerance = tolerance\n",
    "        self.eps = eps\n",
    "        self.sampling_rate = sampling_rate\n",
    "    \n",
    "    def calculate_stride(self, isz, config):\n",
    "        pad = 0\n",
    "        insize = isz\n",
    "        totstride = 1\n",
    "        sec_per_frame = 1/self.sampling_rate\n",
    "\n",
    "        for kernel, stride in zip(config.conv_kernel, config.conv_stride):\n",
    "            outsize = (insize + 2*pad - 1*(kernel-1)-1) / stride + 1\n",
    "            insize = outsize\n",
    "            totstride = totstride * stride\n",
    "\n",
    "        RFsize = isz - (outsize - 1) * totstride\n",
    "\n",
    "        ms_per_frame = sec_per_frame*RFsize*1000\n",
    "        ms_stride = sec_per_frame*totstride*1000\n",
    "        return outsize, totstride, RFsize, ms_per_frame, ms_stride\n",
    "        \n",
    "    def get_frames(self, secs, stride):\n",
    "        frames = [[int(i*self.sampling_rate/stride) for i in sec] for sec in secs]\n",
    "        return frames\n",
    "        \n",
    "    def make_true_boundaries(self, secs, boundaries, stride):\n",
    "        frames = self.get_frames(secs, stride)\n",
    "        true_boundaries = torch.zeros(size = boundaries.shape)\n",
    "        for num_frame, frame in enumerate(frames):\n",
    "            for i in frame:\n",
    "                true_boundaries[num_frame, i] = 1\n",
    "        return true_boundaries.long().detach().numpy()\n",
    "    \n",
    "    def get_sec_bounds(self, b, stride, attention_mask = None):\n",
    "        if type(b)==torch.Tensor:\n",
    "            b1 = b.long().detach().cpu().numpy()\n",
    "        else:\n",
    "            b1 = b\n",
    "        \n",
    "        if attention_mask is not None:\n",
    "            b1 = b1*attention_mask.long().detach().cpu().numpy()\n",
    "            \n",
    "        frames_pred = []\n",
    "        secs_pred = []\n",
    "        for i in range(b1.shape[0]):\n",
    "            frames = np.where(b1[i, :] == 1)[0]\n",
    "            secs = [i*stride/self.sampling_rate for i in frames]\n",
    "            frames_pred.append(frames)\n",
    "            secs_pred.append(secs)\n",
    "        return frames_pred, secs_pred\n",
    "    \n",
    "    def get_precision_recall_frames(self, true_boundaries, b, attention_mask = None):\n",
    "        if type(b)==torch.Tensor:\n",
    "            b1 = b.long().detach().numpy()\n",
    "        else:\n",
    "            b1 = b\n",
    "            \n",
    "        if attention_mask is not None:\n",
    "            b1 = b1*attention_mask.long().detach().cpu().numpy()\n",
    "            \n",
    "        recall = recall_score(true_boundaries.flatten(), b1.flatten())\n",
    "        pre = precision_score(true_boundaries.flatten(), b1.flatten())\n",
    "        f_score = f1_score(true_boundaries.flatten(), b1.flatten())\n",
    "        return recall, pre, f_score\n",
    "    \n",
    "    def get_stats(self, frames_true, frames_pred):\n",
    "        \n",
    "        # Утащено отсюда: https://github.com/felixkreuk/UnsupSeg/blob/68c2c7b9bd49f3fb8f51c5c2f4d5aa85f251eaa8/utils.py#L69\n",
    "        precision_counter = 0 \n",
    "        recall_counter = 0\n",
    "        pred_counter = 0 \n",
    "        gt_counter = 0\n",
    "\n",
    "        for (y, yhat) in zip(frames_true, frames_pred):\n",
    "            for yhat_i in yhat:\n",
    "                min_dist = np.abs(np.array(y) - yhat_i).min()\n",
    "                precision_counter += (min_dist <= self.tolerance)\n",
    "            for y_i in y:\n",
    "                min_dist = np.abs(np.array(yhat) - y_i).min()\n",
    "                recall_counter += (min_dist <= self.tolerance)\n",
    "            pred_counter += len(yhat)\n",
    "            gt_counter += len(y)\n",
    "\n",
    "        return precision_counter, recall_counter, pred_counter, gt_counter\n",
    "    \n",
    "    def calc_metr(self, precision_counter, recall_counter, pred_counter, gt_counter):\n",
    "\n",
    "        # Утащено отсюда: https://github.com/felixkreuk/UnsupSeg/blob/68c2c7b9bd49f3fb8f51c5c2f4d5aa85f251eaa8/utils.py#L69\n",
    "        EPS = 1e-7\n",
    "\n",
    "        precision = precision_counter / (pred_counter + self.eps)\n",
    "        recall = recall_counter / (gt_counter + self.eps)\n",
    "        f1 = 2 * (precision * recall) / (precision + recall + self.eps)\n",
    "\n",
    "        os = recall / (precision + EPS) - 1\n",
    "        r1 = np.sqrt((1 - recall) ** 2 + os ** 2)\n",
    "        r2 = (-os + recall - 1) / (np.sqrt(2))\n",
    "        rval = 1 - (np.abs(r1) + np.abs(r2)) / 2\n",
    "\n",
    "        return precision, recall, f1, rval\n",
    "    \n",
    "    def get_metrics(self, true_secs, b, seq_len, config, attention_mask = None, \n",
    "                    return_secs=False):\n",
    "        \n",
    "        outsize, totstride, RFsize, ms_per_frame, ms_stride = self.calculate_stride(seq_len, config)\n",
    "#         print(seq_len, outsize, totstride, RFsize, ms_per_frame, ms_stride)\n",
    "        frames_true = self.get_frames(true_secs, totstride)\n",
    "        frames_pred, secs_pred = self.get_sec_bounds(b, totstride, attention_mask = attention_mask)\n",
    "        precision_counter, recall_counter, pred_counter, gt_counter = self.get_stats(frames_true, frames_pred)\n",
    "        precision, recall, f1, rval = self.calc_metr(precision_counter, recall_counter, pred_counter, gt_counter)\n",
    "        if return_secs:\n",
    "            return precision, recall, f1, rval, secs_pred\n",
    "        else:\n",
    "            return precision, recall, f1, rval\n",
    "        \n",
    "    def get_metrics_secs(self, true_secs, secs_pred, totstride = 320):\n",
    "        \n",
    "        frames_true = self.get_frames(true_secs, totstride)\n",
    "        frames_pred = self.get_frames(secs_pred, totstride)\n",
    "        precision_counter, recall_counter, pred_counter, gt_counter = self.get_stats(frames_true, frames_pred)\n",
    "        precision, recall, f1, rval = self.calc_metr(precision_counter, recall_counter, pred_counter, gt_counter)\n",
    "        return precision, recall, f1, rval\n",
    "    \n",
    "    "
   ]
  },
  {
   "cell_type": "code",
   "execution_count": 60,
   "id": "5718ae2c",
   "metadata": {
    "cellId": "hp5tutgcn6wwncuv7t8q"
   },
   "outputs": [],
   "source": [
    "def read_true_file(segment_file):\n",
    "    with open(segment_file, 'r', encoding=\"cp1251\") as file:\n",
    "        tt = file.read()\n",
    "\n",
    "    boundaries = set()\n",
    "    mm = [i for i in tt.split('\\n') if len(i)>0]\n",
    "    for i in mm:\n",
    "        boundaries.add(eval(i.split()[0])/16000)\n",
    "        boundaries.add(eval(i.split()[1])/16000)\n",
    "    boundaries = sorted(list(boundaries))\n",
    "    return boundaries"
   ]
  },
  {
   "cell_type": "code",
   "execution_count": 61,
   "id": "d5d80302",
   "metadata": {
    "cellId": "bud28pt7r9l6iduvun3cns"
   },
   "outputs": [],
   "source": [
    "def read_pred_file(segment_file):\n",
    "    with open(segment_file, 'r', encoding=\"cp1251\") as file:\n",
    "        tt = file.read()\n",
    "    boundaries = eval(tt)\n",
    "    if len(boundaries)>1:\n",
    "        return boundaries[1:]\n",
    "    else:\n",
    "        return boundaries"
   ]
  },
  {
   "cell_type": "code",
   "execution_count": 79,
   "id": "6afbd971",
   "metadata": {
    "cellId": "x8zsyyjb1mj57abx8rjmh"
   },
   "outputs": [],
   "source": [
    "path_to_save = 'save_results_path_timit'\n",
    "path_results = os.path.join(path_to_save, 'Results')\n",
    "\n",
    "folders = ['train', 'valid', 'test']\n",
    "timit_path = './timit/data'"
   ]
  },
  {
   "cell_type": "code",
   "execution_count": null,
   "id": "b0249483",
   "metadata": {
    "cellId": "d0ywhbo8cpal3iijtf3wsm"
   },
   "outputs": [],
   "source": []
  },
  {
   "cell_type": "code",
   "execution_count": 80,
   "id": "256477db",
   "metadata": {
    "cellId": "cm4cd9tyjmgmsykyj9lqsm"
   },
   "outputs": [
    {
     "name": "stderr",
     "output_type": "stream",
     "text": [
      "100%|██████████| 4158/4158 [00:11<00:00, 372.37it/s]\n",
      "100%|██████████| 462/462 [00:00<00:00, 512.36it/s]\n",
      "100%|██████████| 1680/1680 [00:03<00:00, 427.91it/s]\n"
     ]
    }
   ],
   "source": [
    "result_dataframes = []\n",
    "metr = RMetrics1()\n",
    "\n",
    "for folder in folders:\n",
    "    true_files = ['./'+i.replace('_', '/').replace('.txt', '.PHN') for i in os.listdir(os.path.join(path_results, folder))]\n",
    "    idss = os.listdir(os.path.join(path_results, folder))\n",
    "\n",
    "    secs_preds = []\n",
    "    secs_trues = []\n",
    "\n",
    "    for num in tqdm(range(len(true_files))):\n",
    "\n",
    "        bound_true = read_true_file(true_files[num])\n",
    "        bound_pred = read_pred_file(os.path.join(os.path.join(path_results, folder), idss[num]))\n",
    "\n",
    "        secs_trues.append(bound_true)\n",
    "        secs_preds.append(bound_pred)\n",
    "   \n",
    "    precision, recall, f1, rval = metr.get_metrics_secs(secs_trues, secs_preds)\n",
    "    \n",
    "    datafr = pd.DataFrame([folder, \n",
    "                           precision, recall, \n",
    "                           f1, rval]).T.rename(columns = {0:'type', \n",
    "                                                          1:'precision',\n",
    "                                                          2:'recall', \n",
    "                                                          3:'f1', \n",
    "                                                          4:'rval'})\n",
    "    \n",
    "    result_dataframes.append(datafr)"
   ]
  },
  {
   "cell_type": "code",
   "execution_count": 81,
   "id": "9a6dd39a",
   "metadata": {
    "cellId": "io3qu4ej7xhgumo4o7364"
   },
   "outputs": [],
   "source": [
    "result_df = pd.concat(result_dataframes, ignore_index = True)"
   ]
  },
  {
   "cell_type": "code",
   "execution_count": 82,
   "id": "5151f05e",
   "metadata": {
    "cellId": "gjw4pyt84ckyvqzidqv649"
   },
   "outputs": [
    {
     "data": {
      "text/html": [
       "<div>\n",
       "<style scoped>\n",
       "    .dataframe tbody tr th:only-of-type {\n",
       "        vertical-align: middle;\n",
       "    }\n",
       "\n",
       "    .dataframe tbody tr th {\n",
       "        vertical-align: top;\n",
       "    }\n",
       "\n",
       "    .dataframe thead th {\n",
       "        text-align: right;\n",
       "    }\n",
       "</style>\n",
       "<table border=\"1\" class=\"dataframe\">\n",
       "  <thead>\n",
       "    <tr style=\"text-align: right;\">\n",
       "      <th></th>\n",
       "      <th>type</th>\n",
       "      <th>precision</th>\n",
       "      <th>recall</th>\n",
       "      <th>f1</th>\n",
       "      <th>rval</th>\n",
       "    </tr>\n",
       "  </thead>\n",
       "  <tbody>\n",
       "    <tr>\n",
       "      <th>0</th>\n",
       "      <td>train</td>\n",
       "      <td>0.956267</td>\n",
       "      <td>0.837172</td>\n",
       "      <td>0.89276</td>\n",
       "      <td>0.883966</td>\n",
       "    </tr>\n",
       "    <tr>\n",
       "      <th>1</th>\n",
       "      <td>valid</td>\n",
       "      <td>0.951883</td>\n",
       "      <td>0.838925</td>\n",
       "      <td>0.891836</td>\n",
       "      <td>0.884973</td>\n",
       "    </tr>\n",
       "    <tr>\n",
       "      <th>2</th>\n",
       "      <td>test</td>\n",
       "      <td>0.956959</td>\n",
       "      <td>0.834911</td>\n",
       "      <td>0.891774</td>\n",
       "      <td>0.882416</td>\n",
       "    </tr>\n",
       "  </tbody>\n",
       "</table>\n",
       "</div>"
      ],
      "text/plain": [
       "    type precision    recall        f1      rval\n",
       "0  train  0.956267  0.837172   0.89276  0.883966\n",
       "1  valid  0.951883  0.838925  0.891836  0.884973\n",
       "2   test  0.956959  0.834911  0.891774  0.882416"
      ]
     },
     "execution_count": 82,
     "metadata": {},
     "output_type": "execute_result"
    }
   ],
   "source": [
    "result_df"
   ]
  },
  {
   "cell_type": "code",
   "execution_count": 83,
   "id": "c164b9e3",
   "metadata": {
    "cellId": "qr09zqg94ipjnlg74vazd"
   },
   "outputs": [],
   "source": [
    "result_df.to_csv('results_timit.csv')"
   ]
  },
  {
   "cell_type": "code",
   "execution_count": null,
   "id": "767c176a",
   "metadata": {
    "cellId": "hboyimhubh9tkrcohoy9o"
   },
   "outputs": [],
   "source": []
  }
 ],
 "metadata": {
  "kernelspec": {
   "display_name": "Yandex DataSphere Kernel",
   "language": "python",
   "name": "python3"
  },
  "language_info": {
   "codemirror_mode": {
    "name": "ipython",
    "version": 3
   },
   "file_extension": ".py",
   "mimetype": "text/x-python",
   "name": "python",
   "nbconvert_exporter": "python",
   "pygments_lexer": "ipython3",
   "version": "3.7.7"
  },
  "notebookId": "11b49298-14cb-427e-931c-6460f992efdd",
  "notebookPath": "Predict_timit.ipynb"
 },
 "nbformat": 4,
 "nbformat_minor": 5
}
