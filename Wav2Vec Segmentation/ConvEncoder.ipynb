{
 "cells": [
  {
   "cell_type": "code",
   "execution_count": 96,
   "id": "b3d37db9",
   "metadata": {
    "cellId": "i6u5gpwmitku14fs3fk3"
   },
   "outputs": [],
   "source": [
    "import json\n",
    "import os\n",
    "import torch\n",
    "from tqdm import tqdm\n",
    "import scipy.io.wavfile as wav\n",
    "\n",
    "from torch import nn\n",
    "import torch.nn.functional as F\n",
    "from torch import optim\n",
    "from torch.utils.data import Dataset, DataLoader, Sampler\n",
    "from torch.utils.tensorboard import SummaryWriter\n",
    "\n",
    "import numpy as np"
   ]
  },
  {
   "cell_type": "code",
   "execution_count": 97,
   "id": "e89777ce",
   "metadata": {
    "cellId": "wgp1ano5u1pu0925cksxda"
   },
   "outputs": [],
   "source": [
    "from models import ConvFeatureEncoder, SegmentsRepr, SegmentsEncoder, EncoderModel, SegmentPredictor, FinModel\n",
    "from utils import ConstrativeLoss, sample_negatives\n",
    "from trainer import Trainer"
   ]
  },
  {
   "cell_type": "code",
   "execution_count": null,
   "id": "5d69e547",
   "metadata": {
    "cellId": "w898fzi5ztqvwetyduf3m"
   },
   "outputs": [],
   "source": []
  },
  {
   "cell_type": "code",
   "execution_count": 98,
   "id": "f1742633",
   "metadata": {
    "cellId": "shbbgbohvv9fop0zkzloss"
   },
   "outputs": [],
   "source": [
    "m = FinModel()"
   ]
  },
  {
   "cell_type": "code",
   "execution_count": null,
   "id": "bd4906ac",
   "metadata": {
    "cellId": "eqj16ycucohqxgp43qdnre"
   },
   "outputs": [],
   "source": []
  },
  {
   "cell_type": "code",
   "execution_count": 99,
   "id": "93c61bfb",
   "metadata": {
    "cellId": "eszl2y1500uul7do6pk5dm"
   },
   "outputs": [
    {
     "name": "stdout",
     "output_type": "stream",
     "text": [
      "The tensorboard extension is already loaded. To reload it, use:\n",
      "  %reload_ext tensorboard\n"
     ]
    }
   ],
   "source": [
    "%load_ext tensorboard"
   ]
  },
  {
   "cell_type": "code",
   "execution_count": 100,
   "id": "6e7afe1f",
   "metadata": {
    "cellId": "f4u2cf3rpj7qk4wwoewtg"
   },
   "outputs": [],
   "source": [
    "class Dataset_check:\n",
    "    \n",
    "    def __init__(self, path, manifest_path, train = True):\n",
    "        with open(manifest_path, 'r') as json_file:\n",
    "            manifest = json.load(json_file)\n",
    "        if train:\n",
    "            self.manifest = manifest[:8000]\n",
    "        else:\n",
    "            self.manifest = manifest[8000:]\n",
    "        self.path = path\n",
    "    \n",
    "    def __len__(self):\n",
    "        return len(self.manifest)\n",
    "    \n",
    "    def __getitem__(self, ind):\n",
    "        audio_filepath = self.manifest[ind]['audio_filepath']\n",
    "        audio_file = os.path.join(self.path, audio_filepath)\n",
    "        sampling_rate, signal = wav.read(audio_file)\n",
    "        \n",
    "        return {'sample': signal, 'length': len(signal)}"
   ]
  },
  {
   "cell_type": "code",
   "execution_count": 101,
   "id": "69989b04",
   "metadata": {
    "cellId": "t9oaop97jsl68964a8w7dl"
   },
   "outputs": [],
   "source": [
    "class Dataset:\n",
    "    \n",
    "    def __init__(self, path, manifest_path, train = True):\n",
    "        with open(manifest_path, 'r') as json_file:\n",
    "            manifest = json.load(json_file)\n",
    "        self.manifest = manifest\n",
    "        self.path = path\n",
    "    \n",
    "    def __len__(self):\n",
    "        return len(self.manifest)\n",
    "    \n",
    "    def __getitem__(self, ind):\n",
    "        audio_filepath = self.manifest[ind]['audio_filepath']\n",
    "        audio_file = os.path.join(self.path, audio_filepath)\n",
    "        sampling_rate, signal = wav.read(audio_file)\n",
    "        \n",
    "        return {'sample': signal, 'length': len(signal)}"
   ]
  },
  {
   "cell_type": "code",
   "execution_count": 83,
   "id": "60a53ee0",
   "metadata": {
    "cellId": "n1quvspax2nwqyfh295ykm"
   },
   "outputs": [],
   "source": [
    "def collate_fn(samples):\n",
    "    \n",
    "    max_length = max([sample['length'] for sample in samples])\n",
    "    samples1 = []\n",
    "    lengths = []\n",
    "    samplings = []\n",
    "    for sample in samples:\n",
    "        to_add_l = max_length-sample['length']\n",
    "        sample1 = list(sample['sample'])+[0]*to_add_l\n",
    "        samples1.append(torch.Tensor(sample1).unsqueeze(0))\n",
    "        lengths.append(sample['length'])\n",
    "        \n",
    "    batch = torch.cat(samples1)\n",
    "    lengths = torch.Tensor(lengths)\n",
    "    return dict(batch=batch, lengths=lengths)"
   ]
  },
  {
   "cell_type": "code",
   "execution_count": null,
   "id": "9eb9111b",
   "metadata": {
    "cellId": "cft48qw29swbbanf74eun7"
   },
   "outputs": [],
   "source": []
  },
  {
   "cell_type": "code",
   "execution_count": null,
   "id": "5a21433f",
   "metadata": {
    "cellId": "bdevhsaz24inb0bsy5pzm"
   },
   "outputs": [],
   "source": []
  },
  {
   "cell_type": "code",
   "execution_count": 84,
   "id": "69e658a7",
   "metadata": {
    "cellId": "lex8u0jhm0mvtx6zg4hi6"
   },
   "outputs": [],
   "source": [
    "train_dataset = Dataset('test/crowd', 'test/crowd/manifest.json', train = True)\n",
    "val_dataset = Dataset('test/crowd', 'test/crowd/manifest.json', train = False)\n",
    "train_loader = DataLoader(train_dataset, shuffle=True, batch_size=8, collate_fn = collate_fn)\n",
    "val_loader = DataLoader(val_dataset, shuffle=False, batch_size=8, collate_fn = collate_fn)"
   ]
  },
  {
   "cell_type": "code",
   "execution_count": 85,
   "id": "6de4ba54",
   "metadata": {
    "cellId": "qwmnu4rvf8eadznhut8j9u"
   },
   "outputs": [],
   "source": [
    "# train_dataset = Dataset('train/', 'manifest_train.json', train = True)\n",
    "# val_dataset = Dataset('train/', 'manifest_val.json', train = False)\n",
    "# train_loader = DataLoader(train_dataset, shuffle=True, batch_size=8, collate_fn = collate_fn)\n",
    "# val_loader = DataLoader(val_dataset, shuffle=False, batch_size=8, collate_fn = collate_fn)"
   ]
  },
  {
   "cell_type": "code",
   "execution_count": 86,
   "id": "db0f69bc",
   "metadata": {
    "cellId": "s1io02vhhw42fcnn5gavq"
   },
   "outputs": [],
   "source": [
    "for batch in train_loader:\n",
    "    break"
   ]
  },
  {
   "cell_type": "code",
   "execution_count": 87,
   "id": "d1f5f4db",
   "metadata": {
    "cellId": "n4pxyxrweajfg9zxpnnsc"
   },
   "outputs": [
    {
     "data": {
      "text/plain": [
       "{'batch': tensor([[-18., -19.,  -8.,  ...,   0.,   0.,   0.],\n",
       "         [  0.,   0.,   0.,  ...,   0.,   0.,   0.],\n",
       "         [  1.,   1.,   0.,  ...,   0.,   0.,   0.],\n",
       "         ...,\n",
       "         [  0.,   0.,   0.,  ...,   0.,   0.,   0.],\n",
       "         [  0.,   0.,   0.,  ...,   0.,   0.,   0.],\n",
       "         [ 22.,   4.,  -6.,  ...,   0.,   0.,   0.]]),\n",
       " 'lengths': tensor([17600., 88000., 53440., 57280., 93988., 36397., 35520., 37120.])}"
      ]
     },
     "metadata": {},
     "output_type": "display_data"
    }
   ],
   "source": [
    "batch"
   ]
  },
  {
   "cell_type": "code",
   "execution_count": 88,
   "id": "65e300ff",
   "metadata": {
    "cellId": "5qgjyr172cnl7gomz1qsjb"
   },
   "outputs": [],
   "source": [
    "x = batch['batch']\n",
    "lengths = batch['lengths']"
   ]
  },
  {
   "cell_type": "code",
   "execution_count": 89,
   "id": "249199d0",
   "metadata": {
    "cellId": "pbniy0v6bnkjewfm45rto"
   },
   "outputs": [],
   "source": [
    "xx = m(x)"
   ]
  },
  {
   "cell_type": "code",
   "execution_count": 90,
   "id": "6fea93f8",
   "metadata": {
    "cellId": "cnhjd9lmclpuqvjmg85ch"
   },
   "outputs": [],
   "source": [
    "# xx = m.compute_all(x, num_epoch=0)"
   ]
  },
  {
   "cell_type": "code",
   "execution_count": 91,
   "id": "8ac679c8",
   "metadata": {
    "cellId": "ln0qak23f6ozt7gphvzwf"
   },
   "outputs": [],
   "source": [
    "# xx"
   ]
  },
  {
   "cell_type": "code",
   "execution_count": null,
   "id": "c98c367d",
   "metadata": {
    "cellId": "276elaa7g72q6zud06bdzo"
   },
   "outputs": [],
   "source": []
  },
  {
   "cell_type": "code",
   "execution_count": null,
   "id": "a276e978",
   "metadata": {
    "cellId": "xbv1hkzrzco1j1pyvfc5bki"
   },
   "outputs": [],
   "source": []
  },
  {
   "cell_type": "code",
   "execution_count": 92,
   "id": "f97a6872",
   "metadata": {
    "cellId": "p8sn5faqmfk6da9fcf3ty"
   },
   "outputs": [
    {
     "name": "stderr",
     "output_type": "stream",
     "text": [
      "/kernel/lib/python3.7/site-packages/ml_kernel/kernel.py:862: UserWarning: The following variables cannot be serialized: trainer\n",
      "  warnings.warn(message)\n"
     ]
    }
   ],
   "source": [
    "train_dataset = Dataset_check('test/crowd/', 'test/crowd/manifest.json', train = True)\n",
    "val_dataset = Dataset_check('test/crowd', 'test/crowd/manifest.json', train = False)\n",
    "train_loader = DataLoader(train_dataset, shuffle=True, batch_size=8, collate_fn = collate_fn)\n",
    "val_loader = DataLoader(val_dataset, shuffle=False, batch_size=8, collate_fn = collate_fn)\n",
    "\n",
    "model = FinModel()\n",
    "opt = torch.optim.Adam(model.parameters(), lr=0.0001)\n",
    "lr_sched = torch.optim.lr_scheduler.ReduceLROnPlateau(opt, mode='min', factor=0.1,\n",
    "                                                      patience=5, threshold=0.0001, threshold_mode='rel',\n",
    "                                                      cooldown=0, min_lr=0, eps=1e-08, verbose=False)\n",
    "trainer = Trainer(model=model,\n",
    "                  optimizer=opt,\n",
    "                  train_dataloader=train_loader,\n",
    "                  val_dataloader=val_loader,\n",
    "                  tboard_log_dir='./tboard_logs/',\n",
    "                  lr_scheduler=lr_sched,\n",
    "                  lr_scheduler_type='per_epoch',\n",
    "                  device = 'cpu')\n"
   ]
  },
  {
   "cell_type": "code",
   "execution_count": 93,
   "id": "2e0ada3a",
   "metadata": {
    "cellId": "ql9nk4x3fsjih50rd4rvvg"
   },
   "outputs": [
    {
     "name": "stderr",
     "output_type": "stream",
     "text": [
      "/kernel/lib/python3.7/site-packages/ml_kernel/kernel.py:18: WavFileWarning: Chunk (non-data) not understood, skipping it.\n",
      "  from typing import Optional, Dict, Set, Iterator, Callable, cast\n",
      "/kernel/lib/python3.7/site-packages/ml_kernel/kernel.py:862: UserWarning: The following variables cannot be serialized: trainer\n",
      "  warnings.warn(message)\n"
     ]
    }
   ],
   "source": [
    "for batch in train_loader:\n",
    "    break"
   ]
  },
  {
   "cell_type": "code",
   "execution_count": 94,
   "id": "06ed8098",
   "metadata": {
    "cellId": "2botvvb0yv3ctojl03cxx"
   },
   "outputs": [
    {
     "data": {
      "text/plain": [
       "Launching TensorBoard..."
      ]
     },
     "metadata": {},
     "output_type": "display_data"
    },
    {
     "data": {
      "text/html": [
       "\n",
       "      <iframe id=\"tensorboard-frame-9a08c373d8e7e7af\" width=\"100%\" height=\"800\" frameborder=\"0\">\n",
       "      </iframe>\n",
       "      <script>\n",
       "        (function() {\n",
       "          const frame = document.getElementById(\"tensorboard-frame-9a08c373d8e7e7af\");\n",
       "          const url = new URL(\"/\", window.location);\n",
       "          const port = 6006;\n",
       "          if (port) {\n",
       "            url.port = port;\n",
       "          }\n",
       "          frame.src = url;\n",
       "        })();\n",
       "      </script>\n",
       "    "
      ],
      "text/plain": [
       "<IPython.core.display.HTML object>"
      ]
     },
     "metadata": {},
     "output_type": "display_data"
    }
   ],
   "source": [
    "%tensorboard --logdir ./tboard_logs"
   ]
  },
  {
   "cell_type": "code",
   "execution_count": 95,
   "id": "a1c1fd74",
   "metadata": {
    "cellId": "4byinmoae6emwi16zue17q"
   },
   "outputs": [
    {
     "name": "stdout",
     "output_type": "stream",
     "text": [
      "Val\n",
      "Val\n",
      "Val\n",
      "Val\n",
      "Val\n",
      "Val\n",
      "Val\n",
      "Val\n",
      "Val\n",
      "Val\n",
      "Val\n",
      "Val\n",
      "Val\n",
      "Val\n",
      "Val\n",
      "Val\n",
      "Val\n",
      "Val\n",
      "Val\n",
      "Val\n"
     ]
    },
    {
     "name": "stderr",
     "output_type": "stream",
     "text": [
      ", Set, Iterator, Callable, cast\n",
      " 51%|█████     | 507/1000 [27:54<35:09,  4.28s/it]/kernel/lib/python3.7/site-packages/ml_kernel/kernel.py:18: WavFileWarning: Chunk (non-data) not understood, skipping it.\n",
      "  from typing import Optional, Dict, Set, Iterator, Callable, cast\n",
      " 54%|█████▍    | 541/1000 [29:35<25:42,  3.36s/it]/kernel/lib/python3.7/site-packages/ml_kernel/kernel.py:18: WavFileWarning: Chunk (non-data) not understood, skipping it.\n",
      "  from typing import Optional, Dict, Set, Iterator, Callable, cast\n",
      " 57%|█████▋    | 568/1000 [31:09<21:55,  3.04s/it]/kernel/lib/python3.7/site-packages/ml_kernel/kernel.py:18: WavFileWarning: Chunk (non-data) not understood, skipping it.\n",
      "  from typing import Optional, Dict, Set, Iterator, Callable, cast\n",
      " 57%|█████▊    | 575/1000 [31:35<22:00,  3.11s/it]/kernel/lib/python3.7/site-packages/ml_kernel/kernel.py:18: WavFileWarning: Chunk (non-data) not understood, skipping it.\n",
      "  from typing import Optional, Dict, Set, Iterator, Callable, cast\n",
      " 64%|██████▍   | 640/1000 [34:47<15:46,  2.63s/it]/kernel/lib/python3.7/site-packages/ml_kernel/kernel.py:18: WavFileWarning: Chunk (non-data) not understood, skipping it.\n",
      "  from typing import Optional, Dict, Set, Iterator, Callable, cast\n",
      " 64%|██████▍   | 645/1000 [35:03<17:31,  2.96s/it]/kernel/lib/python3.7/site-packages/ml_kernel/kernel.py:18: WavFileWarning: Chunk (non-data) not understood, skipping it.\n",
      "  from typing import Optional, Dict, Set, Iterator, Callable, cast\n",
      " 67%|██████▋   | 669/1000 [36:26<18:06,  3.28s/it]/kernel/lib/python3.7/site-packages/ml_kernel/kernel.py:18: WavFileWarning: Chunk (non-data) not understood, skipping it.\n",
      "  from typing import Optional, Dict, Set, Iterator, Callable, cast\n",
      " 68%|██████▊   | 678/1000 [36:55<12:58,  2.42s/it]/kernel/lib/python3.7/site-packages/ml_kernel/kernel.py:18: WavFileWarning: Chunk (non-data) not understood, skipping it.\n",
      "  from typing import Optional, Dict, Set, Iterator, Callable, cast\n",
      " 68%|██████▊   | 685/1000 [37:16<13:37,  2.59s/it]/kernel/lib/python3.7/site-packages/ml_kernel/kernel.py:18: WavFileWarning: Chunk (non-data) not understood, skipping it.\n",
      "  from typing import Optional, Dict, Set, Iterator, Callable, cast\n",
      " 69%|██████▉   | 688/1000 [37:25<14:24,  2.77s/it]/kernel/lib/python3.7/site-packages/ml_kernel/kernel.py:18: WavFileWarning: Chunk (non-data) not understood, skipping it.\n",
      "  from typing import Optional, Dict, Set, Iterator, Callable, cast\n",
      " 72%|███████▎  | 725/1000 [39:22<16:02,  3.50s/it]/kernel/lib/python3.7/site-packages/ml_kernel/kernel.py:18: WavFileWarning: Chunk (non-data) not understood, skipping it.\n",
      "  from typing import Optional, Dict, Set, Iterator, Callable, cast\n",
      " 77%|███████▋  | 769/1000 [41:45<11:26,  2.97s/it]/kernel/lib/python3.7/site-packages/ml_kernel/kernel.py:18: WavFileWarning: Chunk (non-data) not understood, skipping it.\n",
      "  from typing import Optional, Dict, Set, Iterator, Callable, cast\n",
      " 78%|███████▊  | 783/1000 [42:29<10:16,  2.84s/it]/kernel/lib/python3.7/site-packages/ml_kernel/kernel.py:18: WavFileWarning: Chunk (non-data) not understood, skipping it.\n",
      "  from typing import Optional, Dict, Set, Iterator, Callable, cast\n",
      " 84%|████████▍ | 844/1000 [45:47<09:10,  3.53s/it]/kernel/lib/python3.7/site-packages/ml_kernel/kernel.py:18: WavFileWarning: Chunk (non-data) not understood, skipping it.\n",
      "  from typing import Optional, Dict, Set, Iterator, Callable, cast\n",
      " 87%|████████▋ | 867/1000 [47:07<06:35,  2.98s/it]/kernel/lib/python3.7/site-packages/ml_kernel/kernel.py:18: WavFileWarning: Chunk (non-data) not understood, skipping it.\n",
      "  from typing import Optional, Dict, Set, Iterator, Callable, cast\n",
      " 87%|████████▋ | 868/1000 [47:10<06:23,  2.90s/it]/kernel/lib/python3.7/site-packages/ml_kernel/kernel.py:18: WavFileWarning: Chunk (non-data) not understood, skipping it.\n",
      "  from typing import Optional, Dict, Set, Iterator, Callable, cast\n",
      " 89%|████████▉ | 893/1000 [48:21<06:05,  3.42s/it]/kernel/lib/python3.7/site-packages/ml_kernel/kernel.py:18: WavFileWarning: Chunk (non-data) not understood, skipping it.\n",
      "  from typing import Optional, Dict, Set, Iterator, Callable, cast\n",
      " 90%|█████████ | 900/1000 [48:41<04:40,  2.80s/it]/kernel/lib/python3.7/site-packages/ml_kernel/kernel.py:18: WavFileWarning: Chunk (non-data) not understood, skipping it.\n",
      "  from typing import Optional, Dict, Set, Iterator, Callable, cast\n",
      " 92%|█████████▏| 923/1000 [49:57<03:42,  2.89s/it]/kernel/lib/python3.7/site-packages/ml_kernel/kernel.py:18: WavFileWarning: Chunk (non-data) not understood, skipping it.\n",
      "  from typing import Optional, Dict, Set, Iterator, Callable, cast\n",
      " 93%|█████████▎| 934/1000 [50:28<03:09,  2.88s/it]/kernel/lib/python3.7/site-packages/ml_kernel/kernel.py:18: WavFileWarning: Chunk (non-data) not understood, skipping it.\n",
      "  from typing import Optional, Dict, Set, Iterator, Callable, cast\n",
      " 96%|█████████▌| 956/1000 [51:37<02:26,  3.33s/it]/kernel/lib/python3.7/site-packages/ml_kernel/kernel.py:18: WavFileWarning: Chunk (non-data) not understood, skipping it.\n",
      "  from typing import Optional, Dict, Set, Iterator, Callable, cast\n",
      "100%|█████████▉| 995/1000 [53:46<00:19,  3.80s/it]/kernel/lib/python3.7/site-packages/ml_kernel/kernel.py:18: WavFileWarning: Chunk (non-data) not understood, skipping it.\n",
      "  from typing import Optional, Dict, Set, Iterator, Callable, cast\n",
      "100%|██████████| 1000/1000 [54:00<00:00,  3.24s/it]\n",
      " 16%|█▌        | 39/250 [00:37<03:35,  1.02s/it]/kernel/lib/python3.7/site-packages/ml_kernel/kernel.py:18: WavFileWarning: Chunk (non-data) not understood, skipping it.\n",
      "  from typing import Optional, Dict, Set, Iterator, Callable, cast\n",
      " 23%|██▎       | 57/250 [00:54<03:24,  1.06s/it]/kernel/lib/python3.7/site-packages/ml_kernel/kernel.py:18: WavFileWarning: Chunk (non-data) not understood, skipping it.\n",
      "  from typing import Optional, Dict, Set, Iterator, Callable, cast\n",
      "/kernel/lib/python3.7/site-packages/ml_kernel/kernel.py:18: WavFileWarning: Chunk (non-data) not understood, skipping it.\n",
      "  from typing import Optional, Dict, Set, Iterator, Callable, cast\n",
      " 25%|██▍       | 62/250 [01:00<03:35,  1.15s/it]/kernel/lib/python3.7/site-packages/ml_kernel/kernel.py:18: WavFileWarning: Chunk (non-data) not understood, skipping it.\n",
      "  from typing import Optional, Dict, Set, Iterator, Callable, cast\n",
      " 32%|███▏      | 80/250 [01:17<02:27,  1.15it/s]/kernel/lib/python3.7/site-packages/ml_kernel/kernel.py:18: WavFileWarning: Chunk (non-data) not understood, skipping it.\n",
      "  from typing import Optional, Dict, Set, Iterator, Callable, cast\n",
      " 41%|████      | 103/250 [01:37<01:55,  1.27it/s]/kernel/lib/python3.7/site-packages/ml_kernel/kernel.py:18: WavFileWarning: Chunk (non-data) not understood, skipping it.\n",
      "  from typing import Optional, Dict, Set, Iterator, Callable, cast\n",
      " 43%|████▎     | 108/250 [01:42<01:52,  1.27it/s]/kernel/lib/python3.7/site-packages/ml_kernel/kernel.py:18: WavFileWarning: Chunk (non-data) not understood, skipping it.\n",
      "  from typing import Optional, Dict, Set, Iterator, Callable, cast\n",
      " 47%|████▋     | 118/250 [01:51<02:00,  1.10it/s]/kernel/lib/python3.7/site-packages/ml_kernel/kernel.py:18: WavFileWarning: Chunk (non-data) not understood, skipping it.\n",
      "  from typing import Optional, Dict, Set, Iterator, Callable, cast\n",
      " 66%|██████▋   | 166/250 [02:32<01:22,  1.01it/s]/kernel/lib/python3.7/site-packages/ml_kernel/kernel.py:18: WavFileWarning: Chunk (non-data) not understood, skipping it.\n",
      "  from typing import Optional, Dict, Set, Iterator, Callable, cast\n",
      " 75%|███████▌  | 188/250 [02:55<00:53,  1.16it/s]/kernel/lib/python3.7/site-packages/ml_kernel/kernel.py:18: WavFileWarning: Chunk (non-data) not understood, skipping it.\n",
      "  from typing import Optional, Dict, Set, Iterator, Callable, cast\n",
      " 77%|███████▋  | 192/250 [02:59<01:04,  1.11s/it]/kernel/lib/python3.7/site-packages/ml_kernel/kernel.py:18: WavFileWarning: Chunk (non-data) not understood, skipping it.\n",
      "  from typing import Optional, Dict, Set, Iterator, Callable, cast\n",
      " 80%|███████▉  | 199/250 [03:07<00:56,  1.12s/it]/kernel/lib/python3.7/site-packages/ml_kernel/kernel.py:18: WavFileWarning: Chunk (non-data) not understood, skipping it.\n",
      "  from typing import Optional, Dict, Set, Iterator, Callable, cast\n",
      " 86%|████████▌ | 215/250 [03:21<00:30,  1.14it/s]/kernel/lib/python3.7/site-packages/ml_kernel/kernel.py:18: WavFileWarning: Chunk (non-data) not understood, skipping it.\n",
      "  from typing import Optional, Dict, Set, Iterator, Callable, cast\n",
      " 92%|█████████▏| 231/250 [03:36<00:18,  1.01it/s]/kernel/lib/python3.7/site-packages/ml_kernel/kernel.py:18: WavFileWarning: Chunk (non-data) not understood, skipping it.\n",
      "  from typing import Optional, Dict, Set, Iterator, Callable, cast\n",
      " 97%|█████████▋| 243/250 [03:48<00:08,  1.16s/it]/kernel/lib/python3.7/site-packages/ml_kernel/kernel.py:18: WavFileWarning: Chunk (non-data) not understood, skipping it.\n",
      "  from typing import Optional, Dict, Set, Iterator, Callable, cast\n",
      " 98%|█████████▊| 245/250 [03:49<00:04,  1.07it/s]/kernel/lib/python3.7/site-packages/ml_kernel/kernel.py:18: WavFileWarning: Chunk (non-data) not understood, skipping it.\n",
      "  from typing import Optional, Dict, Set, Iterator, Callable, cast\n",
      "100%|██████████| 250/250 [03:54<00:00,  1.06it/s]\n",
      "  2%|▏         | 17/1000 [01:05<56:53,  3.47s/it]  /kernel/lib/python3.7/site-packages/ml_kernel/kernel.py:18: WavFileWarning: Chunk (non-data) not understood, skipping it.\n",
      "  from typing import Optional, Dict, Set, Iterator, Callable, cast\n",
      "  2%|▏         | 21/1000 [01:17<51:24,  3.15s/it]/kernel/lib/python3.7/site-packages/ml_kernel/kernel.py:18: WavFileWarning: Chunk (non-data) not understood, skipping it.\n",
      "  from typing import Optional, Dict, Set, Iterator, Callable, cast\n",
      "  3%|▎         | 29/1000 [01:44<57:11,  3.53s/it]  /kernel/lib/python3.7/site-packages/ml_kernel/kernel.py:18: WavFileWarning: Chunk (non-data) not understood, skipping it.\n",
      "  from typing import Optional, Dict, Set, Iterator, Callable, cast\n",
      "  6%|▌         | 62/1000 [03:28<51:15,  3.28s/it]/kernel/lib/python3.7/site-packages/ml_kernel/kernel.py:18: WavFileWarning: Chunk (non-data) not understood, skipping it.\n",
      "  from typing import Optional, Dict, Set, Iterator, Callable, cast\n",
      "  7%|▋         | 71/1000 [04:01<53:52,  3.48s/it]  /kernel/lib/python3.7/site-packages/ml_kernel/kernel.py:18: WavFileWarning: Chunk (non-data) not understood, skipping it.\n",
      "  from typing import Optional, Dict, Set, Iterator, Callable, cast\n",
      "/kernel/lib/python3.7/site-packages/ml_kernel/kernel.py:18: WavFileWarning: Chunk (non-data) not understood, skipping it.\n",
      "  from typing import Optional, Dict, Set, Iterator, Callable, cast\n",
      "  9%|▊         | 86/1000 [04:46<43:38,  2.87s/it]/kernel/lib/python3.7/site-packages/ml_kernel/kernel.py:18: WavFileWarning: Chunk (non-data) not understood, skipping it.\n",
      "  from typing import Optional, Dict, Set, Iterator, Callable, cast\n",
      "  9%|▉         | 89/1000 [04:53<39:48,  2.62s/it]/kernel/lib/python3.7/site-packages/ml_kernel/kernel.py:18: WavFileWarning: Chunk (non-data) not understood, skipping it.\n",
      "  from typing import Optional, Dict, Set, Iterator, Callable, cast\n",
      " 12%|█▏        | 116/1000 [06:31<59:24,  4.03s/it]/kernel/lib/python3.7/site-packages/ml_kernel/kernel.py:18: WavFileWarning: Chunk (non-data) not understood, skipping it.\n",
      "  from typing import Optional, Dict, Set, Iterator, Callable, cast\n",
      " 14%|█▎        | 135/1000 [07:35<49:49,  3.46s/it]/kernel/lib/python3.7/site-packages/ml_kernel/kernel.py:18: WavFileWarning: Chunk (non-data) not understood, skipping it.\n",
      "  from typing import Optional, Dict, Set, Iterator, Callable, cast\n",
      " 16%|█▌        | 161/1000 [09:05<44:11,  3.16s/it]/kernel/lib/python3.7/site-packages/ml_kernel/kernel.py:18: WavFileWarning: Chunk (non-data) not understood, skipping it.\n",
      "  from typing import Optional, Dict, Set, Iterator, Callable, cast\n",
      " 16%|█▋        | 165/1000 [09:17<43:40,  3.14s/it]/kernel/lib/python3.7/site-packages/ml_kernel/kernel.py:18: WavFileWarning: Chunk (non-data) not understood, skipping it.\n",
      "  from typing import Optional, Dict, Set, Iterator, Callable, cast\n",
      " 19%|█▊        | 187/1000 [10:22<42:51,  3.16s/it]/kernel/lib/python3.7/site-packages/ml_kernel/kernel.py:18: WavFileWarning: Chunk (non-data) not understood, skipping it.\n",
      "  from typing import Optional, Dict, Set, Iterator, Callable, cast\n",
      " 20%|█▉        | 197/1000 [10:51<36:49,  2.75s/it]/kernel/lib/python3.7/site-packages/ml_kernel/kernel.py:18: WavFileWarning: Chunk (non-data) not understood, skipping it.\n",
      "  from typing import Optional, Dict, Set, Iterator, Callable, cast\n",
      " 21%|██▏       | 214/1000 [11:54<47:29,  3.63s/it]/kernel/lib/python3.7/site-packages/ml_kernel/kernel.py:18: WavFileWarning: Chunk (non-data) not understood, skipping it.\n",
      "  from typing import Optional, Dict, Set, Iterator, Callable, cast\n",
      " 22%|██▏       | 220/1000 [12:13<47:18,  3.64s/it]/kernel/lib/python3.7/site-packages/ml_kernel/kernel.py:18: WavFileWarning: Chunk (non-data) not understood, skipping it.\n",
      "  from typing import Optional, Dict, Set, Iterator, Callable, cast\n",
      " 26%|██▌       | 258/1000 [14:16<46:34,  3.77s/it]/kernel/lib/python3.7/site-packages/ml_kernel/kernel.py:18: WavFileWarning: Chunk (non-data) not understood, skipping it.\n",
      "  from typing import Optional, Dict, Set, Iterator, Callable, cast\n",
      " 27%|██▋       | 271/1000 [14:59<38:54,  3.20s/it]/kernel/lib/python3.7/site-packages/ml_kernel/kernel.py:18: WavFileWarning: Chunk (non-data) not understood, skipping it.\n",
      "  from typing import Optional, Dict, Set, Iterator, Callable, cast\n",
      " 30%|██▉       | 295/1000 [16:11<36:24,  3.10s/it]/kernel/lib/python3.7/site-packages/ml_kernel/kernel.py:18: WavFileWarning: Chunk (non-data) not understood, skipping it.\n",
      "  from typing import Optional, Dict, Set, Iterator, Callable, cast\n",
      " 33%|███▎      | 329/1000 [18:09<40:12,  3.60s/it]/kernel/lib/python3.7/site-packages/ml_kernel/kernel.py:18: WavFileWarning: Chunk (non-data) not understood, skipping it.\n",
      "  from typing import Optional, Dict, Set, Iterator, Callable, cast\n",
      " 33%|███▎      | 331/1000 [18:17<41:12,  3.70s/it]/kernel/lib/python3.7/site-packages/ml_kernel/kernel.py:18: WavFileWarning: Chunk (non-data) not understood, skipping it.\n",
      "  from typing import Optional, Dict, Set, Iterator, Callable, cast\n",
      " 34%|███▍      | 341/1000 [18:49<44:32,  4.06s/it]/kernel/lib/python3.7/site-packages/ml_kernel/kernel.py:18: WavFileWarning: Chunk (non-data) not understood, skipping it.\n",
      "  from typing import Optional, Dict, Set, Iterator, Callable, cast\n",
      " 35%|███▌      | 351/1000 [19:20<31:20,  2.90s/it]/kernel/lib/python3.7/site-packages/ml_kernel/kernel.py:18: WavFileWarning: Chunk (non-data) not understood, skipping it.\n",
      "  from typing import Optional, Dict, Set, Iterator, Callable, cast\n",
      " 36%|███▌      | 362/1000 [19:57<39:23,  3.71s/it]/kernel/lib/python3.7/site-packages/ml_kernel/kernel.py:18: WavFileWarning: Chunk (non-data) not understood, skipping it.\n",
      "  from typing import Optional, Dict, Set, Iterator, Callable, cast\n",
      " 37%|███▋      | 374/1000 [20:40<38:05,  3.65s/it]/kernel/lib/python3.7/site-packages/ml_kernel/kernel.py:18: WavFileWarning: Chunk (non-data) not understood, skipping it.\n",
      "  from typing import Optional, Dict, Set, Iterator, Callable, cast\n",
      " 41%|████      | 411/1000 [22:27<27:53,  2.84s/it]/kernel/lib/python3.7/site-packages/ml_kernel/kernel.py:18: WavFileWarning: Chunk (non-data) not understood, skipping it.\n",
      "  from typing import Optional, Dict, Set, Iterator, Callable, cast\n",
      " 45%|████▌     | 450/1000 [24:37<32:47,  3.58s/it]/kernel/lib/python3.7/site-packages/ml_kernel/kernel.py:18: WavFileWarning: Chunk (non-data) not understood, skipping it.\n",
      "  from typing import Optional, Dict, Set, Iterator, Callable, cast\n",
      " 49%|████▉     | 492/1000 [27:02<27:39,  3.27s/it]/kernel/lib/python3.7/site-packages/ml_kernel/kernel.py:18: WavFileWarning: Chunk (non-data) not understood, skipping it.\n",
      "  from typing import Optional, Dict, Set, Iterator, Callable, cast\n",
      " 50%|████▉     | 499/1000 [27:19<25:50,  3.09s/it]/kernel/lib/python3.7/site-packages/ml_kernel/kernel.py:18: WavFileWarning: Chunk (non-data) not understood, skipping it.\n",
      "  from typing import Optional, Dict, Set, Iterator, Callable, cast\n",
      " 50%|█████     | 500/1000 [27:22<25:23,  3.05s/it]/kernel/lib/python3.7/site-packages/ml_kernel/kernel.py:18: WavFileWarning: Chunk (non-data) not understood, skipping it.\n",
      "  from typing import Optional, Dict, Set, Iterator, Callable, cast\n",
      " 51%|█████     | 511/1000 [27:58<31:50,  3.91s/it]/kernel/lib/python3.7/site-packages/ml_kernel/kernel.py:18: WavFileWarning: Chunk (non-data) not understood, skipping it.\n",
      "  from typing import Optional, Dict, Set, Iterator, Callable, cast\n",
      " 52%|█████▏    | 524/1000 [28:40<26:29,  3.34s/it]/kernel/lib/python3.7/site-packages/ml_kernel/kernel.py:18: WavFileWarning: Chunk (non-data) not understood, skipping it.\n",
      "  from typing import Optional, Dict, Set, Iterator, Callable, cast\n",
      " 55%|█████▍    | 547/1000 [29:55<21:19,  2.82s/it]/kernel/lib/python3.7/site-packages/ml_kernel/kernel.py:18: WavFileWarning: Chunk (non-data) not understood, skipping it.\n",
      "  from typing import Optional, Dict, Set, Iterator, Callable, cast\n",
      " 57%|█████▋    | 574/1000 [31:22<23:15,  3.27s/it]/kernel/lib/python3.7/site-packages/ml_kernel/kernel.py:18: WavFileWarning: Chunk (non-data) not understood, skipping it.\n",
      "  from typing import Optional, Dict, Set, Iterator, Callable, cast\n",
      " 58%|█████▊    | 580/1000 [31:40<19:53,  2.84s/it]/kernel/lib/python3.7/site-packages/ml_kernel/kernel.py:18: WavFileWarning: Chunk (non-data) not understood, skipping it.\n",
      "  from typing import Optional, Dict, Set, Iterator, Callable, cast\n",
      " 59%|█████▉    | 589/1000 [32:13<24:04,  3.52s/it]/kernel/lib/python3.7/site-packages/ml_kernel/kernel.py:18: WavFileWarning: Chunk (non-data) not understood, skipping it.\n",
      "  from typing import Optional, Dict, Set, Iterator, Callable, cast\n",
      " 62%|██████▏   | 624/1000 [34:06<19:43,  3.15s/it]/kernel/lib/python3.7/site-packages/ml_kernel/kernel.py:18: WavFileWarning: Chunk (non-data) not understood, skipping it.\n",
      "  from typing import Optional, Dict, Set, Iterator, Callable, cast\n",
      " 62%|██████▎   | 625/1000 [34:09<18:59,  3.04s/it]/kernel/lib/python3.7/site-packages/ml_kernel/kernel.py:18: WavFileWarning: Chunk (non-data) not understood, skipping it.\n",
      "  from typing import Optional, Dict, Set, Iterator, Callable, cast\n",
      " 66%|██████▌   | 659/1000 [36:03<17:51,  3.14s/it]/kernel/lib/python3.7/site-packages/ml_kernel/kernel.py:18: WavFileWarning: Chunk (non-data) not understood, skipping it.\n",
      "  from typing import Optional, Dict, Set, Iterator, Callable, cast\n",
      " 68%|██████▊   | 684/1000 [37:28<20:02,  3.80s/it]/kernel/lib/python3.7/site-packages/ml_kernel/kernel.py:18: WavFileWarning: Chunk (non-data) not understood, skipping it.\n",
      "  from typing import Optional, Dict, Set, Iterator, Callable, cast\n",
      " 75%|███████▍  | 749/1000 [40:32<11:11,  2.67s/it]/kernel/lib/python3.7/site-packages/ml_kernel/kernel.py:18: WavFileWarning: Chunk (non-data) not understood, skipping it.\n",
      "  from typing import Optional, Dict, Set, Iterator, Callable, cast\n",
      " 75%|███████▌  | 750/1000 [40:37<14:15,  3.42s/it]/kernel/lib/python3.7/site-packages/ml_kernel/kernel.py:18: WavFileWarning: Chunk (non-data) not understood, skipping it.\n",
      "  from typing import Optional, Dict, Set, Iterator, Callable, cast\n",
      " 77%|███████▋  | 774/1000 [41:55<10:57,  2.91s/it]/kernel/lib/python3.7/site-packages/ml_kernel/kernel.py:18: WavFileWarning: Chunk (non-data) not understood, skipping it.\n",
      "  from typing import Optional, Dict, Set, Iterator, Callable, cast\n",
      " 83%|████████▎ | 828/1000 [44:47<09:42,  3.39s/it]/kernel/lib/python3.7/site-packages/ml_kernel/kernel.py:18: WavFileWarning: Chunk (non-data) not understood, skipping it.\n",
      "  from typing import Optional, Dict, Set, Iterator, Callable, cast\n",
      " 93%|█████████▎| 928/1000 [50:24<03:37,  3.02s/it]/kernel/lib/python3.7/site-packages/ml_kernel/kernel.py:18: WavFileWarning: Chunk (non-data) not understood, skipping it.\n",
      "  from typing import Optional, Dict, Set, Iterator, Callable, cast\n",
      " 94%|█████████▎| 936/1000 [50:58<03:59,  3.74s/it]/kernel/lib/python3.7/site-packages/ml_kernel/kernel.py:18: WavFileWarning: Chunk (non-data) not understood, skipping it.\n",
      "  from typing import Optional, Dict, Set, Iterator, Callable, cast\n",
      " 97%|█████████▋| 966/1000 [52:44<02:24,  4.24s/it]/kernel/lib/python3.7/site-packages/ml_kernel/kernel.py:18: WavFileWarning: Chunk (non-data) not understood, skipping it.\n",
      "  from typing import Optional, Dict, Set, Iterator, Callable, cast\n",
      "100%|█████████▉| 995/1000 [54:12<00:18,  3.69s/it]/kernel/lib/python3.7/site-packages/ml_kernel/kernel.py:18: WavFileWarning: Chunk (non-data) not understood, skipping it.\n",
      "  from typing import Optional, Dict, Set, Iterator, Callable, cast\n",
      "100%|██████████| 1000/1000 [54:32<00:00,  3.27s/it]\n",
      " 16%|█▌        | 39/250 [00:38<03:42,  1.05s/it]/kernel/lib/python3.7/site-packages/ml_kernel/kernel.py:18: WavFileWarning: Chunk (non-data) not understood, skipping it.\n",
      "  from typing import Optional, Dict, Set, Iterator, Callable, cast\n",
      " 23%|██▎       | 57/250 [00:56<03:25,  1.06s/it]/kernel/lib/python3.7/site-packages/ml_kernel/kernel.py:18: WavFileWarning: Chunk (non-data) not understood, skipping it.\n",
      "  from typing import Optional, Dict, Set, Iterator, Callable, cast\n",
      "/kernel/lib/python3.7/site-packages/ml_kernel/kernel.py:18: WavFileWarning: Chunk (non-data) not understood, skipping it.\n",
      "  from typing import Optional, Dict, Set, Iterator, Callable, cast\n",
      " 25%|██▍       | 62/250 [01:01<03:36,  1.15s/it]/kernel/lib/python3.7/site-packages/ml_kernel/kernel.py:18: WavFileWarning: Chunk (non-data) not understood, skipping it.\n",
      "  from typing import Optional, Dict, Set, Iterator, Callable, cast\n",
      " 32%|███▏      | 80/250 [01:19<02:34,  1.10it/s]/kernel/lib/python3.7/site-packages/ml_kernel/kernel.py:18: WavFileWarning: Chunk (non-data) not understood, skipping it.\n",
      "  from typing import Optional, Dict, Set, Iterator, Callable, cast\n",
      " 41%|████      | 103/250 [01:39<01:57,  1.25it/s]/kernel/lib/python3.7/site-packages/ml_kernel/kernel.py:18: WavFileWarning: Chunk (non-data) not understood, skipping it.\n",
      "  from typing import Optional, Dict, Set, Iterator, Callable, cast\n",
      " 43%|████▎     | 108/250 [01:44<01:54,  1.24it/s]/kernel/lib/python3.7/site-packages/ml_kernel/kernel.py:18: WavFileWarning: Chunk (non-data) not understood, skipping it.\n",
      "  from typing import Optional, Dict, Set, Iterator, Callable, cast\n",
      " 47%|████▋     | 118/250 [01:54<02:06,  1.04it/s]/kernel/lib/python3.7/site-packages/ml_kernel/kernel.py:18: WavFileWarning: Chunk (non-data) not understood, skipping it.\n",
      "  from typing import Optional, Dict, Set, Iterator, Callable, cast\n",
      " 66%|██████▋   | 166/250 [02:36<01:25,  1.02s/it]/kernel/lib/python3.7/site-packages/ml_kernel/kernel.py:18: WavFileWarning: Chunk (non-data) not understood, skipping it.\n",
      "  from typing import Optional, Dict, Set, Iterator, Callable, cast\n",
      " 75%|███████▌  | 188/250 [02:57<00:52,  1.17it/s]/kernel/lib/python3.7/site-packages/ml_kernel/kernel.py:18: WavFileWarning: Chunk (non-data) not understood, skipping it.\n",
      "  from typing import Optional, Dict, Set, Iterator, Callable, cast\n",
      " 77%|███████▋  | 192/250 [03:02<01:04,  1.11s/it]/kernel/lib/python3.7/site-packages/ml_kernel/kernel.py:18: WavFileWarning: Chunk (non-data) not understood, skipping it.\n",
      "  from typing import Optional, Dict, Set, Iterator, Callable, cast\n",
      " 80%|███████▉  | 199/250 [03:10<00:57,  1.13s/it]/kernel/lib/python3.7/site-packages/ml_kernel/kernel.py:18: WavFileWarning: Chunk (non-data) not understood, skipping it.\n",
      "  from typing import Optional, Dict, Set, Iterator, Callable, cast\n",
      " 86%|████████▌ | 215/250 [03:25<00:31,  1.13it/s]/kernel/lib/python3.7/site-packages/ml_kernel/kernel.py:18: WavFileWarning: Chunk (non-data) not understood, skipping it.\n",
      "  from typing import Optional, Dict, Set, Iterator, Callable, cast\n",
      " 92%|█████████▏| 231/250 [03:40<00:19,  1.00s/it]/kernel/lib/python3.7/site-packages/ml_kernel/kernel.py:18: WavFileWarning: Chunk (non-data) not understood, skipping it.\n",
      "  from typing import Optional, Dict, Set, Iterator, Callable, cast\n",
      " 97%|█████████▋| 243/250 [03:52<00:08,  1.16s/it]/kernel/lib/python3.7/site-packages/ml_kernel/kernel.py:18: WavFileWarning: Chunk (non-data) not understood, skipping it.\n",
      "  from typing import Optional, Dict, Set, Iterator, Callable, cast\n",
      " 98%|█████████▊| 245/250 [03:53<00:05,  1.02s/it]/kernel/lib/python3.7/site-packages/ml_kernel/kernel.py:18: WavFileWarning: Chunk (non-data) not understood, skipping it.\n",
      "  from typing import Optional, Dict, Set, Iterator, Callable, cast\n",
      "100%|██████████| 250/250 [03:58<00:00,  1.05it/s]\n",
      "  1%|          | 7/1000 [00:25<1:01:58,  3.75s/it]/kernel/lib/python3.7/site-packages/ml_kernel/kernel.py:18: WavFileWarning: Chunk (non-data) not understood, skipping it.\n",
      "  from typing import Optional, Dict, Set, Iterator, Callable, cast\n",
      "  2%|▏         | 15/1000 [00:54<58:57,  3.59s/it]  /kernel/lib/python3.7/site-packages/ml_kernel/kernel.py:18: WavFileWarning: Chunk (non-data) not understood, skipping it.\n",
      "  from typing import Optional, Dict, Set, Iterator, Callable, cast\n",
      "  3%|▎         | 33/1000 [01:53<47:15,  2.93s/it]/kernel/lib/python3.7/site-packages/ml_kernel/kernel.py:18: WavFileWarning: Chunk (non-data) not understood, skipping it.\n",
      "  from typing import Optional, Dict, Set, Iterator, Callable, cast\n",
      " 11%|█         | 108/1000 [06:15<46:29,  3.13s/it]/kernel/lib/python3.7/site-packages/ml_kernel/kernel.py:18: WavFileWarning: Chunk (non-data) not understood, skipping it.\n",
      "  from typing import Optional, Dict, Set, Iterator, Callable, cast\n",
      " 11%|█         | 112/1000 [06:27<45:47,  3.09s/it]/kernel/lib/python3.7/site-packages/ml_kernel/kernel.py:18: WavFileWarning: Chunk (non-data) not understood, skipping it.\n",
      "  from typing import Optional, Dict, Set, Iterator, Callable, cast\n",
      " 21%|██        | 209/1000 [11:46<46:40,  3.54s/it]/kernel/lib/python3.7/site-packages/ml_kernel/kernel.py:18: WavFileWarning: Chunk (non-data) not understood, skipping it.\n",
      "  from typing import Optional, Dict, Set, Iterator, Callable, cast\n",
      " 21%|██        | 212/1000 [11:56<46:11,  3.52s/it]/kernel/lib/python3.7/site-packages/ml_kernel/kernel.py:18: WavFileWarning: Chunk (non-data) not understood, skipping it.\n",
      "  from typing import Optional, Dict, Set, Iterator, Callable, cast\n",
      " 24%|██▎       | 235/1000 [13:18<51:00,  4.00s/it]/kernel/lib/python3.7/site-packages/ml_kernel/kernel.py:18: WavFileWarning: Chunk (non-data) not understood, skipping it.\n",
      "  from typing import Optional, Dict, Set, Iterator, Callable, cast\n",
      " 25%|██▌       | 250/1000 [14:05<37:10,  2.97s/it]/kernel/lib/python3.7/site-packages/ml_kernel/kernel.py:18: WavFileWarning: Chunk (non-data) not understood, skipping it.\n",
      "  from typing import Optional, Dict, Set, Iterator, Callable, cast\n",
      " 26%|██▌       | 258/1000 [14:33<39:16,  3.18s/it]/kernel/lib/python3.7/site-packages/ml_kernel/kernel.py:18: WavFileWarning: Chunk (non-data) not understood, skipping it.\n",
      "  from typing import Optional, Dict, Set, Iterator, Callable, cast\n",
      " 28%|██▊       | 276/1000 [15:34<43:19,  3.59s/it]/kernel/lib/python3.7/site-packages/ml_kernel/kernel.py:18: WavFileWarning: Chunk (non-data) not understood, skipping it.\n",
      "  from typing import Optional, Dict, Set, Iterator, Callable, cast\n",
      " 29%|██▉       | 293/1000 [16:34<35:45,  3.03s/it]/kernel/lib/python3.7/site-packages/ml_kernel/kernel.py:18: WavFileWarning: Chunk (non-data) not understood, skipping it.\n",
      "  from typing import Optional, Dict, Set, Iterator, Callable, cast\n",
      "/kernel/lib/python3.7/site-packages/ml_kernel/kernel.py:18: WavFileWarning: Chunk (non-data) not understood, skipping it.\n",
      "  from typing import Optional, Dict, Set, Iterator, Callable, cast\n",
      " 31%|███       | 307/1000 [17:12<27:56,  2.42s/it]/kernel/lib/python3.7/site-packages/ml_kernel/kernel.py:18: WavFileWarning: Chunk (non-data) not understood, skipping it.\n",
      "  from typing import Optional, Dict, Set, Iterator, Callable, cast\n",
      " 33%|███▎      | 333/1000 [18:46<1:02:51,  5.65s/it]/kernel/lib/python3.7/site-packages/ml_kernel/kernel.py:18: WavFileWarning: Chunk (non-data) not understood, skipping it.\n",
      "  from typing import Optional, Dict, Set, Iterator, Callable, cast\n",
      " 35%|███▌      | 354/1000 [19:50<36:56,  3.43s/it]/kernel/lib/python3.7/site-packages/ml_kernel/kernel.py:18: WavFileWarning: Chunk (non-data) not understood, skipping it.\n",
      "  from typing import Optional, Dict, Set, Iterator, Callable, cast\n",
      " 37%|███▋      | 369/1000 [20:40<29:50,  2.84s/it]/kernel/lib/python3.7/site-packages/ml_kernel/kernel.py:18: WavFileWarning: Chunk (non-data) not understood, skipping it.\n",
      "  from typing import Optional, Dict, Set, Iterator, Callable, cast\n",
      " 37%|███▋      | 374/1000 [20:54<28:27,  2.73s/it]/kernel/lib/python3.7/site-packages/ml_kernel/kernel.py:18: WavFileWarning: Chunk (non-data) not understood, skipping it.\n",
      "  from typing import Optional, Dict, Set, Iterator, Callable, cast\n",
      " 42%|████▏     | 421/1000 [23:30<44:55,  4.66s/it]/kernel/lib/python3.7/site-packages/ml_kernel/kernel.py:18: WavFileWarning: Chunk (non-data) not understood, skipping it.\n",
      "  from typing import Optional, Dict, Set, Iterator, Callable, cast\n",
      " 48%|████▊     | 477/1000 [26:33<31:37,  3.63s/it]/kernel/lib/python3.7/site-packages/ml_kernel/kernel.py:18: WavFileWarning: Chunk (non-data) not understood, skipping it.\n",
      "  from typing import Optional, Dict, Set, Iterator, Callable, cast\n",
      " 48%|████▊     | 478/1000 [26:37<32:54,  3.78s/it]/kernel/lib/python3.7/site-packages/ml_kernel/kernel.py:18: WavFileWarning: Chunk (non-data) not understood, skipping it.\n",
      "  from typing import Optional, Dict, Set, Iterator, Callable, cast\n",
      " 49%|████▉     | 490/1000 [27:17<24:36,  2.89s/it]/kernel/lib/python3.7/site-packages/ml_kernel/kernel.py:18: WavFileWarning: Chunk (non-data) not understood, skipping it.\n",
      "  from typing import Optional, Dict, Set, Iterator, Callable, cast\n",
      " 51%|█████     | 506/1000 [28:13<33:16,  4.04s/it]/kernel/lib/python3.7/site-packages/ml_kernel/kernel.py:18: WavFileWarning: Chunk (non-data) not understood, skipping it.\n",
      "  from typing import Optional, Dict, Set, Iterator, Callable, cast\n",
      " 52%|█████▏    | 516/1000 [28:43<30:49,  3.82s/it]/kernel/lib/python3.7/site-packages/ml_kernel/kernel.py:18: WavFileWarning: Chunk (non-data) not understood, skipping it.\n",
      "  from typing import Optional, Dict, Set, Iterator, Callable, cast\n",
      " 52%|█████▏    | 520/1000 [28:58<30:04,  3.76s/it]/kernel/lib/python3.7/site-packages/ml_kernel/kernel.py:18: WavFileWarning: Chunk (non-data) not understood, skipping it.\n",
      "  from typing import Optional, Dict, Set, Iterator, Callable, cast\n",
      " 58%|█████▊    | 576/1000 [32:15<23:49,  3.37s/it]/kernel/lib/python3.7/site-packages/ml_kernel/kernel.py:18: WavFileWarning: Chunk (non-data) not understood, skipping it.\n",
      "  from typing import Optional, Dict, Set, Iterator, Callable, cast\n",
      " 58%|█████▊    | 579/1000 [32:25<22:33,  3.21s/it]/kernel/lib/python3.7/site-packages/ml_kernel/kernel.py:18: WavFileWarning: Chunk (non-data) not understood, skipping it.\n",
      "  from typing import Optional, Dict, Set, Iterator, Callable, cast\n",
      " 63%|██████▎   | 630/1000 [35:28<22:38,  3.67s/it]/kernel/lib/python3.7/site-packages/ml_kernel/kernel.py:18: WavFileWarning: Chunk (non-data) not understood, skipping it.\n",
      "  from typing import Optional, Dict, Set, Iterator, Callable, cast\n",
      " 64%|██████▎   | 635/1000 [35:44<20:33,  3.38s/it]/kernel/lib/python3.7/site-packages/ml_kernel/kernel.py:18: WavFileWarning: Chunk (non-data) not understood, skipping it.\n",
      "  from typing import Optional, Dict, Set, Iterator, Callable, cast\n",
      " 72%|███████▏  | 723/1000 [41:02<19:31,  4.23s/it]/kernel/lib/python3.7/site-packages/ml_kernel/kernel.py:18: WavFileWarning: Chunk (non-data) not understood, skipping it.\n",
      "  from typing import Optional, Dict, Set, Iterator, Callable, cast\n",
      " 73%|███████▎  | 731/1000 [41:26<15:22,  3.43s/it]/kernel/lib/python3.7/site-packages/ml_kernel/kernel.py:18: WavFileWarning: Chunk (non-data) not understood, skipping it.\n",
      "  from typing import Optional, Dict, Set, Iterator, Callable, cast\n",
      " 74%|███████▍  | 744/1000 [42:09<14:10,  3.32s/it]/kernel/lib/python3.7/site-packages/ml_kernel/kernel.py:18: WavFileWarning: Chunk (non-data) not understood, skipping it.\n",
      "  from typing import Optional, Dict, Set, Iterator, Callable, cast\n",
      " 76%|███████▌  | 758/1000 [42:51<12:14,  3.04s/it]/kernel/lib/python3.7/site-packages/ml_kernel/kernel.py:18: WavFileWarning: Chunk (non-data) not understood, skipping it.\n",
      "  from typing import Optional, Dict, Set, Iterator, Callable, cast\n",
      " 76%|███████▌  | 761/1000 [43:00<11:25,  2.87s/it]/kernel/lib/python3.7/site-packages/ml_kernel/kernel.py:18: WavFileWarning: Chunk (non-data) not understood, skipping it.\n",
      "  from typing import Optional, Dict, Set, Iterator, Callable, cast\n",
      " 76%|███████▋  | 763/1000 [43:08<13:30,  3.42s/it]/kernel/lib/python3.7/site-packages/ml_kernel/kernel.py:18: WavFileWarning: Chunk (non-data) not understood, skipping it.\n",
      "  from typing import Optional, Dict, Set, Iterator, Callable, cast\n",
      " 77%|███████▋  | 769/1000 [43:30<13:06,  3.41s/it]/kernel/lib/python3.7/site-packages/ml_kernel/kernel.py:18: WavFileWarning: Chunk (non-data) not understood, skipping it.\n",
      "  from typing import Optional, Dict, Set, Iterator, Callable, cast\n",
      " 78%|███████▊  | 777/1000 [43:57<13:10,  3.54s/it]/kernel/lib/python3.7/site-packages/ml_kernel/kernel.py:18: WavFileWarning: Chunk (non-data) not understood, skipping it.\n",
      "  from typing import Optional, Dict, Set, Iterator, Callable, cast\n",
      " 78%|███████▊  | 780/1000 [44:05<10:36,  2.89s/it]/kernel/lib/python3.7/site-packages/ml_kernel/kernel.py:18: WavFileWarning: Chunk (non-data) not understood, skipping it.\n",
      "  from typing import Optional, Dict, Set, Iterator, Callable, cast\n",
      " 78%|███████▊  | 782/1000 [44:11<10:34,  2.91s/it]/kernel/lib/python3.7/site-packages/ml_kernel/kernel.py:18: WavFileWarning: Chunk (non-data) not understood, skipping it.\n",
      "  from typing import Optional, Dict, Set, Iterator, Callable, cast\n",
      " 80%|████████  | 803/1000 [45:24<12:59,  3.96s/it]/kernel/lib/python3.7/site-packages/ml_kernel/kernel.py:18: WavFileWarning: Chunk (non-data) not understood, skipping it.\n",
      "  from typing import Optional, Dict, Set, Iterator, Callable, cast\n",
      " 81%|████████▏ | 813/1000 [46:10<13:24,  4.30s/it]/kernel/lib/python3.7/site-packages/ml_kernel/kernel.py:18: WavFileWarning: Chunk (non-data) not understood, skipping it.\n",
      "  from typing import Optional, Dict, Set, Iterator, Callable, cast\n",
      " 88%|████████▊ | 877/1000 [49:49<07:04,  3.45s/it]/kernel/lib/python3.7/site-packages/ml_kernel/kernel.py:18: WavFileWarning: Chunk (non-data) not understood, skipping it.\n",
      "  from typing import Optional, Dict, Set, Iterator, Callable, cast\n",
      " 88%|████████▊ | 879/1000 [49:54<05:59,  2.97s/it]/kernel/lib/python3.7/site-packages/ml_kernel/kernel.py:18: WavFileWarning: Chunk (non-data) not understood, skipping it.\n",
      "  from typing import Optional, Dict, Set, Iterator, Callable, cast\n",
      " 91%|█████████ | 909/1000 [51:31<04:33,  3.00s/it]/kernel/lib/python3.7/site-packages/ml_kernel/kernel.py:18: WavFileWarning: Chunk (non-data) not understood, skipping it.\n",
      "  from typing import Optional, Dict, Set, Iterator, Callable, cast\n",
      " 96%|█████████▌| 958/1000 [54:18<02:17,  3.27s/it]/kernel/lib/python3.7/site-packages/ml_kernel/kernel.py:18: WavFileWarning: Chunk (non-data) not understood, skipping it.\n",
      "  from typing import Optional, Dict, Set, Iterator, Callable, cast\n",
      " 98%|█████████▊| 977/1000 [55:17<01:03,  2.77s/it]/kernel/lib/python3.7/site-packages/ml_kernel/kernel.py:18: WavFileWarning: Chunk (non-data) not understood, skipping it.\n",
      "  from typing import Optional, Dict, Set, Iterator, Callable, cast\n",
      " 99%|█████████▊| 987/1000 [55:52<00:46,  3.58s/it]/kernel/lib/python3.7/site-packages/ml_kernel/kernel.py:18: WavFileWarning: Chunk (non-data) not understood, skipping it.\n",
      "  from typing import Optional, Dict, Set, Iterator, Callable, cast\n",
      "100%|█████████▉| 995/1000 [56:22<00:16,  3.21s/it]/kernel/lib/python3.7/site-packages/ml_kernel/kernel.py:18: WavFileWarning: Chunk (non-data) not understood, skipping it.\n",
      "  from typing import Optional, Dict, Set, Iterator, Callable, cast\n",
      "100%|██████████| 1000/1000 [56:40<00:00,  3.40s/it]\n",
      " 16%|█▌        | 39/250 [00:40<03:55,  1.12s/it]/kernel/lib/python3.7/site-packages/ml_kernel/kernel.py:18: WavFileWarning: Chunk (non-data) not understood, skipping it.\n",
      "  from typing import Optional, Dict, Set, Iterator, Callable, cast\n",
      " 23%|██▎       | 57/250 [00:58<03:33,  1.11s/it]/kernel/lib/python3.7/site-packages/ml_kernel/kernel.py:18: WavFileWarning: Chunk (non-data) not understood, skipping it.\n",
      "  from typing import Optional, Dict, Set, Iterator, Callable, cast\n",
      "/kernel/lib/python3.7/site-packages/ml_kernel/kernel.py:18: WavFileWarning: Chunk (non-data) not understood, skipping it.\n",
      "  from typing import Optional, Dict, Set, Iterator, Callable, cast\n",
      " 25%|██▍       | 62/250 [01:04<03:48,  1.22s/it]/kernel/lib/python3.7/site-packages/ml_kernel/kernel.py:18: WavFileWarning: Chunk (non-data) not understood, skipping it.\n",
      "  from typing import Optional, Dict, Set, Iterator, Callable, cast\n",
      " 32%|███▏      | 80/250 [01:22<02:40,  1.06it/s]/kernel/lib/python3.7/site-packages/ml_kernel/kernel.py:18: WavFileWarning: Chunk (non-data) not understood, skipping it.\n",
      "  from typing import Optional, Dict, Set, Iterator, Callable, cast\n",
      " 41%|████      | 103/250 [01:44<02:03,  1.19it/s]/kernel/lib/python3.7/site-packages/ml_kernel/kernel.py:18: WavFileWarning: Chunk (non-data) not understood, skipping it.\n",
      "  from typing import Optional, Dict, Set, Iterator, Callable, cast\n",
      " 43%|████▎     | 108/250 [01:48<01:58,  1.20it/s]/kernel/lib/python3.7/site-packages/ml_kernel/kernel.py:18: WavFileWarning: Chunk (non-data) not understood, skipping it.\n",
      "  from typing import Optional, Dict, Set, Iterator, Callable, cast\n",
      " 47%|████▋     | 118/250 [01:58<02:08,  1.03it/s]/kernel/lib/python3.7/site-packages/ml_kernel/kernel.py:18: WavFileWarning: Chunk (non-data) not understood, skipping it.\n",
      "  from typing import Optional, Dict, Set, Iterator, Callable, cast\n",
      " 66%|██████▋   | 166/250 [02:42<01:28,  1.06s/it]/kernel/lib/python3.7/site-packages/ml_kernel/kernel.py:18: WavFileWarning: Chunk (non-data) not understood, skipping it.\n",
      "  from typing import Optional, Dict, Set, Iterator, Callable, cast\n",
      " 75%|███████▌  | 188/250 [03:04<00:55,  1.11it/s]/kernel/lib/python3.7/site-packages/ml_kernel/kernel.py:18: WavFileWarning: Chunk (non-data) not understood, skipping it.\n",
      "  from typing import Optional, Dict, Set, Iterator, Callable, cast\n",
      " 77%|███████▋  | 192/250 [03:09<01:08,  1.17s/it]/kernel/lib/python3.7/site-packages/ml_kernel/kernel.py:18: WavFileWarning: Chunk (non-data) not understood, skipping it.\n",
      "  from typing import Optional, Dict, Set, Iterator, Callable, cast\n",
      " 80%|███████▉  | 199/250 [03:17<00:59,  1.16s/it]/kernel/lib/python3.7/site-packages/ml_kernel/kernel.py:18: WavFileWarning: Chunk (non-data) not understood, skipping it.\n",
      "  from typing import Optional, Dict, Set, Iterator, Callable, cast\n",
      " 86%|████████▌ | 215/250 [03:33<00:31,  1.09it/s]/kernel/lib/python3.7/site-packages/ml_kernel/kernel.py:18: WavFileWarning: Chunk (non-data) not understood, skipping it.\n",
      "  from typing import Optional, Dict, Set, Iterator, Callable, cast\n",
      " 92%|█████████▏| 231/250 [03:48<00:19,  1.04s/it]/kernel/lib/python3.7/site-packages/ml_kernel/kernel.py:18: WavFileWarning: Chunk (non-data) not understood, skipping it.\n",
      "  from typing import Optional, Dict, Set, Iterator, Callable, cast\n",
      " 97%|█████████▋| 243/250 [04:00<00:08,  1.19s/it]/kernel/lib/python3.7/site-packages/ml_kernel/kernel.py:18: WavFileWarning: Chunk (non-data) not understood, skipping it.\n",
      "  from typing import Optional, Dict, Set, Iterator, Callable, cast\n",
      " 98%|█████████▊| 245/250 [04:02<00:04,  1.03it/s]/kernel/lib/python3.7/site-packages/ml_kernel/kernel.py:18: WavFileWarning: Chunk (non-data) not understood, skipping it.\n",
      "  from typing import Optional, Dict, Set, Iterator, Callable, cast\n",
      "100%|██████████| 250/250 [04:07<00:00,  1.01it/s]\n",
      "  1%|          | 12/1000 [00:31<46:45,  2.84s/it]/kernel/lib/python3.7/site-packages/ml_kernel/kernel.py:18: WavFileWarning: Chunk (non-data) not understood, skipping it.\n",
      "  from typing import Optional, Dict, Set, Iterator, Callable, cast\n",
      "  1%|▏         | 14/1000 [00:50<1:48:50,  6.62s/it]/kernel/lib/python3.7/site-packages/ml_kernel/kernel.py:18: WavFileWarning: Chunk (non-data) not understood, skipping it.\n",
      "  from typing import Optional, Dict, Set, Iterator, Callable, cast\n",
      "  2%|▏         | 19/1000 [01:10<1:12:28,  4.43s/it]/kernel/lib/python3.7/site-packages/ml_kernel/kernel.py:18: WavFileWarning: Chunk (non-data) not understood, skipping it.\n",
      "  from typing import Optional, Dict, Set, Iterator, Callable, cast\n",
      " 10%|█         | 102/1000 [05:40<43:05,  2.88s/it]/kernel/lib/python3.7/site-packages/ml_kernel/kernel.py:18: WavFileWarning: Chunk (non-data) not understood, skipping it.\n",
      "  from typing import Optional, Dict, Set, Iterator, Callable, cast\n",
      " 11%|█         | 108/1000 [06:08<59:58,  4.03s/it]/kernel/lib/python3.7/site-packages/ml_kernel/kernel.py:18: WavFileWarning: Chunk (non-data) not understood, skipping it.\n",
      "  from typing import Optional, Dict, Set, Iterator, Callable, cast\n",
      " 11%|█         | 109/1000 [06:11<57:45,  3.89s/it]/kernel/lib/python3.7/site-packages/ml_kernel/kernel.py:18: WavFileWarning: Chunk (non-data) not understood, skipping it.\n",
      "  from typing import Optional, Dict, Set, Iterator, Callable, cast\n",
      " 11%|█         | 112/1000 [06:17<39:38,  2.68s/it]/kernel/lib/python3.7/site-packages/ml_kernel/kernel.py:18: WavFileWarning: Chunk (non-data) not understood, skipping it.\n",
      "  from typing import Optional, Dict, Set, Iterator, Callable, cast\n",
      " 17%|█▋        | 167/1000 [09:23<44:28,  3.20s/it]/kernel/lib/python3.7/site-packages/ml_kernel/kernel.py:18: WavFileWarning: Chunk (non-data) not understood, skipping it.\n",
      "  from typing import Optional, Dict, Set, Iterator, Callable, cast\n",
      " 18%|█▊        | 183/1000 [10:23<47:10,  3.46s/it]/kernel/lib/python3.7/site-packages/ml_kernel/kernel.py:18: WavFileWarning: Chunk (non-data) not understood, skipping it.\n",
      "  from typing import Optional, Dict, Set, Iterator, Callable, cast\n",
      " 22%|██▏       | 219/1000 [12:33<40:04,  3.08s/it]/kernel/lib/python3.7/site-packages/ml_kernel/kernel.py:18: WavFileWarning: Chunk (non-data) not understood, skipping it.\n",
      "  from typing import Optional, Dict, Set, Iterator, Callable, cast\n",
      " 24%|██▎       | 237/1000 [13:31<49:48,  3.92s/it]/kernel/lib/python3.7/site-packages/ml_kernel/kernel.py:18: WavFileWarning: Chunk (non-data) not understood, skipping it.\n",
      "  from typing import Optional, Dict, Set, Iterator, Callable, cast\n",
      " 24%|██▍       | 244/1000 [14:00<43:25,  3.45s/it]/kernel/lib/python3.7/site-packages/ml_kernel/kernel.py:18: WavFileWarning: Chunk (non-data) not understood, skipping it.\n",
      "  from typing import Optional, Dict, Set, Iterator, Callable, cast\n",
      " 25%|██▌       | 251/1000 [14:23<41:52,  3.35s/it]/kernel/lib/python3.7/site-packages/ml_kernel/kernel.py:18: WavFileWarning: Chunk (non-data) not understood, skipping it.\n",
      "  from typing import Optional, Dict, Set, Iterator, Callable, cast\n",
      " 26%|██▌       | 261/1000 [14:56<40:53,  3.32s/it]/kernel/lib/python3.7/site-packages/ml_kernel/kernel.py:18: WavFileWarning: Chunk (non-data) not understood, skipping it.\n",
      "  from typing import Optional, Dict, Set, Iterator, Callable, cast\n",
      " 27%|██▋       | 267/1000 [15:22<48:19,  3.96s/it]/kernel/lib/python3.7/site-packages/ml_kernel/kernel.py:18: WavFileWarning: Chunk (non-data) not understood, skipping it.\n",
      "  from typing import Optional, Dict, Set, Iterator, Callable, cast\n",
      " 33%|███▎      | 333/1000 [19:07<35:15,  3.17s/it]/kernel/lib/python3.7/site-packages/ml_kernel/kernel.py:18: WavFileWarning: Chunk (non-data) not understood, skipping it.\n",
      "  from typing import Optional, Dict, Set, Iterator, Callable, cast\n",
      " 35%|███▌      | 353/1000 [20:11<35:23,  3.28s/it]/kernel/lib/python3.7/site-packages/ml_kernel/kernel.py:18: WavFileWarning: Chunk (non-data) not understood, skipping it.\n",
      "  from typing import Optional, Dict, Set, Iterator, Callable, cast\n",
      " 38%|███▊      | 380/1000 [21:49<34:30,  3.34s/it]/kernel/lib/python3.7/site-packages/ml_kernel/kernel.py:18: WavFileWarning: Chunk (non-data) not understood, skipping it.\n",
      "  from typing import Optional, Dict, Set, Iterator, Callable, cast\n",
      " 40%|███▉      | 396/1000 [22:49<43:07,  4.28s/it]/kernel/lib/python3.7/site-packages/ml_kernel/kernel.py:18: WavFileWarning: Chunk (non-data) not understood, skipping it.\n",
      "  from typing import Optional, Dict, Set, Iterator, Callable, cast\n",
      " 40%|███▉      | 398/1000 [22:56<39:12,  3.91s/it]/kernel/lib/python3.7/site-packages/ml_kernel/kernel.py:18: WavFileWarning: Chunk (non-data) not understood, skipping it.\n",
      "  from typing import Optional, Dict, Set, Iterator, Callable, cast\n",
      " 43%|████▎     | 427/1000 [24:36<31:08,  3.26s/it]/kernel/lib/python3.7/site-packages/ml_kernel/kernel.py:18: WavFileWarning: Chunk (non-data) not understood, skipping it.\n",
      "  from typing import Optional, Dict, Set, Iterator, Callable, cast\n",
      " 43%|████▎     | 432/1000 [24:51<28:07,  2.97s/it]/kernel/lib/python3.7/site-packages/ml_kernel/kernel.py:18: WavFileWarning: Chunk (non-data) not understood, skipping it.\n",
      "  from typing import Optional, Dict, Set, Iterator, Callable, cast\n",
      " 45%|████▍     | 448/1000 [25:41<28:58,  3.15s/it]/kernel/lib/python3.7/site-packages/ml_kernel/kernel.py:18: WavFileWarning: Chunk (non-data) not understood, skipping it.\n",
      "  from typing import Optional, Dict, Set, Iterator, Callable, cast\n",
      " 45%|████▌     | 454/1000 [25:59<25:34,  2.81s/it]/kernel/lib/python3.7/site-packages/ml_kernel/kernel.py:18: WavFileWarning: Chunk (non-data) not understood, skipping it.\n",
      "  from typing import Optional, Dict, Set, Iterator, Callable, cast\n",
      " 47%|████▋     | 470/1000 [26:52<25:51,  2.93s/it]/kernel/lib/python3.7/site-packages/ml_kernel/kernel.py:18: WavFileWarning: Chunk (non-data) not understood, skipping it.\n",
      "  from typing import Optional, Dict, Set, Iterator, Callable, cast\n",
      " 47%|████▋     | 473/1000 [27:01<26:53,  3.06s/it]/kernel/lib/python3.7/site-packages/ml_kernel/kernel.py:18: WavFileWarning: Chunk (non-data) not understood, skipping it.\n",
      "  from typing import Optional, Dict, Set, Iterator, Callable, cast\n",
      " 48%|████▊     | 482/1000 [27:31<29:42,  3.44s/it]/kernel/lib/python3.7/site-packages/ml_kernel/kernel.py:18: WavFileWarning: Chunk (non-data) not understood, skipping it.\n",
      "  from typing import Optional, Dict, Set, Iterator, Callable, cast\n",
      " 49%|████▉     | 490/1000 [27:58<29:48,  3.51s/it]/kernel/lib/python3.7/site-packages/ml_kernel/kernel.py:18: WavFileWarning: Chunk (non-data) not understood, skipping it.\n",
      "  from typing import Optional, Dict, Set, Iterator, Callable, cast\n",
      " 54%|█████▎    | 535/1000 [30:33<22:02,  2.84s/it]/kernel/lib/python3.7/site-packages/ml_kernel/kernel.py:18: WavFileWarning: Chunk (non-data) not understood, skipping it.\n",
      "  from typing import Optional, Dict, Set, Iterator, Callable, cast\n",
      " 55%|█████▌    | 552/1000 [31:28<23:27,  3.14s/it]/kernel/lib/python3.7/site-packages/ml_kernel/kernel.py:18: WavFileWarning: Chunk (non-data) not understood, skipping it.\n",
      "  from typing import Optional, Dict, Set, Iterator, Callable, cast\n",
      " 59%|█████▉    | 593/1000 [33:42<23:21,  3.44s/it]/kernel/lib/python3.7/site-packages/ml_kernel/kernel.py:18: WavFileWarning: Chunk (non-data) not understood, skipping it.\n",
      "  from typing import Optional, Dict, Set, Iterator, Callable, cast\n",
      " 61%|██████▏   | 613/1000 [34:52<19:00,  2.95s/it]/kernel/lib/python3.7/site-packages/ml_kernel/kernel.py:18: WavFileWarning: Chunk (non-data) not understood, skipping it.\n",
      "  from typing import Optional, Dict, Set, Iterator, Callable, cast\n",
      " 63%|██████▎   | 627/1000 [35:33<18:59,  3.05s/it]/kernel/lib/python3.7/site-packages/ml_kernel/kernel.py:18: WavFileWarning: Chunk (non-data) not understood, skipping it.\n",
      "  from typing import Optional, Dict, Set, Iterator, Callable, cast\n",
      " 63%|██████▎   | 632/1000 [35:51<20:38,  3.37s/it]/kernel/lib/python3.7/site-packages/ml_kernel/kernel.py:18: WavFileWarning: Chunk (non-data) not understood, skipping it.\n",
      "  from typing import Optional, Dict, Set, Iterator, Callable, cast\n",
      " 65%|██████▌   | 651/1000 [36:53<18:29,  3.18s/it]/kernel/lib/python3.7/site-packages/ml_kernel/kernel.py:18: WavFileWarning: Chunk (non-data) not understood, skipping it.\n",
      "  from typing import Optional, Dict, Set, Iterator, Callable, cast\n",
      " 71%|███████   | 712/1000 [40:15<22:23,  4.67s/it]/kernel/lib/python3.7/site-packages/ml_kernel/kernel.py:18: WavFileWarning: Chunk (non-data) not understood, skipping it.\n",
      "  from typing import Optional, Dict, Set, Iterator, Callable, cast\n",
      " 74%|███████▍  | 742/1000 [41:54<14:06,  3.28s/it]/kernel/lib/python3.7/site-packages/ml_kernel/kernel.py:18: WavFileWarning: Chunk (non-data) not understood, skipping it.\n",
      "  from typing import Optional, Dict, Set, Iterator, Callable, cast\n",
      " 75%|███████▍  | 746/1000 [42:07<11:30,  2.72s/it]/kernel/lib/python3.7/site-packages/ml_kernel/kernel.py:18: WavFileWarning: Chunk (non-data) not understood, skipping it.\n",
      "  from typing import Optional, Dict, Set, Iterator, Callable, cast\n",
      " 76%|███████▌  | 761/1000 [42:56<14:16,  3.58s/it]/kernel/lib/python3.7/site-packages/ml_kernel/kernel.py:18: WavFileWarning: Chunk (non-data) not understood, skipping it.\n",
      "  from typing import Optional, Dict, Set, Iterator, Callable, cast\n",
      " 76%|███████▋  | 763/1000 [43:03<13:43,  3.48s/it]/kernel/lib/python3.7/site-packages/ml_kernel/kernel.py:18: WavFileWarning: Chunk (non-data) not understood, skipping it.\n",
      "  from typing import Optional, Dict, Set, Iterator, Callable, cast\n",
      " 78%|███████▊  | 775/1000 [43:51<13:54,  3.71s/it]/kernel/lib/python3.7/site-packages/ml_kernel/kernel.py:18: WavFileWarning: Chunk (non-data) not understood, skipping it.\n",
      "  from typing import Optional, Dict, Set, Iterator, Callable, cast\n",
      " 80%|███████▉  | 795/1000 [44:44<09:47,  2.87s/it]/kernel/lib/python3.7/site-packages/ml_kernel/kernel.py:18: WavFileWarning: Chunk (non-data) not understood, skipping it.\n",
      "  from typing import Optional, Dict, Set, Iterator, Callable, cast\n",
      " 90%|█████████ | 901/1000 [50:40<04:32,  2.75s/it]/kernel/lib/python3.7/site-packages/ml_kernel/kernel.py:18: WavFileWarning: Chunk (non-data) not understood, skipping it.\n",
      "  from typing import Optional, Dict, Set, Iterator, Callable, cast\n",
      " 95%|█████████▍| 947/1000 [53:07<03:07,  3.55s/it]/kernel/lib/python3.7/site-packages/ml_kernel/kernel.py:18: WavFileWarning: Chunk (non-data) not understood, skipping it.\n",
      "  from typing import Optional, Dict, Set, Iterator, Callable, cast\n",
      " 95%|█████████▌| 952/1000 [53:21<02:17,  2.87s/it]/kernel/lib/python3.7/site-packages/ml_kernel/kernel.py:18: WavFileWarning: Chunk (non-data) not understood, skipping it.\n",
      "  from typing import Optional, Dict, Set, Iterator, Callable, cast\n",
      " 96%|█████████▌| 955/1000 [53:32<02:21,  3.14s/it]/kernel/lib/python3.7/site-packages/ml_kernel/kernel.py:18: WavFileWarning: Chunk (non-data) not understood, skipping it.\n",
      "  from typing import Optional, Dict, Set, Iterator, Callable, cast\n",
      " 96%|█████████▌| 960/1000 [53:49<02:11,  3.28s/it]/kernel/lib/python3.7/site-packages/ml_kernel/kernel.py:18: WavFileWarning: Chunk (non-data) not understood, skipping it.\n",
      "  from typing import Optional, Dict, Set, Iterator, Callable, cast\n",
      "100%|█████████▉| 995/1000 [56:04<00:19,  3.95s/it]/kernel/lib/python3.7/site-packages/ml_kernel/kernel.py:18: WavFileWarning: Chunk (non-data) not understood, skipping it.\n",
      "  from typing import Optional, Dict, Set, Iterator, Callable, cast\n",
      "100%|██████████| 1000/1000 [56:21<00:00,  3.38s/it]\n",
      " 16%|█▌        | 39/250 [00:39<03:52,  1.10s/it]/kernel/lib/python3.7/site-packages/ml_kernel/kernel.py:18: WavFileWarning: Chunk (non-data) not understood, skipping it.\n",
      "  from typing import Optional, Dict, Set, Iterator, Callable, cast\n",
      " 23%|██▎       | 57/250 [00:57<03:35,  1.12s/it]/kernel/lib/python3.7/site-packages/ml_kernel/kernel.py:18: WavFileWarning: Chunk (non-data) not understood, skipping it.\n",
      "  from typing import Optional, Dict, Set, Iterator, Callable, cast\n",
      "/kernel/lib/python3.7/site-packages/ml_kernel/kernel.py:18: WavFileWarning: Chunk (non-data) not understood, skipping it.\n",
      "  from typing import Optional, Dict, Set, Iterator, Callable, cast\n",
      " 25%|██▍       | 62/250 [01:03<03:42,  1.19s/it]/kernel/lib/python3.7/site-packages/ml_kernel/kernel.py:18: WavFileWarning: Chunk (non-data) not understood, skipping it.\n",
      "  from typing import Optional, Dict, Set, Iterator, Callable, cast\n",
      " 32%|███▏      | 80/250 [01:20<02:32,  1.12it/s]/kernel/lib/python3.7/site-packages/ml_kernel/kernel.py:18: WavFileWarning: Chunk (non-data) not understood, skipping it.\n",
      "  from typing import Optional, Dict, Set, Iterator, Callable, cast\n",
      " 41%|████      | 103/250 [01:42<02:00,  1.22it/s]/kernel/lib/python3.7/site-packages/ml_kernel/kernel.py:18: WavFileWarning: Chunk (non-data) not understood, skipping it.\n",
      "  from typing import Optional, Dict, Set, Iterator, Callable, cast\n",
      " 43%|████▎     | 108/250 [01:46<02:00,  1.18it/s]/kernel/lib/python3.7/site-packages/ml_kernel/kernel.py:18: WavFileWarning: Chunk (non-data) not understood, skipping it.\n",
      "  from typing import Optional, Dict, Set, Iterator, Callable, cast\n",
      " 47%|████▋     | 118/250 [01:56<02:06,  1.04it/s]/kernel/lib/python3.7/site-packages/ml_kernel/kernel.py:18: WavFileWarning: Chunk (non-data) not understood, skipping it.\n",
      "  from typing import Optional, Dict, Set, Iterator, Callable, cast\n",
      " 66%|██████▋   | 166/250 [02:39<01:28,  1.06s/it]/kernel/lib/python3.7/site-packages/ml_kernel/kernel.py:18: WavFileWarning: Chunk (non-data) not understood, skipping it.\n",
      "  from typing import Optional, Dict, Set, Iterator, Callable, cast\n",
      " 75%|███████▌  | 188/250 [03:01<00:53,  1.15it/s]/kernel/lib/python3.7/site-packages/ml_kernel/kernel.py:18: WavFileWarning: Chunk (non-data) not understood, skipping it.\n",
      "  from typing import Optional, Dict, Set, Iterator, Callable, cast\n",
      " 77%|███████▋  | 192/250 [03:06<01:06,  1.15s/it]/kernel/lib/python3.7/site-packages/ml_kernel/kernel.py:18: WavFileWarning: Chunk (non-data) not understood, skipping it.\n",
      "  from typing import Optional, Dict, Set, Iterator, Callable, cast\n",
      " 80%|███████▉  | 199/250 [03:14<00:59,  1.17s/it]/kernel/lib/python3.7/site-packages/ml_kernel/kernel.py:18: WavFileWarning: Chunk (non-data) not understood, skipping it.\n",
      "  from typing import Optional, Dict, Set, Iterator, Callable, cast\n",
      " 86%|████████▌ | 215/250 [03:29<00:31,  1.10it/s]/kernel/lib/python3.7/site-packages/ml_kernel/kernel.py:18: WavFileWarning: Chunk (non-data) not understood, skipping it.\n",
      "  from typing import Optional, Dict, Set, Iterator, Callable, cast\n",
      " 92%|█████████▏| 231/250 [03:44<00:19,  1.01s/it]/kernel/lib/python3.7/site-packages/ml_kernel/kernel.py:18: WavFileWarning: Chunk (non-data) not understood, skipping it.\n",
      "  from typing import Optional, Dict, Set, Iterator, Callable, cast\n",
      " 97%|█████████▋| 243/250 [03:56<00:08,  1.16s/it]/kernel/lib/python3.7/site-packages/ml_kernel/kernel.py:18: WavFileWarning: Chunk (non-data) not understood, skipping it.\n",
      "  from typing import Optional, Dict, Set, Iterator, Callable, cast\n",
      " 98%|█████████▊| 245/250 [03:58<00:04,  1.06it/s]/kernel/lib/python3.7/site-packages/ml_kernel/kernel.py:18: WavFileWarning: Chunk (non-data) not understood, skipping it.\n",
      "  from typing import Optional, Dict, Set, Iterator, Callable, cast\n",
      "100%|██████████| 250/250 [04:03<00:00,  1.03it/s]\n",
      "  2%|▏         | 19/1000 [00:59<45:15,  2.77s/it]/kernel/lib/python3.7/site-packages/ml_kernel/kernel.py:18: WavFileWarning: Chunk (non-data) not understood, skipping it.\n",
      "  from typing import Optional, Dict, Set, Iterator, Callable, cast\n",
      "  2%|▏         | 24/1000 [01:20<1:12:20,  4.45s/it]/kernel/lib/python3.7/site-packages/ml_kernel/kernel.py:18: WavFileWarning: Chunk (non-data) not understood, skipping it.\n",
      "  from typing import Optional, Dict, Set, Iterator, Callable, cast\n",
      "  3%|▎         | 28/1000 [01:32<58:02,  3.58s/it]/kernel/lib/python3.7/site-packages/ml_kernel/kernel.py:18: WavFileWarning: Chunk (non-data) not understood, skipping it.\n",
      "  from typing import Optional, Dict, Set, Iterator, Callable, cast\n",
      "  5%|▍         | 48/1000 [02:32<46:14,  2.91s/it]/kernel/lib/python3.7/site-packages/ml_kernel/kernel.py:18: WavFileWarning: Chunk (non-data) not understood, skipping it.\n",
      "  from typing import Optional, Dict, Set, Iterator, Callable, cast\n",
      "/kernel/lib/python3.7/site-packages/ml_kernel/kernel.py:18: WavFileWarning: Chunk (non-data) not understood, skipping it.\n",
      "  from typing import Optional, Dict, Set, Iterator, Callable, cast\n",
      "  6%|▌         | 60/1000 [03:16<46:50,  2.99s/it]/kernel/lib/python3.7/site-packages/ml_kernel/kernel.py:18: WavFileWarning: Chunk (non-data) not understood, skipping it.\n",
      "  from typing import Optional, Dict, Set, Iterator, Callable, cast\n",
      "  8%|▊         | 77/1000 [04:12<53:49,  3.50s/it]  /kernel/lib/python3.7/site-packages/ml_kernel/kernel.py:18: WavFileWarning: Chunk (non-data) not understood, skipping it.\n",
      "  from typing import Optional, Dict, Set, Iterator, Callable, cast\n",
      "  9%|▊         | 86/1000 [04:48<53:15,  3.50s/it]/kernel/lib/python3.7/site-packages/ml_kernel/kernel.py:18: WavFileWarning: Chunk (non-data) not understood, skipping it.\n",
      "  from typing import Optional, Dict, Set, Iterator, Callable, cast\n",
      "  9%|▉         | 91/1000 [05:05<1:00:05,  3.97s/it]/kernel/lib/python3.7/site-packages/ml_kernel/kernel.py:18: WavFileWarning: Chunk (non-data) not understood, skipping it.\n",
      "  from typing import Optional, Dict, Set, Iterator, Callable, cast\n",
      " 11%|█▏        | 113/1000 [06:16<37:50,  2.56s/it]/kernel/lib/python3.7/site-packages/ml_kernel/kernel.py:18: WavFileWarning: Chunk (non-data) not understood, skipping it.\n",
      "  from typing import Optional, Dict, Set, Iterator, Callable, cast\n",
      " 14%|█▍        | 145/1000 [08:04<44:30,  3.12s/it]/kernel/lib/python3.7/site-packages/ml_kernel/kernel.py:18: WavFileWarning: Chunk (non-data) not understood, skipping it.\n",
      "  from typing import Optional, Dict, Set, Iterator, Callable, cast\n",
      " 17%|█▋        | 173/1000 [09:36<52:18,  3.80s/it]/kernel/lib/python3.7/site-packages/ml_kernel/kernel.py:18: WavFileWarning: Chunk (non-data) not understood, skipping it.\n",
      "  from typing import Optional, Dict, Set, Iterator, Callable, cast\n",
      " 19%|█▉        | 188/1000 [10:26<40:42,  3.01s/it]/kernel/lib/python3.7/site-packages/ml_kernel/kernel.py:18: WavFileWarning: Chunk (non-data) not understood, skipping it.\n",
      "  from typing import Optional, Dict, Set, Iterator, Callable, cast\n",
      " 20%|██        | 200/1000 [11:03<35:50,  2.69s/it]/kernel/lib/python3.7/site-packages/ml_kernel/kernel.py:18: WavFileWarning: Chunk (non-data) not understood, skipping it.\n",
      "  from typing import Optional, Dict, Set, Iterator, Callable, cast\n",
      " 23%|██▎       | 234/1000 [13:25<50:32,  3.96s/it]/kernel/lib/python3.7/site-packages/ml_kernel/kernel.py:18: WavFileWarning: Chunk (non-data) not understood, skipping it.\n",
      "  from typing import Optional, Dict, Set, Iterator, Callable, cast\n",
      " 24%|██▎       | 236/1000 [13:35<56:58,  4.47s/it]/kernel/lib/python3.7/site-packages/ml_kernel/kernel.py:18: WavFileWarning: Chunk (non-data) not understood, skipping it.\n",
      "  from typing import Optional, Dict, Set, Iterator, Callable, cast\n",
      " 27%|██▋       | 267/1000 [15:21<47:17,  3.87s/it]/kernel/lib/python3.7/site-packages/ml_kernel/kernel.py:18: WavFileWarning: Chunk (non-data) not understood, skipping it.\n",
      "  from typing import Optional, Dict, Set, Iterator, Callable, cast\n",
      " 28%|██▊       | 283/1000 [16:16<39:23,  3.30s/it]/kernel/lib/python3.7/site-packages/ml_kernel/kernel.py:18: WavFileWarning: Chunk (non-data) not understood, skipping it.\n",
      "  from typing import Optional, Dict, Set, Iterator, Callable, cast\n",
      " 30%|███       | 302/1000 [17:23<59:02,  5.08s/it]  /kernel/lib/python3.7/site-packages/ml_kernel/kernel.py:18: WavFileWarning: Chunk (non-data) not understood, skipping it.\n",
      "  from typing import Optional, Dict, Set, Iterator, Callable, cast\n",
      " 31%|███       | 312/1000 [17:58<42:34,  3.71s/it]/kernel/lib/python3.7/site-packages/ml_kernel/kernel.py:18: WavFileWarning: Chunk (non-data) not understood, skipping it.\n",
      "  from typing import Optional, Dict, Set, Iterator, Callable, cast\n",
      " 32%|███▎      | 325/1000 [18:43<31:47,  2.83s/it]/kernel/lib/python3.7/site-packages/ml_kernel/kernel.py:18: WavFileWarning: Chunk (non-data) not understood, skipping it.\n",
      "  from typing import Optional, Dict, Set, Iterator, Callable, cast\n",
      " 36%|███▌      | 360/1000 [20:49<40:56,  3.84s/it]/kernel/lib/python3.7/site-packages/ml_kernel/kernel.py:18: WavFileWarning: Chunk (non-data) not understood, skipping it.\n",
      "  from typing import Optional, Dict, Set, Iterator, Callable, cast\n",
      " 36%|███▌      | 361/1000 [20:51<35:32,  3.34s/it]/kernel/lib/python3.7/site-packages/ml_kernel/kernel.py:18: WavFileWarning: Chunk (non-data) not understood, skipping it.\n",
      "  from typing import Optional, Dict, Set, Iterator, Callable, cast\n",
      " 38%|███▊      | 376/1000 [21:40<35:25,  3.41s/it]/kernel/lib/python3.7/site-packages/ml_kernel/kernel.py:18: WavFileWarning: Chunk (non-data) not understood, skipping it.\n",
      "  from typing import Optional, Dict, Set, Iterator, Callable, cast\n",
      " 48%|████▊     | 484/1000 [27:29<32:14,  3.75s/it]/kernel/lib/python3.7/site-packages/ml_kernel/kernel.py:18: WavFileWarning: Chunk (non-data) not understood, skipping it.\n",
      "  from typing import Optional, Dict, Set, Iterator, Callable, cast\n",
      " 49%|████▊     | 486/1000 [27:40<37:23,  4.37s/it]/kernel/lib/python3.7/site-packages/ml_kernel/kernel.py:18: WavFileWarning: Chunk (non-data) not understood, skipping it.\n",
      "  from typing import Optional, Dict, Set, Iterator, Callable, cast\n",
      " 51%|█████     | 506/1000 [28:53<33:29,  4.07s/it]/kernel/lib/python3.7/site-packages/ml_kernel/kernel.py:18: WavFileWarning: Chunk (non-data) not understood, skipping it.\n",
      "  from typing import Optional, Dict, Set, Iterator, Callable, cast\n",
      " 51%|█████     | 509/1000 [29:02<27:14,  3.33s/it]/kernel/lib/python3.7/site-packages/ml_kernel/kernel.py:18: WavFileWarning: Chunk (non-data) not understood, skipping it.\n",
      "  from typing import Optional, Dict, Set, Iterator, Callable, cast\n",
      " 54%|█████▍    | 541/1000 [30:59<26:59,  3.53s/it]/kernel/lib/python3.7/site-packages/ml_kernel/kernel.py:18: WavFileWarning: Chunk (non-data) not understood, skipping it.\n",
      "  from typing import Optional, Dict, Set, Iterator, Callable, cast\n",
      " 58%|█████▊    | 578/1000 [33:15<31:51,  4.53s/it]/kernel/lib/python3.7/site-packages/ml_kernel/kernel.py:18: WavFileWarning: Chunk (non-data) not understood, skipping it.\n",
      "  from typing import Optional, Dict, Set, Iterator, Callable, cast\n",
      " 64%|██████▎   | 637/1000 [36:24<16:00,  2.65s/it]/kernel/lib/python3.7/site-packages/ml_kernel/kernel.py:18: WavFileWarning: Chunk (non-data) not understood, skipping it.\n",
      "  from typing import Optional, Dict, Set, Iterator, Callable, cast\n",
      " 65%|██████▌   | 651/1000 [37:08<16:04,  2.76s/it]/kernel/lib/python3.7/site-packages/ml_kernel/kernel.py:18: WavFileWarning: Chunk (non-data) not understood, skipping it.\n",
      "  from typing import Optional, Dict, Set, Iterator, Callable, cast\n",
      " 71%|███████   | 711/1000 [40:58<15:39,  3.25s/it]/kernel/lib/python3.7/site-packages/ml_kernel/kernel.py:18: WavFileWarning: Chunk (non-data) not understood, skipping it.\n",
      "  from typing import Optional, Dict, Set, Iterator, Callable, cast\n",
      " 77%|███████▋  | 767/1000 [44:08<12:34,  3.24s/it]/kernel/lib/python3.7/site-packages/ml_kernel/kernel.py:18: WavFileWarning: Chunk (non-data) not understood, skipping it.\n",
      "  from typing import Optional, Dict, Set, Iterator, Callable, cast\n",
      " 77%|███████▋  | 772/1000 [44:27<15:01,  3.96s/it]/kernel/lib/python3.7/site-packages/ml_kernel/kernel.py:18: WavFileWarning: Chunk (non-data) not understood, skipping it.\n",
      "  from typing import Optional, Dict, Set, Iterator, Callable, cast\n",
      "/kernel/lib/python3.7/site-packages/ml_kernel/kernel.py:18: WavFileWarning: Chunk (non-data) not understood, skipping it.\n",
      "  from typing import Optional, Dict, Set, Iterator, Callable, cast\n",
      " 79%|███████▉  | 793/1000 [45:34<09:53,  2.87s/it]/kernel/lib/python3.7/site-packages/ml_kernel/kernel.py:18: WavFileWarning: Chunk (non-data) not understood, skipping it.\n",
      "  from typing import Optional, Dict, Set, Iterator, Callable, cast\n",
      " 82%|████████▎ | 825/1000 [47:10<07:17,  2.50s/it]/kernel/lib/python3.7/site-packages/ml_kernel/kernel.py:18: WavFileWarning: Chunk (non-data) not understood, skipping it.\n",
      "  from typing import Optional, Dict, Set, Iterator, Callable, cast\n",
      " 84%|████████▍ | 841/1000 [48:18<11:15,  4.25s/it]/kernel/lib/python3.7/site-packages/ml_kernel/kernel.py:18: WavFileWarning: Chunk (non-data) not understood, skipping it.\n",
      "  from typing import Optional, Dict, Set, Iterator, Callable, cast\n",
      " 85%|████████▍ | 847/1000 [48:37<08:41,  3.41s/it]/kernel/lib/python3.7/site-packages/ml_kernel/kernel.py:18: WavFileWarning: Chunk (non-data) not understood, skipping it.\n",
      "  from typing import Optional, Dict, Set, Iterator, Callable, cast\n",
      " 86%|████████▌ | 861/1000 [49:23<07:09,  3.09s/it]/kernel/lib/python3.7/site-packages/ml_kernel/kernel.py:18: WavFileWarning: Chunk (non-data) not understood, skipping it.\n",
      "  from typing import Optional, Dict, Set, Iterator, Callable, cast\n",
      " 86%|████████▌ | 862/1000 [49:27<08:00,  3.49s/it]/kernel/lib/python3.7/site-packages/ml_kernel/kernel.py:18: WavFileWarning: Chunk (non-data) not understood, skipping it.\n",
      "  from typing import Optional, Dict, Set, Iterator, Callable, cast\n",
      " 88%|████████▊ | 882/1000 [50:33<07:33,  3.84s/it]/kernel/lib/python3.7/site-packages/ml_kernel/kernel.py:18: WavFileWarning: Chunk (non-data) not understood, skipping it.\n",
      "  from typing import Optional, Dict, Set, Iterator, Callable, cast\n",
      " 89%|████████▊ | 887/1000 [50:50<06:18,  3.35s/it]/kernel/lib/python3.7/site-packages/ml_kernel/kernel.py:18: WavFileWarning: Chunk (non-data) not understood, skipping it.\n",
      "  from typing import Optional, Dict, Set, Iterator, Callable, cast\n",
      " 90%|█████████ | 901/1000 [51:31<04:36,  2.80s/it]/kernel/lib/python3.7/site-packages/ml_kernel/kernel.py:18: WavFileWarning: Chunk (non-data) not understood, skipping it.\n",
      "  from typing import Optional, Dict, Set, Iterator, Callable, cast\n",
      " 90%|█████████ | 903/1000 [51:37<04:24,  2.72s/it]/kernel/lib/python3.7/site-packages/ml_kernel/kernel.py:18: WavFileWarning: Chunk (non-data) not understood, skipping it.\n",
      "  from typing import Optional, Dict, Set, Iterator, Callable, cast\n",
      " 92%|█████████▏| 920/1000 [52:35<04:23,  3.29s/it]/kernel/lib/python3.7/site-packages/ml_kernel/kernel.py:18: WavFileWarning: Chunk (non-data) not understood, skipping it.\n",
      "  from typing import Optional, Dict, Set, Iterator, Callable, cast\n",
      "100%|█████████▉| 997/1000 [56:27<00:08,  2.95s/it]/kernel/lib/python3.7/site-packages/ml_kernel/kernel.py:18: WavFileWarning: Chunk (non-data) not understood, skipping it.\n",
      "  from typing import Optional, Dict, Set, Iterator, Callable, cast\n",
      "100%|██████████| 1000/1000 [56:35<00:00,  3.40s/it]\n",
      " 16%|█▌        | 39/250 [00:38<03:45,  1.07s/it]/kernel/lib/python3.7/site-packages/ml_kernel/kernel.py:18: WavFileWarning: Chunk (non-data) not understood, skipping it.\n",
      "  from typing import Optional, Dict, Set, Iterator, Callable, cast\n",
      " 23%|██▎       | 57/250 [00:56<03:28,  1.08s/it]/kernel/lib/python3.7/site-packages/ml_kernel/kernel.py:18: WavFileWarning: Chunk (non-data) not understood, skipping it.\n",
      "  from typing import Optional, Dict, Set, Iterator, Callable, cast\n",
      "/kernel/lib/python3.7/site-packages/ml_kernel/kernel.py:18: WavFileWarning: Chunk (non-data) not understood, skipping it.\n",
      "  from typing import Optional, Dict, Set, Iterator, Callable, cast\n",
      " 25%|██▍       | 62/250 [01:01<03:40,  1.17s/it]/kernel/lib/python3.7/site-packages/ml_kernel/kernel.py:18: WavFileWarning: Chunk (non-data) not understood, skipping it.\n",
      "  from typing import Optional, Dict, Set, Iterator, Callable, cast\n",
      " 32%|███▏      | 80/250 [01:19<02:38,  1.07it/s]/kernel/lib/python3.7/site-packages/ml_kernel/kernel.py:18: WavFileWarning: Chunk (non-data) not understood, skipping it.\n",
      "  from typing import Optional, Dict, Set, Iterator, Callable, cast\n",
      " 41%|████      | 103/250 [01:40<02:03,  1.19it/s]/kernel/lib/python3.7/site-packages/ml_kernel/kernel.py:18: WavFileWarning: Chunk (non-data) not understood, skipping it.\n",
      "  from typing import Optional, Dict, Set, Iterator, Callable, cast\n",
      " 43%|████▎     | 108/250 [01:45<01:56,  1.22it/s]/kernel/lib/python3.7/site-packages/ml_kernel/kernel.py:18: WavFileWarning: Chunk (non-data) not understood, skipping it.\n",
      "  from typing import Optional, Dict, Set, Iterator, Callable, cast\n",
      " 47%|████▋     | 118/250 [01:55<02:05,  1.05it/s]/kernel/lib/python3.7/site-packages/ml_kernel/kernel.py:18: WavFileWarning: Chunk (non-data) not understood, skipping it.\n",
      "  from typing import Optional, Dict, Set, Iterator, Callable, cast\n",
      " 66%|██████▋   | 166/250 [02:37<01:25,  1.02s/it]/kernel/lib/python3.7/site-packages/ml_kernel/kernel.py:18: WavFileWarning: Chunk (non-data) not understood, skipping it.\n",
      "  from typing import Optional, Dict, Set, Iterator, Callable, cast\n",
      " 75%|███████▌  | 188/250 [03:00<00:57,  1.08it/s]/kernel/lib/python3.7/site-packages/ml_kernel/kernel.py:18: WavFileWarning: Chunk (non-data) not understood, skipping it.\n",
      "  from typing import Optional, Dict, Set, Iterator, Callable, cast\n",
      " 77%|███████▋  | 192/250 [03:04<01:06,  1.15s/it]/kernel/lib/python3.7/site-packages/ml_kernel/kernel.py:18: WavFileWarning: Chunk (non-data) not understood, skipping it.\n",
      "  from typing import Optional, Dict, Set, Iterator, Callable, cast\n",
      " 80%|███████▉  | 199/250 [03:12<00:59,  1.16s/it]/kernel/lib/python3.7/site-packages/ml_kernel/kernel.py:18: WavFileWarning: Chunk (non-data) not understood, skipping it.\n",
      "  from typing import Optional, Dict, Set, Iterator, Callable, cast\n",
      " 86%|████████▌ | 215/250 [03:28<00:34,  1.01it/s]/kernel/lib/python3.7/site-packages/ml_kernel/kernel.py:18: WavFileWarning: Chunk (non-data) not understood, skipping it.\n",
      "  from typing import Optional, Dict, Set, Iterator, Callable, cast\n",
      " 92%|█████████▏| 231/250 [03:43<00:19,  1.00s/it]/kernel/lib/python3.7/site-packages/ml_kernel/kernel.py:18: WavFileWarning: Chunk (non-data) not understood, skipping it.\n",
      "  from typing import Optional, Dict, Set, Iterator, Callable, cast\n",
      " 97%|█████████▋| 243/250 [03:56<00:09,  1.35s/it]/kernel/lib/python3.7/site-packages/ml_kernel/kernel.py:18: WavFileWarning: Chunk (non-data) not understood, skipping it.\n",
      "  from typing import Optional, Dict, Set, Iterator, Callable, cast\n",
      " 98%|█████████▊| 245/250 [03:57<00:05,  1.03s/it]/kernel/lib/python3.7/site-packages/ml_kernel/kernel.py:18: WavFileWarning: Chunk (non-data) not understood, skipping it.\n",
      "  from typing import Optional, Dict, Set, Iterator, Callable, cast\n",
      "100%|██████████| 250/250 [04:02<00:00,  1.03it/s]\n",
      "  2%|▏         | 16/1000 [00:53<58:04,  3.54s/it]  /kernel/lib/python3.7/site-packages/ml_kernel/kernel.py:18: WavFileWarning: Chunk (non-data) not understood, skipping it.\n",
      "  from typing import Optional, Dict, Set, Iterator, Callable, cast\n",
      "  3%|▎         | 26/1000 [01:32<1:09:14,  4.27s/it]/kernel/lib/python3.7/site-packages/ml_kernel/kernel.py:18: WavFileWarning: Chunk (non-data) not understood, skipping it.\n",
      "  from typing import Optional, Dict, Set, Iterator, Callable, cast\n",
      "  7%|▋         | 73/1000 [04:06<45:24,  2.94s/it]/kernel/lib/python3.7/site-packages/ml_kernel/kernel.py:18: WavFileWarning: Chunk (non-data) not understood, skipping it.\n",
      "  from typing import Optional, Dict, Set, Iterator, Callable, cast\n",
      "  8%|▊         | 76/1000 [04:16<48:36,  3.16s/it]/kernel/lib/python3.7/site-packages/ml_kernel/kernel.py:18: WavFileWarning: Chunk (non-data) not understood, skipping it.\n",
      "  from typing import Optional, Dict, Set, Iterator, Callable, cast\n",
      "  9%|▉         | 90/1000 [05:13<59:17,  3.91s/it]  /kernel/lib/python3.7/site-packages/ml_kernel/kernel.py:18: WavFileWarning: Chunk (non-data) not understood, skipping it.\n",
      "  from typing import Optional, Dict, Set, Iterator, Callable, cast\n",
      " 11%|█         | 107/1000 [06:01<41:12,  2.77s/it]/kernel/lib/python3.7/site-packages/ml_kernel/kernel.py:18: WavFileWarning: Chunk (non-data) not understood, skipping it.\n",
      "  from typing import Optional, Dict, Set, Iterator, Callable, cast\n",
      " 12%|█▏        | 119/1000 [06:55<1:02:29,  4.26s/it]/kernel/lib/python3.7/site-packages/ml_kernel/kernel.py:18: WavFileWarning: Chunk (non-data) not understood, skipping it.\n",
      "  from typing import Optional, Dict, Set, Iterator, Callable, cast\n",
      " 15%|█▌        | 150/1000 [08:33<42:56,  3.03s/it]/kernel/lib/python3.7/site-packages/ml_kernel/kernel.py:18: WavFileWarning: Chunk (non-data) not understood, skipping it.\n",
      "  from typing import Optional, Dict, Set, Iterator, Callable, cast\n",
      " 16%|█▌        | 157/1000 [08:58<44:23,  3.16s/it]/kernel/lib/python3.7/site-packages/ml_kernel/kernel.py:18: WavFileWarning: Chunk (non-data) not understood, skipping it.\n",
      "  from typing import Optional, Dict, Set, Iterator, Callable, cast\n",
      " 16%|█▋        | 164/1000 [09:22<51:09,  3.67s/it]/kernel/lib/python3.7/site-packages/ml_kernel/kernel.py:18: WavFileWarning: Chunk (non-data) not understood, skipping it.\n",
      "  from typing import Optional, Dict, Set, Iterator, Callable, cast\n",
      " 16%|█▋        | 165/1000 [09:27<54:52,  3.94s/it]/kernel/lib/python3.7/site-packages/ml_kernel/kernel.py:18: WavFileWarning: Chunk (non-data) not understood, skipping it.\n",
      "  from typing import Optional, Dict, Set, Iterator, Callable, cast\n",
      " 18%|█▊        | 183/1000 [10:27<54:22,  3.99s/it]/kernel/lib/python3.7/site-packages/ml_kernel/kernel.py:18: WavFileWarning: Chunk (non-data) not understood, skipping it.\n",
      "  from typing import Optional, Dict, Set, Iterator, Callable, cast\n",
      " 26%|██▋       | 264/1000 [14:38<44:41,  3.64s/it]/kernel/lib/python3.7/site-packages/ml_kernel/kernel.py:18: WavFileWarning: Chunk (non-data) not understood, skipping it.\n",
      "  from typing import Optional, Dict, Set, Iterator, Callable, cast\n",
      " 28%|██▊       | 275/1000 [15:13<41:45,  3.46s/it]/kernel/lib/python3.7/site-packages/ml_kernel/kernel.py:18: WavFileWarning: Chunk (non-data) not understood, skipping it.\n",
      "  from typing import Optional, Dict, Set, Iterator, Callable, cast\n",
      " 29%|██▊       | 287/1000 [16:00<37:33,  3.16s/it]/kernel/lib/python3.7/site-packages/ml_kernel/kernel.py:18: WavFileWarning: Chunk (non-data) not understood, skipping it.\n",
      "  from typing import Optional, Dict, Set, Iterator, Callable, cast\n",
      " 31%|███       | 311/1000 [17:19<44:24,  3.87s/it]/kernel/lib/python3.7/site-packages/ml_kernel/kernel.py:18: WavFileWarning: Chunk (non-data) not understood, skipping it.\n",
      "  from typing import Optional, Dict, Set, Iterator, Callable, cast\n",
      " 31%|███▏      | 314/1000 [17:29<40:55,  3.58s/it]/kernel/lib/python3.7/site-packages/ml_kernel/kernel.py:18: WavFileWarning: Chunk (non-data) not understood, skipping it.\n",
      "  from typing import Optional, Dict, Set, Iterator, Callable, cast\n",
      " 36%|███▌      | 358/1000 [20:13<47:33,  4.45s/it]/kernel/lib/python3.7/site-packages/ml_kernel/kernel.py:18: WavFileWarning: Chunk (non-data) not understood, skipping it.\n",
      "  from typing import Optional, Dict, Set, Iterator, Callable, cast\n",
      " 36%|███▋      | 365/1000 [20:36<36:31,  3.45s/it]/kernel/lib/python3.7/site-packages/ml_kernel/kernel.py:18: WavFileWarning: Chunk (non-data) not understood, skipping it.\n",
      "  from typing import Optional, Dict, Set, Iterator, Callable, cast\n",
      " 40%|███▉      | 396/1000 [22:06<32:27,  3.22s/it]/kernel/lib/python3.7/site-packages/ml_kernel/kernel.py:18: WavFileWarning: Chunk (non-data) not understood, skipping it.\n",
      "  from typing import Optional, Dict, Set, Iterator, Callable, cast\n",
      " 40%|████      | 400/1000 [22:21<33:20,  3.33s/it]/kernel/lib/python3.7/site-packages/ml_kernel/kernel.py:18: WavFileWarning: Chunk (non-data) not understood, skipping it.\n",
      "  from typing import Optional, Dict, Set, Iterator, Callable, cast\n",
      " 41%|████      | 412/1000 [23:09<31:48,  3.25s/it]/kernel/lib/python3.7/site-packages/ml_kernel/kernel.py:18: WavFileWarning: Chunk (non-data) not understood, skipping it.\n",
      "  from typing import Optional, Dict, Set, Iterator, Callable, cast\n",
      " 42%|████▏     | 416/1000 [23:26<41:19,  4.25s/it]/kernel/lib/python3.7/site-packages/ml_kernel/kernel.py:18: WavFileWarning: Chunk (non-data) not understood, skipping it.\n",
      "  from typing import Optional, Dict, Set, Iterator, Callable, cast\n",
      " 42%|████▏     | 421/1000 [23:42<34:49,  3.61s/it]/kernel/lib/python3.7/site-packages/ml_kernel/kernel.py:18: WavFileWarning: Chunk (non-data) not understood, skipping it.\n",
      "  from typing import Optional, Dict, Set, Iterator, Callable, cast\n",
      " 44%|████▍     | 441/1000 [24:43<29:12,  3.13s/it]/kernel/lib/python3.7/site-packages/ml_kernel/kernel.py:18: WavFileWarning: Chunk (non-data) not understood, skipping it.\n",
      "  from typing import Optional, Dict, Set, Iterator, Callable, cast\n",
      " 49%|████▊     | 487/1000 [27:30<37:28,  4.38s/it]/kernel/lib/python3.7/site-packages/ml_kernel/kernel.py:18: WavFileWarning: Chunk (non-data) not understood, skipping it.\n",
      "  from typing import Optional, Dict, Set, Iterator, Callable, cast\n",
      " 49%|████▉     | 493/1000 [27:48<23:20,  2.76s/it]/kernel/lib/python3.7/site-packages/ml_kernel/kernel.py:18: WavFileWarning: Chunk (non-data) not understood, skipping it.\n",
      "  from typing import Optional, Dict, Set, Iterator, Callable, cast\n",
      " 54%|█████▎    | 537/1000 [30:10<28:18,  3.67s/it]/kernel/lib/python3.7/site-packages/ml_kernel/kernel.py:18: WavFileWarning: Chunk (non-data) not understood, skipping it.\n",
      "  from typing import Optional, Dict, Set, Iterator, Callable, cast\n",
      " 55%|█████▍    | 548/1000 [31:05<28:14,  3.75s/it]/kernel/lib/python3.7/site-packages/ml_kernel/kernel.py:18: WavFileWarning: Chunk (non-data) not understood, skipping it.\n",
      "  from typing import Optional, Dict, Set, Iterator, Callable, cast\n",
      " 56%|█████▌    | 561/1000 [31:53<28:28,  3.89s/it]/kernel/lib/python3.7/site-packages/ml_kernel/kernel.py:18: WavFileWarning: Chunk (non-data) not understood, skipping it.\n",
      "  from typing import Optional, Dict, Set, Iterator, Callable, cast\n",
      " 58%|█████▊    | 585/1000 [33:10<21:36,  3.12s/it]/kernel/lib/python3.7/site-packages/ml_kernel/kernel.py:18: WavFileWarning: Chunk (non-data) not understood, skipping it.\n",
      "  from typing import Optional, Dict, Set, Iterator, Callable, cast\n",
      " 59%|█████▉    | 591/1000 [33:30<25:24,  3.73s/it]/kernel/lib/python3.7/site-packages/ml_kernel/kernel.py:18: WavFileWarning: Chunk (non-data) not understood, skipping it.\n",
      "  from typing import Optional, Dict, Set, Iterator, Callable, cast\n",
      " 59%|█████▉    | 594/1000 [33:41<23:27,  3.47s/it]/kernel/lib/python3.7/site-packages/ml_kernel/kernel.py:18: WavFileWarning: Chunk (non-data) not understood, skipping it.\n",
      "  from typing import Optional, Dict, Set, Iterator, Callable, cast\n",
      " 60%|█████▉    | 595/1000 [33:44<21:26,  3.18s/it]/kernel/lib/python3.7/site-packages/ml_kernel/kernel.py:18: WavFileWarning: Chunk (non-data) not understood, skipping it.\n",
      "  from typing import Optional, Dict, Set, Iterator, Callable, cast\n",
      " 63%|██████▎   | 633/1000 [35:43<19:37,  3.21s/it]/kernel/lib/python3.7/site-packages/ml_kernel/kernel.py:18: WavFileWarning: Chunk (non-data) not understood, skipping it.\n",
      "  from typing import Optional, Dict, Set, Iterator, Callable, cast\n",
      " 64%|██████▎   | 637/1000 [35:59<20:09,  3.33s/it]/kernel/lib/python3.7/site-packages/ml_kernel/kernel.py:18: WavFileWarning: Chunk (non-data) not understood, skipping it.\n",
      "  from typing import Optional, Dict, Set, Iterator, Callable, cast\n",
      " 66%|██████▌   | 662/1000 [37:18<15:44,  2.79s/it]/kernel/lib/python3.7/site-packages/ml_kernel/kernel.py:18: WavFileWarning: Chunk (non-data) not understood, skipping it.\n",
      "  from typing import Optional, Dict, Set, Iterator, Callable, cast\n",
      " 69%|██████▊   | 686/1000 [38:40<16:43,  3.20s/it]/kernel/lib/python3.7/site-packages/ml_kernel/kernel.py:18: WavFileWarning: Chunk (non-data) not understood, skipping it.\n",
      "  from typing import Optional, Dict, Set, Iterator, Callable, cast\n",
      " 69%|██████▉   | 690/1000 [38:54<17:02,  3.30s/it]/kernel/lib/python3.7/site-packages/ml_kernel/kernel.py:18: WavFileWarning: Chunk (non-data) not understood, skipping it.\n",
      "  from typing import Optional, Dict, Set, Iterator, Callable, cast\n",
      " 71%|███████   | 708/1000 [39:51<16:01,  3.29s/it]/kernel/lib/python3.7/site-packages/ml_kernel/kernel.py:18: WavFileWarning: Chunk (non-data) not understood, skipping it.\n",
      "  from typing import Optional, Dict, Set, Iterator, Callable, cast\n",
      " 74%|███████▎  | 737/1000 [41:27<15:22,  3.51s/it]/kernel/lib/python3.7/site-packages/ml_kernel/kernel.py:18: WavFileWarning: Chunk (non-data) not understood, skipping it.\n",
      "  from typing import Optional, Dict, Set, Iterator, Callable, cast\n",
      " 75%|███████▍  | 746/1000 [42:02<14:59,  3.54s/it]/kernel/lib/python3.7/site-packages/ml_kernel/kernel.py:18: WavFileWarning: Chunk (non-data) not understood, skipping it.\n",
      "  from typing import Optional, Dict, Set, Iterator, Callable, cast\n",
      " 77%|███████▋  | 766/1000 [43:06<11:21,  2.91s/it]/kernel/lib/python3.7/site-packages/ml_kernel/kernel.py:18: WavFileWarning: Chunk (non-data) not understood, skipping it.\n",
      "  from typing import Optional, Dict, Set, Iterator, Callable, cast\n",
      " 77%|███████▋  | 773/1000 [43:30<12:28,  3.30s/it]/kernel/lib/python3.7/site-packages/ml_kernel/kernel.py:18: WavFileWarning: Chunk (non-data) not understood, skipping it.\n",
      "  from typing import Optional, Dict, Set, Iterator, Callable, cast\n",
      " 81%|████████  | 810/1000 [45:43<11:32,  3.65s/it]/kernel/lib/python3.7/site-packages/ml_kernel/kernel.py:18: WavFileWarning: Chunk (non-data) not understood, skipping it.\n",
      "  from typing import Optional, Dict, Set, Iterator, Callable, cast\n",
      " 97%|█████████▋| 970/1000 [54:30<01:37,  3.26s/it]/kernel/lib/python3.7/site-packages/ml_kernel/kernel.py:18: WavFileWarning: Chunk (non-data) not understood, skipping it.\n",
      "  from typing import Optional, Dict, Set, Iterator, Callable, cast\n",
      " 99%|█████████▊| 987/1000 [55:33<00:53,  4.10s/it]/kernel/lib/python3.7/site-packages/ml_kernel/kernel.py:18: WavFileWarning: Chunk (non-data) not understood, skipping it.\n",
      "  from typing import Optional, Dict, Set, Iterator, Callable, cast\n",
      "100%|█████████▉| 997/1000 [56:10<00:09,  3.27s/it]/kernel/lib/python3.7/site-packages/ml_kernel/kernel.py:18: WavFileWarning: Chunk (non-data) not understood, skipping it.\n",
      "  from typing import Optional, Dict, Set, Iterator, Callable, cast\n",
      "100%|██████████| 1000/1000 [56:19<00:00,  3.38s/it]\n",
      " 16%|█▌        | 39/250 [00:38<03:38,  1.04s/it]/kernel/lib/python3.7/site-packages/ml_kernel/kernel.py:18: WavFileWarning: Chunk (non-data) not understood, skipping it.\n",
      "  from typing import Optional, Dict, Set, Iterator, Callable, cast\n",
      " 23%|██▎       | 57/250 [00:55<03:24,  1.06s/it]/kernel/lib/python3.7/site-packages/ml_kernel/kernel.py:18: WavFileWarning: Chunk (non-data) not understood, skipping it.\n",
      "  from typing import Optional, Dict, Set, Iterator, Callable, cast\n",
      "/kernel/lib/python3.7/site-packages/ml_kernel/kernel.py:18: WavFileWarning: Chunk (non-data) not understood, skipping it.\n",
      "  from typing import Optional, Dict, Set, Iterator, Callable, cast\n",
      " 25%|██▍       | 62/250 [01:01<03:45,  1.20s/it]/kernel/lib/python3.7/site-packages/ml_kernel/kernel.py:18: WavFileWarning: Chunk (non-data) not understood, skipping it.\n",
      "  from typing import Optional, Dict, Set, Iterator, Callable, cast\n",
      " 32%|███▏      | 80/250 [01:19<02:33,  1.11it/s]/kernel/lib/python3.7/site-packages/ml_kernel/kernel.py:18: WavFileWarning: Chunk (non-data) not understood, skipping it.\n",
      "  from typing import Optional, Dict, Set, Iterator, Callable, cast\n",
      " 41%|████      | 103/250 [01:40<01:57,  1.26it/s]/kernel/lib/python3.7/site-packages/ml_kernel/kernel.py:18: WavFileWarning: Chunk (non-data) not understood, skipping it.\n",
      "  from typing import Optional, Dict, Set, Iterator, Callable, cast\n",
      " 43%|████▎     | 108/250 [01:44<01:53,  1.25it/s]/kernel/lib/python3.7/site-packages/ml_kernel/kernel.py:18: WavFileWarning: Chunk (non-data) not understood, skipping it.\n",
      "  from typing import Optional, Dict, Set, Iterator, Callable, cast\n",
      " 47%|████▋     | 118/250 [01:54<02:03,  1.07it/s]/kernel/lib/python3.7/site-packages/ml_kernel/kernel.py:18: WavFileWarning: Chunk (non-data) not understood, skipping it.\n",
      "  from typing import Optional, Dict, Set, Iterator, Callable, cast\n",
      " 66%|██████▋   | 166/250 [02:36<01:26,  1.03s/it]/kernel/lib/python3.7/site-packages/ml_kernel/kernel.py:18: WavFileWarning: Chunk (non-data) not understood, skipping it.\n",
      "  from typing import Optional, Dict, Set, Iterator, Callable, cast\n",
      " 75%|███████▌  | 188/250 [02:58<00:52,  1.18it/s]/kernel/lib/python3.7/site-packages/ml_kernel/kernel.py:18: WavFileWarning: Chunk (non-data) not understood, skipping it.\n",
      "  from typing import Optional, Dict, Set, Iterator, Callable, cast\n",
      " 77%|███████▋  | 192/250 [03:03<01:04,  1.12s/it]/kernel/lib/python3.7/site-packages/ml_kernel/kernel.py:18: WavFileWarning: Chunk (non-data) not understood, skipping it.\n",
      "  from typing import Optional, Dict, Set, Iterator, Callable, cast\n",
      " 80%|███████▉  | 199/250 [03:11<00:57,  1.13s/it]/kernel/lib/python3.7/site-packages/ml_kernel/kernel.py:18: WavFileWarning: Chunk (non-data) not understood, skipping it.\n",
      "  from typing import Optional, Dict, Set, Iterator, Callable, cast\n",
      " 86%|████████▌ | 215/250 [03:26<00:31,  1.12it/s]/kernel/lib/python3.7/site-packages/ml_kernel/kernel.py:18: WavFileWarning: Chunk (non-data) not understood, skipping it.\n",
      "  from typing import Optional, Dict, Set, Iterator, Callable, cast\n",
      " 92%|█████████▏| 231/250 [03:41<00:19,  1.03s/it]/kernel/lib/python3.7/site-packages/ml_kernel/kernel.py:18: WavFileWarning: Chunk (non-data) not understood, skipping it.\n",
      "  from typing import Optional, Dict, Set, Iterator, Callable, cast\n",
      " 97%|█████████▋| 243/250 [03:53<00:08,  1.15s/it]/kernel/lib/python3.7/site-packages/ml_kernel/kernel.py:18: WavFileWarning: Chunk (non-data) not understood, skipping it.\n",
      "  from typing import Optional, Dict, Set, Iterator, Callable, cast\n",
      " 98%|█████████▊| 245/250 [03:54<00:04,  1.09it/s]/kernel/lib/python3.7/site-packages/ml_kernel/kernel.py:18: WavFileWarning: Chunk (non-data) not understood, skipping it.\n",
      "  from typing import Optional, Dict, Set, Iterator, Callable, cast\n",
      "100%|██████████| 250/250 [03:59<00:00,  1.04it/s]\n",
      "  1%|          | 9/1000 [00:28<45:02,  2.73s/it]/kernel/lib/python3.7/site-packages/ml_kernel/kernel.py:18: WavFileWarning: Chunk (non-data) not understood, skipping it.\n",
      "  from typing import Optional, Dict, Set, Iterator, Callable, cast\n",
      "  2%|▏         | 22/1000 [01:12<1:04:23,  3.95s/it]/kernel/lib/python3.7/site-packages/ml_kernel/kernel.py:18: WavFileWarning: Chunk (non-data) not understood, skipping it.\n",
      "  from typing import Optional, Dict, Set, Iterator, Callable, cast\n",
      "  6%|▌         | 61/1000 [03:32<54:35,  3.49s/it]/kernel/lib/python3.7/site-packages/ml_kernel/kernel.py:18: WavFileWarning: Chunk (non-data) not understood, skipping it.\n",
      "  from typing import Optional, Dict, Set, Iterator, Callable, cast\n",
      "  8%|▊         | 76/1000 [04:20<42:06,  2.73s/it]/kernel/lib/python3.7/site-packages/ml_kernel/kernel.py:18: WavFileWarning: Chunk (non-data) not understood, skipping it.\n",
      "  from typing import Optional, Dict, Set, Iterator, Callable, cast\n",
      " 14%|█▎        | 135/1000 [07:32<38:40,  2.68s/it]/kernel/lib/python3.7/site-packages/ml_kernel/kernel.py:18: WavFileWarning: Chunk (non-data) not understood, skipping it.\n",
      "  from typing import Optional, Dict, Set, Iterator, Callable, cast\n",
      " 14%|█▍        | 138/1000 [07:41<40:53,  2.85s/it]/kernel/lib/python3.7/site-packages/ml_kernel/kernel.py:18: WavFileWarning: Chunk (non-data) not understood, skipping it.\n",
      "  from typing import Optional, Dict, Set, Iterator, Callable, cast\n",
      " 15%|█▌        | 154/1000 [08:37<1:03:13,  4.48s/it]/kernel/lib/python3.7/site-packages/ml_kernel/kernel.py:18: WavFileWarning: Chunk (non-data) not understood, skipping it.\n",
      "  from typing import Optional, Dict, Set, Iterator, Callable, cast\n",
      " 20%|█▉        | 197/1000 [10:56<37:13,  2.78s/it]/kernel/lib/python3.7/site-packages/ml_kernel/kernel.py:18: WavFileWarning: Chunk (non-data) not understood, skipping it.\n",
      "  from typing import Optional, Dict, Set, Iterator, Callable, cast\n",
      " 20%|█▉        | 198/1000 [10:59<35:16,  2.64s/it]/kernel/lib/python3.7/site-packages/ml_kernel/kernel.py:18: WavFileWarning: Chunk (non-data) not understood, skipping it.\n",
      "  from typing import Optional, Dict, Set, Iterator, Callable, cast\n",
      " 23%|██▎       | 227/1000 [12:43<49:21,  3.83s/it]/kernel/lib/python3.7/site-packages/ml_kernel/kernel.py:18: WavFileWarning: Chunk (non-data) not understood, skipping it.\n",
      "  from typing import Optional, Dict, Set, Iterator, Callable, cast\n",
      " 24%|██▍       | 244/1000 [13:39<41:33,  3.30s/it]/kernel/lib/python3.7/site-packages/ml_kernel/kernel.py:18: WavFileWarning: Chunk (non-data) not understood, skipping it.\n",
      "  from typing import Optional, Dict, Set, Iterator, Callable, cast\n",
      " 25%|██▌       | 252/1000 [14:01<34:02,  2.73s/it]/kernel/lib/python3.7/site-packages/ml_kernel/kernel.py:18: WavFileWarning: Chunk (non-data) not understood, skipping it.\n",
      "  from typing import Optional, Dict, Set, Iterator, Callable, cast\n",
      " 27%|██▋       | 274/1000 [15:07<33:46,  2.79s/it]/kernel/lib/python3.7/site-packages/ml_kernel/kernel.py:18: WavFileWarning: Chunk (non-data) not understood, skipping it.\n",
      "  from typing import Optional, Dict, Set, Iterator, Callable, cast\n",
      " 28%|██▊       | 280/1000 [15:30<42:44,  3.56s/it]/kernel/lib/python3.7/site-packages/ml_kernel/kernel.py:18: WavFileWarning: Chunk (non-data) not understood, skipping it.\n",
      "  from typing import Optional, Dict, Set, Iterator, Callable, cast\n",
      " 33%|███▎      | 333/1000 [18:33<31:50,  2.86s/it]/kernel/lib/python3.7/site-packages/ml_kernel/kernel.py:18: WavFileWarning: Chunk (non-data) not understood, skipping it.\n",
      "  from typing import Optional, Dict, Set, Iterator, Callable, cast\n",
      " 34%|███▍      | 339/1000 [19:06<49:59,  4.54s/it]/kernel/lib/python3.7/site-packages/ml_kernel/kernel.py:18: WavFileWarning: Chunk (non-data) not understood, skipping it.\n",
      "  from typing import Optional, Dict, Set, Iterator, Callable, cast\n",
      " 34%|███▍      | 344/1000 [19:26<40:52,  3.74s/it]/kernel/lib/python3.7/site-packages/ml_kernel/kernel.py:18: WavFileWarning: Chunk (non-data) not understood, skipping it.\n",
      "  from typing import Optional, Dict, Set, Iterator, Callable, cast\n",
      " 36%|███▋      | 364/1000 [20:30<38:01,  3.59s/it]/kernel/lib/python3.7/site-packages/ml_kernel/kernel.py:18: WavFileWarning: Chunk (non-data) not understood, skipping it.\n",
      "  from typing import Optional, Dict, Set, Iterator, Callable, cast\n",
      " 39%|███▉      | 391/1000 [22:14<49:51,  4.91s/it]/kernel/lib/python3.7/site-packages/ml_kernel/kernel.py:18: WavFileWarning: Chunk (non-data) not understood, skipping it.\n",
      "  from typing import Optional, Dict, Set, Iterator, Callable, cast\n",
      " 39%|███▉      | 394/1000 [22:22<35:29,  3.51s/it]/kernel/lib/python3.7/site-packages/ml_kernel/kernel.py:18: WavFileWarning: Chunk (non-data) not understood, skipping it.\n",
      "  from typing import Optional, Dict, Set, Iterator, Callable, cast\n",
      " 40%|████      | 405/1000 [22:57<37:14,  3.76s/it]/kernel/lib/python3.7/site-packages/ml_kernel/kernel.py:18: WavFileWarning: Chunk (non-data) not understood, skipping it.\n",
      "  from typing import Optional, Dict, Set, Iterator, Callable, cast\n",
      " 42%|████▏     | 418/1000 [23:36<34:54,  3.60s/it]/kernel/lib/python3.7/site-packages/ml_kernel/kernel.py:18: WavFileWarning: Chunk (non-data) not understood, skipping it.\n",
      "  from typing import Optional, Dict, Set, Iterator, Callable, cast\n",
      " 43%|████▎     | 426/1000 [24:05<39:28,  4.13s/it]/kernel/lib/python3.7/site-packages/ml_kernel/kernel.py:18: WavFileWarning: Chunk (non-data) not understood, skipping it.\n",
      "  from typing import Optional, Dict, Set, Iterator, Callable, cast\n",
      " 44%|████▍     | 445/1000 [25:00<26:59,  2.92s/it]/kernel/lib/python3.7/site-packages/ml_kernel/kernel.py:18: WavFileWarning: Chunk (non-data) not understood, skipping it.\n",
      "  from typing import Optional, Dict, Set, Iterator, Callable, cast\n",
      " 50%|█████     | 501/1000 [28:00<27:06,  3.26s/it]/kernel/lib/python3.7/site-packages/ml_kernel/kernel.py:18: WavFileWarning: Chunk (non-data) not understood, skipping it.\n",
      "  from typing import Optional, Dict, Set, Iterator, Callable, cast\n",
      " 52%|█████▏    | 520/1000 [29:05<26:19,  3.29s/it]/kernel/lib/python3.7/site-packages/ml_kernel/kernel.py:18: WavFileWarning: Chunk (non-data) not understood, skipping it.\n",
      "  from typing import Optional, Dict, Set, Iterator, Callable, cast\n",
      " 58%|█████▊    | 577/1000 [32:26<23:42,  3.36s/it]/kernel/lib/python3.7/site-packages/ml_kernel/kernel.py:18: WavFileWarning: Chunk (non-data) not understood, skipping it.\n",
      "  from typing import Optional, Dict, Set, Iterator, Callable, cast\n",
      " 58%|█████▊    | 581/1000 [32:41<28:01,  4.01s/it]/kernel/lib/python3.7/site-packages/ml_kernel/kernel.py:18: WavFileWarning: Chunk (non-data) not understood, skipping it.\n",
      "  from typing import Optional, Dict, Set, Iterator, Callable, cast\n",
      " 61%|██████    | 606/1000 [34:03<17:52,  2.72s/it]/kernel/lib/python3.7/site-packages/ml_kernel/kernel.py:18: WavFileWarning: Chunk (non-data) not understood, skipping it.\n",
      "  from typing import Optional, Dict, Set, Iterator, Callable, cast\n",
      " 64%|██████▍   | 639/1000 [35:59<22:23,  3.72s/it]/kernel/lib/python3.7/site-packages/ml_kernel/kernel.py:18: WavFileWarning: Chunk (non-data) not understood, skipping it.\n",
      "  from typing import Optional, Dict, Set, Iterator, Callable, cast\n",
      " 65%|██████▌   | 653/1000 [36:50<26:27,  4.57s/it]/kernel/lib/python3.7/site-packages/ml_kernel/kernel.py:18: WavFileWarning: Chunk (non-data) not understood, skipping it.\n",
      "  from typing import Optional, Dict, Set, Iterator, Callable, cast\n",
      " 66%|██████▋   | 665/1000 [37:30<21:14,  3.81s/it]/kernel/lib/python3.7/site-packages/ml_kernel/kernel.py:18: WavFileWarning: Chunk (non-data) not understood, skipping it.\n",
      "  from typing import Optional, Dict, Set, Iterator, Callable, cast\n",
      " 68%|██████▊   | 685/1000 [38:39<17:26,  3.32s/it]/kernel/lib/python3.7/site-packages/ml_kernel/kernel.py:18: WavFileWarning: Chunk (non-data) not understood, skipping it.\n",
      "  from typing import Optional, Dict, Set, Iterator, Callable, cast\n",
      " 70%|███████   | 704/1000 [39:46<16:10,  3.28s/it]/kernel/lib/python3.7/site-packages/ml_kernel/kernel.py:18: WavFileWarning: Chunk (non-data) not understood, skipping it.\n",
      "  from typing import Optional, Dict, Set, Iterator, Callable, cast\n",
      " 81%|████████  | 807/1000 [45:40<09:36,  2.99s/it]/kernel/lib/python3.7/site-packages/ml_kernel/kernel.py:18: WavFileWarning: Chunk (non-data) not understood, skipping it.\n",
      "  from typing import Optional, Dict, Set, Iterator, Callable, cast\n",
      " 88%|████████▊ | 883/1000 [50:08<08:36,  4.42s/it]/kernel/lib/python3.7/site-packages/ml_kernel/kernel.py:18: WavFileWarning: Chunk (non-data) not understood, skipping it.\n",
      "  from typing import Optional, Dict, Set, Iterator, Callable, cast\n",
      " 90%|█████████ | 900/1000 [51:02<05:19,  3.20s/it]/kernel/lib/python3.7/site-packages/ml_kernel/kernel.py:18: WavFileWarning: Chunk (non-data) not understood, skipping it.\n",
      "  from typing import Optional, Dict, Set, Iterator, Callable, cast\n",
      " 91%|█████████ | 909/1000 [51:34<06:19,  4.17s/it]/kernel/lib/python3.7/site-packages/ml_kernel/kernel.py:18: WavFileWarning: Chunk (non-data) not understood, skipping it.\n",
      "  from typing import Optional, Dict, Set, Iterator, Callable, cast\n",
      " 92%|█████████▏| 919/1000 [52:08<05:17,  3.92s/it]/kernel/lib/python3.7/site-packages/ml_kernel/kernel.py:18: WavFileWarning: Chunk (non-data) not understood, skipping it.\n",
      "  from typing import Optional, Dict, Set, Iterator, Callable, cast\n",
      " 92%|█████████▏| 923/1000 [52:20<04:02,  3.15s/it]/kernel/lib/python3.7/site-packages/ml_kernel/kernel.py:18: WavFileWarning: Chunk (non-data) not understood, skipping it.\n",
      "  from typing import Optional, Dict, Set, Iterator, Callable, cast\n",
      " 93%|█████████▎| 930/1000 [52:46<04:18,  3.69s/it]/kernel/lib/python3.7/site-packages/ml_kernel/kernel.py:18: WavFileWarning: Chunk (non-data) not understood, skipping it.\n",
      "  from typing import Optional, Dict, Set, Iterator, Callable, cast\n",
      " 93%|█████████▎| 932/1000 [52:51<03:35,  3.16s/it]/kernel/lib/python3.7/site-packages/ml_kernel/kernel.py:18: WavFileWarning: Chunk (non-data) not understood, skipping it.\n",
      "  from typing import Optional, Dict, Set, Iterator, Callable, cast\n",
      " 93%|█████████▎| 934/1000 [52:57<03:21,  3.06s/it]/kernel/lib/python3.7/site-packages/ml_kernel/kernel.py:18: WavFileWarning: Chunk (non-data) not understood, skipping it.\n",
      "  from typing import Optional, Dict, Set, Iterator, Callable, cast\n",
      " 95%|█████████▍| 947/1000 [53:45<03:56,  4.45s/it]/kernel/lib/python3.7/site-packages/ml_kernel/kernel.py:18: WavFileWarning: Chunk (non-data) not understood, skipping it.\n",
      "  from typing import Optional, Dict, Set, Iterator, Callable, cast\n",
      " 97%|█████████▋| 968/1000 [54:57<01:58,  3.69s/it]/kernel/lib/python3.7/site-packages/ml_kernel/kernel.py:18: WavFileWarning: Chunk (non-data) not understood, skipping it.\n",
      "  from typing import Optional, Dict, Set, Iterator, Callable, cast\n",
      " 97%|█████████▋| 971/1000 [55:06<01:27,  3.03s/it]/kernel/lib/python3.7/site-packages/ml_kernel/kernel.py:18: WavFileWarning: Chunk (non-data) not understood, skipping it.\n",
      "  from typing import Optional, Dict, Set, Iterator, Callable, cast\n",
      " 98%|█████████▊| 985/1000 [55:57<00:50,  3.39s/it]/kernel/lib/python3.7/site-packages/ml_kernel/kernel.py:18: WavFileWarning: Chunk (non-data) not understood, skipping it.\n",
      "  from typing import Optional, Dict, Set, Iterator, Callable, cast\n",
      "100%|█████████▉| 995/1000 [56:28<00:16,  3.25s/it]/kernel/lib/python3.7/site-packages/ml_kernel/kernel.py:18: WavFileWarning: Chunk (non-data) not understood, skipping it.\n",
      "  from typing import Optional, Dict, Set, Iterator, Callable, cast\n",
      "100%|██████████| 1000/1000 [56:43<00:00,  3.40s/it]\n",
      " 16%|█▌        | 39/250 [00:38<03:46,  1.07s/it]/kernel/lib/python3.7/site-packages/ml_kernel/kernel.py:18: WavFileWarning: Chunk (non-data) not understood, skipping it.\n",
      "  from typing import Optional, Dict, Set, Iterator, Callable, cast\n",
      " 23%|██▎       | 57/250 [00:57<03:43,  1.16s/it]/kernel/lib/python3.7/site-packages/ml_kernel/kernel.py:18: WavFileWarning: Chunk (non-data) not understood, skipping it.\n",
      "  from typing import Optional, Dict, Set, Iterator, Callable, cast\n",
      "/kernel/lib/python3.7/site-packages/ml_kernel/kernel.py:18: WavFileWarning: Chunk (non-data) not understood, skipping it.\n",
      "  from typing import Optional, Dict, Set, Iterator, Callable, cast\n",
      " 25%|██▍       | 62/250 [01:03<03:45,  1.20s/it]/kernel/lib/python3.7/site-packages/ml_kernel/kernel.py:18: WavFileWarning: Chunk (non-data) not understood, skipping it.\n",
      "  from typing import Optional, Dict, Set, Iterator, Callable, cast\n",
      " 32%|███▏      | 80/250 [01:21<02:40,  1.06it/s]/kernel/lib/python3.7/site-packages/ml_kernel/kernel.py:18: WavFileWarning: Chunk (non-data) not understood, skipping it.\n",
      "  from typing import Optional, Dict, Set, Iterator, Callable, cast\n",
      " 41%|████      | 103/250 [01:43<02:05,  1.17it/s]/kernel/lib/python3.7/site-packages/ml_kernel/kernel.py:18: WavFileWarning: Chunk (non-data) not understood, skipping it.\n",
      "  from typing import Optional, Dict, Set, Iterator, Callable, cast\n",
      " 43%|████▎     | 108/250 [01:47<01:57,  1.21it/s]/kernel/lib/python3.7/site-packages/ml_kernel/kernel.py:18: WavFileWarning: Chunk (non-data) not understood, skipping it.\n",
      "  from typing import Optional, Dict, Set, Iterator, Callable, cast\n",
      " 47%|████▋     | 118/250 [01:57<02:07,  1.03it/s]/kernel/lib/python3.7/site-packages/ml_kernel/kernel.py:18: WavFileWarning: Chunk (non-data) not understood, skipping it.\n",
      "  from typing import Optional, Dict, Set, Iterator, Callable, cast\n",
      " 66%|██████▋   | 166/250 [02:40<01:26,  1.03s/it]/kernel/lib/python3.7/site-packages/ml_kernel/kernel.py:18: WavFileWarning: Chunk (non-data) not understood, skipping it.\n",
      "  from typing import Optional, Dict, Set, Iterator, Callable, cast\n",
      " 75%|███████▌  | 188/250 [03:02<00:54,  1.14it/s]/kernel/lib/python3.7/site-packages/ml_kernel/kernel.py:18: WavFileWarning: Chunk (non-data) not understood, skipping it.\n",
      "  from typing import Optional, Dict, Set, Iterator, Callable, cast\n",
      " 77%|███████▋  | 192/250 [03:07<01:06,  1.15s/it]/kernel/lib/python3.7/site-packages/ml_kernel/kernel.py:18: WavFileWarning: Chunk (non-data) not understood, skipping it.\n",
      "  from typing import Optional, Dict, Set, Iterator, Callable, cast\n",
      " 80%|███████▉  | 199/250 [03:15<00:59,  1.16s/it]/kernel/lib/python3.7/site-packages/ml_kernel/kernel.py:18: WavFileWarning: Chunk (non-data) not understood, skipping it.\n",
      "  from typing import Optional, Dict, Set, Iterator, Callable, cast\n",
      " 86%|████████▌ | 215/250 [03:31<00:32,  1.06it/s]/kernel/lib/python3.7/site-packages/ml_kernel/kernel.py:18: WavFileWarning: Chunk (non-data) not understood, skipping it.\n",
      "  from typing import Optional, Dict, Set, Iterator, Callable, cast\n",
      " 92%|█████████▏| 231/250 [03:47<00:19,  1.03s/it]/kernel/lib/python3.7/site-packages/ml_kernel/kernel.py:18: WavFileWarning: Chunk (non-data) not understood, skipping it.\n",
      "  from typing import Optional, Dict, Set, Iterator, Callable, cast\n",
      " 97%|█████████▋| 243/250 [03:59<00:08,  1.19s/it]/kernel/lib/python3.7/site-packages/ml_kernel/kernel.py:18: WavFileWarning: Chunk (non-data) not understood, skipping it.\n",
      "  from typing import Optional, Dict, Set, Iterator, Callable, cast\n",
      " 98%|█████████▊| 245/250 [04:00<00:04,  1.05it/s]/kernel/lib/python3.7/site-packages/ml_kernel/kernel.py:18: WavFileWarning: Chunk (non-data) not understood, skipping it.\n",
      "  from typing import Optional, Dict, Set, Iterator, Callable, cast\n",
      "100%|██████████| 250/250 [04:05<00:00,  1.02it/s]\n",
      "/kernel/lib/python3.7/site-packages/ml_kernel/kernel.py:862: UserWarning: The following variables cannot be serialized: trainer\n",
      "  warnings.warn(message)\n"
     ]
    }
   ],
   "source": [
    "val_acc = trainer.train(num_epochs=20)"
   ]
  },
  {
   "cell_type": "code",
   "execution_count": null,
   "id": "9efc7bdb",
   "metadata": {
    "cellId": "5u6tni571qjjz6wk92b6is"
   },
   "outputs": [],
   "source": []
  },
  {
   "cell_type": "code",
   "execution_count": null,
   "id": "c544a5d9",
   "metadata": {
    "cellId": "l4788cojn7mwnkq9aahi6j"
   },
   "outputs": [],
   "source": []
  },
  {
   "cell_type": "code",
   "execution_count": 27,
   "id": "853af050",
   "metadata": {
    "cellId": "f906su0mnf9rg6xbmmq0fc"
   },
   "outputs": [
    {
     "name": "stderr",
     "output_type": "stream",
     "text": [
      "/kernel/lib/python3.7/site-packages/ml_kernel/kernel.py:859: UserWarning: The following variables cannot be serialized: trainer\n",
      "  warnings.warn(message)\n"
     ]
    }
   ],
   "source": [
    "#!c1.4\n",
    "train_dataset = Dataset('test/crowd/', 'test/crowd/manifest.json', train = True)\n",
    "val_dataset = Dataset('test/crowd', 'test/crowd/manifest.json', train = False)\n",
    "train_loader = DataLoader(train_dataset, shuffle=False, batch_size=8, collate_fn = collate_fn)\n",
    "val_loader = DataLoader(val_dataset, shuffle=False, batch_size=8, collate_fn = collate_fn)\n",
    "\n",
    "model = FinModel()\n",
    "opt = torch.optim.Adam(model.parameters(), lr=0.001)\n",
    "lr_sched = torch.optim.lr_scheduler.ReduceLROnPlateau(opt, mode='min', factor=0.1,\n",
    "                                                      patience=5, threshold=0.0001, threshold_mode='rel',\n",
    "                                                      cooldown=0, min_lr=0, eps=1e-08, verbose=False)\n",
    "trainer = Trainer(model=model,\n",
    "                  optimizer=opt,\n",
    "                  train_dataloader=train_loader,\n",
    "                  val_dataloader=val_loader,\n",
    "                  tboard_log_dir='./tboard_logs_mean/',\n",
    "                  lr_scheduler=lr_sched,\n",
    "                  lr_scheduler_type='per_epoch',\n",
    "                  device = 'cpu')\n"
   ]
  },
  {
   "cell_type": "code",
   "execution_count": 28,
   "id": "3fc70aa6",
   "metadata": {
    "cellId": "vd1mz7tiarjolyhd3fe08l"
   },
   "outputs": [
    {
     "data": {
      "text/plain": [
       "Launching TensorBoard..."
      ]
     },
     "metadata": {},
     "output_type": "display_data"
    },
    {
     "data": {
      "text/html": [
       "\n",
       "      <iframe id=\"tensorboard-frame-ac66e1115109a594\" width=\"100%\" height=\"800\" frameborder=\"0\">\n",
       "      </iframe>\n",
       "      <script>\n",
       "        (function() {\n",
       "          const frame = document.getElementById(\"tensorboard-frame-ac66e1115109a594\");\n",
       "          const url = new URL(\"/\", window.location);\n",
       "          const port = 6007;\n",
       "          if (port) {\n",
       "            url.port = port;\n",
       "          }\n",
       "          frame.src = url;\n",
       "        })();\n",
       "      </script>\n",
       "    "
      ],
      "text/plain": [
       "<IPython.core.display.HTML object>"
      ]
     },
     "metadata": {},
     "output_type": "display_data"
    }
   ],
   "source": [
    "%tensorboard --logdir ./tboard_logs_mean"
   ]
  },
  {
   "cell_type": "code",
   "execution_count": 29,
   "id": "89d45d87",
   "metadata": {
    "cellId": "p5fp955gwtdpaskfsxdx9",
    "collapsed": true,
    "jupyter": {
     "outputs_hidden": true
    }
   },
   "outputs": [],
   "source": [
    "val_acc = trainer.train(num_epochs=5)"
   ]
  },
  {
   "cell_type": "code",
   "execution_count": null,
   "id": "748bd2b9",
   "metadata": {
    "cellId": "2e50g3mu5m3by5eh28tjy"
   },
   "outputs": [],
   "source": []
  },
  {
   "cell_type": "code",
   "execution_count": null,
   "id": "66a1ec3b",
   "metadata": {
    "cellId": "4ip26izqyt76usmglw5ykg"
   },
   "outputs": [],
   "source": []
  },
  {
   "cell_type": "markdown",
   "id": "6efca2ec",
   "metadata": {
    "cellId": "04rm8b5nzm5btzyhqp8nitp"
   },
   "source": [
    "# Другие эксперименты"
   ]
  },
  {
   "cell_type": "code",
   "execution_count": 20,
   "id": "ad85dd96",
   "metadata": {
    "cellId": "c3yrsyqxna53pocer6gebt"
   },
   "outputs": [
    {
     "name": "stderr",
     "output_type": "stream",
     "text": [
      "/kernel/lib/python3.7/site-packages/ml_kernel/kernel.py:859: UserWarning: The following variables cannot be serialized: trainer\n",
      "  warnings.warn(message)\n"
     ]
    }
   ],
   "source": [
    "train_dataset = Dataset('test/crowd/', 'test/crowd/manifest.json')\n",
    "val_dataset = Dataset('test/farfield', 'test/farfield/manifest.json')\n",
    "train_loader = DataLoader(train_dataset, shuffle=False, batch_size=8, collate_fn = collate_fn)\n",
    "val_loader = DataLoader(val_dataset, shuffle=False, batch_size=8, collate_fn = collate_fn)\n",
    "\n",
    "model = EncoderModel(n_negatives = 5)\n",
    "opt = torch.optim.Adam(model.parameters(), lr=0.0001)\n",
    "lr_sched = torch.optim.lr_scheduler.ReduceLROnPlateau(opt, mode='min', factor=0.1,\n",
    "                                                      patience=5, threshold=0.0001, threshold_mode='rel',\n",
    "                                                      cooldown=0, min_lr=0, eps=1e-08, verbose=False)\n",
    "trainer = Trainer(model=model,\n",
    "                  optimizer=opt,\n",
    "                  train_dataloader=train_loader,\n",
    "                  val_dataloader=val_loader,\n",
    "                  tboard_log_dir='./tboard_logs_5_neg/',\n",
    "                  lr_scheduler=lr_sched,\n",
    "                  lr_scheduler_type='per_epoch',\n",
    "                  device = 'cpu')\n"
   ]
  },
  {
   "cell_type": "code",
   "execution_count": 21,
   "id": "844dcf04",
   "metadata": {
    "cellId": "ppvjz949bghq06qnila7x"
   },
   "outputs": [
    {
     "data": {
      "text/plain": [
       "Launching TensorBoard..."
      ]
     },
     "metadata": {},
     "output_type": "display_data"
    },
    {
     "data": {
      "text/html": [
       "\n",
       "      <iframe id=\"tensorboard-frame-19f0cc3ea57626f3\" width=\"100%\" height=\"800\" frameborder=\"0\">\n",
       "      </iframe>\n",
       "      <script>\n",
       "        (function() {\n",
       "          const frame = document.getElementById(\"tensorboard-frame-19f0cc3ea57626f3\");\n",
       "          const url = new URL(\"/\", window.location);\n",
       "          const port = 6007;\n",
       "          if (port) {\n",
       "            url.port = port;\n",
       "          }\n",
       "          frame.src = url;\n",
       "        })();\n",
       "      </script>\n",
       "    "
      ],
      "text/plain": [
       "<IPython.core.display.HTML object>"
      ]
     },
     "metadata": {},
     "output_type": "display_data"
    }
   ],
   "source": [
    "%tensorboard --logdir ./tboard_logs_5_neg"
   ]
  },
  {
   "cell_type": "code",
   "execution_count": null,
   "id": "6bc3f458",
   "metadata": {
    "cellId": "sbqjxnzxj7cx5gv8wlws"
   },
   "outputs": [],
   "source": [
    "val_acc = trainer.train(num_epochs=5)"
   ]
  },
  {
   "cell_type": "code",
   "execution_count": null,
   "id": "018abbcf",
   "metadata": {
    "cellId": "vpz041ccoh3efp3nt0r62"
   },
   "outputs": [],
   "source": []
  },
  {
   "cell_type": "code",
   "execution_count": null,
   "id": "6b4937dc",
   "metadata": {
    "cellId": "klboks2ehjfidudqvcej7"
   },
   "outputs": [],
   "source": []
  },
  {
   "cell_type": "code",
   "execution_count": null,
   "id": "bd14076e",
   "metadata": {
    "cellId": "gpu8k43vs440m13ohctmh1"
   },
   "outputs": [],
   "source": []
  },
  {
   "cell_type": "code",
   "execution_count": null,
   "id": "0fb28d6a",
   "metadata": {
    "cellId": "zl480bnth9oir49ppa5woj"
   },
   "outputs": [],
   "source": [
    "train_dataset = Dataset('test/crowd/', 'test/crowd/manifest.json')\n",
    "val_dataset = Dataset('test/farfield', 'test/farfield/manifest.json')\n",
    "train_loader = DataLoader(train_dataset, shuffle=False, batch_size=8, collate_fn = collate_fn)\n",
    "val_loader = DataLoader(val_dataset, shuffle=False, batch_size=8, collate_fn = collate_fn)\n",
    "\n",
    "model = EncoderModel(n_negatives = 1)\n",
    "opt = torch.optim.Adam(model.parameters(), lr=0.0001)\n",
    "lr_sched = torch.optim.lr_scheduler.ReduceLROnPlateau(opt, mode='min', factor=0.1,\n",
    "                                                      patience=5, threshold=0.0001, threshold_mode='rel',\n",
    "                                                      cooldown=0, min_lr=0, eps=1e-08, verbose=False)\n",
    "trainer = Trainer(model=model,\n",
    "                  optimizer=opt,\n",
    "                  train_dataloader=train_loader,\n",
    "                  val_dataloader=val_loader,\n",
    "                  tboard_log_dir='./tboard_logs_1_neg/',\n",
    "                  lr_scheduler=lr_sched,\n",
    "                  lr_scheduler_type='per_epoch',\n",
    "                  device = 'cpu')\n"
   ]
  },
  {
   "cell_type": "code",
   "execution_count": null,
   "id": "c2caae6e",
   "metadata": {
    "cellId": "zfd9cf479snjixfhc8zceo"
   },
   "outputs": [],
   "source": [
    "%tensorboard --logdir ./tboard_logs_1_neg"
   ]
  },
  {
   "cell_type": "code",
   "execution_count": null,
   "id": "0e7b4f7e",
   "metadata": {
    "cellId": "7lo0x24zfchtdnjjonmmc"
   },
   "outputs": [],
   "source": [
    "val_acc = trainer.train(num_epochs=5)"
   ]
  },
  {
   "cell_type": "code",
   "execution_count": null,
   "id": "c653e654",
   "metadata": {
    "cellId": "m0p2s3lwwklip67nma7907"
   },
   "outputs": [],
   "source": []
  },
  {
   "cell_type": "code",
   "execution_count": null,
   "id": "f56b8efb",
   "metadata": {
    "cellId": "shbnndnrg3dk4xvanijcu"
   },
   "outputs": [],
   "source": [
    "train_dataset = Dataset('test/crowd/', 'test/crowd/manifest.json')\n",
    "val_dataset = Dataset('test/farfield', 'test/farfield/manifest.json')\n",
    "train_loader = DataLoader(train_dataset, shuffle=True, batch_size=8, collate_fn = collate_fn)\n",
    "val_loader = DataLoader(val_dataset, shuffle=False, batch_size=8, collate_fn = collate_fn)\n",
    "\n",
    "model = EncoderModel()\n",
    "opt = torch.optim.SGD(model.parameters(), lr=0.0001)\n",
    "lr_sched = torch.optim.lr_scheduler.ReduceLROnPlateau(opt, mode='min', factor=0.1,\n",
    "                                                      patience=5, threshold=0.0001, threshold_mode='rel',\n",
    "                                                      cooldown=0, min_lr=0, eps=1e-08, verbose=False)\n",
    "trainer = Trainer(model=model,\n",
    "                  optimizer=opt,\n",
    "                  train_dataloader=train_loader,\n",
    "                  val_dataloader=val_loader,\n",
    "                  tboard_log_dir='./tboard_logs_SGD/',\n",
    "                  lr_scheduler=lr_sched,\n",
    "                  lr_scheduler_type='per_epoch',\n",
    "                  device = 'cpu')\n"
   ]
  },
  {
   "cell_type": "code",
   "execution_count": null,
   "id": "24f7e1c9",
   "metadata": {
    "cellId": "5rk785pmhcxtqpnrloupj"
   },
   "outputs": [],
   "source": [
    "%tensorboard --logdir ./tboard_logs_SGD"
   ]
  },
  {
   "cell_type": "code",
   "execution_count": null,
   "id": "d07f7561",
   "metadata": {
    "cellId": "2phl0a6lq45kmob5zmncrm"
   },
   "outputs": [],
   "source": [
    "val_acc = trainer.train(num_epochs=5)"
   ]
  },
  {
   "cell_type": "code",
   "execution_count": null,
   "id": "2ed2f4cd",
   "metadata": {
    "cellId": "2flihcfb0zum5s86mv9we9"
   },
   "outputs": [],
   "source": []
  },
  {
   "cell_type": "code",
   "execution_count": null,
   "id": "8caf2434",
   "metadata": {
    "cellId": "5j2n6fx2clb3imjfvg318n"
   },
   "outputs": [],
   "source": []
  },
  {
   "cell_type": "markdown",
   "id": "fdb3a68f",
   "metadata": {
    "cellId": "0way7smgchsqbzjl2tkpc"
   },
   "source": [
    "# Проверки"
   ]
  },
  {
   "cell_type": "code",
   "execution_count": 17,
   "id": "a71b0105",
   "metadata": {
    "cellId": "hxwwvhuzfffehq97z4qdgh"
   },
   "outputs": [
    {
     "name": "stderr",
     "output_type": "stream",
     "text": [
      "/kernel/lib/python3.7/site-packages/ml_kernel/kernel.py:859: UserWarning: The following variables cannot be serialized: trainer\n",
      "  warnings.warn(message)\n"
     ]
    }
   ],
   "source": [
    "empty_model = EncoderModel()\n",
    "model = trainer.model\n"
   ]
  },
  {
   "cell_type": "code",
   "execution_count": 18,
   "id": "6bbf0e31",
   "metadata": {
    "cellId": "jioojgis3j81fhkra28tvu"
   },
   "outputs": [],
   "source": [
    "from collections import defaultdict\n",
    "device = 'cpu'"
   ]
  },
  {
   "cell_type": "code",
   "execution_count": 19,
   "id": "8165e941",
   "metadata": {
    "cellId": "ld4n9xg0q6oenzt573ie"
   },
   "outputs": [
    {
     "name": "stderr",
     "output_type": "stream",
     "text": [
      "100%|██████████| 125/125 [01:05<00:00,  1.90it/s]\n",
      "/kernel/lib/python3.7/site-packages/ml_kernel/kernel.py:859: UserWarning: The following variables cannot be serialized: trainer\n",
      "  warnings.warn(message)\n"
     ]
    }
   ],
   "source": [
    "val_losses = []\n",
    "\n",
    "val_logs = defaultdict(list)\n",
    "model.eval()\n",
    "for batch in tqdm(val_loader):\n",
    "    batch = {k: v.to() for k, v in batch.items()}\n",
    "    loss, details = model.compute_all(batch)\n",
    "    val_losses.append(loss.item())\n",
    "    for k, v in details.items():\n",
    "        val_logs[k].append(v)\n",
    "\n",
    "val_logs = {k: np.mean(v) for k, v in val_logs.items()}"
   ]
  },
  {
   "cell_type": "code",
   "execution_count": 20,
   "id": "4aed8e4e",
   "metadata": {
    "cellId": "otpn2mrujuk54liocx63l"
   },
   "outputs": [
    {
     "data": {
      "text/plain": [
       "{'loss': 8291.42409375, 'acc': 0.3669958241416285}"
      ]
     },
     "metadata": {},
     "output_type": "display_data"
    }
   ],
   "source": [
    "val_logs"
   ]
  },
  {
   "cell_type": "code",
   "execution_count": 21,
   "id": "72d0e134",
   "metadata": {
    "cellId": "cdb42m9tmlfwna023wonzn"
   },
   "outputs": [
    {
     "name": "stderr",
     "output_type": "stream",
     "text": [
      "100%|██████████| 125/125 [01:06<00:00,  1.89it/s]\n",
      "/kernel/lib/python3.7/site-packages/ml_kernel/kernel.py:859: UserWarning: The following variables cannot be serialized: trainer\n",
      "  warnings.warn(message)\n"
     ]
    }
   ],
   "source": [
    "empty_val_losses = []\n",
    "empty_model.eval()\n",
    "empty_val_logs = defaultdict(list)\n",
    "for batch in tqdm(val_loader):\n",
    "    batch = {k: v.to() for k, v in batch.items()}\n",
    "    loss, details = empty_model.compute_all(batch)\n",
    "    empty_val_losses.append(loss.item())\n",
    "    for k, v in details.items():\n",
    "        empty_val_logs[k].append(v)\n",
    "\n",
    "empty_val_logs = {k: np.mean(v) for k, v in empty_val_logs.items()}"
   ]
  },
  {
   "cell_type": "code",
   "execution_count": 22,
   "id": "cf0896e8",
   "metadata": {
    "cellId": "vv4ngpmnmh3aht8aq2swn"
   },
   "outputs": [
    {
     "data": {
      "text/plain": [
       "{'loss': 8081.74873046875, 'acc': 0.46712194600083917}"
      ]
     },
     "metadata": {},
     "output_type": "display_data"
    }
   ],
   "source": [
    "empty_val_logs"
   ]
  },
  {
   "cell_type": "code",
   "execution_count": null,
   "id": "c073c16c",
   "metadata": {
    "cellId": "ud2xd60xn1bz3zm0i8a70i"
   },
   "outputs": [],
   "source": []
  },
  {
   "cell_type": "code",
   "execution_count": null,
   "id": "94ec1ea1",
   "metadata": {
    "cellId": "g8tcs0hzdt8x7xluaeacok"
   },
   "outputs": [],
   "source": []
  },
  {
   "cell_type": "code",
   "execution_count": null,
   "id": "fe30b2f7",
   "metadata": {
    "cellId": "823jp96pg8deq1oh6mjn3t"
   },
   "outputs": [],
   "source": [
    "x, targets, negs = model(batch)"
   ]
  },
  {
   "cell_type": "code",
   "execution_count": null,
   "id": "ef22d515",
   "metadata": {
    "cellId": "emspohmmsqmcvdml1gf1"
   },
   "outputs": [],
   "source": [
    "x1, targets1, negs1 = empty_model(batch)"
   ]
  },
  {
   "cell_type": "code",
   "execution_count": null,
   "id": "ecb3a8a3",
   "metadata": {
    "cellId": "xd1b0do44wirltku9k23bk"
   },
   "outputs": [],
   "source": [
    "x[0, :, :]"
   ]
  },
  {
   "cell_type": "code",
   "execution_count": null,
   "id": "7b2f12f2",
   "metadata": {
    "cellId": "i95cwktha3ld6lkr5ju7p"
   },
   "outputs": [],
   "source": [
    "x1[0, :, :]"
   ]
  },
  {
   "cell_type": "code",
   "execution_count": null,
   "id": "d0e7d6fc",
   "metadata": {
    "cellId": "h4tey57sgoui9teh8h0iv"
   },
   "outputs": [],
   "source": [
    "loss1 = ConstrativeLoss()"
   ]
  },
  {
   "cell_type": "code",
   "execution_count": null,
   "id": "1f16b990",
   "metadata": {
    "cellId": "1cs4w6pv0sx7n6h6q2hht"
   },
   "outputs": [],
   "source": [
    "l1 = loss1(x, targets, negs)"
   ]
  },
  {
   "cell_type": "code",
   "execution_count": null,
   "id": "a6a421b4",
   "metadata": {
    "cellId": "045h49oitcbvvnhx7df61d"
   },
   "outputs": [],
   "source": [
    "l2 = loss1(x1, targets1, negs1)"
   ]
  },
  {
   "cell_type": "code",
   "execution_count": null,
   "id": "d067bf45",
   "metadata": {
    "cellId": "mrkbknav4spj1igjjw0u"
   },
   "outputs": [],
   "source": [
    "l1"
   ]
  },
  {
   "cell_type": "code",
   "execution_count": null,
   "id": "3d6d0567",
   "metadata": {
    "cellId": "lzvgt7689s1mg0ggo2h6w"
   },
   "outputs": [],
   "source": [
    "l2"
   ]
  },
  {
   "cell_type": "code",
   "execution_count": null,
   "id": "615224a8",
   "metadata": {
    "cellId": "bhrzzhfs9dp9roq3f5ghr"
   },
   "outputs": [],
   "source": []
  },
  {
   "cell_type": "code",
   "execution_count": null,
   "id": "7cdd2ba0",
   "metadata": {
    "cellId": "atwkekmzp8e36v2blva34u"
   },
   "outputs": [],
   "source": [
    "sim = loss1._calculate_similarity(x, negs, targets)"
   ]
  },
  {
   "cell_type": "code",
   "execution_count": null,
   "id": "55943bb7",
   "metadata": {
    "cellId": "8zsdronpeym9owsp5pp6"
   },
   "outputs": [],
   "source": [
    "sim1 = loss1._calculate_similarity(x1, negs1, targets1)"
   ]
  },
  {
   "cell_type": "code",
   "execution_count": null,
   "id": "a5107448",
   "metadata": {
    "cellId": "oglokhsj2c60mh75wk21q"
   },
   "outputs": [],
   "source": []
  },
  {
   "cell_type": "code",
   "execution_count": null,
   "id": "4910ff40",
   "metadata": {
    "cellId": "5jndrb62rrpefnookccdxq"
   },
   "outputs": [],
   "source": []
  },
  {
   "cell_type": "code",
   "execution_count": null,
   "id": "c4d8b872",
   "metadata": {
    "cellId": "qp5x5p7s9nl89b5yo4srsu"
   },
   "outputs": [],
   "source": [
    "class ConstrativeLoss(nn.Module):\n",
    "\n",
    "    def __init__(self, logit_temp: float = 1.0, \n",
    "                 cut = True, reduction = 'sum'):\n",
    "        \"\"\"\n",
    "        Compute the contrastive loss with respect to the model outputs and sampled negatives from quantizer codebooks.\n",
    "        Args:\n",
    "            logit_temp: Temperature normalization applied in loss.\n",
    "            reduce: Reduce loss via sum reduction (Default true)\n",
    "        \"\"\"\n",
    "        super().__init__()\n",
    "        self.logit_temp = logit_temp\n",
    "        self.cut =  cut\n",
    "        self.reduction = reduction\n",
    "\n",
    "    def forward(\n",
    "        self,\n",
    "        logits: torch.tensor,\n",
    "        targets: torch.tensor,\n",
    "        negatives: torch.tensor,\n",
    "    ) -> [torch.tensor, torch.tensor, torch.tensor]:\n",
    "        \"\"\"\n",
    "        Args:\n",
    "            logits: Model activations\n",
    "            targets: The true target quantized representations\n",
    "            negatives: Sampled negatives from the quantizer codebooks. Sampled from all other timesteps.\n",
    "            feature_loss: Feature penalty (L2 Norm)\n",
    "        Returns:\n",
    "            output loss values, acc_score\n",
    "        \"\"\"\n",
    "\n",
    "        # Calculate similarity between logits and all targets, returning FxBxT\n",
    "        similarity_scores = self._calculate_similarity(logits, negatives, targets)\n",
    "\n",
    "        # Create targets of size B*T\n",
    "        similarity_targets = logits.new_zeros(similarity_scores.size(1) * similarity_scores.size(2), dtype=torch.long)\n",
    "\n",
    "        # Transpose similarity scores to (T*B)xF for loss\n",
    "        similarity_scores = similarity_scores.transpose(0, 2)\n",
    "        similarity_scores = similarity_scores.reshape(-1, similarity_scores.size(-1))\n",
    "\n",
    "        loss = F.cross_entropy(similarity_scores, similarity_targets, reduction=self.reduction)\n",
    "\n",
    "#         if self.calc_acc:\n",
    "        acc_score = np.mean(np.array(torch.argmax(similarity_scores, dim = 1) == 0))\n",
    "        return loss, acc_score\n",
    "#         else:\n",
    "#             return loss\n",
    "\n",
    "    def _calculate_similarity(self, logits, negatives, targets):\n",
    "#         neg_is_pos = (targets == negatives).all(-1)\n",
    "#         print(neg_is_pos)\n",
    "        targets = targets.unsqueeze(0)\n",
    "        targets = torch.cat([targets, negatives], dim=0) \n",
    "        if self.cut:\n",
    "            logits = logits[:, :-1, :]\n",
    "            targets = targets[:, :, :-1, :]\n",
    "        logits = torch.cosine_similarity(logits.float(), targets.float(), dim=-1).type_as(logits)\n",
    "        logits /= self.logit_temp\n",
    "#         if neg_is_pos.any():\n",
    "#             logits[1:][neg_is_pos] = float(\"-inf\")\n",
    "        return logits"
   ]
  },
  {
   "cell_type": "code",
   "execution_count": null,
   "id": "f1db84cb",
   "metadata": {
    "cellId": "xiqjsyv0dcljubft49nfdo"
   },
   "outputs": [],
   "source": []
  },
  {
   "cell_type": "code",
   "execution_count": null,
   "id": "028df495",
   "metadata": {
    "cellId": "5kdf57444go30jwmhwd71l"
   },
   "outputs": [],
   "source": []
  }
 ],
 "metadata": {
  "kernelspec": {
   "display_name": "Yandex DataSphere Kernel",
   "language": "python",
   "name": "python3"
  },
  "language_info": {
   "codemirror_mode": {
    "name": "ipython",
    "version": 3
   },
   "file_extension": ".py",
   "mimetype": "text/x-python",
   "name": "python",
   "nbconvert_exporter": "python",
   "pygments_lexer": "ipython3",
   "version": "3.7.7"
  },
  "notebookId": "256152cf-6f9f-47a5-9a86-806514902518",
  "notebookPath": "ConvEncoder.ipynb"
 },
 "nbformat": 4,
 "nbformat_minor": 5
}
