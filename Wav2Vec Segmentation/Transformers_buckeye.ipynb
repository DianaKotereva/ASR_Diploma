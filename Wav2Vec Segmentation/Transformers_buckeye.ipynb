{
 "cells": [
  {
   "cell_type": "code",
   "execution_count": 1,
   "id": "e68344d0",
   "metadata": {
    "cellId": "ogcx7z2fzkioztv328m5jf"
   },
   "outputs": [],
   "source": [
    "# %pip install --upgrade transformers\n",
    "# %pip install datasets\n",
    "# %pip install huggingface_hub"
   ]
  },
  {
   "cell_type": "code",
   "execution_count": 2,
   "id": "4bdc47be",
   "metadata": {
    "cellId": "ykagnrjc31hu6debnv8uj"
   },
   "outputs": [],
   "source": [
    "# %pip install --upgrade pip\n",
    "# %pip install boltons"
   ]
  },
  {
   "cell_type": "code",
   "execution_count": 3,
   "id": "be4e1856",
   "metadata": {
    "cellId": "0ak66kxrpu1ls5sz3n8lmb"
   },
   "outputs": [],
   "source": [
    "import json\n",
    "import os\n",
    "import torch\n",
    "from tqdm import tqdm\n",
    "import scipy.io.wavfile as wav\n",
    "\n",
    "from torch import nn\n",
    "import torch.nn.functional as F\n",
    "from torch import optim\n",
    "from torch.utils.data import Dataset, DataLoader, Sampler\n",
    "from torch.utils.tensorboard import SummaryWriter\n",
    "\n",
    "import numpy as np\n",
    "import torchaudio"
   ]
  },
  {
   "cell_type": "code",
   "execution_count": 4,
   "id": "8152fbb0",
   "metadata": {
    "cellId": "kddee80zo3yrjbjbxd7m"
   },
   "outputs": [],
   "source": [
    "import transformers\n",
    "import json\n",
    "from torch.utils.data import Dataset, DataLoader, Sampler\n",
    "import os"
   ]
  },
  {
   "cell_type": "code",
   "execution_count": 5,
   "id": "038948e0",
   "metadata": {
    "cellId": "3i03ji4yf0arl2waq66vye"
   },
   "outputs": [],
   "source": [
    "from models import ConvFeatureEncoder, SegmentsRepr, SegmentsEncoder, NegativeSampler, SegmentPredictor, FinModel\n",
    "from utils import ConstrativeLoss, sample_negatives\n",
    "# from trainer import Trainer"
   ]
  },
  {
   "cell_type": "code",
   "execution_count": 6,
   "id": "f456c198",
   "metadata": {
    "cellId": "5k7y1kcqyqdi07zx6z2gv9"
   },
   "outputs": [],
   "source": [
    "from model_transformers import SegmentTransformer\n",
    "from pytorch_lightning import Trainer\n",
    "from pytorch_lightning.loggers import TensorBoardLogger\n",
    "from pytorch_lightning.callbacks import EarlyStopping, ModelCheckpoint"
   ]
  },
  {
   "cell_type": "code",
   "execution_count": 7,
   "id": "b124c383",
   "metadata": {
    "cellId": "suk4jkyeme4k4y7e2a6ej"
   },
   "outputs": [],
   "source": [
    "import torch\n",
    "import torch.nn as nn\n",
    "import torch.nn.functional as F\n",
    "from torch.utils.data import DataLoader, Dataset\n",
    "torch.multiprocessing.set_sharing_strategy('file_system')\n",
    "from tqdm import tqdm\n",
    "import numpy as np\n",
    "import os\n",
    "from os.path import join, basename\n",
    "from boltons.fileutils import iter_find_files\n",
    "import soundfile as sf\n",
    "import librosa\n",
    "import pickle\n",
    "from multiprocessing import Pool\n",
    "import random\n",
    "import torchaudio\n",
    "import math\n",
    "from torchaudio.datasets import LIBRISPEECH"
   ]
  },
  {
   "cell_type": "code",
   "execution_count": 8,
   "id": "301eff4f",
   "metadata": {
    "cellId": "hmx6szq61xhieo3mq2sawg"
   },
   "outputs": [
    {
     "data": {
      "text/plain": [
       "'4.14.0'"
      ]
     },
     "execution_count": 8,
     "metadata": {},
     "output_type": "execute_result"
    }
   ],
   "source": [
    "transformers.__version__"
   ]
  },
  {
   "cell_type": "code",
   "execution_count": 9,
   "id": "4f751d5e",
   "metadata": {
    "cellId": "2scz2lgqqr3bkdp1n075m"
   },
   "outputs": [],
   "source": [
    "# %pip list"
   ]
  },
  {
   "cell_type": "code",
   "execution_count": 10,
   "id": "45baaed4",
   "metadata": {
    "cellId": "1vdb4j7keo49n2uuqpgo1k"
   },
   "outputs": [
    {
     "data": {
      "text/plain": [
       "<torch._C.Generator at 0x7f6b30405150>"
      ]
     },
     "execution_count": 10,
     "metadata": {},
     "output_type": "execute_result"
    }
   ],
   "source": [
    "torch.manual_seed(0)"
   ]
  },
  {
   "cell_type": "code",
   "execution_count": null,
   "id": "3b05e5d4",
   "metadata": {
    "cellId": "fib0hamzd5np8anm5kayr"
   },
   "outputs": [],
   "source": []
  },
  {
   "cell_type": "code",
   "execution_count": 11,
   "id": "5a132097",
   "metadata": {
    "cellId": "5jiellz3d39mzn9itfebym"
   },
   "outputs": [],
   "source": [
    "# Данный класс основан на https://github.com/felixkreuk/UnsupSeg/blob/master/dataloader.py\n",
    "\n",
    "class WavPhnDataset(Dataset):\n",
    "    def __init__(self, path):\n",
    "        self.path = path\n",
    "        self.data = list(iter_find_files(self.path, \"*.wav\"))\n",
    "        super(WavPhnDataset, self).__init__()\n",
    "\n",
    "    @staticmethod\n",
    "    def get_datasets(path):\n",
    "        raise NotImplementedError\n",
    "\n",
    "    def process_file(self, wav_path):\n",
    "#         print(wav_path)\n",
    "        phn_path = wav_path.replace(\".wav\", \".txt\")\n",
    "\n",
    "        # load audio\n",
    "        audio, sr = torchaudio.load(wav_path)\n",
    "        audio = audio[0]\n",
    "        audio_len = len(audio)\n",
    "\n",
    "        # load labels -- segmentation and phonemes\n",
    "        with open(phn_path, \"r\") as f:\n",
    "            lines = [i.strip() for i in f.readlines()]\n",
    "#             lines = lines[lines.index('#')+1:]\n",
    "\n",
    "            times = torch.FloatTensor([eval(i.split()[0]) for i in lines])[:-1]\n",
    "            phonemes = torch.FloatTensor([eval(i.split()[0])*16000 for i in lines])[:-1]\n",
    "\n",
    "        return audio, times, phonemes, wav_path\n",
    "\n",
    "    def __getitem__(self, idx):\n",
    "        signal, seg, phonemes, fname = self.process_file(self.data[idx])\n",
    "        \n",
    "        return {'sample': signal, 'length': len(signal), 'boundaries': seg}\n",
    "\n",
    "    def __len__(self):\n",
    "        return len(self.data)"
   ]
  },
  {
   "cell_type": "code",
   "execution_count": 13,
   "id": "95af6f7f",
   "metadata": {
    "cellId": "xjot2k4x1fsrx0vkd4mfih"
   },
   "outputs": [],
   "source": [
    "def collate_fn(samples):\n",
    "    \n",
    "    max_length = max([sample['length'] for sample in samples])\n",
    "    boundaries = [sample['boundaries'] for sample in samples]\n",
    "    samples1 = []\n",
    "    lengths = []\n",
    "    samplings = []\n",
    "    attentions = []\n",
    "    for sample in samples:\n",
    "        to_add_l = max_length-sample['length']\n",
    "        sample1 = list(sample['sample'])+[0]*to_add_l\n",
    "        samples1.append(torch.Tensor(sample1).unsqueeze(0))\n",
    "        lengths.append(sample['length'])\n",
    "        att_norm = torch.ones(size = (1, sample['length']))\n",
    "        att_add = torch.zeros(size = (1, to_add_l))\n",
    "        att = torch.cat([att_norm, att_add], dim = -1)\n",
    "        attentions.append(att)\n",
    "        \n",
    "    batch = torch.cat(samples1)\n",
    "    lengths = torch.Tensor(lengths)\n",
    "    attention_mask = torch.cat(attentions, dim = 0)\n",
    "    \n",
    "    return dict(batch=batch, lengths=lengths, attention_mask=attention_mask, boundaries=boundaries)"
   ]
  },
  {
   "cell_type": "code",
   "execution_count": 12,
   "id": "59eec24b",
   "metadata": {
    "cellId": "jxiiekrcdfjfkn4m0fulq"
   },
   "outputs": [
    {
     "name": "stdout",
     "output_type": "stream",
     "text": [
      "Buckeye_fin/Train\n",
      "38656\n",
      "Buckeye_fin/Valid\n",
      "4267\n",
      "Buckeye_fin/Test\n",
      "4015\n"
     ]
    }
   ],
   "source": [
    "train_dataset = WavPhnDataset('Buckeye_fin/Train')\n",
    "val_dataset = WavPhnDataset('Buckeye_fin/Valid')\n",
    "test_dataset = WavPhnDataset('Buckeye_fin/Test')"
   ]
  },
  {
   "cell_type": "code",
   "execution_count": 14,
   "id": "97cf892a",
   "metadata": {
    "cellId": "vr000o8utjqcpfl47p12l"
   },
   "outputs": [],
   "source": [
    "train_loader = DataLoader(train_dataset, shuffle=True, batch_size=8, collate_fn = collate_fn)\n",
    "val_loader = DataLoader(val_dataset, shuffle=False, batch_size=8, collate_fn = collate_fn)"
   ]
  },
  {
   "cell_type": "code",
   "execution_count": null,
   "id": "a7b9aca1",
   "metadata": {
    "cellId": "p660nihjl68voakyvt0cxc"
   },
   "outputs": [],
   "source": []
  },
  {
   "cell_type": "code",
   "execution_count": null,
   "id": "e7bf88ab",
   "metadata": {
    "cellId": "lfxzaqv1i594s8m89pxuif"
   },
   "outputs": [],
   "source": []
  },
  {
   "cell_type": "code",
   "execution_count": 30,
   "id": "1f42e488",
   "metadata": {
    "cellId": "ck97s7diwtswwid8o4i8l"
   },
   "outputs": [],
   "source": [
    "accumulate_grad_batches = 10"
   ]
  },
  {
   "cell_type": "code",
   "execution_count": 31,
   "id": "c9d48970",
   "metadata": {
    "cellId": "spkavxn3u2ha3ufbivr8p"
   },
   "outputs": [],
   "source": [
    "cfg = {'model_path':\"facebook/wav2vec2-base-960h\",\n",
    "       'mask': False,\n",
    "       'optimizer': \"adam\",\n",
    "       'momentum': 0.9,\n",
    "'learning_rate': 0.0001*accumulate_grad_batches,\n",
    "'lr_anneal_gamma': 1.0,\n",
    "'lr_anneal_step': 1000,\n",
    "'epochs': 20,\n",
    "'grad_clip': 2,\n",
    "'batch_size': 8,\n",
    "\n",
    "'conv_args': {},\n",
    "'mask_args': {},\n",
    "'segm_enc_args': {},\n",
    "'segm_predictor_args': {},\n",
    "'loss_args': {\"n_negatives\": 10, \"loss_args\": {\"reduction\": \"mean\"}},\n",
    "'num_epoch': 2}"
   ]
  },
  {
   "cell_type": "code",
   "execution_count": 32,
   "id": "94484605",
   "metadata": {
    "cellId": "1f3l8owj387v6fe7ws6xn"
   },
   "outputs": [],
   "source": [
    "class Conf:\n",
    "    def __init__(self, my_dict):\n",
    "        for key, value in my_dict.items():\n",
    "            setattr(self, key, value)\n",
    "            \n",
    "config = Conf(cfg)"
   ]
  },
  {
   "cell_type": "code",
   "execution_count": 33,
   "id": "b0e3b8eb",
   "metadata": {
    "cellId": "xr7uqzugsxm0cpjtccw2gfn"
   },
   "outputs": [],
   "source": [
    "import warnings\n",
    "warnings.filterwarnings(\"ignore\")\n",
    "from collections import OrderedDict"
   ]
  },
  {
   "cell_type": "code",
   "execution_count": 34,
   "id": "1ddf6798",
   "metadata": {
    "cellId": "mq8wpxszhfmy61qgkkumd8"
   },
   "outputs": [
    {
     "name": "stdout",
     "output_type": "stream",
     "text": [
      "Buckeye_fin/Train\n",
      "38656\n",
      "Buckeye_fin/Valid\n",
      "4267\n",
      "Buckeye_fin/Test\n",
      "4015\n",
      "38656\n",
      "4267\n"
     ]
    },
    {
     "name": "stderr",
     "output_type": "stream",
     "text": [
      "Some weights of the model checkpoint at facebook/wav2vec2-base-960h were not used when initializing Wav2Vec2ModelForSegmentation: ['lm_head.bias', 'lm_head.weight']\n",
      "- This IS expected if you are initializing Wav2Vec2ModelForSegmentation from the checkpoint of a model trained on another task or with another architecture (e.g. initializing a BertForSequenceClassification model from a BertForPreTraining model).\n",
      "- This IS NOT expected if you are initializing Wav2Vec2ModelForSegmentation from the checkpoint of a model that you expect to be exactly identical (initializing a BertForSequenceClassification model from a BertForSequenceClassification model).\n",
      "Some weights of Wav2Vec2ModelForSegmentation were not initialized from the model checkpoint at facebook/wav2vec2-base-960h and are newly initialized: ['wav2vec2.masked_spec_embed']\n",
      "You should probably TRAIN this model on a down-stream task to be able to use it for predictions and inference.\n",
      "GPU available: True, used: True\n",
      "TPU available: False, using: 0 TPU cores\n",
      "IPU available: False, using: 0 IPUs\n"
     ]
    }
   ],
   "source": [
    "AVAIL_GPUS = min(1, torch.cuda.device_count())\n",
    "\n",
    "train_dataset = WavPhnDataset('Buckeye_fin/Train')\n",
    "val_dataset = WavPhnDataset('Buckeye_fin/Valid')\n",
    "test_dataset = WavPhnDataset('Buckeye_fin/Test')\n",
    "\n",
    "train_loader = DataLoader(train_dataset, shuffle=True, batch_size=4, collate_fn = collate_fn)\n",
    "val_loader = DataLoader(val_dataset, shuffle=False, batch_size=4, collate_fn = collate_fn)\n",
    "\n",
    "model = SegmentTransformer(config)\n",
    "\n",
    "logger = TensorBoardLogger(\"buckeye_r_val\", name=\"my_model\")\n",
    "\n",
    "checkpoint_callback = ModelCheckpoint(\n",
    "    monitor=\"val_r_metr\",\n",
    "    dirpath=\"./\",\n",
    "    filename=\"buckeye_r_val\",\n",
    "    save_top_k=3,\n",
    "    mode=\"max\",\n",
    ")\n",
    "trainer = Trainer(max_epochs=20,\n",
    "                  gpus=AVAIL_GPUS,\n",
    "                  progress_bar_refresh_rate=1,\n",
    "                  logger=logger,\n",
    "                  accumulate_grad_batches=accumulate_grad_batches,\n",
    "                  gradient_clip_val=2, \n",
    "                  callbacks=[checkpoint_callback])\n"
   ]
  },
  {
   "cell_type": "code",
   "execution_count": 39,
   "id": "3984ab9e",
   "metadata": {
    "cellId": "8delkkk7d885y1rhcyshhx"
   },
   "outputs": [
    {
     "name": "stdout",
     "output_type": "stream",
     "text": [
      "Launching TensorBoard...\n"
     ]
    },
    {
     "data": {
      "text/html": [
       "\n",
       "        <iframe id=\"tensorboard-frame-5bef28ae76f9c2e3\" width=\"100%\" height=\"800\" frameborder=\"0\">\n",
       "        </iframe>\n",
       "        <script>\n",
       "        function getCookie(name) {\n",
       "          let matches = document.cookie.match(new RegExp(\n",
       "            \"(?:^|; )\" + name.replace(/([\\.$?*|{}\\(\\)\\[\\]\\\\/\\+^])/g, '\\$1') + \"=([^;]*)\"\n",
       "          ));\n",
       "          return matches ? decodeURIComponent(matches[1]) : undefined;\n",
       "        }\n",
       "        \n",
       "        (function() {\n",
       "            const frame = document.getElementById(\"tensorboard-frame-5bef28ae76f9c2e3\");\n",
       "            const apiUrl = new URL(document.location.href.split('?')[0] + '/../api/tensorboard')\n",
       "            const xsrfToken = getCookie('_xsrf');\n",
       "            \n",
       "            fetch(apiUrl, {\n",
       "                method: 'POST',\n",
       "                mode: 'cors',\n",
       "                cache: 'no-cache',\n",
       "                credentials: 'same-origin',\n",
       "                headers: {\n",
       "                  'Content-Type': 'application/json',\n",
       "                  'X-XSRFToken': xsrfToken\n",
       "                },\n",
       "                redirect: 'follow',\n",
       "                referrerPolicy: 'origin', // no-referrer, *no-referrer-when-downgrade, origin, origin-when-cross-origin, same-origin, strict-origin, strict-origin-when-cross-origin, unsafe-url\n",
       "                body: JSON.stringify({\n",
       "                    'logdir': './buckeye_r_val'\n",
       "                })\n",
       "              }).then(response => {\n",
       "                response.json().then(json => {\n",
       "                    if (json.name != undefined) {\n",
       "                        const tbId = json.name;\n",
       "                        console.debug('tbId = ' + tbId);\n",
       "                        const url = new URL(document.location.href.split('?')[0] + '/../tensorboard/' + tbId);\n",
       "                        frame.src = url;\n",
       "                    }\n",
       "                });\n",
       "              });\n",
       "        })();\n",
       "        </script>\n",
       "        "
      ],
      "text/plain": [
       "<IPython.core.display.HTML object>"
      ]
     },
     "metadata": {},
     "output_type": "display_data"
    }
   ],
   "source": [
    "%tensorboard --logdir ./buckeye_r_val"
   ]
  },
  {
   "cell_type": "code",
   "execution_count": 37,
   "id": "405745ce",
   "metadata": {
    "cellId": "5jq3fszv5jeks2rzyo391s",
    "execution_id": "052e64d3-f4ef-4848-b7bb-f7d68929c8de"
   },
   "outputs": [
    {
     "name": "stderr",
     "output_type": "stream",
     "text": [
      "LOCAL_RANK: 0 - CUDA_VISIBLE_DEVICES: [0]\n",
      "\n",
      "  | Name         | Type                         | Params\n",
      "--------------------------------------------------------------\n",
      "0 | wav2vec_segm | Wav2Vec2ModelForSegmentation | 94.4 M\n",
      "--------------------------------------------------------------\n",
      "94.4 M    Trainable params\n",
      "0         Non-trainable params\n",
      "94.4 M    Total params\n",
      "377.487   Total estimated model params size (MB)\n"
     ]
    },
    {
     "data": {
      "application/vnd.jupyter.widget-view+json": {
       "model_id": "4e04c248c2cd45549955696d2d5fd53c",
       "version_major": 2,
       "version_minor": 0
      },
      "text/plain": [
       "HBox(children=(HTML(value='Validation sanity check'), FloatProgress(value=1.0, bar_style='info', layout=Layout…"
      ]
     },
     "metadata": {},
     "output_type": "display_data"
    },
    {
     "data": {
      "application/vnd.jupyter.widget-view+json": {
       "model_id": "6196cb6d531a41b3b72cd0f899cf1079",
       "version_major": 2,
       "version_minor": 0
      },
      "text/plain": [
       "HBox(children=(HTML(value='Training'), FloatProgress(value=1.0, bar_style='info', layout=Layout(flex='2'), max…"
      ]
     },
     "metadata": {},
     "output_type": "display_data"
    },
    {
     "data": {
      "application/vnd.jupyter.widget-view+json": {
       "model_id": "c3b7b074a5534771863c158ca831243d",
       "version_major": 2,
       "version_minor": 0
      },
      "text/plain": [
       "HBox(children=(HTML(value='Validating'), FloatProgress(value=1.0, bar_style='info', layout=Layout(flex='2'), m…"
      ]
     },
     "metadata": {},
     "output_type": "display_data"
    },
    {
     "data": {
      "application/vnd.jupyter.widget-view+json": {
       "model_id": "94f8bc1d5d5a493aa88ca8b4902b38c9",
       "version_major": 2,
       "version_minor": 0
      },
      "text/plain": [
       "HBox(children=(HTML(value='Validating'), FloatProgress(value=1.0, bar_style='info', layout=Layout(flex='2'), m…"
      ]
     },
     "metadata": {},
     "output_type": "display_data"
    },
    {
     "data": {
      "application/vnd.jupyter.widget-view+json": {
       "model_id": "3c9744aabd7e4d48a56dcbaae9c7c6b1",
       "version_major": 2,
       "version_minor": 0
      },
      "text/plain": [
       "HBox(children=(HTML(value='Validating'), FloatProgress(value=1.0, bar_style='info', layout=Layout(flex='2'), m…"
      ]
     },
     "metadata": {},
     "output_type": "display_data"
    },
    {
     "data": {
      "application/vnd.jupyter.widget-view+json": {
       "model_id": "f0d96c012a2a44d39e25678675e6181b",
       "version_major": 2,
       "version_minor": 0
      },
      "text/plain": [
       "HBox(children=(HTML(value='Validating'), FloatProgress(value=1.0, bar_style='info', layout=Layout(flex='2'), m…"
      ]
     },
     "metadata": {},
     "output_type": "display_data"
    },
    {
     "data": {
      "application/vnd.jupyter.widget-view+json": {
       "model_id": "57bb73d74e1b4fb58401cf464f38c9cd",
       "version_major": 2,
       "version_minor": 0
      },
      "text/plain": [
       "HBox(children=(HTML(value='Validating'), FloatProgress(value=1.0, bar_style='info', layout=Layout(flex='2'), m…"
      ]
     },
     "metadata": {},
     "output_type": "display_data"
    },
    {
     "data": {
      "application/vnd.jupyter.widget-view+json": {
       "model_id": "b82f7b6e429345a89c939c12cb64be1f",
       "version_major": 2,
       "version_minor": 0
      },
      "text/plain": [
       "HBox(children=(HTML(value='Validating'), FloatProgress(value=1.0, bar_style='info', layout=Layout(flex='2'), m…"
      ]
     },
     "metadata": {},
     "output_type": "display_data"
    },
    {
     "data": {
      "application/vnd.jupyter.widget-view+json": {
       "model_id": "9f770177288f4eaf8f2113d407cfd3b2",
       "version_major": 2,
       "version_minor": 0
      },
      "text/plain": [
       "HBox(children=(HTML(value='Validating'), FloatProgress(value=1.0, bar_style='info', layout=Layout(flex='2'), m…"
      ]
     },
     "metadata": {},
     "output_type": "display_data"
    },
    {
     "data": {
      "application/vnd.jupyter.widget-view+json": {
       "model_id": "a2c85ef1da6549f59edcfbbdf9abf7a5",
       "version_major": 2,
       "version_minor": 0
      },
      "text/plain": [
       "HBox(children=(HTML(value='Validating'), FloatProgress(value=1.0, bar_style='info', layout=Layout(flex='2'), m…"
      ]
     },
     "metadata": {},
     "output_type": "display_data"
    },
    {
     "data": {
      "application/vnd.jupyter.widget-view+json": {
       "model_id": "e898be6e214e4270b1e49e00f2ee3cf9",
       "version_major": 2,
       "version_minor": 0
      },
      "text/plain": [
       "HBox(children=(HTML(value='Validating'), FloatProgress(value=1.0, bar_style='info', layout=Layout(flex='2'), m…"
      ]
     },
     "metadata": {},
     "output_type": "display_data"
    },
    {
     "data": {
      "application/vnd.jupyter.widget-view+json": {
       "model_id": "169b512bf9f44413be4cfcd89550e7af",
       "version_major": 2,
       "version_minor": 0
      },
      "text/plain": [
       "HBox(children=(HTML(value='Validating'), FloatProgress(value=1.0, bar_style='info', layout=Layout(flex='2'), m…"
      ]
     },
     "metadata": {},
     "output_type": "display_data"
    },
    {
     "data": {
      "application/vnd.jupyter.widget-view+json": {
       "model_id": "35356e670fdf4454947ced7eed103bf2",
       "version_major": 2,
       "version_minor": 0
      },
      "text/plain": [
       "HBox(children=(HTML(value='Validating'), FloatProgress(value=1.0, bar_style='info', layout=Layout(flex='2'), m…"
      ]
     },
     "metadata": {},
     "output_type": "display_data"
    },
    {
     "data": {
      "application/vnd.jupyter.widget-view+json": {
       "model_id": "4aac2a4d88c5441c9ab0913ba401a7b6",
       "version_major": 2,
       "version_minor": 0
      },
      "text/plain": [
       "HBox(children=(HTML(value='Validating'), FloatProgress(value=1.0, bar_style='info', layout=Layout(flex='2'), m…"
      ]
     },
     "metadata": {},
     "output_type": "display_data"
    },
    {
     "data": {
      "application/vnd.jupyter.widget-view+json": {
       "model_id": "8bda286fe6df47f7a41738bb2952cc6b",
       "version_major": 2,
       "version_minor": 0
      },
      "text/plain": [
       "HBox(children=(HTML(value='Validating'), FloatProgress(value=1.0, bar_style='info', layout=Layout(flex='2'), m…"
      ]
     },
     "metadata": {},
     "output_type": "display_data"
    },
    {
     "data": {
      "application/vnd.jupyter.widget-view+json": {
       "model_id": "1f8a24d7084a4046ad936e00046d1106",
       "version_major": 2,
       "version_minor": 0
      },
      "text/plain": [
       "HBox(children=(HTML(value='Validating'), FloatProgress(value=1.0, bar_style='info', layout=Layout(flex='2'), m…"
      ]
     },
     "metadata": {},
     "output_type": "display_data"
    },
    {
     "data": {
      "application/vnd.jupyter.widget-view+json": {
       "model_id": "4190e62287b24b099564ce89ad81db55",
       "version_major": 2,
       "version_minor": 0
      },
      "text/plain": [
       "HBox(children=(HTML(value='Validating'), FloatProgress(value=1.0, bar_style='info', layout=Layout(flex='2'), m…"
      ]
     },
     "metadata": {},
     "output_type": "display_data"
    },
    {
     "data": {
      "application/vnd.jupyter.widget-view+json": {
       "model_id": "eaa9bb326fc14e508c516b99863a4302",
       "version_major": 2,
       "version_minor": 0
      },
      "text/plain": [
       "HBox(children=(HTML(value='Validating'), FloatProgress(value=1.0, bar_style='info', layout=Layout(flex='2'), m…"
      ]
     },
     "metadata": {},
     "output_type": "display_data"
    },
    {
     "data": {
      "application/vnd.jupyter.widget-view+json": {
       "model_id": "7d356abc6ec64771a845a9ac7bcc425b",
       "version_major": 2,
       "version_minor": 0
      },
      "text/plain": [
       "HBox(children=(HTML(value='Validating'), FloatProgress(value=1.0, bar_style='info', layout=Layout(flex='2'), m…"
      ]
     },
     "metadata": {},
     "output_type": "display_data"
    },
    {
     "data": {
      "application/vnd.jupyter.widget-view+json": {
       "model_id": "34745855e7764462924dff22f0e0dd62",
       "version_major": 2,
       "version_minor": 0
      },
      "text/plain": [
       "HBox(children=(HTML(value='Validating'), FloatProgress(value=1.0, bar_style='info', layout=Layout(flex='2'), m…"
      ]
     },
     "metadata": {},
     "output_type": "display_data"
    },
    {
     "data": {
      "application/vnd.jupyter.widget-view+json": {
       "model_id": "0f922ca25d254659b3716ac2186cd2fa",
       "version_major": 2,
       "version_minor": 0
      },
      "text/plain": [
       "HBox(children=(HTML(value='Validating'), FloatProgress(value=1.0, bar_style='info', layout=Layout(flex='2'), m…"
      ]
     },
     "metadata": {},
     "output_type": "display_data"
    },
    {
     "data": {
      "application/vnd.jupyter.widget-view+json": {
       "model_id": "0fab6779d17c481db6ce60e0318b7653",
       "version_major": 2,
       "version_minor": 0
      },
      "text/plain": [
       "HBox(children=(HTML(value='Validating'), FloatProgress(value=1.0, bar_style='info', layout=Layout(flex='2'), m…"
      ]
     },
     "metadata": {},
     "output_type": "display_data"
    },
    {
     "name": "stdout",
     "output_type": "stream",
     "text": [
      "optimizer: Adam (\n",
      "Parameter Group 0\n",
      "    amsgrad: False\n",
      "    betas: (0.9, 0.999)\n",
      "    eps: 1e-08\n",
      "    lr: 0.001\n",
      "    weight_decay: 0.0005\n",
      ")\n",
      "\n"
     ]
    }
   ],
   "source": [
    "trainer.fit(model, train_loader, val_loader)"
   ]
  },
  {
   "cell_type": "code",
   "execution_count": null,
   "id": "cf7cbbde",
   "metadata": {
    "cellId": "w7rguj2iljxknulexbinp"
   },
   "outputs": [],
   "source": []
  },
  {
   "cell_type": "code",
   "execution_count": null,
   "id": "775ac55f",
   "metadata": {
    "cellId": "v3dlq1azv0ggvjrw25ort"
   },
   "outputs": [],
   "source": []
  },
  {
   "cell_type": "code",
   "execution_count": null,
   "id": "8a035aa0",
   "metadata": {
    "cellId": "at5ax6x5srr77wj9lic0ml"
   },
   "outputs": [],
   "source": []
  }
 ],
 "metadata": {
  "kernelspec": {
   "display_name": "Yandex DataSphere Kernel",
   "language": "python",
   "name": "python3"
  },
  "language_info": {
   "codemirror_mode": {
    "name": "ipython",
    "version": 3
   },
   "file_extension": ".py",
   "mimetype": "text/x-python",
   "name": "python",
   "nbconvert_exporter": "python",
   "pygments_lexer": "ipython3",
   "version": "3.7.7"
  },
  "notebookId": "f13df2f7-09ce-4346-8480-0a4d46913c10",
  "notebookPath": "Transformers_buckeye.ipynb",
  "toc": {
   "base_numbering": 1,
   "nav_menu": {},
   "number_sections": true,
   "sideBar": true,
   "skip_h1_title": false,
   "title_cell": "Table of Contents",
   "title_sidebar": "Contents",
   "toc_cell": false,
   "toc_position": {},
   "toc_section_display": true,
   "toc_window_display": false
  }
 },
 "nbformat": 4,
 "nbformat_minor": 5
}
