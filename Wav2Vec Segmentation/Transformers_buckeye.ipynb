{
 "cells": [
  {
   "cell_type": "code",
   "execution_count": 1,
   "id": "619aa9d8",
   "metadata": {
    "cellId": "ogcx7z2fzkioztv328m5jf"
   },
   "outputs": [],
   "source": [
    "#!g1.1\n",
    "# %pip install --upgrade transformers\n",
    "# %pip install datasets\n",
    "# %pip install huggingface_hub"
   ]
  },
  {
   "cell_type": "code",
   "execution_count": 2,
   "id": "8033397d",
   "metadata": {
    "cellId": "ykagnrjc31hu6debnv8uj"
   },
   "outputs": [],
   "source": [
    "#!g1.1\n",
    "# %pip install --upgrade pip\n",
    "# %pip install boltons"
   ]
  },
  {
   "cell_type": "code",
   "execution_count": 3,
   "id": "3cf0d480",
   "metadata": {
    "cellId": "0ak66kxrpu1ls5sz3n8lmb"
   },
   "outputs": [],
   "source": [
    "#!g1.1\n",
    "import json\n",
    "import os\n",
    "import torch\n",
    "from tqdm import tqdm\n",
    "import scipy.io.wavfile as wav\n",
    "\n",
    "from torch import nn\n",
    "import torch.nn.functional as F\n",
    "from torch import optim\n",
    "from torch.utils.data import Dataset, DataLoader, Sampler\n",
    "from torch.utils.tensorboard import SummaryWriter\n",
    "\n",
    "import numpy as np\n",
    "import torchaudio"
   ]
  },
  {
   "cell_type": "code",
   "execution_count": 4,
   "id": "93bb0ed6",
   "metadata": {
    "cellId": "kddee80zo3yrjbjbxd7m"
   },
   "outputs": [],
   "source": [
    "#!g1.1\n",
    "import transformers\n",
    "import json\n",
    "from torch.utils.data import Dataset, DataLoader, Sampler\n",
    "import os"
   ]
  },
  {
   "cell_type": "code",
   "execution_count": 5,
   "id": "d7b99cec",
   "metadata": {
    "cellId": "3i03ji4yf0arl2waq66vye"
   },
   "outputs": [],
   "source": [
    "#!g1.1\n",
    "from models import ConvFeatureEncoder, SegmentsRepr, SegmentsEncoder, NegativeSampler, SegmentPredictor, FinModel\n",
    "from utils import ConstrativeLoss, sample_negatives\n",
    "# from trainer import Trainer"
   ]
  },
  {
   "cell_type": "code",
   "execution_count": 6,
   "id": "bf691415",
   "metadata": {
    "cellId": "5k7y1kcqyqdi07zx6z2gv9"
   },
   "outputs": [],
   "source": [
    "#!g1.1\n",
    "from model_transformers import SegmentTransformer\n",
    "from pytorch_lightning import Trainer\n",
    "from pytorch_lightning.loggers import TensorBoardLogger\n",
    "from pytorch_lightning.callbacks import EarlyStopping, ModelCheckpoint"
   ]
  },
  {
   "cell_type": "code",
   "execution_count": 7,
   "id": "c26e574d",
   "metadata": {
    "cellId": "suk4jkyeme4k4y7e2a6ej"
   },
   "outputs": [],
   "source": [
    "#!g1.1\n",
    "import torch\n",
    "import torch.nn as nn\n",
    "import torch.nn.functional as F\n",
    "from torch.utils.data import DataLoader, Dataset\n",
    "torch.multiprocessing.set_sharing_strategy('file_system')\n",
    "from tqdm import tqdm\n",
    "import numpy as np\n",
    "import os\n",
    "from os.path import join, basename\n",
    "from boltons.fileutils import iter_find_files\n",
    "import soundfile as sf\n",
    "import librosa\n",
    "import pickle\n",
    "from multiprocessing import Pool\n",
    "import random\n",
    "import torchaudio\n",
    "import math\n",
    "from torchaudio.datasets import LIBRISPEECH"
   ]
  },
  {
   "cell_type": "code",
   "execution_count": 8,
   "id": "ff38ec15",
   "metadata": {
    "cellId": "hmx6szq61xhieo3mq2sawg"
   },
   "outputs": [
    {
     "data": {
      "text/plain": [
       "'4.14.0'"
      ]
     },
     "execution_count": 8,
     "metadata": {},
     "output_type": "execute_result"
    }
   ],
   "source": [
    "#!g1.1\n",
    "transformers.__version__"
   ]
  },
  {
   "cell_type": "code",
   "execution_count": 9,
   "id": "bd106c77",
   "metadata": {
    "cellId": "2scz2lgqqr3bkdp1n075m"
   },
   "outputs": [],
   "source": [
    "#!g1.1\n",
    "# %pip list"
   ]
  },
  {
   "cell_type": "code",
   "execution_count": 10,
   "id": "ed843c31",
   "metadata": {
    "cellId": "1vdb4j7keo49n2uuqpgo1k"
   },
   "outputs": [
    {
     "data": {
      "text/plain": [
       "<torch._C.Generator at 0x7fdac6513670>"
      ]
     },
     "execution_count": 10,
     "metadata": {},
     "output_type": "execute_result"
    }
   ],
   "source": [
    "#!g1.1\n",
    "torch.manual_seed(0)"
   ]
  },
  {
   "cell_type": "code",
   "execution_count": 11,
   "id": "ec61a1ad",
   "metadata": {
    "cellId": "fib0hamzd5np8anm5kayr"
   },
   "outputs": [],
   "source": [
    "#!g1.1\n"
   ]
  },
  {
   "cell_type": "code",
   "execution_count": 12,
   "id": "cb98cc4b",
   "metadata": {
    "cellId": "5jiellz3d39mzn9itfebym"
   },
   "outputs": [],
   "source": [
    "#!g1.1\n",
    "# Данный класс основан на https://github.com/felixkreuk/UnsupSeg/blob/master/dataloader.py\n",
    "\n",
    "class WavPhnDataset(Dataset):\n",
    "    def __init__(self, path):\n",
    "        self.path = path\n",
    "        self.data = list(iter_find_files(self.path, \"*.wav\"))\n",
    "        super(WavPhnDataset, self).__init__()\n",
    "\n",
    "    @staticmethod\n",
    "    def get_datasets(path):\n",
    "        raise NotImplementedError\n",
    "\n",
    "    def process_file(self, wav_path):\n",
    "#         print(wav_path)\n",
    "        phn_path = wav_path.replace(\".wav\", \".txt\")\n",
    "\n",
    "        # load audio\n",
    "        audio, sr = torchaudio.load(wav_path)\n",
    "        audio = audio[0]\n",
    "        audio_len = len(audio)\n",
    "\n",
    "        # load labels -- segmentation and phonemes\n",
    "        with open(phn_path, \"r\") as f:\n",
    "            lines = [i.strip() for i in f.readlines()]\n",
    "#             lines = lines[lines.index('#')+1:]\n",
    "\n",
    "            times = torch.FloatTensor([eval(i.split()[0]) for i in lines])[:-1]\n",
    "            phonemes = torch.FloatTensor([eval(i.split()[0])*16000 for i in lines])[:-1]\n",
    "\n",
    "        return audio, times, phonemes, wav_path\n",
    "\n",
    "    def __getitem__(self, idx):\n",
    "        signal, seg, phonemes, fname = self.process_file(self.data[idx])\n",
    "        \n",
    "        return {'sample': signal, 'length': len(signal), 'boundaries': seg}\n",
    "\n",
    "    def __len__(self):\n",
    "        return len(self.data)"
   ]
  },
  {
   "cell_type": "code",
   "execution_count": 13,
   "id": "ce408ec3",
   "metadata": {
    "cellId": "xjot2k4x1fsrx0vkd4mfih"
   },
   "outputs": [],
   "source": [
    "#!g1.1\n",
    "def collate_fn(samples):\n",
    "    \n",
    "    max_length = max([sample['length'] for sample in samples])\n",
    "    boundaries = [sample['boundaries'] for sample in samples]\n",
    "    samples1 = []\n",
    "    lengths = []\n",
    "    samplings = []\n",
    "    attentions = []\n",
    "    for sample in samples:\n",
    "        to_add_l = max_length-sample['length']\n",
    "        sample1 = list(sample['sample'])+[0]*to_add_l\n",
    "        samples1.append(torch.Tensor(sample1).unsqueeze(0))\n",
    "        lengths.append(sample['length'])\n",
    "        att_norm = torch.ones(size = (1, sample['length']))\n",
    "        att_add = torch.zeros(size = (1, to_add_l))\n",
    "        att = torch.cat([att_norm, att_add], dim = -1)\n",
    "        attentions.append(att)\n",
    "        \n",
    "    batch = torch.cat(samples1)\n",
    "    lengths = torch.Tensor(lengths)\n",
    "    attention_mask = torch.cat(attentions, dim = 0)\n",
    "    \n",
    "    return dict(batch=batch, lengths=lengths, attention_mask=attention_mask, boundaries=boundaries)"
   ]
  },
  {
   "cell_type": "code",
   "execution_count": 14,
   "id": "68da0730",
   "metadata": {
    "cellId": "jxiiekrcdfjfkn4m0fulq"
   },
   "outputs": [],
   "source": [
    "#!g1.1\n",
    "train_dataset = WavPhnDataset('Buckeye_fin/Train')\n",
    "val_dataset = WavPhnDataset('Buckeye_fin/Valid')\n",
    "test_dataset = WavPhnDataset('Buckeye_fin/Test')"
   ]
  },
  {
   "cell_type": "code",
   "execution_count": 15,
   "id": "94afd485",
   "metadata": {
    "cellId": "vr000o8utjqcpfl47p12l"
   },
   "outputs": [],
   "source": [
    "#!g1.1\n",
    "train_loader = DataLoader(train_dataset, shuffle=True, batch_size=8, collate_fn = collate_fn)\n",
    "val_loader = DataLoader(val_dataset, shuffle=False, batch_size=8, collate_fn = collate_fn)"
   ]
  },
  {
   "cell_type": "code",
   "execution_count": 16,
   "id": "e6500155",
   "metadata": {
    "cellId": "p660nihjl68voakyvt0cxc"
   },
   "outputs": [],
   "source": [
    "#!g1.1\n"
   ]
  },
  {
   "cell_type": "code",
   "execution_count": 17,
   "id": "582fb7b4",
   "metadata": {
    "cellId": "lfxzaqv1i594s8m89pxuif"
   },
   "outputs": [],
   "source": [
    "#!g1.1\n"
   ]
  },
  {
   "cell_type": "code",
   "execution_count": 18,
   "id": "dd071fb7",
   "metadata": {
    "cellId": "ck97s7diwtswwid8o4i8l"
   },
   "outputs": [],
   "source": [
    "#!g1.1\n",
    "accumulate_grad_batches = 10"
   ]
  },
  {
   "cell_type": "code",
   "execution_count": 19,
   "id": "2209499c",
   "metadata": {
    "cellId": "spkavxn3u2ha3ufbivr8p"
   },
   "outputs": [],
   "source": [
    "#!g1.1\n",
    "cfg = {'model_path':\"facebook/wav2vec2-base-960h\",\n",
    "       'mask': False,\n",
    "       'optimizer': \"adam\",\n",
    "       'momentum': 0.9,\n",
    "'learning_rate': 0.0001*accumulate_grad_batches,\n",
    "'lr_anneal_gamma': 1.0,\n",
    "'lr_anneal_step': 1000,\n",
    "'epochs': 20,\n",
    "'grad_clip': 2,\n",
    "'batch_size': 8,\n",
    "\n",
    "'conv_args': {},\n",
    "'mask_args': {},\n",
    "'segm_enc_args': {},\n",
    "'segm_predictor_args': {},\n",
    "'loss_args': {\"n_negatives\": 10, \"loss_args\": {\"reduction\": \"mean\"}},\n",
    "'num_epoch': 2}"
   ]
  },
  {
   "cell_type": "code",
   "execution_count": 20,
   "id": "696e3dec",
   "metadata": {
    "cellId": "1f3l8owj387v6fe7ws6xn"
   },
   "outputs": [],
   "source": [
    "#!g1.1\n",
    "class Conf:\n",
    "    def __init__(self, my_dict):\n",
    "        for key, value in my_dict.items():\n",
    "            setattr(self, key, value)\n",
    "            \n",
    "config = Conf(cfg)"
   ]
  },
  {
   "cell_type": "code",
   "execution_count": 21,
   "id": "b58f6830",
   "metadata": {
    "cellId": "xr7uqzugsxm0cpjtccw2gfn"
   },
   "outputs": [],
   "source": [
    "#!g1.1\n",
    "import warnings\n",
    "warnings.filterwarnings(\"ignore\")\n",
    "from collections import OrderedDict"
   ]
  },
  {
   "cell_type": "code",
   "execution_count": 22,
   "id": "69b9d26d",
   "metadata": {
    "cellId": "mq8wpxszhfmy61qgkkumd8"
   },
   "outputs": [
    {
     "data": {
      "application/vnd.jupyter.widget-view+json": {
       "model_id": "e39e4d2ff63b47c49d6502706d9783a8",
       "version_major": 2,
       "version_minor": 0
      },
      "text/plain": [
       "HBox(children=(HTML(value='Downloading'), FloatProgress(value=0.0, max=1596.0), HTML(value='')))"
      ]
     },
     "metadata": {},
     "output_type": "display_data"
    },
    {
     "data": {
      "application/vnd.jupyter.widget-view+json": {
       "model_id": "6099141250ac4b32bab2b58a6b638865",
       "version_major": 2,
       "version_minor": 0
      },
      "text/plain": [
       "HBox(children=(HTML(value='Downloading'), FloatProgress(value=0.0, max=377667514.0), HTML(value='')))"
      ]
     },
     "metadata": {},
     "output_type": "display_data"
    },
    {
     "name": "stdout",
     "output_type": "stream",
     "text": [
      "\n",
      "\n"
     ]
    },
    {
     "name": "stderr",
     "output_type": "stream",
     "text": [
      "Some weights of the model checkpoint at facebook/wav2vec2-base-960h were not used when initializing Wav2Vec2ModelForSegmentation: ['lm_head.bias', 'lm_head.weight']\n",
      "- This IS expected if you are initializing Wav2Vec2ModelForSegmentation from the checkpoint of a model trained on another task or with another architecture (e.g. initializing a BertForSequenceClassification model from a BertForPreTraining model).\n",
      "- This IS NOT expected if you are initializing Wav2Vec2ModelForSegmentation from the checkpoint of a model that you expect to be exactly identical (initializing a BertForSequenceClassification model from a BertForSequenceClassification model).\n",
      "Some weights of Wav2Vec2ModelForSegmentation were not initialized from the model checkpoint at facebook/wav2vec2-base-960h and are newly initialized: ['wav2vec2.masked_spec_embed']\n",
      "You should probably TRAIN this model on a down-stream task to be able to use it for predictions and inference.\n",
      "GPU available: True, used: True\n",
      "TPU available: False, using: 0 TPU cores\n",
      "IPU available: False, using: 0 IPUs\n"
     ]
    }
   ],
   "source": [
    "#!g1.1\n",
    "AVAIL_GPUS = min(1, torch.cuda.device_count())\n",
    "\n",
    "train_dataset = WavPhnDataset('Buckeye_fin/Train')\n",
    "val_dataset = WavPhnDataset('Buckeye_fin/Valid')\n",
    "test_dataset = WavPhnDataset('Buckeye_fin/Test')\n",
    "\n",
    "train_loader = DataLoader(train_dataset, shuffle=True, batch_size=8, collate_fn = collate_fn)\n",
    "val_loader = DataLoader(val_dataset, shuffle=False, batch_size=8, collate_fn = collate_fn)\n",
    "\n",
    "model = SegmentTransformer(config)\n",
    "\n",
    "logger = TensorBoardLogger(\"buckeye_r_val_negs1\", name=\"my_model\")\n",
    "\n",
    "checkpoint_callback = ModelCheckpoint(\n",
    "    monitor=\"val_r_metr\",\n",
    "    dirpath=\"./\",\n",
    "    filename=\"buckeye_r_val_negs1\",\n",
    "    save_top_k=3,\n",
    "    mode=\"max\",\n",
    ")\n",
    "trainer = Trainer(max_epochs=20,\n",
    "                  gpus=AVAIL_GPUS,\n",
    "                  progress_bar_refresh_rate=1,\n",
    "                  logger=logger,\n",
    "                  accumulate_grad_batches=accumulate_grad_batches,\n",
    "                  gradient_clip_val=2, \n",
    "                  callbacks=[checkpoint_callback])\n"
   ]
  },
  {
   "cell_type": "code",
   "execution_count": 23,
   "id": "3e48afac",
   "metadata": {
    "cellId": "8delkkk7d885y1rhcyshhx"
   },
   "outputs": [
    {
     "name": "stdout",
     "output_type": "stream",
     "text": [
      "Launching TensorBoard...\n"
     ]
    },
    {
     "data": {
      "text/html": [
       "\n",
       "        <iframe id=\"tensorboard-frame-82fd29a55fbdd7de\" width=\"100%\" height=\"800\" frameborder=\"0\">\n",
       "        </iframe>\n",
       "        <script>\n",
       "        function getCookie(name) {\n",
       "          let matches = document.cookie.match(new RegExp(\n",
       "            \"(?:^|; )\" + name.replace(/([\\.$?*|{}\\(\\)\\[\\]\\\\/\\+^])/g, '\\$1') + \"=([^;]*)\"\n",
       "          ));\n",
       "          return matches ? decodeURIComponent(matches[1]) : undefined;\n",
       "        }\n",
       "        \n",
       "        (function() {\n",
       "            const frame = document.getElementById(\"tensorboard-frame-82fd29a55fbdd7de\");\n",
       "            const apiUrl = new URL(document.location.href.split('?')[0] + '/../api/tensorboard')\n",
       "            const xsrfToken = getCookie('_xsrf');\n",
       "            \n",
       "            fetch(apiUrl, {\n",
       "                method: 'POST',\n",
       "                mode: 'cors',\n",
       "                cache: 'no-cache',\n",
       "                credentials: 'same-origin',\n",
       "                headers: {\n",
       "                  'Content-Type': 'application/json',\n",
       "                  'X-XSRFToken': xsrfToken\n",
       "                },\n",
       "                redirect: 'follow',\n",
       "                referrerPolicy: 'origin', // no-referrer, *no-referrer-when-downgrade, origin, origin-when-cross-origin, same-origin, strict-origin, strict-origin-when-cross-origin, unsafe-url\n",
       "                body: JSON.stringify({\n",
       "                    'logdir': './buckeye_r_val_negs1'\n",
       "                })\n",
       "              }).then(response => {\n",
       "                response.json().then(json => {\n",
       "                    if (json.name != undefined) {\n",
       "                        const tbId = json.name;\n",
       "                        console.debug('tbId = ' + tbId);\n",
       "                        const url = new URL(document.location.href.split('?')[0] + '/../tensorboard/' + tbId);\n",
       "                        frame.src = url;\n",
       "                    }\n",
       "                });\n",
       "              });\n",
       "        })();\n",
       "        </script>\n",
       "        "
      ],
      "text/plain": [
       "<IPython.core.display.HTML object>"
      ]
     },
     "metadata": {},
     "output_type": "display_data"
    }
   ],
   "source": [
    "#!g1.1\n",
    "%tensorboard --logdir ./buckeye_r_val_negs1"
   ]
  },
  {
   "cell_type": "code",
   "execution_count": null,
   "id": "c831e051",
   "metadata": {
    "cellId": "5jq3fszv5jeks2rzyo391s",
    "execution_id": "052e64d3-f4ef-4848-b7bb-f7d68929c8de"
   },
   "outputs": [],
   "source": [
    "#!g1.1\n",
    "trainer.fit(model, train_loader, val_loader)"
   ]
  },
  {
   "cell_type": "code",
   "execution_count": null,
   "id": "3ad68b26",
   "metadata": {
    "cellId": "w7rguj2iljxknulexbinp"
   },
   "outputs": [],
   "source": [
    "#!g1.1\n"
   ]
  },
  {
   "cell_type": "code",
   "execution_count": null,
   "id": "5f993d01",
   "metadata": {
    "cellId": "at5ax6x5srr77wj9lic0ml"
   },
   "outputs": [],
   "source": [
    "#!g1.1\n"
   ]
  }
 ],
 "metadata": {
  "kernelspec": {
   "display_name": "Yandex DataSphere Kernel",
   "language": "python",
   "name": "python3"
  },
  "language_info": {
   "codemirror_mode": {
    "name": "ipython",
    "version": 3
   },
   "file_extension": ".py",
   "mimetype": "text/x-python",
   "name": "python",
   "nbconvert_exporter": "python",
   "pygments_lexer": "ipython3",
   "version": "3.7.7"
  },
  "notebookId": "f13df2f7-09ce-4346-8480-0a4d46913c10",
  "notebookPath": "Transformers_buckeye.ipynb",
  "toc": {
   "base_numbering": 1,
   "nav_menu": {},
   "number_sections": true,
   "sideBar": true,
   "skip_h1_title": false,
   "title_cell": "Table of Contents",
   "title_sidebar": "Contents",
   "toc_cell": false,
   "toc_position": {},
   "toc_section_display": true,
   "toc_window_display": false
  }
 },
 "nbformat": 4,
 "nbformat_minor": 5
}
