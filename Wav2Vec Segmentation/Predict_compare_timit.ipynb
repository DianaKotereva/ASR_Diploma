{
 "cells": [
  {
   "cell_type": "code",
   "execution_count": 1,
   "id": "10fc217d",
   "metadata": {
    "cellId": "g09276vaso83hmt0w831sn"
   },
   "outputs": [],
   "source": [
    "#!g1.1\n",
    "import json\n",
    "import os\n",
    "import torch\n",
    "from tqdm import tqdm\n",
    "import scipy.io.wavfile as wav\n",
    "\n",
    "from torch import nn\n",
    "import torch.nn.functional as F\n",
    "from torch import optim\n",
    "from torch.utils.data import Dataset, DataLoader, Sampler\n",
    "from torch.utils.tensorboard import SummaryWriter\n",
    "\n",
    "import numpy as np\n",
    "from pytorch_lightning.callbacks import EarlyStopping, ModelCheckpoint\n",
    "import math\n",
    "\n",
    "import torchaudio\n",
    "from boltons.fileutils import iter_find_files\n",
    "from collections import OrderedDict"
   ]
  },
  {
   "cell_type": "code",
   "execution_count": 2,
   "id": "bfbe1ba7",
   "metadata": {
    "cellId": "uvl72wmlsin2pm85am363"
   },
   "outputs": [],
   "source": [
    "#!g1.1\n",
    "# %pip install pytorch_lightning --upgrade"
   ]
  },
  {
   "cell_type": "code",
   "execution_count": 3,
   "id": "24e742dc",
   "metadata": {
    "cellId": "orkvm83jfktjymx3w6hs"
   },
   "outputs": [],
   "source": [
    "#!g1.1\n",
    "from models import ConvFeatureEncoder, SegmentsRepr, SegmentsEncoder, NegativeSampler, SegmentPredictor, FinModel, FinModel1\n",
    "from utils import ConstrativeLoss, sample_negatives\n",
    "# from trainer import Trainer\n",
    "from pytorch_lightning import Trainer\n",
    "from pytorch_lightning.loggers import TensorBoardLogger"
   ]
  },
  {
   "cell_type": "code",
   "execution_count": 4,
   "id": "2470a34b",
   "metadata": {
    "cellId": "gz19l6aiug6sr9hmk0laq"
   },
   "outputs": [],
   "source": [
    "#!g1.1\n",
    "# import wandb"
   ]
  },
  {
   "cell_type": "code",
   "execution_count": 5,
   "id": "ca3e3bcf",
   "metadata": {
    "cellId": "dd60n8qgnt17m37fafvrd"
   },
   "outputs": [],
   "source": [
    "#!g1.1\n",
    "def spectral_size(wav_len):\n",
    "    layers = [(10,5,0), (8,4,0), (4,2,0), (4,2,0), (4,2,0)]\n",
    "    for kernel, stride, padding in layers:\n",
    "        wav_len = math.floor((wav_len + 2*padding - 1*(kernel-1) - 1)/stride + 1)\n",
    "    return wav_len"
   ]
  },
  {
   "cell_type": "code",
   "execution_count": 6,
   "id": "53de99ea",
   "metadata": {
    "cellId": "1sts9w8roocjh3jc8zrtbb6"
   },
   "outputs": [],
   "source": [
    "#!g1.1\n",
    "# Данный класс основан на https://github.com/felixkreuk/UnsupSeg/blob/master/dataloader.py\n",
    "\n",
    "class WavPhnDataset(Dataset):\n",
    "    def __init__(self, path):\n",
    "        self.path = path\n",
    "        self.data = list(iter_find_files(self.path, \"*.wav\"))\n",
    "        super(WavPhnDataset, self).__init__()\n",
    "\n",
    "    @staticmethod\n",
    "    def get_datasets(path):\n",
    "        raise NotImplementedError\n",
    "\n",
    "    def process_file(self, wav_path):\n",
    "        phn_path = wav_path.replace(\"WAV.wav\", \"PHN\")\n",
    "\n",
    "        # load audio\n",
    "        audio, sr = torchaudio.load(wav_path)\n",
    "        audio = audio[0]\n",
    "        audio_len = len(audio)\n",
    "        \n",
    "        filetext_id = phn_path.replace('.PHN', '.txt').replace('./', ''). replace('/', '_')\n",
    "        \n",
    "        # load labels -- segmentation and phonemes\n",
    "        with open(phn_path, \"r\") as f:\n",
    "            lines = f.readlines()\n",
    "            lines = list(map(lambda line: line.split(\" \"), lines))\n",
    "\n",
    "            # get segment times\n",
    "            times = torch.FloatTensor(list(map(lambda line: int(line[1])/16000, lines)))[:-1]\n",
    "            \n",
    "            # get phonemes in each segment (for K times there should be K+1 phonemes)\n",
    "            phonemes = list(map(lambda line: line[2].strip(), lines))\n",
    "\n",
    "        return audio, times.tolist(), phonemes, wav_path, phn_path, filetext_id\n",
    "\n",
    "    def spectral_size(self, wav_len):\n",
    "        layers = [(10,5,0), (8,4,0), (4,2,0), (4,2,0), (4,2,0)]\n",
    "        for kernel, stride, padding in layers:\n",
    "            wav_len = math.floor((wav_len + 2*padding - 1*(kernel-1) - 1)/stride + 1)\n",
    "        return wav_len\n",
    "    \n",
    "    def __getitem__(self, idx):\n",
    "        signal, seg, phonemes, fname, segment_file, filetext_id = self.process_file(self.data[idx])\n",
    "        \n",
    "        return {'audio_file':fname, \n",
    "                'segment_file':segment_file, \n",
    "                'id':filetext_id, \n",
    "                'sample': signal, \n",
    "                'length': len(signal), \n",
    "                'spectral_size': self.spectral_size(len(signal)),\n",
    "                'boundaries': seg}\n",
    "        \n",
    "#         return {'sample': signal, 'length': len(signal), 'boundaries': seg}\n",
    "#         return audio, seg, phonemes, fname\n",
    "\n",
    "    def __len__(self):\n",
    "        return len(self.data)"
   ]
  },
  {
   "cell_type": "code",
   "execution_count": 7,
   "id": "4bf8c39e",
   "metadata": {
    "cellId": "sf3ifqz2ewwh086zqvz9h"
   },
   "outputs": [],
   "source": [
    "#!g1.1\n",
    "# Данный класс основан на https://github.com/felixkreuk/UnsupSeg/blob/master/dataloader.py\n",
    "\n",
    "class TrainTestDataset(WavPhnDataset):\n",
    "    def __init__(self, path):\n",
    "        super(TrainTestDataset, self).__init__(path)\n",
    "\n",
    "    @staticmethod\n",
    "    def get_datasets(path, val_ratio=0.1):\n",
    "        train_dataset = TrainTestDataset(os.path.join(path, 'TRAIN'))\n",
    "        test_dataset  = TrainTestDataset(os.path.join(path, 'TEST'))\n",
    "\n",
    "        train_len   = len(train_dataset)\n",
    "        train_split = int(train_len * (1 - val_ratio))\n",
    "        val_split   = train_len - train_split\n",
    "        train_dataset, val_dataset = torch.utils.data.random_split(train_dataset, [train_split, val_split])\n",
    "\n",
    "        train_dataset.path = os.path.join(path, 'train')\n",
    "        val_dataset.path = os.path.join(path, 'train')\n",
    "\n",
    "        return train_dataset, val_dataset, test_dataset"
   ]
  },
  {
   "cell_type": "code",
   "execution_count": 8,
   "id": "7a506eee",
   "metadata": {
    "cellId": "s0982jnadwcuboc9726kt"
   },
   "outputs": [],
   "source": [
    "#!g1.1\n",
    "def collate_fn(samples):\n",
    "    \n",
    "    max_length = max([sample['length'] for sample in samples])\n",
    "    boundaries = [sample['boundaries'] for sample in samples]\n",
    "    spectral_sizes = [sample['spectral_size'] for sample in samples]\n",
    "    samples1 = []\n",
    "    lengths = []\n",
    "    samplings = []\n",
    "    attentions = []\n",
    "    ids = []\n",
    "    audio_files = []\n",
    "    segment_files = []\n",
    "    for sample in samples:\n",
    "        to_add_l = max_length-sample['length']\n",
    "        sample1 = list(sample['sample'])+[0]*to_add_l\n",
    "        samples1.append(torch.Tensor(sample1).unsqueeze(0))\n",
    "        lengths.append(sample['length'])\n",
    "        ids.append(sample['id'])\n",
    "        audio_files.append(sample['audio_file'])\n",
    "        segment_files.append(sample['segment_file'])\n",
    "        att_norm = torch.ones(size = (1, sample['length']))\n",
    "        att_add = torch.zeros(size = (1, to_add_l))\n",
    "        att = torch.cat([att_norm, att_add], dim = -1)\n",
    "        attentions.append(att)\n",
    "        \n",
    "    batch = torch.cat(samples1)\n",
    "    lengths = torch.Tensor(lengths)\n",
    "    attention_mask = torch.cat(attentions, dim = 0)\n",
    "    spectral_size = torch.Tensor(spectral_sizes)\n",
    "    \n",
    "    return dict(batch=batch, lengths=lengths, attention_mask=attention_mask, \n",
    "                boundaries=boundaries, ids=ids, \n",
    "                audio_files=audio_files, \n",
    "                segment_files=segment_files, \n",
    "                spectral_size=spectral_size)"
   ]
  },
  {
   "cell_type": "markdown",
   "id": "f2260481",
   "metadata": {
    "cellId": "l2qzrpxtx1b692ra8i1tsw"
   },
   "source": [
    "# Загрузка Данных"
   ]
  },
  {
   "cell_type": "code",
   "execution_count": 9,
   "id": "f950773d",
   "metadata": {
    "cellId": "e0g2n79lv3pzgdxhgh6z0h"
   },
   "outputs": [],
   "source": [
    "#!g1.1\n",
    "timit_path = './timit/data'"
   ]
  },
  {
   "cell_type": "code",
   "execution_count": 10,
   "id": "dfc450cc",
   "metadata": {
    "cellId": "iv0oczyyt1rjxn1se6d0cg"
   },
   "outputs": [],
   "source": [
    "#!g1.1\n",
    "train_dataset, val_dataset, test_dataset = TrainTestDataset.get_datasets(path=timit_path)"
   ]
  },
  {
   "cell_type": "code",
   "execution_count": 11,
   "id": "65635351",
   "metadata": {
    "cellId": "x3bbr54udlbbl7mkk2wg"
   },
   "outputs": [],
   "source": [
    "#!g1.1\n",
    "train_loader = DataLoader(train_dataset, shuffle=True, batch_size=8, collate_fn = collate_fn)\n",
    "val_loader = DataLoader(val_dataset, shuffle=False, batch_size=8, collate_fn = collate_fn)\n",
    "test_loader = DataLoader(test_dataset, shuffle=False, batch_size=8, collate_fn = collate_fn)"
   ]
  },
  {
   "cell_type": "code",
   "execution_count": 12,
   "id": "fbe41148",
   "metadata": {
    "cellId": "5u59w3bje15bpw1bkpjrmi"
   },
   "outputs": [],
   "source": [
    "#!g1.1\n",
    "path_results = 'save_results_path_compare_timit'"
   ]
  },
  {
   "cell_type": "code",
   "execution_count": 13,
   "id": "a41f0c2c",
   "metadata": {
    "cellId": "ifwhoyak8bm2a5g59q2882"
   },
   "outputs": [],
   "source": [
    "#!g1.1\n"
   ]
  },
  {
   "cell_type": "markdown",
   "id": "5a7adb42",
   "metadata": {
    "cellId": "xd4cw7j86gp2yxpt55xdzg"
   },
   "source": [
    "# Segment Model"
   ]
  },
  {
   "cell_type": "code",
   "execution_count": 14,
   "id": "224f9946",
   "metadata": {
    "cellId": "wv9ey7tg0gdosijsccisd"
   },
   "outputs": [],
   "source": [
    "#!g1.1\n",
    "model_path = 'timit_model_acc_5_ep_200_model_with_segments.ckpt'"
   ]
  },
  {
   "cell_type": "code",
   "execution_count": 15,
   "id": "b6f010c6",
   "metadata": {
    "cellId": "3xo0einqd098aw9qfu4dgf"
   },
   "outputs": [],
   "source": [
    "#!g1.1\n",
    "accumulate_grad_batches = 1\n",
    "cfg = {'optimizer': \"adam\",\n",
    "'momentum': 0.9,\n",
    "'learning_rate': 0.0001*accumulate_grad_batches,\n",
    "'lr_anneal_gamma': 1.0,\n",
    "'lr_anneal_step': 1000,\n",
    "# 'epochs': 500,\n",
    "'grad_clip': 0.5,\n",
    "'batch_size': 8,\n",
    "\n",
    "'conv_args': {},\n",
    "'mask_args': {\"segment\": \"first\", \"add_one\": False},\n",
    "'segm_enc_args': {},\n",
    "'segm_predictor_args': {},\n",
    "'loss_args': {\"n_negatives\": 1, \"loss_args\": {\"reduction\": \"mean\"}},\n",
    "'num_epoch': 2}"
   ]
  },
  {
   "cell_type": "code",
   "execution_count": 16,
   "id": "76f64dbc",
   "metadata": {
    "cellId": "aldzh2q4pil2dafj0a68h"
   },
   "outputs": [],
   "source": [
    "#!g1.1\n",
    "class Conf:\n",
    "    def __init__(self, my_dict):\n",
    "        for key, value in my_dict.items():\n",
    "            setattr(self, key, value)\n",
    "            \n",
    "config = Conf(cfg)"
   ]
  },
  {
   "cell_type": "code",
   "execution_count": 17,
   "id": "d86efde9",
   "metadata": {
    "cellId": "ovym33d2aem1er095sc55h"
   },
   "outputs": [
    {
     "name": "stderr",
     "output_type": "stream",
     "text": [
      "  0%|          | 0/210 [00:00<?, ?it/s]/usr/local/lib/python3.8/dist-packages/torch/_tensor.py:575: UserWarning: floor_divide is deprecated, and will be removed in a future version of pytorch. It currently rounds toward 0 (like the 'trunc' function NOT 'floor'). This results in incorrect rounding for negative values.\n",
      "To keep the current behavior, use torch.div(a, b, rounding_mode='trunc'), or for actual floor division, use torch.div(a, b, rounding_mode='floor'). (Triggered internally at  ../aten/src/ATen/native/BinaryOps.cpp:467.)\n",
      "  return torch.floor_divide(self, other)\n",
      "100%|██████████| 210/210 [04:03<00:00,  1.16s/it]\n"
     ]
    }
   ],
   "source": [
    "#!g1.1\n",
    "model = FinModel(config)\n",
    "checkpoint = torch.load(model_path)\n",
    "#     checkpoint = torch.load(model_path, map_location='cpu')\n",
    "\n",
    "state_dicts = OrderedDict()\n",
    "for key, value in checkpoint['state_dict'].items():\n",
    "    state_dicts[key.replace('wav2vec_segm.', '')] = value\n",
    "model.load_state_dict(state_dicts)\n",
    "\n",
    "model.eval()\n",
    "model=model.to('cuda')\n",
    "\n",
    "for batch in tqdm(test_loader):\n",
    "    x = batch['batch']\n",
    "    lengths = batch['lengths']\n",
    "    attention_mask = batch['attention_mask']\n",
    "    secs = batch['boundaries']\n",
    "    ids = batch['ids']\n",
    "    spectral_sizes = batch['spectral_size']\n",
    "    name_path = 'model_segment'\n",
    "    os.makedirs(os.path.join(path_results, name_path), exist_ok=True) \n",
    "\n",
    "\n",
    "    rr = model.compute_all(x.to('cuda'), secs, num_epoch=0, attention_mask=attention_mask.to('cuda'), return_secs=True)\n",
    "#         rr = model.compute_all(x, secs, num_epoch=0, attention_mask=attention_mask, return_secs=True)\n",
    "    secs_preds = rr[1]['secs_pred']\n",
    "    for idd, secs in zip(ids, secs_preds):\n",
    "        with open(os.path.join(os.path.join(path_results, name_path), idd), 'w', encoding=\"cp1251\") as file:\n",
    "            file.write(str(secs))"
   ]
  },
  {
   "cell_type": "code",
   "execution_count": 18,
   "id": "74b2c61a",
   "metadata": {
    "cellId": "iusuzvlxgucelyddt405qt"
   },
   "outputs": [],
   "source": [
    "#!g1.1\n"
   ]
  },
  {
   "cell_type": "markdown",
   "id": "5c594bcd",
   "metadata": {
    "cellId": "9vymfx41j1hl6c9eh63nmc"
   },
   "source": [
    "# Peak Detection Model"
   ]
  },
  {
   "cell_type": "code",
   "execution_count": 46,
   "id": "2487fe3f",
   "metadata": {
    "cellId": "ppr15g9556admqq4qhus"
   },
   "outputs": [],
   "source": [
    "#!g1.1\n",
    "model_path = 'timit_model_acc_5_ep_200_peak_detection-v2.ckpt'"
   ]
  },
  {
   "cell_type": "code",
   "execution_count": 47,
   "id": "db5aa00c",
   "metadata": {
    "cellId": "fnsu45pn5ynasnyj9rmf8"
   },
   "outputs": [],
   "source": [
    "#!g1.1\n",
    "accumulate_grad_batches = 1\n",
    "cfg = {'optimizer': \"adam\",\n",
    "'momentum': 0.9,\n",
    "'learning_rate': 0.0001*accumulate_grad_batches,\n",
    "'lr_anneal_gamma': 1.0,\n",
    "'lr_anneal_step': 1000,\n",
    "# 'epochs': 500,\n",
    "'grad_clip': 0.5,\n",
    "'batch_size': 8,\n",
    "\n",
    "'conv_args': {},\n",
    "'mask_args': {\"segment\": \"first\", \"add_one\": False},\n",
    "'segm_enc_args': {},\n",
    "'segm_predictor_args': {},\n",
    "'loss_args': {\"n_negatives\": 1, \"loss_args\": {\"reduction\": \"mean\"}},\n",
    "'num_epoch': 2,\n",
    "'use_projection': True}"
   ]
  },
  {
   "cell_type": "code",
   "execution_count": 48,
   "id": "3fdc8622",
   "metadata": {
    "cellId": "yco41l0mpilxwl1zo3lvn"
   },
   "outputs": [],
   "source": [
    "#!g1.1\n",
    "class Conf:\n",
    "    def __init__(self, my_dict):\n",
    "        for key, value in my_dict.items():\n",
    "            setattr(self, key, value)\n",
    "            \n",
    "config = Conf(cfg)"
   ]
  },
  {
   "cell_type": "code",
   "execution_count": 49,
   "id": "f6220285",
   "metadata": {
    "cellId": "5r1y3v4wg5te6thuar14e"
   },
   "outputs": [
    {
     "name": "stderr",
     "output_type": "stream",
     "text": [
      "100%|██████████| 210/210 [04:03<00:00,  1.16s/it]\n"
     ]
    }
   ],
   "source": [
    "#!g1.1\n",
    "model = FinModel1(config) \n",
    "checkpoint = torch.load(model_path)\n",
    "#     checkpoint = torch.load(model_path, map_location='cpu')\n",
    "\n",
    "state_dicts = OrderedDict()\n",
    "for key, value in checkpoint['state_dict'].items():\n",
    "    state_dicts[key.replace('wav2vec_segm.', '')] = value\n",
    "model.load_state_dict(state_dicts)\n",
    "\n",
    "model.eval()\n",
    "model=model.to('cuda')\n",
    "\n",
    "for batch in tqdm(test_loader):\n",
    "    x = batch['batch']\n",
    "    lengths = batch['lengths']\n",
    "    attention_mask = batch['attention_mask']\n",
    "    secs = batch['boundaries']\n",
    "    ids = batch['ids']\n",
    "    spectral_sizes = batch['spectral_size']\n",
    "    name_path = 'peak_detection'\n",
    "    os.makedirs(os.path.join(path_results, name_path), exist_ok=True) \n",
    "\n",
    "\n",
    "    rr = model.compute_all(x.to('cuda'), secs, num_epoch=0, attention_mask=attention_mask.to('cuda'), \n",
    "                           spectral_size = spectral_sizes,\n",
    "                           return_secs=True)\n",
    "#         rr = model.compute_all(x, secs, num_epoch=0, attention_mask=attention_mask, \n",
    "#                            spectral_size = spectral_sizes,\n",
    "#                             return_secs=True)\n",
    "    secs_preds = rr[1]['secs_pred']\n",
    "    for idd, secs in zip(ids, secs_preds):\n",
    "        with open(os.path.join(os.path.join(path_results, name_path), idd), 'w', encoding=\"cp1251\") as file:\n",
    "            file.write(str(list(secs)))"
   ]
  },
  {
   "cell_type": "code",
   "execution_count": 18,
   "id": "3f82175a",
   "metadata": {
    "cellId": "1h1teeyn0edifrphuxl6txa"
   },
   "outputs": [],
   "source": [
    "#!g1.1\n"
   ]
  },
  {
   "cell_type": "markdown",
   "id": "9c7d55ae",
   "metadata": {
    "cellId": "zlk1jjncevdv982fudjkrr"
   },
   "source": [
    "# Wav2Vec2 Model"
   ]
  },
  {
   "cell_type": "code",
   "execution_count": 22,
   "id": "9b8aac2f",
   "metadata": {
    "cellId": "emdh5ixho7pmlrxj1by1zi"
   },
   "outputs": [],
   "source": [
    "#!g1.1\n",
    "from modeling_segmentation import Wav2Vec2ModelForSegmentation"
   ]
  },
  {
   "cell_type": "code",
   "execution_count": 23,
   "id": "55fe3f8c",
   "metadata": {
    "cellId": "eglzymolfnhrhg40r8wce"
   },
   "outputs": [],
   "source": [
    "#!g1.1\n",
    "model_path = 'timit_r_val_negs1_new_repr-v4.ckpt'"
   ]
  },
  {
   "cell_type": "code",
   "execution_count": 24,
   "id": "41be8bcc",
   "metadata": {
    "cellId": "lyyk8wja2wdfojzivnjzr"
   },
   "outputs": [
    {
     "data": {
      "application/vnd.jupyter.widget-view+json": {
       "model_id": "8ced1125f97a482fa9a679876726e679",
       "version_major": 2,
       "version_minor": 0
      },
      "text/plain": [
       "HBox(children=(HTML(value='Downloading'), FloatProgress(value=0.0, max=1596.0), HTML(value='')))"
      ]
     },
     "metadata": {},
     "output_type": "display_data"
    },
    {
     "data": {
      "application/vnd.jupyter.widget-view+json": {
       "model_id": "0a42596364694f6eaaa559da9839c8dd",
       "version_major": 2,
       "version_minor": 0
      },
      "text/plain": [
       "HBox(children=(HTML(value='Downloading'), FloatProgress(value=0.0, max=377667514.0), HTML(value='')))"
      ]
     },
     "metadata": {},
     "output_type": "display_data"
    },
    {
     "name": "stdout",
     "output_type": "stream",
     "text": [
      "\n",
      "\n"
     ]
    },
    {
     "name": "stderr",
     "output_type": "stream",
     "text": [
      "Some weights of the model checkpoint at facebook/wav2vec2-base-960h were not used when initializing Wav2Vec2ModelForSegmentation: ['lm_head.weight', 'lm_head.bias']\n",
      "- This IS expected if you are initializing Wav2Vec2ModelForSegmentation from the checkpoint of a model trained on another task or with another architecture (e.g. initializing a BertForSequenceClassification model from a BertForPreTraining model).\n",
      "- This IS NOT expected if you are initializing Wav2Vec2ModelForSegmentation from the checkpoint of a model that you expect to be exactly identical (initializing a BertForSequenceClassification model from a BertForSequenceClassification model).\n",
      "Some weights of Wav2Vec2ModelForSegmentation were not initialized from the model checkpoint at facebook/wav2vec2-base-960h and are newly initialized: ['wav2vec2.project_back.bias', 'wav2vec2.masked_spec_embed', 'wav2vec2.project_back.weight']\n",
      "You should probably TRAIN this model on a down-stream task to be able to use it for predictions and inference.\n",
      "100%|██████████| 210/210 [04:29<00:00,  1.28s/it]\n"
     ]
    }
   ],
   "source": [
    "#!g1.1\n",
    "\n",
    "model = Wav2Vec2ModelForSegmentation.from_pretrained(\"facebook/wav2vec2-base-960h\") \n",
    "checkpoint = torch.load(model_path)\n",
    "#     checkpoint = torch.load(model_path, map_location='cpu')\n",
    "\n",
    "state_dicts = OrderedDict()\n",
    "for key, value in checkpoint['state_dict'].items():\n",
    "    state_dicts[key.replace('wav2vec_segm.', '')] = value\n",
    "model.load_state_dict(state_dicts)\n",
    "\n",
    "model.eval()\n",
    "model=model.to('cuda')\n",
    "\n",
    "for batch in tqdm(test_loader):\n",
    "    x = batch['batch']\n",
    "    lengths = batch['lengths']\n",
    "    attention_mask = batch['attention_mask']\n",
    "    secs = batch['boundaries']\n",
    "    ids = batch['ids']\n",
    "    spectral_sizes = batch['spectral_size']\n",
    "    name_path = 'wav2vec_model'\n",
    "    os.makedirs(os.path.join(path_results, name_path), exist_ok=True) \n",
    "\n",
    "\n",
    "    rr = model.compute_all(x.to('cuda'), secs, num_epoch=0, attention_mask=attention_mask.to('cuda'), \n",
    "                           return_secs=True)\n",
    "#         rr = model.compute_all(x, secs, num_epoch=0, attention_mask=attention_mask, \n",
    "#                             return_secs=True)\n",
    "    secs_preds = rr[1]['secs_pred']\n",
    "    for idd, secs in zip(ids, secs_preds):\n",
    "        with open(os.path.join(os.path.join(path_results, name_path), idd), 'w', encoding=\"cp1251\") as file:\n",
    "            file.write(str(secs))"
   ]
  },
  {
   "cell_type": "code",
   "execution_count": null,
   "id": "3109f515",
   "metadata": {
    "cellId": "ekhltku03k9kirs69z76lg"
   },
   "outputs": [],
   "source": [
    "#!g1.1\n"
   ]
  },
  {
   "cell_type": "markdown",
   "id": "963549eb",
   "metadata": {
    "cellId": "f4xi18mu4cz8msfyeinr8"
   },
   "source": [
    "# Агрегация данных"
   ]
  },
  {
   "cell_type": "code",
   "execution_count": 50,
   "id": "b6690273",
   "metadata": {
    "cellId": "mebr93yvceqkw5udf7obi"
   },
   "outputs": [],
   "source": [
    "#!g1.1\n",
    "import pandas as pd"
   ]
  },
  {
   "cell_type": "code",
   "execution_count": 51,
   "id": "9bc4b69e",
   "metadata": {
    "cellId": "th5elqnthpo9pgej9czjqe"
   },
   "outputs": [],
   "source": [
    "#!g1.1\n",
    "# Данная функция основана на https://github.com/felixkreuk/UnsupSeg/blob/master/utils.py\n",
    "\n",
    "class RMetrics1(nn.Module):\n",
    "    def __init__(self, eps = 1e-5, tolerance = 2, sampling_rate = 16000):\n",
    "        super(RMetrics1, self).__init__()\n",
    "        self.tolerance = tolerance\n",
    "        self.eps = eps\n",
    "        self.sampling_rate = sampling_rate\n",
    "    \n",
    "    def calculate_stride(self, isz, conv_layers):\n",
    "        pad = 0\n",
    "        insize = isz\n",
    "        totstride = 1\n",
    "        sec_per_frame = 1/self.sampling_rate\n",
    "\n",
    "        for layer in conv_layers:\n",
    "            kernel, stride = layer\n",
    "            outsize = (insize + 2*pad - 1*(kernel-1)-1) / stride + 1\n",
    "            insize = outsize\n",
    "            totstride = totstride * stride\n",
    "\n",
    "        RFsize = isz - (outsize - 1) * totstride\n",
    "\n",
    "        ms_per_frame = sec_per_frame*RFsize*1000\n",
    "        ms_stride = sec_per_frame*totstride*1000\n",
    "        return outsize, totstride, RFsize, ms_per_frame, ms_stride\n",
    "        \n",
    "    def get_frames(self, secs, stride):\n",
    "        frames = [[int(i*self.sampling_rate/stride) for i in sec] for sec in secs]\n",
    "        return frames\n",
    "        \n",
    "    def make_true_boundaries(self, secs, boundaries, stride):\n",
    "        frames = self.get_frames(secs, stride)\n",
    "        true_boundaries = torch.zeros(size = boundaries.shape)\n",
    "        for num_frame, frame in enumerate(frames):\n",
    "            for i in frame:\n",
    "                true_boundaries[num_frame, i] = 1\n",
    "        return true_boundaries.long().detach().numpy()\n",
    "    \n",
    "    def get_sec_bounds(self, b, stride, attention_mask = None):\n",
    "        if type(b)==torch.Tensor:\n",
    "            b1 = b.long().detach().cpu().numpy()\n",
    "        else:\n",
    "            b1 = b\n",
    "        \n",
    "        if attention_mask is not None:\n",
    "            b1 = b1*attention_mask.long().detach().cpu().numpy()\n",
    "            \n",
    "        frames_pred = []\n",
    "        secs_pred = []\n",
    "        for i in range(b1.shape[0]):\n",
    "            frames = np.where(b1[i, :] == 1)[0]\n",
    "            secs = [i*stride/self.sampling_rate for i in frames]\n",
    "            frames_pred.append(frames)\n",
    "            secs_pred.append(secs)\n",
    "        return frames_pred, secs_pred\n",
    "    \n",
    "    def get_precision_recall_frames(self, true_boundaries, b, attention_mask = None):\n",
    "        if type(b)==torch.Tensor:\n",
    "            b1 = b.long().detach().numpy()\n",
    "        else:\n",
    "            b1 = b\n",
    "            \n",
    "        if attention_mask is not None:\n",
    "            b1 = b1*attention_mask.long().detach().cpu().numpy()\n",
    "            \n",
    "        recall = recall_score(true_boundaries.flatten(), b1.flatten())\n",
    "        pre = precision_score(true_boundaries.flatten(), b1.flatten())\n",
    "        f_score = f1_score(true_boundaries.flatten(), b1.flatten())\n",
    "        return recall, pre, f_score\n",
    "    \n",
    "    def get_stats(self, frames_true, frames_pred):\n",
    "        \n",
    "        # Утащено отсюда: https://github.com/felixkreuk/UnsupSeg/blob/68c2c7b9bd49f3fb8f51c5c2f4d5aa85f251eaa8/utils.py#L69\n",
    "        precision_counter = 0 \n",
    "        recall_counter = 0\n",
    "        pred_counter = 0 \n",
    "        gt_counter = 0\n",
    "\n",
    "        for (y, yhat) in zip(frames_true, frames_pred):\n",
    "            for yhat_i in yhat:\n",
    "                min_dist = np.abs(np.array(y) - yhat_i).min()\n",
    "                precision_counter += (min_dist <= self.tolerance)\n",
    "            for y_i in y:\n",
    "                min_dist = np.abs(np.array(yhat) - y_i).min()\n",
    "                recall_counter += (min_dist <= self.tolerance)\n",
    "            pred_counter += len(yhat)\n",
    "            gt_counter += len(y)\n",
    "\n",
    "        return precision_counter, recall_counter, pred_counter, gt_counter\n",
    "    \n",
    "    def calc_metr(self, precision_counter, recall_counter, pred_counter, gt_counter):\n",
    "\n",
    "        # Утащено отсюда: https://github.com/felixkreuk/UnsupSeg/blob/68c2c7b9bd49f3fb8f51c5c2f4d5aa85f251eaa8/utils.py#L69\n",
    "        EPS = 1e-7\n",
    "\n",
    "        precision = precision_counter / (pred_counter + self.eps)\n",
    "        recall = recall_counter / (gt_counter + self.eps)\n",
    "        f1 = 2 * (precision * recall) / (precision + recall + self.eps)\n",
    "\n",
    "        os = recall / (precision + EPS) - 1\n",
    "        r1 = np.sqrt((1 - recall) ** 2 + os ** 2)\n",
    "        r2 = (-os + recall - 1) / (np.sqrt(2))\n",
    "        rval = 1 - (np.abs(r1) + np.abs(r2)) / 2\n",
    "\n",
    "        return precision, recall, f1, rval\n",
    "    \n",
    "    def get_metrics(self, true_secs, b, seq_len, config, attention_mask = None, \n",
    "                    return_secs=False):\n",
    "        \n",
    "        outsize, totstride, RFsize, ms_per_frame, ms_stride = self.calculate_stride(seq_len, config)\n",
    "#         print(seq_len, outsize, totstride, RFsize, ms_per_frame, ms_stride)\n",
    "        frames_true = self.get_frames(true_secs, totstride)\n",
    "        frames_pred, secs_pred = self.get_sec_bounds(b, totstride, attention_mask = attention_mask)\n",
    "        precision_counter, recall_counter, pred_counter, gt_counter = self.get_stats(frames_true, frames_pred)\n",
    "        precision, recall, f1, rval = self.calc_metr(precision_counter, recall_counter, pred_counter, gt_counter)\n",
    "        if return_secs:\n",
    "            return precision, recall, f1, rval, secs_pred\n",
    "        else:\n",
    "            return precision, recall, f1, rval\n",
    "        \n",
    "    def get_metrics_secs(self, true_secs, secs_pred, totstride = 160):\n",
    "        \n",
    "        frames_true = self.get_frames(true_secs, totstride)\n",
    "        frames_pred = self.get_frames(secs_pred, totstride)\n",
    "        precision_counter, recall_counter, pred_counter, gt_counter = self.get_stats(frames_true, frames_pred)\n",
    "        precision, recall, f1, rval = self.calc_metr(precision_counter, recall_counter, pred_counter, gt_counter)\n",
    "        return precision, recall, f1, rval\n",
    "    \n",
    "    def get_metrics_secs1(self, true_secs, secs_pred, totstride = 160):\n",
    "        \n",
    "#         frames_true = self.get_frames(true_secs, totstride)\n",
    "#         frames_pred = self.get_frames(secs_pred, totstride)\n",
    "        precision_counter, recall_counter, pred_counter, gt_counter = self.get_stats(true_secs, secs_pred)\n",
    "        precision, recall, f1, rval = self.calc_metr(precision_counter, recall_counter, pred_counter, gt_counter)\n",
    "        return precision, recall, f1, rval\n",
    "    \n",
    "    "
   ]
  },
  {
   "cell_type": "code",
   "execution_count": 52,
   "id": "ee7e4463",
   "metadata": {
    "cellId": "wtfkbwahnksofpkju9hze"
   },
   "outputs": [],
   "source": [
    "#!g1.1\n",
    "def read_true_file(segment_file):\n",
    "    with open(segment_file, 'r', encoding=\"cp1251\") as file:\n",
    "        tt = file.read()\n",
    "\n",
    "    boundaries = set()\n",
    "    mm = [i for i in tt.split('\\n') if len(i)>0]\n",
    "    for i in mm:\n",
    "        boundaries.add(eval(i.split()[0])/16000)\n",
    "        boundaries.add(eval(i.split()[1])/16000)\n",
    "    boundaries = sorted(list(boundaries))\n",
    "    return boundaries"
   ]
  },
  {
   "cell_type": "code",
   "execution_count": 53,
   "id": "f5c390d2",
   "metadata": {
    "cellId": "xryrry7iibatmhwpmq6e0c"
   },
   "outputs": [],
   "source": [
    "#!g1.1\n",
    "def read_pred_file(segment_file):\n",
    "    with open(segment_file, 'r', encoding=\"cp1251\") as file:\n",
    "        tt = file.read()\n",
    "    boundaries = eval(tt)\n",
    "    return boundaries"
   ]
  },
  {
   "cell_type": "code",
   "execution_count": 54,
   "id": "08c74974",
   "metadata": {
    "cellId": "0a1bbp1cnctqz6d70x9ex8"
   },
   "outputs": [],
   "source": [
    "#!g1.1\n",
    "path_results = 'save_results_path_compare_timit'\n",
    "\n",
    "folders = ['model_segment', 'peak_detection', 'wav2vec_model']\n",
    "timit_path = './timit/data'"
   ]
  },
  {
   "cell_type": "code",
   "execution_count": 55,
   "id": "bceb60bd",
   "metadata": {
    "cellId": "n5odnxatoeou1o09k14kr"
   },
   "outputs": [
    {
     "name": "stderr",
     "output_type": "stream",
     "text": [
      "100%|██████████| 1680/1680 [00:03<00:00, 526.91it/s]\n",
      "100%|██████████| 1680/1680 [00:02<00:00, 796.47it/s]\n",
      "100%|██████████| 1680/1680 [00:02<00:00, 697.92it/s]\n"
     ]
    }
   ],
   "source": [
    "#!g1.1\n",
    "result_dataframes = []\n",
    "metr = RMetrics1(tolerance=2)\n",
    "totstride = 160\n",
    "\n",
    "for folder in folders:\n",
    "    true_files = ['./'+i.replace('_', '/').replace('.txt', '.PHN') for i in os.listdir(os.path.join(path_results, folder))]\n",
    "    idss = os.listdir(os.path.join(path_results, folder))\n",
    "\n",
    "    secs_preds = []\n",
    "    secs_trues = []\n",
    "\n",
    "    for num in tqdm(range(len(true_files))):\n",
    "\n",
    "        bound_true = read_true_file(true_files[num])\n",
    "        bound_pred = read_pred_file(os.path.join(os.path.join(path_results, folder), idss[num]))\n",
    "\n",
    "        secs_trues.append(bound_true)\n",
    "        secs_preds.append(bound_pred)\n",
    "   \n",
    "    precision, recall, f1, rval = metr.get_metrics_secs(secs_trues, secs_preds, totstride = totstride)\n",
    "    \n",
    "    datafr = pd.DataFrame([folder, \n",
    "                           precision, recall, \n",
    "                           f1, rval]).T.rename(columns = {0:'type', \n",
    "                                                          1:'precision',\n",
    "                                                          2:'recall', \n",
    "                                                          3:'f1', \n",
    "                                                          4:'rval'})\n",
    "    \n",
    "    result_dataframes.append(datafr)"
   ]
  },
  {
   "cell_type": "code",
   "execution_count": 56,
   "id": "32a32c43",
   "metadata": {
    "cellId": "ofix0y0jgol8v2nbs8p4"
   },
   "outputs": [],
   "source": [
    "#!g1.1\n",
    "result_df = pd.concat(result_dataframes, ignore_index = True)"
   ]
  },
  {
   "cell_type": "code",
   "execution_count": 59,
   "id": "f4d30ca9",
   "metadata": {
    "cellId": "pk2m5upkyk5ma3srsbl1q"
   },
   "outputs": [
    {
     "data": {
      "text/html": [
       "<div>\n",
       "<style scoped>\n",
       "    .dataframe tbody tr th:only-of-type {\n",
       "        vertical-align: middle;\n",
       "    }\n",
       "\n",
       "    .dataframe tbody tr th {\n",
       "        vertical-align: top;\n",
       "    }\n",
       "\n",
       "    .dataframe thead th {\n",
       "        text-align: right;\n",
       "    }\n",
       "</style>\n",
       "<table border=\"1\" class=\"dataframe\">\n",
       "  <thead>\n",
       "    <tr style=\"text-align: right;\">\n",
       "      <th></th>\n",
       "      <th>type</th>\n",
       "      <th>precision</th>\n",
       "      <th>recall</th>\n",
       "      <th>f1</th>\n",
       "      <th>rval</th>\n",
       "    </tr>\n",
       "  </thead>\n",
       "  <tbody>\n",
       "    <tr>\n",
       "      <th>0</th>\n",
       "      <td>model_segment</td>\n",
       "      <td>0.845226</td>\n",
       "      <td>0.766289</td>\n",
       "      <td>0.803819</td>\n",
       "      <td>0.824550</td>\n",
       "    </tr>\n",
       "    <tr>\n",
       "      <th>1</th>\n",
       "      <td>peak_detection</td>\n",
       "      <td>0.816759</td>\n",
       "      <td>0.751508</td>\n",
       "      <td>0.782771</td>\n",
       "      <td>0.809881</td>\n",
       "    </tr>\n",
       "    <tr>\n",
       "      <th>2</th>\n",
       "      <td>wav2vec_model</td>\n",
       "      <td>0.870029</td>\n",
       "      <td>0.691333</td>\n",
       "      <td>0.770450</td>\n",
       "      <td>0.778108</td>\n",
       "    </tr>\n",
       "  </tbody>\n",
       "</table>\n",
       "</div>"
      ],
      "text/plain": [
       "             type  precision    recall        f1      rval\n",
       "0   model_segment   0.845226  0.766289  0.803819  0.824550\n",
       "1  peak_detection   0.816759  0.751508  0.782771  0.809881\n",
       "2   wav2vec_model   0.870029  0.691333  0.770450  0.778108"
      ]
     },
     "execution_count": 59,
     "metadata": {},
     "output_type": "execute_result"
    }
   ],
   "source": [
    "#!g1.1\n",
    "result_df"
   ]
  },
  {
   "cell_type": "code",
   "execution_count": 60,
   "id": "a53d321a",
   "metadata": {
    "cellId": "7ruor5kru5lml3zpsuk5f"
   },
   "outputs": [],
   "source": [
    "#!g1.1\n",
    "result_df.to_csv('results_compare_timit.csv')"
   ]
  },
  {
   "cell_type": "code",
   "execution_count": null,
   "id": "0c26dc40",
   "metadata": {
    "cellId": "c8a4aoohus5299svgtxam"
   },
   "outputs": [],
   "source": [
    "#!g1.1\n"
   ]
  }
 ],
 "metadata": {
  "kernelspec": {
   "display_name": "Yandex DataSphere Kernel",
   "language": "python",
   "name": "python3"
  },
  "language_info": {
   "codemirror_mode": {
    "name": "ipython",
    "version": 3
   },
   "file_extension": ".py",
   "mimetype": "text/x-python",
   "name": "python",
   "nbconvert_exporter": "python",
   "pygments_lexer": "ipython3",
   "version": "3.7.7"
  },
  "notebookId": "4b3d0b2e-9b1b-4d94-8cb7-2f13814e65d3",
  "notebookPath": "Predict_compare_timit.ipynb",
  "toc": {
   "base_numbering": 1,
   "nav_menu": {},
   "number_sections": true,
   "sideBar": true,
   "skip_h1_title": false,
   "title_cell": "Table of Contents",
   "title_sidebar": "Contents",
   "toc_cell": false,
   "toc_position": {},
   "toc_section_display": true,
   "toc_window_display": false
  }
 },
 "nbformat": 4,
 "nbformat_minor": 5
}
